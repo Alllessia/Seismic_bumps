{
 "cells": [
  {
   "cell_type": "code",
   "execution_count": 1,
   "id": "a9fda10d",
   "metadata": {},
   "outputs": [],
   "source": [
    "#Attribute information [Source]:\n",
    "#1. seismic: the result of shift seismic hazard assessment in the mine working obtained by the seismic method (a — lack of hazard, b — low hazard, c — high hazard, d — danger state);\n",
    "#2. seismoacoustic: the result of shift seismic hazard assessment in the mine working obtained by the seismoacoustic method;\n",
    "#3. shift: information about the type of a shift (W — coal-getting, N -preparation shift);\n",
    "#4. genergy: seismic energy recorded within the previous shift by the most active geophone (GMax) out of\n",
    "#geophones monitoring the longwall;\n",
    "#5. gpuls: a number of pulses recorded within the previous shift by GMax;\n",
    "#6. gdenergy: a deviation of energy recorded within the previous shift by GMax from average energy recorded during eight previous shifts;\n",
    "#7. gdpuls: a deviation of a number of pulses recorded within the previous shift by GMax from the average number of pulses recorded during eight previous shifts;\n",
    "#8. ghazard: the result of shift seismic hazard assessment in the mine working obtained by the seismoacoustic method based on registration coming to from GMax only;\n",
    "#9. nbumps: the number of seismic bumps recorded within the previous shift;\n",
    "#10. nbumps2: the number of seismic bumps (in energy range [1⁰²,1⁰³)) registered within the previous shift;\n",
    "#11. nbumps3: the number of seismic bumps (in energy range [1⁰³,1⁰⁴)) registered within the previous shift;\n",
    "#12. nbumps4: the number of seismic bumps (in energy range [1⁰⁴,1⁰⁵)) registered within the previous shift;\n",
    "#13. nbumps5: the number of seismic bumps (in energy range [1⁰⁵,1⁰⁶)) registered within the last shift;\n",
    "#14. nbumps6: the number of seismic bumps (in energy range [1⁰⁶,1⁰⁷)) registered within the previous shift;\n",
    "#15. nbumps7: the number of seismic bumps (in energy range [1⁰⁷,1⁰⁸)) registered within the previous shift;\n",
    "#16. nbumps89: the number of seismic bumps (in energy range [1⁰⁸,1⁰¹⁰)) registered within the previous shift;\n",
    "#17. energy: the total energy of seismic bumps registered within the previous shift;\n",
    "#18. maxenergy: the maximum energy of the seismic bumps registered within the previous shift;\n",
    "#19. class: the decision attribute — ‘1’ means that high energy seismic bump occurred in the next shift (‘hazardous state’), ‘0’ means that no high energy seismic bumps occurred in the next shift (‘non-hazardous state’).#"
   ]
  },
  {
   "cell_type": "code",
   "execution_count": 10,
   "id": "ef963a4c",
   "metadata": {},
   "outputs": [],
   "source": [
    "%matplotlib inline\n",
    "import math\n",
    "import numpy as np\n",
    "import pandas as pd\n",
    "import scipy.stats as stats\n",
    "import matplotlib.pyplot as plt\n",
    "import seaborn as sns\n",
    "\n",
    "from collections import defaultdict\n",
    "from scipy.stats.stats import pearsonr"
   ]
  },
  {
   "cell_type": "code",
   "execution_count": 11,
   "id": "f8758db8",
   "metadata": {},
   "outputs": [
    {
     "data": {
      "text/plain": [
       "seismic           object\n",
       "seismoacoustic    object\n",
       "shift             object\n",
       "genergy            int64\n",
       "gpuls              int64\n",
       "gdenergy           int64\n",
       "gdpuls             int64\n",
       "hazard            object\n",
       "nbumps             int64\n",
       "nbumps2            int64\n",
       "nbumps3            int64\n",
       "nbumps4            int64\n",
       "nbumps5            int64\n",
       "nbumps6            int64\n",
       "nbumps7            int64\n",
       "nbumps89           int64\n",
       "energy             int64\n",
       "maxenergy          int64\n",
       "class              int64\n",
       "dtype: object"
      ]
     },
     "execution_count": 11,
     "metadata": {},
     "output_type": "execute_result"
    }
   ],
   "source": [
    "df = pd.read_csv('seismic-bumps.csv')\n",
    "df.dtypes"
   ]
  },
  {
   "cell_type": "code",
   "execution_count": 3,
   "id": "a7418172",
   "metadata": {},
   "outputs": [
    {
     "data": {
      "text/plain": [
       "seismic           string\n",
       "seismoacoustic    string\n",
       "shift             string\n",
       "genergy            Int64\n",
       "gpuls              Int64\n",
       "gdenergy           Int64\n",
       "gdpuls             Int64\n",
       "hazard            string\n",
       "nbumps             Int64\n",
       "nbumps2            Int64\n",
       "nbumps3            Int64\n",
       "nbumps4            Int64\n",
       "nbumps5            Int64\n",
       "nbumps6            Int64\n",
       "nbumps7            Int64\n",
       "nbumps89           Int64\n",
       "energy             Int64\n",
       "maxenergy          Int64\n",
       "class              Int64\n",
       "dtype: object"
      ]
     },
     "execution_count": 3,
     "metadata": {},
     "output_type": "execute_result"
    }
   ],
   "source": [
    "df = df.convert_dtypes()\n",
    "df.dtypes"
   ]
  },
  {
   "cell_type": "code",
   "execution_count": 5,
   "id": "c438fcdc",
   "metadata": {},
   "outputs": [
    {
     "data": {
      "text/html": [
       "<div>\n",
       "<style scoped>\n",
       "    .dataframe tbody tr th:only-of-type {\n",
       "        vertical-align: middle;\n",
       "    }\n",
       "\n",
       "    .dataframe tbody tr th {\n",
       "        vertical-align: top;\n",
       "    }\n",
       "\n",
       "    .dataframe thead th {\n",
       "        text-align: right;\n",
       "    }\n",
       "</style>\n",
       "<table border=\"1\" class=\"dataframe\">\n",
       "  <thead>\n",
       "    <tr style=\"text-align: right;\">\n",
       "      <th></th>\n",
       "      <th>seismic</th>\n",
       "      <th>seismoacoustic</th>\n",
       "      <th>shift</th>\n",
       "      <th>genergy</th>\n",
       "      <th>gpuls</th>\n",
       "      <th>gdenergy</th>\n",
       "      <th>gdpuls</th>\n",
       "      <th>hazard</th>\n",
       "      <th>nbumps</th>\n",
       "      <th>nbumps2</th>\n",
       "      <th>nbumps3</th>\n",
       "      <th>nbumps4</th>\n",
       "      <th>nbumps5</th>\n",
       "      <th>nbumps6</th>\n",
       "      <th>nbumps7</th>\n",
       "      <th>nbumps89</th>\n",
       "      <th>energy</th>\n",
       "      <th>maxenergy</th>\n",
       "      <th>class</th>\n",
       "    </tr>\n",
       "  </thead>\n",
       "  <tbody>\n",
       "    <tr>\n",
       "      <th>0</th>\n",
       "      <td>a</td>\n",
       "      <td>a</td>\n",
       "      <td>N</td>\n",
       "      <td>15180</td>\n",
       "      <td>48</td>\n",
       "      <td>-72</td>\n",
       "      <td>-72</td>\n",
       "      <td>a</td>\n",
       "      <td>0</td>\n",
       "      <td>0</td>\n",
       "      <td>0</td>\n",
       "      <td>0</td>\n",
       "      <td>0</td>\n",
       "      <td>0</td>\n",
       "      <td>0</td>\n",
       "      <td>0</td>\n",
       "      <td>0</td>\n",
       "      <td>0</td>\n",
       "      <td>0</td>\n",
       "    </tr>\n",
       "    <tr>\n",
       "      <th>1</th>\n",
       "      <td>a</td>\n",
       "      <td>a</td>\n",
       "      <td>N</td>\n",
       "      <td>14720</td>\n",
       "      <td>33</td>\n",
       "      <td>-70</td>\n",
       "      <td>-79</td>\n",
       "      <td>a</td>\n",
       "      <td>1</td>\n",
       "      <td>0</td>\n",
       "      <td>1</td>\n",
       "      <td>0</td>\n",
       "      <td>0</td>\n",
       "      <td>0</td>\n",
       "      <td>0</td>\n",
       "      <td>0</td>\n",
       "      <td>2000</td>\n",
       "      <td>2000</td>\n",
       "      <td>0</td>\n",
       "    </tr>\n",
       "    <tr>\n",
       "      <th>2</th>\n",
       "      <td>a</td>\n",
       "      <td>a</td>\n",
       "      <td>N</td>\n",
       "      <td>8050</td>\n",
       "      <td>30</td>\n",
       "      <td>-81</td>\n",
       "      <td>-78</td>\n",
       "      <td>a</td>\n",
       "      <td>0</td>\n",
       "      <td>0</td>\n",
       "      <td>0</td>\n",
       "      <td>0</td>\n",
       "      <td>0</td>\n",
       "      <td>0</td>\n",
       "      <td>0</td>\n",
       "      <td>0</td>\n",
       "      <td>0</td>\n",
       "      <td>0</td>\n",
       "      <td>0</td>\n",
       "    </tr>\n",
       "    <tr>\n",
       "      <th>3</th>\n",
       "      <td>a</td>\n",
       "      <td>a</td>\n",
       "      <td>N</td>\n",
       "      <td>28820</td>\n",
       "      <td>171</td>\n",
       "      <td>-23</td>\n",
       "      <td>40</td>\n",
       "      <td>a</td>\n",
       "      <td>1</td>\n",
       "      <td>0</td>\n",
       "      <td>1</td>\n",
       "      <td>0</td>\n",
       "      <td>0</td>\n",
       "      <td>0</td>\n",
       "      <td>0</td>\n",
       "      <td>0</td>\n",
       "      <td>3000</td>\n",
       "      <td>3000</td>\n",
       "      <td>0</td>\n",
       "    </tr>\n",
       "    <tr>\n",
       "      <th>4</th>\n",
       "      <td>a</td>\n",
       "      <td>a</td>\n",
       "      <td>N</td>\n",
       "      <td>12640</td>\n",
       "      <td>57</td>\n",
       "      <td>-63</td>\n",
       "      <td>-52</td>\n",
       "      <td>a</td>\n",
       "      <td>0</td>\n",
       "      <td>0</td>\n",
       "      <td>0</td>\n",
       "      <td>0</td>\n",
       "      <td>0</td>\n",
       "      <td>0</td>\n",
       "      <td>0</td>\n",
       "      <td>0</td>\n",
       "      <td>0</td>\n",
       "      <td>0</td>\n",
       "      <td>0</td>\n",
       "    </tr>\n",
       "  </tbody>\n",
       "</table>\n",
       "</div>"
      ],
      "text/plain": [
       "  seismic seismoacoustic shift  genergy  gpuls  gdenergy  gdpuls hazard  \\\n",
       "0       a              a     N    15180     48       -72     -72      a   \n",
       "1       a              a     N    14720     33       -70     -79      a   \n",
       "2       a              a     N     8050     30       -81     -78      a   \n",
       "3       a              a     N    28820    171       -23      40      a   \n",
       "4       a              a     N    12640     57       -63     -52      a   \n",
       "\n",
       "   nbumps  nbumps2  nbumps3  nbumps4  nbumps5  nbumps6  nbumps7  nbumps89  \\\n",
       "0       0        0        0        0        0        0        0         0   \n",
       "1       1        0        1        0        0        0        0         0   \n",
       "2       0        0        0        0        0        0        0         0   \n",
       "3       1        0        1        0        0        0        0         0   \n",
       "4       0        0        0        0        0        0        0         0   \n",
       "\n",
       "   energy  maxenergy  class  \n",
       "0       0          0      0  \n",
       "1    2000       2000      0  \n",
       "2       0          0      0  \n",
       "3    3000       3000      0  \n",
       "4       0          0      0  "
      ]
     },
     "execution_count": 5,
     "metadata": {},
     "output_type": "execute_result"
    }
   ],
   "source": [
    "df.head()"
   ]
  },
  {
   "cell_type": "code",
   "execution_count": null,
   "id": "29768e61",
   "metadata": {},
   "outputs": [],
   "source": []
  },
  {
   "cell_type": "markdown",
   "id": "5c84391d",
   "metadata": {},
   "source": [
    "# CATEGORICAL VARIABLES DISTRIBUTION ANALYSIS"
   ]
  },
  {
   "cell_type": "code",
   "execution_count": 4,
   "id": "368d71d1",
   "metadata": {},
   "outputs": [
    {
     "data": {
      "text/plain": [
       "<AxesSubplot:title={'center':'seismic values'}>"
      ]
     },
     "execution_count": 4,
     "metadata": {},
     "output_type": "execute_result"
    },
    {
     "data": {
      "image/png": "[encoded data removed]",
      "text/plain": [
       "<Figure size 432x288 with 1 Axes>"
      ]
     },
     "metadata": {
      "needs_background": "light"
     },
     "output_type": "display_data"
    }
   ],
   "source": [
    "df['seismic'].value_counts(normalize=True, ascending=True).plot(kind='barh', title='seismic values')"
   ]
  },
  {
   "cell_type": "code",
   "execution_count": 5,
   "id": "cc4930d7",
   "metadata": {},
   "outputs": [
    {
     "data": {
      "text/plain": [
       "<AxesSubplot:title={'center':'seismoacoustic values'}>"
      ]
     },
     "execution_count": 5,
     "metadata": {},
     "output_type": "execute_result"
    },
    {
     "data": {
      "image/png": "[encoded data removed]",
      "text/plain": [
       "<Figure size 432x288 with 1 Axes>"
      ]
     },
     "metadata": {
      "needs_background": "light"
     },
     "output_type": "display_data"
    }
   ],
   "source": [
    "df['seismoacoustic'].value_counts(normalize=True, ascending=True).plot(kind='barh', title='seismoacoustic values')"
   ]
  },
  {
   "cell_type": "code",
   "execution_count": 6,
   "id": "6f5e0d26",
   "metadata": {},
   "outputs": [
    {
     "data": {
      "text/plain": [
       "<AxesSubplot:title={'center':'shift values'}>"
      ]
     },
     "execution_count": 6,
     "metadata": {},
     "output_type": "execute_result"
    },
    {
     "data": {
      "image/png": "[encoded data removed]",
      "text/plain": [
       "<Figure size 432x288 with 1 Axes>"
      ]
     },
     "metadata": {
      "needs_background": "light"
     },
     "output_type": "display_data"
    }
   ],
   "source": [
    "df['shift'].value_counts(normalize=True, ascending=True).plot(kind='barh', title='shift values')"
   ]
  },
  {
   "cell_type": "code",
   "execution_count": 7,
   "id": "dfe1e551",
   "metadata": {},
   "outputs": [
    {
     "data": {
      "text/plain": [
       "<AxesSubplot:title={'center':'hazard values'}>"
      ]
     },
     "execution_count": 7,
     "metadata": {},
     "output_type": "execute_result"
    },
    {
     "data": {
      "image/png": "[encoded data removed]",
      "text/plain": [
       "<Figure size 432x288 with 1 Axes>"
      ]
     },
     "metadata": {
      "needs_background": "light"
     },
     "output_type": "display_data"
    }
   ],
   "source": [
    "df['hazard'].value_counts(normalize=True, ascending=True).plot(kind='barh', title='hazard values')"
   ]
  },
  {
   "cell_type": "markdown",
   "id": "e002b3c0",
   "metadata": {},
   "source": [
    "##  NUMERICAL VARIABLES DISTRIBUTION ANALYSIS"
   ]
  },
  {
   "cell_type": "code",
   "execution_count": 9,
   "id": "462c56c7",
   "metadata": {},
   "outputs": [
    {
     "data": {
      "text/plain": [
       "<AxesSubplot:title={'center':'genergy values'}, ylabel='Density'>"
      ]
     },
     "execution_count": 9,
     "metadata": {},
     "output_type": "execute_result"
    },
    {
     "data": {
      "image/png": "[encoded data removed]",
      "text/plain": [
       "<Figure size 432x288 with 1 Axes>"
      ]
     },
     "metadata": {
      "needs_background": "light"
     },
     "output_type": "display_data"
    }
   ],
   "source": [
    "df['genergy'].value_counts(normalize=True).plot(kind='density', title='genergy values')"
   ]
  },
  {
   "cell_type": "code",
   "execution_count": 10,
   "id": "788aa693",
   "metadata": {},
   "outputs": [
    {
     "data": {
      "text/plain": [
       "<AxesSubplot:title={'center':'gpuls values'}, ylabel='Density'>"
      ]
     },
     "execution_count": 10,
     "metadata": {},
     "output_type": "execute_result"
    },
    {
     "data": {
      "image/png": "[encoded data removed]",
      "text/plain": [
       "<Figure size 432x288 with 1 Axes>"
      ]
     },
     "metadata": {
      "needs_background": "light"
     },
     "output_type": "display_data"
    }
   ],
   "source": [
    "df['gpuls'].value_counts(normalize=True).plot(kind='density', title='gpuls values')"
   ]
  },
  {
   "cell_type": "code",
   "execution_count": 11,
   "id": "346c7b02",
   "metadata": {},
   "outputs": [
    {
     "data": {
      "text/plain": [
       "<AxesSubplot:title={'center':'gdpuls values'}, ylabel='Density'>"
      ]
     },
     "execution_count": 11,
     "metadata": {},
     "output_type": "execute_result"
    },
    {
     "data": {
      "image/png": "[encoded data removed]",
      "text/plain": [
       "<Figure size 432x288 with 1 Axes>"
      ]
     },
     "metadata": {
      "needs_background": "light"
     },
     "output_type": "display_data"
    }
   ],
   "source": [
    "df['gdpuls'].value_counts(normalize=True).plot(kind='density', title='gdpuls values')"
   ]
  },
  {
   "cell_type": "code",
   "execution_count": 8,
   "id": "28f763c1",
   "metadata": {},
   "outputs": [
    {
     "data": {
      "text/plain": [
       "<AxesSubplot:title={'center':'energy values'}, ylabel='Density'>"
      ]
     },
     "execution_count": 8,
     "metadata": {},
     "output_type": "execute_result"
    },
    {
     "data": {
      "image/png": "[encoded data removed]",
      "text/plain": [
       "<Figure size 432x288 with 1 Axes>"
      ]
     },
     "metadata": {
      "needs_background": "light"
     },
     "output_type": "display_data"
    }
   ],
   "source": [
    "df['energy'].value_counts(normalize=True).plot(kind='density', title='energy values')"
   ]
  },
  {
   "cell_type": "markdown",
   "id": "f428b4d7",
   "metadata": {},
   "source": [
    "## DISCRETE VARIABLES DISTRIBUTION ANALYSIS"
   ]
  },
  {
   "cell_type": "code",
   "execution_count": 13,
   "id": "fdc03edb",
   "metadata": {},
   "outputs": [
    {
     "data": {
      "text/plain": [
       "<AxesSubplot:title={'center':'nbumps values'}>"
      ]
     },
     "execution_count": 13,
     "metadata": {},
     "output_type": "execute_result"
    },
    {
     "data": {
      "image/png": "[encoded data removed]",
      "text/plain": [
       "<Figure size 432x288 with 1 Axes>"
      ]
     },
     "metadata": {
      "needs_background": "light"
     },
     "output_type": "display_data"
    }
   ],
   "source": [
    "df['nbumps'].value_counts(normalize=True, ascending=True).plot(kind='barh', title='nbumps values')"
   ]
  },
  {
   "cell_type": "code",
   "execution_count": 14,
   "id": "e7d6650b",
   "metadata": {},
   "outputs": [
    {
     "data": {
      "text/plain": [
       "<AxesSubplot:title={'center':'nbumps2 values'}>"
      ]
     },
     "execution_count": 14,
     "metadata": {},
     "output_type": "execute_result"
    },
    {
     "data": {
      "image/png": "[encoded data removed]",
      "text/plain": [
       "<Figure size 432x288 with 1 Axes>"
      ]
     },
     "metadata": {
      "needs_background": "light"
     },
     "output_type": "display_data"
    }
   ],
   "source": [
    "df['nbumps2'].value_counts(normalize=True, ascending=True).plot(kind='barh', title='nbumps2 values')"
   ]
  },
  {
   "cell_type": "code",
   "execution_count": 15,
   "id": "1ee90ea2",
   "metadata": {},
   "outputs": [
    {
     "data": {
      "text/plain": [
       "<AxesSubplot:title={'center':'nbumps3 values'}>"
      ]
     },
     "execution_count": 15,
     "metadata": {},
     "output_type": "execute_result"
    },
    {
     "data": {
      "image/png": "[encoded data removed]",
      "text/plain": [
       "<Figure size 432x288 with 1 Axes>"
      ]
     },
     "metadata": {
      "needs_background": "light"
     },
     "output_type": "display_data"
    }
   ],
   "source": [
    "df['nbumps3'].value_counts(normalize=True, ascending=True).plot(kind='barh', title='nbumps3 values')"
   ]
  },
  {
   "cell_type": "code",
   "execution_count": 16,
   "id": "1135a92d",
   "metadata": {},
   "outputs": [
    {
     "data": {
      "text/plain": [
       "<AxesSubplot:title={'center':'nbumps4 values'}>"
      ]
     },
     "execution_count": 16,
     "metadata": {},
     "output_type": "execute_result"
    },
    {
     "data": {
      "image/png": "[encoded data removed]",
      "text/plain": [
       "<Figure size 432x288 with 1 Axes>"
      ]
     },
     "metadata": {
      "needs_background": "light"
     },
     "output_type": "display_data"
    }
   ],
   "source": [
    "df['nbumps4'].value_counts(normalize=True, ascending=True).plot(kind='barh', title='nbumps4 values')"
   ]
  },
  {
   "cell_type": "code",
   "execution_count": 17,
   "id": "f6a4768a",
   "metadata": {},
   "outputs": [
    {
     "data": {
      "text/plain": [
       "<AxesSubplot:title={'center':'nbumps5 values'}>"
      ]
     },
     "execution_count": 17,
     "metadata": {},
     "output_type": "execute_result"
    },
    {
     "data": {
      "image/png": "[encoded data removed]",
      "text/plain": [
       "<Figure size 432x288 with 1 Axes>"
      ]
     },
     "metadata": {
      "needs_background": "light"
     },
     "output_type": "display_data"
    }
   ],
   "source": [
    "df['nbumps5'].value_counts(normalize=True, ascending=True).plot(kind='barh', title='nbumps5 values')"
   ]
  },
  {
   "cell_type": "code",
   "execution_count": 18,
   "id": "b211e84b",
   "metadata": {},
   "outputs": [
    {
     "data": {
      "text/plain": [
       "<AxesSubplot:title={'center':'nbumps6 values'}>"
      ]
     },
     "execution_count": 18,
     "metadata": {},
     "output_type": "execute_result"
    },
    {
     "data": {
      "image/png": "[encoded data removed]",
      "text/plain": [
       "<Figure size 432x288 with 1 Axes>"
      ]
     },
     "metadata": {
      "needs_background": "light"
     },
     "output_type": "display_data"
    }
   ],
   "source": [
    "df['nbumps6'].value_counts(normalize=True, ascending=True).plot(kind='barh', title='nbumps6 values')"
   ]
  },
  {
   "cell_type": "code",
   "execution_count": 19,
   "id": "37b7ddca",
   "metadata": {},
   "outputs": [
    {
     "data": {
      "text/plain": [
       "<AxesSubplot:title={'center':'nbumps7 values'}>"
      ]
     },
     "execution_count": 19,
     "metadata": {},
     "output_type": "execute_result"
    },
    {
     "data": {
      "image/png": "[encoded data removed]",
      "text/plain": [
       "<Figure size 432x288 with 1 Axes>"
      ]
     },
     "metadata": {
      "needs_background": "light"
     },
     "output_type": "display_data"
    }
   ],
   "source": [
    "df['nbumps7'].value_counts(normalize=True, ascending=True).plot(kind='barh', title='nbumps7 values')"
   ]
  },
  {
   "cell_type": "code",
   "execution_count": 20,
   "id": "3cfa1f85",
   "metadata": {},
   "outputs": [
    {
     "data": {
      "text/plain": [
       "<AxesSubplot:title={'center':'nbumps89 values'}>"
      ]
     },
     "execution_count": 20,
     "metadata": {},
     "output_type": "execute_result"
    },
    {
     "data": {
      "image/png": "[encoded data removed]",
      "text/plain": [
       "<Figure size 432x288 with 1 Axes>"
      ]
     },
     "metadata": {
      "needs_background": "light"
     },
     "output_type": "display_data"
    }
   ],
   "source": [
    "df['nbumps89'].value_counts(normalize=True, ascending=True).plot(kind='barh', title='nbumps89 values')"
   ]
  },
  {
   "cell_type": "code",
   "execution_count": 23,
   "id": "c97f9693",
   "metadata": {},
   "outputs": [
    {
     "data": {
      "text/plain": [
       "<AxesSubplot:title={'center':'class values'}>"
      ]
     },
     "execution_count": 23,
     "metadata": {},
     "output_type": "execute_result"
    },
    {
     "data": {
      "image/png": "[encoded data removed]",
      "text/plain": [
       "<Figure size 432x288 with 1 Axes>"
      ]
     },
     "metadata": {
      "needs_background": "light"
     },
     "output_type": "display_data"
    }
   ],
   "source": [
    "df['class'].value_counts(normalize=True, ascending=True).plot(kind='barh', title='class values')"
   ]
  },
  {
   "cell_type": "code",
   "execution_count": 24,
   "id": "0c5ff792",
   "metadata": {},
   "outputs": [
    {
     "data": {
      "text/plain": [
       "0    2414\n",
       "1     170\n",
       "Name: class, dtype: Int64"
      ]
     },
     "execution_count": 24,
     "metadata": {},
     "output_type": "execute_result"
    }
   ],
   "source": [
    "df['class'].value_counts()  #in numero"
   ]
  },
  {
   "cell_type": "code",
   "execution_count": 25,
   "id": "856b47d5",
   "metadata": {},
   "outputs": [
    {
     "data": {
      "text/plain": [
       "seismic           float64\n",
       "seismoacoustic    float64\n",
       "shift             float64\n",
       "genergy           float64\n",
       "gpuls             float64\n",
       "gdenergy          float64\n",
       "gdpuls            float64\n",
       "hazard            float64\n",
       "nbumps            float64\n",
       "nbumps2           float64\n",
       "nbumps3           float64\n",
       "nbumps4           float64\n",
       "nbumps5           float64\n",
       "nbumps6           float64\n",
       "nbumps7           float64\n",
       "nbumps89          float64\n",
       "energy            float64\n",
       "maxenergy         float64\n",
       "class             float64\n",
       "dtype: object"
      ]
     },
     "execution_count": 25,
     "metadata": {},
     "output_type": "execute_result"
    }
   ],
   "source": [
    "df['seismic'] = df['seismic'].replace({'a':0, 'b':1, 'c':2, 'd':3}).astype(float)\n",
    "df['seismoacoustic'] = df['seismoacoustic'].replace({'a':0, 'b':1, 'c':2}).astype(float)\n",
    "df['shift'] = df['shift'].replace({'W':0, 'N':1}).astype(float)\n",
    "df['genergy'] = df['genergy'].astype(float)\n",
    "df['gpuls'] = df['gpuls'].astype(float)\n",
    "df['gdenergy'] = df['gdenergy'].astype(float)\n",
    "df['gdpuls'] = df['gdpuls'].astype(float)\n",
    "df['hazard'] = df['hazard'].replace({'a':0, 'b':1, 'c':2}).astype(float)\n",
    "df['nbumps'] = df['nbumps'].astype(float)\n",
    "df['nbumps2'] = df['nbumps2'].astype(float)\n",
    "df['nbumps3'] = df['nbumps3'].astype(float)\n",
    "df['nbumps4'] = df['nbumps4'].astype(float)\n",
    "df['nbumps5'] = df['nbumps5'].astype(float)\n",
    "df['nbumps6'] = df['nbumps6'].astype(float)\n",
    "df['nbumps7'] = df['nbumps7'].astype(float)\n",
    "df['nbumps89'] = df['nbumps89'].astype(float)\n",
    "df['energy'] = df['energy'].astype(float)\n",
    "df['maxenergy'] = df['maxenergy'].astype(float)\n",
    "df['class'] = df['class'].astype(float)\n",
    "\n",
    "df.dtypes"
   ]
  },
  {
   "cell_type": "code",
   "execution_count": 26,
   "id": "63280490",
   "metadata": {
    "scrolled": false
   },
   "outputs": [
    {
     "data": {
      "text/html": [
       "<div>\n",
       "<style scoped>\n",
       "    .dataframe tbody tr th:only-of-type {\n",
       "        vertical-align: middle;\n",
       "    }\n",
       "\n",
       "    .dataframe tbody tr th {\n",
       "        vertical-align: top;\n",
       "    }\n",
       "\n",
       "    .dataframe thead th {\n",
       "        text-align: right;\n",
       "    }\n",
       "</style>\n",
       "<table border=\"1\" class=\"dataframe\">\n",
       "  <thead>\n",
       "    <tr style=\"text-align: right;\">\n",
       "      <th></th>\n",
       "      <th>seismic</th>\n",
       "      <th>seismoacoustic</th>\n",
       "      <th>shift</th>\n",
       "      <th>genergy</th>\n",
       "      <th>gpuls</th>\n",
       "      <th>gdenergy</th>\n",
       "      <th>gdpuls</th>\n",
       "      <th>hazard</th>\n",
       "      <th>nbumps</th>\n",
       "      <th>nbumps2</th>\n",
       "      <th>nbumps3</th>\n",
       "      <th>nbumps4</th>\n",
       "      <th>nbumps5</th>\n",
       "      <th>nbumps6</th>\n",
       "      <th>nbumps7</th>\n",
       "      <th>nbumps89</th>\n",
       "      <th>energy</th>\n",
       "      <th>maxenergy</th>\n",
       "      <th>class</th>\n",
       "    </tr>\n",
       "  </thead>\n",
       "  <tbody>\n",
       "    <tr>\n",
       "      <th>0</th>\n",
       "      <td>0.0</td>\n",
       "      <td>0.0</td>\n",
       "      <td>1.0</td>\n",
       "      <td>15180.0</td>\n",
       "      <td>48.0</td>\n",
       "      <td>-72.0</td>\n",
       "      <td>-72.0</td>\n",
       "      <td>0.0</td>\n",
       "      <td>0.0</td>\n",
       "      <td>0.0</td>\n",
       "      <td>0.0</td>\n",
       "      <td>0.0</td>\n",
       "      <td>0.0</td>\n",
       "      <td>0.0</td>\n",
       "      <td>0.0</td>\n",
       "      <td>0.0</td>\n",
       "      <td>0.0</td>\n",
       "      <td>0.0</td>\n",
       "      <td>0.0</td>\n",
       "    </tr>\n",
       "    <tr>\n",
       "      <th>1</th>\n",
       "      <td>0.0</td>\n",
       "      <td>0.0</td>\n",
       "      <td>1.0</td>\n",
       "      <td>14720.0</td>\n",
       "      <td>33.0</td>\n",
       "      <td>-70.0</td>\n",
       "      <td>-79.0</td>\n",
       "      <td>0.0</td>\n",
       "      <td>1.0</td>\n",
       "      <td>0.0</td>\n",
       "      <td>1.0</td>\n",
       "      <td>0.0</td>\n",
       "      <td>0.0</td>\n",
       "      <td>0.0</td>\n",
       "      <td>0.0</td>\n",
       "      <td>0.0</td>\n",
       "      <td>2000.0</td>\n",
       "      <td>2000.0</td>\n",
       "      <td>0.0</td>\n",
       "    </tr>\n",
       "    <tr>\n",
       "      <th>2</th>\n",
       "      <td>0.0</td>\n",
       "      <td>0.0</td>\n",
       "      <td>1.0</td>\n",
       "      <td>8050.0</td>\n",
       "      <td>30.0</td>\n",
       "      <td>-81.0</td>\n",
       "      <td>-78.0</td>\n",
       "      <td>0.0</td>\n",
       "      <td>0.0</td>\n",
       "      <td>0.0</td>\n",
       "      <td>0.0</td>\n",
       "      <td>0.0</td>\n",
       "      <td>0.0</td>\n",
       "      <td>0.0</td>\n",
       "      <td>0.0</td>\n",
       "      <td>0.0</td>\n",
       "      <td>0.0</td>\n",
       "      <td>0.0</td>\n",
       "      <td>0.0</td>\n",
       "    </tr>\n",
       "    <tr>\n",
       "      <th>3</th>\n",
       "      <td>0.0</td>\n",
       "      <td>0.0</td>\n",
       "      <td>1.0</td>\n",
       "      <td>28820.0</td>\n",
       "      <td>171.0</td>\n",
       "      <td>-23.0</td>\n",
       "      <td>40.0</td>\n",
       "      <td>0.0</td>\n",
       "      <td>1.0</td>\n",
       "      <td>0.0</td>\n",
       "      <td>1.0</td>\n",
       "      <td>0.0</td>\n",
       "      <td>0.0</td>\n",
       "      <td>0.0</td>\n",
       "      <td>0.0</td>\n",
       "      <td>0.0</td>\n",
       "      <td>3000.0</td>\n",
       "      <td>3000.0</td>\n",
       "      <td>0.0</td>\n",
       "    </tr>\n",
       "    <tr>\n",
       "      <th>4</th>\n",
       "      <td>0.0</td>\n",
       "      <td>0.0</td>\n",
       "      <td>1.0</td>\n",
       "      <td>12640.0</td>\n",
       "      <td>57.0</td>\n",
       "      <td>-63.0</td>\n",
       "      <td>-52.0</td>\n",
       "      <td>0.0</td>\n",
       "      <td>0.0</td>\n",
       "      <td>0.0</td>\n",
       "      <td>0.0</td>\n",
       "      <td>0.0</td>\n",
       "      <td>0.0</td>\n",
       "      <td>0.0</td>\n",
       "      <td>0.0</td>\n",
       "      <td>0.0</td>\n",
       "      <td>0.0</td>\n",
       "      <td>0.0</td>\n",
       "      <td>0.0</td>\n",
       "    </tr>\n",
       "  </tbody>\n",
       "</table>\n",
       "</div>"
      ],
      "text/plain": [
       "   seismic  seismoacoustic  shift  genergy  gpuls  gdenergy  gdpuls  hazard  \\\n",
       "0      0.0             0.0    1.0  15180.0   48.0     -72.0   -72.0     0.0   \n",
       "1      0.0             0.0    1.0  14720.0   33.0     -70.0   -79.0     0.0   \n",
       "2      0.0             0.0    1.0   8050.0   30.0     -81.0   -78.0     0.0   \n",
       "3      0.0             0.0    1.0  28820.0  171.0     -23.0    40.0     0.0   \n",
       "4      0.0             0.0    1.0  12640.0   57.0     -63.0   -52.0     0.0   \n",
       "\n",
       "   nbumps  nbumps2  nbumps3  nbumps4  nbumps5  nbumps6  nbumps7  nbumps89  \\\n",
       "0     0.0      0.0      0.0      0.0      0.0      0.0      0.0       0.0   \n",
       "1     1.0      0.0      1.0      0.0      0.0      0.0      0.0       0.0   \n",
       "2     0.0      0.0      0.0      0.0      0.0      0.0      0.0       0.0   \n",
       "3     1.0      0.0      1.0      0.0      0.0      0.0      0.0       0.0   \n",
       "4     0.0      0.0      0.0      0.0      0.0      0.0      0.0       0.0   \n",
       "\n",
       "   energy  maxenergy  class  \n",
       "0     0.0        0.0    0.0  \n",
       "1  2000.0     2000.0    0.0  \n",
       "2     0.0        0.0    0.0  \n",
       "3  3000.0     3000.0    0.0  \n",
       "4     0.0        0.0    0.0  "
      ]
     },
     "execution_count": 26,
     "metadata": {},
     "output_type": "execute_result"
    }
   ],
   "source": [
    "df.head()"
   ]
  },
  {
   "cell_type": "code",
   "execution_count": 27,
   "id": "4b23f832",
   "metadata": {},
   "outputs": [
    {
     "data": {
      "text/html": [
       "<div>\n",
       "<style scoped>\n",
       "    .dataframe tbody tr th:only-of-type {\n",
       "        vertical-align: middle;\n",
       "    }\n",
       "\n",
       "    .dataframe tbody tr th {\n",
       "        vertical-align: top;\n",
       "    }\n",
       "\n",
       "    .dataframe thead th {\n",
       "        text-align: right;\n",
       "    }\n",
       "</style>\n",
       "<table border=\"1\" class=\"dataframe\">\n",
       "  <thead>\n",
       "    <tr style=\"text-align: right;\">\n",
       "      <th></th>\n",
       "      <th>seismic</th>\n",
       "      <th>seismoacoustic</th>\n",
       "      <th>shift</th>\n",
       "      <th>genergy</th>\n",
       "      <th>gpuls</th>\n",
       "      <th>gdenergy</th>\n",
       "      <th>gdpuls</th>\n",
       "      <th>hazard</th>\n",
       "      <th>nbumps</th>\n",
       "      <th>nbumps2</th>\n",
       "      <th>nbumps3</th>\n",
       "      <th>nbumps4</th>\n",
       "      <th>nbumps5</th>\n",
       "      <th>nbumps6</th>\n",
       "      <th>nbumps7</th>\n",
       "      <th>nbumps89</th>\n",
       "      <th>energy</th>\n",
       "      <th>maxenergy</th>\n",
       "      <th>class</th>\n",
       "    </tr>\n",
       "  </thead>\n",
       "  <tbody>\n",
       "    <tr>\n",
       "      <th>2578</th>\n",
       "      <td>1.0</td>\n",
       "      <td>0.0</td>\n",
       "      <td>0.0</td>\n",
       "      <td>28910.0</td>\n",
       "      <td>307.0</td>\n",
       "      <td>115.0</td>\n",
       "      <td>20.0</td>\n",
       "      <td>0.0</td>\n",
       "      <td>0.0</td>\n",
       "      <td>0.0</td>\n",
       "      <td>0.0</td>\n",
       "      <td>0.0</td>\n",
       "      <td>0.0</td>\n",
       "      <td>0.0</td>\n",
       "      <td>0.0</td>\n",
       "      <td>0.0</td>\n",
       "      <td>0.0</td>\n",
       "      <td>0.0</td>\n",
       "      <td>0.0</td>\n",
       "    </tr>\n",
       "    <tr>\n",
       "      <th>2579</th>\n",
       "      <td>1.0</td>\n",
       "      <td>0.0</td>\n",
       "      <td>0.0</td>\n",
       "      <td>81410.0</td>\n",
       "      <td>785.0</td>\n",
       "      <td>432.0</td>\n",
       "      <td>151.0</td>\n",
       "      <td>1.0</td>\n",
       "      <td>0.0</td>\n",
       "      <td>0.0</td>\n",
       "      <td>0.0</td>\n",
       "      <td>0.0</td>\n",
       "      <td>0.0</td>\n",
       "      <td>0.0</td>\n",
       "      <td>0.0</td>\n",
       "      <td>0.0</td>\n",
       "      <td>0.0</td>\n",
       "      <td>0.0</td>\n",
       "      <td>0.0</td>\n",
       "    </tr>\n",
       "    <tr>\n",
       "      <th>2580</th>\n",
       "      <td>1.0</td>\n",
       "      <td>0.0</td>\n",
       "      <td>0.0</td>\n",
       "      <td>42110.0</td>\n",
       "      <td>555.0</td>\n",
       "      <td>213.0</td>\n",
       "      <td>118.0</td>\n",
       "      <td>0.0</td>\n",
       "      <td>0.0</td>\n",
       "      <td>0.0</td>\n",
       "      <td>0.0</td>\n",
       "      <td>0.0</td>\n",
       "      <td>0.0</td>\n",
       "      <td>0.0</td>\n",
       "      <td>0.0</td>\n",
       "      <td>0.0</td>\n",
       "      <td>0.0</td>\n",
       "      <td>0.0</td>\n",
       "      <td>0.0</td>\n",
       "    </tr>\n",
       "    <tr>\n",
       "      <th>2581</th>\n",
       "      <td>1.0</td>\n",
       "      <td>0.0</td>\n",
       "      <td>0.0</td>\n",
       "      <td>26960.0</td>\n",
       "      <td>540.0</td>\n",
       "      <td>101.0</td>\n",
       "      <td>112.0</td>\n",
       "      <td>0.0</td>\n",
       "      <td>0.0</td>\n",
       "      <td>0.0</td>\n",
       "      <td>0.0</td>\n",
       "      <td>0.0</td>\n",
       "      <td>0.0</td>\n",
       "      <td>0.0</td>\n",
       "      <td>0.0</td>\n",
       "      <td>0.0</td>\n",
       "      <td>0.0</td>\n",
       "      <td>0.0</td>\n",
       "      <td>0.0</td>\n",
       "    </tr>\n",
       "    <tr>\n",
       "      <th>2582</th>\n",
       "      <td>0.0</td>\n",
       "      <td>0.0</td>\n",
       "      <td>0.0</td>\n",
       "      <td>16130.0</td>\n",
       "      <td>322.0</td>\n",
       "      <td>2.0</td>\n",
       "      <td>2.0</td>\n",
       "      <td>0.0</td>\n",
       "      <td>0.0</td>\n",
       "      <td>0.0</td>\n",
       "      <td>0.0</td>\n",
       "      <td>0.0</td>\n",
       "      <td>0.0</td>\n",
       "      <td>0.0</td>\n",
       "      <td>0.0</td>\n",
       "      <td>0.0</td>\n",
       "      <td>0.0</td>\n",
       "      <td>0.0</td>\n",
       "      <td>0.0</td>\n",
       "    </tr>\n",
       "    <tr>\n",
       "      <th>2583</th>\n",
       "      <td>0.0</td>\n",
       "      <td>0.0</td>\n",
       "      <td>0.0</td>\n",
       "      <td>12750.0</td>\n",
       "      <td>235.0</td>\n",
       "      <td>-10.0</td>\n",
       "      <td>-10.0</td>\n",
       "      <td>0.0</td>\n",
       "      <td>0.0</td>\n",
       "      <td>0.0</td>\n",
       "      <td>0.0</td>\n",
       "      <td>0.0</td>\n",
       "      <td>0.0</td>\n",
       "      <td>0.0</td>\n",
       "      <td>0.0</td>\n",
       "      <td>0.0</td>\n",
       "      <td>0.0</td>\n",
       "      <td>0.0</td>\n",
       "      <td>0.0</td>\n",
       "    </tr>\n",
       "  </tbody>\n",
       "</table>\n",
       "</div>"
      ],
      "text/plain": [
       "      seismic  seismoacoustic  shift  genergy  gpuls  gdenergy  gdpuls  \\\n",
       "2578      1.0             0.0    0.0  28910.0  307.0     115.0    20.0   \n",
       "2579      1.0             0.0    0.0  81410.0  785.0     432.0   151.0   \n",
       "2580      1.0             0.0    0.0  42110.0  555.0     213.0   118.0   \n",
       "2581      1.0             0.0    0.0  26960.0  540.0     101.0   112.0   \n",
       "2582      0.0             0.0    0.0  16130.0  322.0       2.0     2.0   \n",
       "2583      0.0             0.0    0.0  12750.0  235.0     -10.0   -10.0   \n",
       "\n",
       "      hazard  nbumps  nbumps2  nbumps3  nbumps4  nbumps5  nbumps6  nbumps7  \\\n",
       "2578     0.0     0.0      0.0      0.0      0.0      0.0      0.0      0.0   \n",
       "2579     1.0     0.0      0.0      0.0      0.0      0.0      0.0      0.0   \n",
       "2580     0.0     0.0      0.0      0.0      0.0      0.0      0.0      0.0   \n",
       "2581     0.0     0.0      0.0      0.0      0.0      0.0      0.0      0.0   \n",
       "2582     0.0     0.0      0.0      0.0      0.0      0.0      0.0      0.0   \n",
       "2583     0.0     0.0      0.0      0.0      0.0      0.0      0.0      0.0   \n",
       "\n",
       "      nbumps89  energy  maxenergy  class  \n",
       "2578       0.0     0.0        0.0    0.0  \n",
       "2579       0.0     0.0        0.0    0.0  \n",
       "2580       0.0     0.0        0.0    0.0  \n",
       "2581       0.0     0.0        0.0    0.0  \n",
       "2582       0.0     0.0        0.0    0.0  \n",
       "2583       0.0     0.0        0.0    0.0  "
      ]
     },
     "execution_count": 27,
     "metadata": {},
     "output_type": "execute_result"
    }
   ],
   "source": [
    "df.tail(6)"
   ]
  },
  {
   "cell_type": "code",
   "execution_count": 28,
   "id": "e197de61",
   "metadata": {},
   "outputs": [
    {
     "name": "stdout",
     "output_type": "stream",
     "text": [
      "<class 'pandas.core.frame.DataFrame'>\n",
      "RangeIndex: 2584 entries, 0 to 2583\n",
      "Data columns (total 19 columns):\n",
      " #   Column          Non-Null Count  Dtype  \n",
      "---  ------          --------------  -----  \n",
      " 0   seismic         2584 non-null   float64\n",
      " 1   seismoacoustic  2584 non-null   float64\n",
      " 2   shift           2584 non-null   float64\n",
      " 3   genergy         2584 non-null   float64\n",
      " 4   gpuls           2584 non-null   float64\n",
      " 5   gdenergy        2584 non-null   float64\n",
      " 6   gdpuls          2584 non-null   float64\n",
      " 7   hazard          2584 non-null   float64\n",
      " 8   nbumps          2584 non-null   float64\n",
      " 9   nbumps2         2584 non-null   float64\n",
      " 10  nbumps3         2584 non-null   float64\n",
      " 11  nbumps4         2584 non-null   float64\n",
      " 12  nbumps5         2584 non-null   float64\n",
      " 13  nbumps6         2584 non-null   float64\n",
      " 14  nbumps7         2584 non-null   float64\n",
      " 15  nbumps89        2584 non-null   float64\n",
      " 16  energy          2584 non-null   float64\n",
      " 17  maxenergy       2584 non-null   float64\n",
      " 18  class           2584 non-null   float64\n",
      "dtypes: float64(19)\n",
      "memory usage: 383.7 KB\n"
     ]
    }
   ],
   "source": [
    "df.info()"
   ]
  },
  {
   "cell_type": "code",
   "execution_count": 29,
   "id": "da78b46a",
   "metadata": {},
   "outputs": [
    {
     "data": {
      "text/html": [
       "<div>\n",
       "<style scoped>\n",
       "    .dataframe tbody tr th:only-of-type {\n",
       "        vertical-align: middle;\n",
       "    }\n",
       "\n",
       "    .dataframe tbody tr th {\n",
       "        vertical-align: top;\n",
       "    }\n",
       "\n",
       "    .dataframe thead th {\n",
       "        text-align: right;\n",
       "    }\n",
       "</style>\n",
       "<table border=\"1\" class=\"dataframe\">\n",
       "  <thead>\n",
       "    <tr style=\"text-align: right;\">\n",
       "      <th></th>\n",
       "      <th>seismic</th>\n",
       "      <th>seismoacoustic</th>\n",
       "      <th>shift</th>\n",
       "      <th>genergy</th>\n",
       "      <th>gpuls</th>\n",
       "      <th>gdenergy</th>\n",
       "      <th>gdpuls</th>\n",
       "      <th>hazard</th>\n",
       "      <th>nbumps</th>\n",
       "      <th>nbumps2</th>\n",
       "      <th>nbumps3</th>\n",
       "      <th>nbumps4</th>\n",
       "      <th>nbumps5</th>\n",
       "      <th>nbumps6</th>\n",
       "      <th>nbumps7</th>\n",
       "      <th>nbumps89</th>\n",
       "      <th>energy</th>\n",
       "      <th>maxenergy</th>\n",
       "      <th>class</th>\n",
       "    </tr>\n",
       "  </thead>\n",
       "  <tbody>\n",
       "    <tr>\n",
       "      <th>count</th>\n",
       "      <td>2584.000000</td>\n",
       "      <td>2584.000000</td>\n",
       "      <td>2584.000000</td>\n",
       "      <td>2.584000e+03</td>\n",
       "      <td>2584.000000</td>\n",
       "      <td>2584.000000</td>\n",
       "      <td>2584.000000</td>\n",
       "      <td>2584.000000</td>\n",
       "      <td>2584.000000</td>\n",
       "      <td>2584.000000</td>\n",
       "      <td>2584.000000</td>\n",
       "      <td>2584.000000</td>\n",
       "      <td>2584.000000</td>\n",
       "      <td>2584.0</td>\n",
       "      <td>2584.0</td>\n",
       "      <td>2584.0</td>\n",
       "      <td>2584.000000</td>\n",
       "      <td>2584.000000</td>\n",
       "      <td>2584.000000</td>\n",
       "    </tr>\n",
       "    <tr>\n",
       "      <th>mean</th>\n",
       "      <td>0.349071</td>\n",
       "      <td>0.407121</td>\n",
       "      <td>0.356424</td>\n",
       "      <td>9.024252e+04</td>\n",
       "      <td>538.579334</td>\n",
       "      <td>12.375774</td>\n",
       "      <td>4.508901</td>\n",
       "      <td>0.105263</td>\n",
       "      <td>0.859520</td>\n",
       "      <td>0.393576</td>\n",
       "      <td>0.392802</td>\n",
       "      <td>0.067724</td>\n",
       "      <td>0.004644</td>\n",
       "      <td>0.0</td>\n",
       "      <td>0.0</td>\n",
       "      <td>0.0</td>\n",
       "      <td>4975.270898</td>\n",
       "      <td>4278.850619</td>\n",
       "      <td>0.065789</td>\n",
       "    </tr>\n",
       "    <tr>\n",
       "      <th>std</th>\n",
       "      <td>0.476769</td>\n",
       "      <td>0.527857</td>\n",
       "      <td>0.479035</td>\n",
       "      <td>2.292005e+05</td>\n",
       "      <td>562.652536</td>\n",
       "      <td>80.319051</td>\n",
       "      <td>63.166556</td>\n",
       "      <td>0.342707</td>\n",
       "      <td>1.364616</td>\n",
       "      <td>0.783772</td>\n",
       "      <td>0.769710</td>\n",
       "      <td>0.279059</td>\n",
       "      <td>0.068001</td>\n",
       "      <td>0.0</td>\n",
       "      <td>0.0</td>\n",
       "      <td>0.0</td>\n",
       "      <td>20450.833222</td>\n",
       "      <td>19357.454882</td>\n",
       "      <td>0.247962</td>\n",
       "    </tr>\n",
       "    <tr>\n",
       "      <th>min</th>\n",
       "      <td>0.000000</td>\n",
       "      <td>0.000000</td>\n",
       "      <td>0.000000</td>\n",
       "      <td>1.000000e+02</td>\n",
       "      <td>2.000000</td>\n",
       "      <td>-96.000000</td>\n",
       "      <td>-96.000000</td>\n",
       "      <td>0.000000</td>\n",
       "      <td>0.000000</td>\n",
       "      <td>0.000000</td>\n",
       "      <td>0.000000</td>\n",
       "      <td>0.000000</td>\n",
       "      <td>0.000000</td>\n",
       "      <td>0.0</td>\n",
       "      <td>0.0</td>\n",
       "      <td>0.0</td>\n",
       "      <td>0.000000</td>\n",
       "      <td>0.000000</td>\n",
       "      <td>0.000000</td>\n",
       "    </tr>\n",
       "    <tr>\n",
       "      <th>25%</th>\n",
       "      <td>0.000000</td>\n",
       "      <td>0.000000</td>\n",
       "      <td>0.000000</td>\n",
       "      <td>1.166000e+04</td>\n",
       "      <td>190.000000</td>\n",
       "      <td>-37.000000</td>\n",
       "      <td>-36.000000</td>\n",
       "      <td>0.000000</td>\n",
       "      <td>0.000000</td>\n",
       "      <td>0.000000</td>\n",
       "      <td>0.000000</td>\n",
       "      <td>0.000000</td>\n",
       "      <td>0.000000</td>\n",
       "      <td>0.0</td>\n",
       "      <td>0.0</td>\n",
       "      <td>0.0</td>\n",
       "      <td>0.000000</td>\n",
       "      <td>0.000000</td>\n",
       "      <td>0.000000</td>\n",
       "    </tr>\n",
       "    <tr>\n",
       "      <th>50%</th>\n",
       "      <td>0.000000</td>\n",
       "      <td>0.000000</td>\n",
       "      <td>0.000000</td>\n",
       "      <td>2.548500e+04</td>\n",
       "      <td>379.000000</td>\n",
       "      <td>-6.000000</td>\n",
       "      <td>-6.000000</td>\n",
       "      <td>0.000000</td>\n",
       "      <td>0.000000</td>\n",
       "      <td>0.000000</td>\n",
       "      <td>0.000000</td>\n",
       "      <td>0.000000</td>\n",
       "      <td>0.000000</td>\n",
       "      <td>0.0</td>\n",
       "      <td>0.0</td>\n",
       "      <td>0.0</td>\n",
       "      <td>0.000000</td>\n",
       "      <td>0.000000</td>\n",
       "      <td>0.000000</td>\n",
       "    </tr>\n",
       "    <tr>\n",
       "      <th>75%</th>\n",
       "      <td>1.000000</td>\n",
       "      <td>1.000000</td>\n",
       "      <td>1.000000</td>\n",
       "      <td>5.283250e+04</td>\n",
       "      <td>669.000000</td>\n",
       "      <td>38.000000</td>\n",
       "      <td>30.250000</td>\n",
       "      <td>0.000000</td>\n",
       "      <td>1.000000</td>\n",
       "      <td>1.000000</td>\n",
       "      <td>1.000000</td>\n",
       "      <td>0.000000</td>\n",
       "      <td>0.000000</td>\n",
       "      <td>0.0</td>\n",
       "      <td>0.0</td>\n",
       "      <td>0.0</td>\n",
       "      <td>2600.000000</td>\n",
       "      <td>2000.000000</td>\n",
       "      <td>0.000000</td>\n",
       "    </tr>\n",
       "    <tr>\n",
       "      <th>max</th>\n",
       "      <td>1.000000</td>\n",
       "      <td>2.000000</td>\n",
       "      <td>1.000000</td>\n",
       "      <td>2.595650e+06</td>\n",
       "      <td>4518.000000</td>\n",
       "      <td>1245.000000</td>\n",
       "      <td>838.000000</td>\n",
       "      <td>2.000000</td>\n",
       "      <td>9.000000</td>\n",
       "      <td>8.000000</td>\n",
       "      <td>7.000000</td>\n",
       "      <td>3.000000</td>\n",
       "      <td>1.000000</td>\n",
       "      <td>0.0</td>\n",
       "      <td>0.0</td>\n",
       "      <td>0.0</td>\n",
       "      <td>402000.000000</td>\n",
       "      <td>400000.000000</td>\n",
       "      <td>1.000000</td>\n",
       "    </tr>\n",
       "  </tbody>\n",
       "</table>\n",
       "</div>"
      ],
      "text/plain": [
       "           seismic  seismoacoustic        shift       genergy        gpuls  \\\n",
       "count  2584.000000     2584.000000  2584.000000  2.584000e+03  2584.000000   \n",
       "mean      0.349071        0.407121     0.356424  9.024252e+04   538.579334   \n",
       "std       0.476769        0.527857     0.479035  2.292005e+05   562.652536   \n",
       "min       0.000000        0.000000     0.000000  1.000000e+02     2.000000   \n",
       "25%       0.000000        0.000000     0.000000  1.166000e+04   190.000000   \n",
       "50%       0.000000        0.000000     0.000000  2.548500e+04   379.000000   \n",
       "75%       1.000000        1.000000     1.000000  5.283250e+04   669.000000   \n",
       "max       1.000000        2.000000     1.000000  2.595650e+06  4518.000000   \n",
       "\n",
       "          gdenergy       gdpuls       hazard       nbumps      nbumps2  \\\n",
       "count  2584.000000  2584.000000  2584.000000  2584.000000  2584.000000   \n",
       "mean     12.375774     4.508901     0.105263     0.859520     0.393576   \n",
       "std      80.319051    63.166556     0.342707     1.364616     0.783772   \n",
       "min     -96.000000   -96.000000     0.000000     0.000000     0.000000   \n",
       "25%     -37.000000   -36.000000     0.000000     0.000000     0.000000   \n",
       "50%      -6.000000    -6.000000     0.000000     0.000000     0.000000   \n",
       "75%      38.000000    30.250000     0.000000     1.000000     1.000000   \n",
       "max    1245.000000   838.000000     2.000000     9.000000     8.000000   \n",
       "\n",
       "           nbumps3      nbumps4      nbumps5  nbumps6  nbumps7  nbumps89  \\\n",
       "count  2584.000000  2584.000000  2584.000000   2584.0   2584.0    2584.0   \n",
       "mean      0.392802     0.067724     0.004644      0.0      0.0       0.0   \n",
       "std       0.769710     0.279059     0.068001      0.0      0.0       0.0   \n",
       "min       0.000000     0.000000     0.000000      0.0      0.0       0.0   \n",
       "25%       0.000000     0.000000     0.000000      0.0      0.0       0.0   \n",
       "50%       0.000000     0.000000     0.000000      0.0      0.0       0.0   \n",
       "75%       1.000000     0.000000     0.000000      0.0      0.0       0.0   \n",
       "max       7.000000     3.000000     1.000000      0.0      0.0       0.0   \n",
       "\n",
       "              energy      maxenergy        class  \n",
       "count    2584.000000    2584.000000  2584.000000  \n",
       "mean     4975.270898    4278.850619     0.065789  \n",
       "std     20450.833222   19357.454882     0.247962  \n",
       "min         0.000000       0.000000     0.000000  \n",
       "25%         0.000000       0.000000     0.000000  \n",
       "50%         0.000000       0.000000     0.000000  \n",
       "75%      2600.000000    2000.000000     0.000000  \n",
       "max    402000.000000  400000.000000     1.000000  "
      ]
     },
     "execution_count": 29,
     "metadata": {},
     "output_type": "execute_result"
    }
   ],
   "source": [
    "df.describe()"
   ]
  },
  {
   "cell_type": "code",
   "execution_count": 30,
   "id": "4637b9b5",
   "metadata": {},
   "outputs": [
    {
     "data": {
      "text/plain": [
       "seismic           False\n",
       "seismoacoustic    False\n",
       "shift             False\n",
       "genergy           False\n",
       "gpuls             False\n",
       "gdenergy          False\n",
       "gdpuls            False\n",
       "hazard            False\n",
       "nbumps            False\n",
       "nbumps2           False\n",
       "nbumps3           False\n",
       "nbumps4           False\n",
       "nbumps5           False\n",
       "nbumps6           False\n",
       "nbumps7           False\n",
       "nbumps89          False\n",
       "energy            False\n",
       "maxenergy         False\n",
       "class             False\n",
       "dtype: bool"
      ]
     },
     "execution_count": 30,
     "metadata": {},
     "output_type": "execute_result"
    }
   ],
   "source": [
    "df.isnull().any()  # nessun true quindi nessun valore mancante"
   ]
  },
  {
   "cell_type": "code",
   "execution_count": 31,
   "id": "a1825c37",
   "metadata": {},
   "outputs": [
    {
     "data": {
      "text/html": [
       "<div>\n",
       "<style scoped>\n",
       "    .dataframe tbody tr th:only-of-type {\n",
       "        vertical-align: middle;\n",
       "    }\n",
       "\n",
       "    .dataframe tbody tr th {\n",
       "        vertical-align: top;\n",
       "    }\n",
       "\n",
       "    .dataframe thead th {\n",
       "        text-align: right;\n",
       "    }\n",
       "</style>\n",
       "<table border=\"1\" class=\"dataframe\">\n",
       "  <thead>\n",
       "    <tr style=\"text-align: right;\">\n",
       "      <th></th>\n",
       "      <th>seismic</th>\n",
       "      <th>seismoacoustic</th>\n",
       "      <th>shift</th>\n",
       "      <th>genergy</th>\n",
       "      <th>gpuls</th>\n",
       "      <th>gdenergy</th>\n",
       "      <th>gdpuls</th>\n",
       "      <th>hazard</th>\n",
       "      <th>nbumps</th>\n",
       "      <th>nbumps2</th>\n",
       "      <th>nbumps3</th>\n",
       "      <th>nbumps4</th>\n",
       "      <th>nbumps5</th>\n",
       "      <th>nbumps6</th>\n",
       "      <th>nbumps7</th>\n",
       "      <th>nbumps89</th>\n",
       "      <th>energy</th>\n",
       "      <th>maxenergy</th>\n",
       "      <th>class</th>\n",
       "    </tr>\n",
       "  </thead>\n",
       "  <tbody>\n",
       "    <tr>\n",
       "      <th>seismic</th>\n",
       "      <td>1.000000</td>\n",
       "      <td>0.058114</td>\n",
       "      <td>-0.268667</td>\n",
       "      <td>0.016017</td>\n",
       "      <td>0.243636</td>\n",
       "      <td>0.142308</td>\n",
       "      <td>0.156397</td>\n",
       "      <td>0.097272</td>\n",
       "      <td>0.127171</td>\n",
       "      <td>0.066301</td>\n",
       "      <td>0.068249</td>\n",
       "      <td>0.241264</td>\n",
       "      <td>0.021627</td>\n",
       "      <td>NaN</td>\n",
       "      <td>NaN</td>\n",
       "      <td>NaN</td>\n",
       "      <td>0.151417</td>\n",
       "      <td>0.136878</td>\n",
       "      <td>0.090574</td>\n",
       "    </tr>\n",
       "    <tr>\n",
       "      <th>seismoacoustic</th>\n",
       "      <td>0.058114</td>\n",
       "      <td>1.000000</td>\n",
       "      <td>-0.081082</td>\n",
       "      <td>0.008681</td>\n",
       "      <td>0.090666</td>\n",
       "      <td>0.184654</td>\n",
       "      <td>0.207776</td>\n",
       "      <td>0.460687</td>\n",
       "      <td>0.017083</td>\n",
       "      <td>0.023355</td>\n",
       "      <td>0.005500</td>\n",
       "      <td>0.001981</td>\n",
       "      <td>0.012021</td>\n",
       "      <td>NaN</td>\n",
       "      <td>NaN</td>\n",
       "      <td>NaN</td>\n",
       "      <td>-0.008072</td>\n",
       "      <td>-0.008152</td>\n",
       "      <td>0.008251</td>\n",
       "    </tr>\n",
       "    <tr>\n",
       "      <th>shift</th>\n",
       "      <td>-0.268667</td>\n",
       "      <td>-0.081082</td>\n",
       "      <td>1.000000</td>\n",
       "      <td>-0.216942</td>\n",
       "      <td>-0.435734</td>\n",
       "      <td>-0.097382</td>\n",
       "      <td>-0.108915</td>\n",
       "      <td>-0.054115</td>\n",
       "      <td>-0.311292</td>\n",
       "      <td>-0.278907</td>\n",
       "      <td>-0.213955</td>\n",
       "      <td>-0.151681</td>\n",
       "      <td>-0.003293</td>\n",
       "      <td>NaN</td>\n",
       "      <td>NaN</td>\n",
       "      <td>NaN</td>\n",
       "      <td>-0.106842</td>\n",
       "      <td>-0.087754</td>\n",
       "      <td>-0.142079</td>\n",
       "    </tr>\n",
       "    <tr>\n",
       "      <th>genergy</th>\n",
       "      <td>0.016017</td>\n",
       "      <td>0.008681</td>\n",
       "      <td>-0.216942</td>\n",
       "      <td>1.000000</td>\n",
       "      <td>0.748020</td>\n",
       "      <td>0.048514</td>\n",
       "      <td>0.071554</td>\n",
       "      <td>-0.035594</td>\n",
       "      <td>0.220720</td>\n",
       "      <td>0.143587</td>\n",
       "      <td>0.191753</td>\n",
       "      <td>0.150589</td>\n",
       "      <td>-0.009863</td>\n",
       "      <td>NaN</td>\n",
       "      <td>NaN</td>\n",
       "      <td>NaN</td>\n",
       "      <td>0.080828</td>\n",
       "      <td>0.064405</td>\n",
       "      <td>0.128160</td>\n",
       "    </tr>\n",
       "    <tr>\n",
       "      <th>gpuls</th>\n",
       "      <td>0.243636</td>\n",
       "      <td>0.090666</td>\n",
       "      <td>-0.435734</td>\n",
       "      <td>0.748020</td>\n",
       "      <td>1.000000</td>\n",
       "      <td>0.293036</td>\n",
       "      <td>0.382906</td>\n",
       "      <td>0.107733</td>\n",
       "      <td>0.300923</td>\n",
       "      <td>0.207390</td>\n",
       "      <td>0.225695</td>\n",
       "      <td>0.256547</td>\n",
       "      <td>0.049450</td>\n",
       "      <td>NaN</td>\n",
       "      <td>NaN</td>\n",
       "      <td>NaN</td>\n",
       "      <td>0.187350</td>\n",
       "      <td>0.164263</td>\n",
       "      <td>0.201042</td>\n",
       "    </tr>\n",
       "    <tr>\n",
       "      <th>gdenergy</th>\n",
       "      <td>0.142308</td>\n",
       "      <td>0.184654</td>\n",
       "      <td>-0.097382</td>\n",
       "      <td>0.048514</td>\n",
       "      <td>0.293036</td>\n",
       "      <td>1.000000</td>\n",
       "      <td>0.811944</td>\n",
       "      <td>0.317974</td>\n",
       "      <td>0.030039</td>\n",
       "      <td>0.041246</td>\n",
       "      <td>-0.012189</td>\n",
       "      <td>0.036916</td>\n",
       "      <td>0.123229</td>\n",
       "      <td>NaN</td>\n",
       "      <td>NaN</td>\n",
       "      <td>NaN</td>\n",
       "      <td>0.105971</td>\n",
       "      <td>0.108572</td>\n",
       "      <td>0.002957</td>\n",
       "    </tr>\n",
       "    <tr>\n",
       "      <th>gdpuls</th>\n",
       "      <td>0.156397</td>\n",
       "      <td>0.207776</td>\n",
       "      <td>-0.108915</td>\n",
       "      <td>0.071554</td>\n",
       "      <td>0.382906</td>\n",
       "      <td>0.811944</td>\n",
       "      <td>1.000000</td>\n",
       "      <td>0.310119</td>\n",
       "      <td>0.057996</td>\n",
       "      <td>0.051106</td>\n",
       "      <td>0.014735</td>\n",
       "      <td>0.066195</td>\n",
       "      <td>0.141044</td>\n",
       "      <td>NaN</td>\n",
       "      <td>NaN</td>\n",
       "      <td>NaN</td>\n",
       "      <td>0.143277</td>\n",
       "      <td>0.143646</td>\n",
       "      <td>0.021788</td>\n",
       "    </tr>\n",
       "    <tr>\n",
       "      <th>hazard</th>\n",
       "      <td>0.097272</td>\n",
       "      <td>0.460687</td>\n",
       "      <td>-0.054115</td>\n",
       "      <td>-0.035594</td>\n",
       "      <td>0.107733</td>\n",
       "      <td>0.317974</td>\n",
       "      <td>0.310119</td>\n",
       "      <td>1.000000</td>\n",
       "      <td>-0.051151</td>\n",
       "      <td>-0.014489</td>\n",
       "      <td>-0.070216</td>\n",
       "      <td>-0.017897</td>\n",
       "      <td>0.012241</td>\n",
       "      <td>NaN</td>\n",
       "      <td>NaN</td>\n",
       "      <td>NaN</td>\n",
       "      <td>-0.023127</td>\n",
       "      <td>-0.016938</td>\n",
       "      <td>-0.017744</td>\n",
       "    </tr>\n",
       "    <tr>\n",
       "      <th>nbumps</th>\n",
       "      <td>0.127171</td>\n",
       "      <td>0.017083</td>\n",
       "      <td>-0.311292</td>\n",
       "      <td>0.220720</td>\n",
       "      <td>0.300923</td>\n",
       "      <td>0.030039</td>\n",
       "      <td>0.057996</td>\n",
       "      <td>-0.051151</td>\n",
       "      <td>1.000000</td>\n",
       "      <td>0.804978</td>\n",
       "      <td>0.803364</td>\n",
       "      <td>0.395052</td>\n",
       "      <td>0.069613</td>\n",
       "      <td>NaN</td>\n",
       "      <td>NaN</td>\n",
       "      <td>NaN</td>\n",
       "      <td>0.347852</td>\n",
       "      <td>0.273714</td>\n",
       "      <td>0.248144</td>\n",
       "    </tr>\n",
       "    <tr>\n",
       "      <th>nbumps2</th>\n",
       "      <td>0.066301</td>\n",
       "      <td>0.023355</td>\n",
       "      <td>-0.278907</td>\n",
       "      <td>0.143587</td>\n",
       "      <td>0.207390</td>\n",
       "      <td>0.041246</td>\n",
       "      <td>0.051106</td>\n",
       "      <td>-0.014489</td>\n",
       "      <td>0.804978</td>\n",
       "      <td>1.000000</td>\n",
       "      <td>0.350724</td>\n",
       "      <td>0.161296</td>\n",
       "      <td>-0.005251</td>\n",
       "      <td>NaN</td>\n",
       "      <td>NaN</td>\n",
       "      <td>NaN</td>\n",
       "      <td>0.124650</td>\n",
       "      <td>0.085032</td>\n",
       "      <td>0.201381</td>\n",
       "    </tr>\n",
       "    <tr>\n",
       "      <th>nbumps3</th>\n",
       "      <td>0.068249</td>\n",
       "      <td>0.005500</td>\n",
       "      <td>-0.213955</td>\n",
       "      <td>0.191753</td>\n",
       "      <td>0.225695</td>\n",
       "      <td>-0.012189</td>\n",
       "      <td>0.014735</td>\n",
       "      <td>-0.070216</td>\n",
       "      <td>0.803364</td>\n",
       "      <td>0.350724</td>\n",
       "      <td>1.000000</td>\n",
       "      <td>0.175301</td>\n",
       "      <td>0.046498</td>\n",
       "      <td>NaN</td>\n",
       "      <td>NaN</td>\n",
       "      <td>NaN</td>\n",
       "      <td>0.244083</td>\n",
       "      <td>0.176480</td>\n",
       "      <td>0.205327</td>\n",
       "    </tr>\n",
       "    <tr>\n",
       "      <th>nbumps4</th>\n",
       "      <td>0.241264</td>\n",
       "      <td>0.001981</td>\n",
       "      <td>-0.151681</td>\n",
       "      <td>0.150589</td>\n",
       "      <td>0.256547</td>\n",
       "      <td>0.036916</td>\n",
       "      <td>0.066195</td>\n",
       "      <td>-0.017897</td>\n",
       "      <td>0.395052</td>\n",
       "      <td>0.161296</td>\n",
       "      <td>0.175301</td>\n",
       "      <td>1.000000</td>\n",
       "      <td>-0.016580</td>\n",
       "      <td>NaN</td>\n",
       "      <td>NaN</td>\n",
       "      <td>NaN</td>\n",
       "      <td>0.489828</td>\n",
       "      <td>0.416483</td>\n",
       "      <td>0.075458</td>\n",
       "    </tr>\n",
       "    <tr>\n",
       "      <th>nbumps5</th>\n",
       "      <td>0.021627</td>\n",
       "      <td>0.012021</td>\n",
       "      <td>-0.003293</td>\n",
       "      <td>-0.009863</td>\n",
       "      <td>0.049450</td>\n",
       "      <td>0.123229</td>\n",
       "      <td>0.141044</td>\n",
       "      <td>0.012241</td>\n",
       "      <td>0.069613</td>\n",
       "      <td>-0.005251</td>\n",
       "      <td>0.046498</td>\n",
       "      <td>-0.016580</td>\n",
       "      <td>1.000000</td>\n",
       "      <td>NaN</td>\n",
       "      <td>NaN</td>\n",
       "      <td>NaN</td>\n",
       "      <td>0.773605</td>\n",
       "      <td>0.808406</td>\n",
       "      <td>0.004834</td>\n",
       "    </tr>\n",
       "    <tr>\n",
       "      <th>nbumps6</th>\n",
       "      <td>NaN</td>\n",
       "      <td>NaN</td>\n",
       "      <td>NaN</td>\n",
       "      <td>NaN</td>\n",
       "      <td>NaN</td>\n",
       "      <td>NaN</td>\n",
       "      <td>NaN</td>\n",
       "      <td>NaN</td>\n",
       "      <td>NaN</td>\n",
       "      <td>NaN</td>\n",
       "      <td>NaN</td>\n",
       "      <td>NaN</td>\n",
       "      <td>NaN</td>\n",
       "      <td>NaN</td>\n",
       "      <td>NaN</td>\n",
       "      <td>NaN</td>\n",
       "      <td>NaN</td>\n",
       "      <td>NaN</td>\n",
       "      <td>NaN</td>\n",
       "    </tr>\n",
       "    <tr>\n",
       "      <th>nbumps7</th>\n",
       "      <td>NaN</td>\n",
       "      <td>NaN</td>\n",
       "      <td>NaN</td>\n",
       "      <td>NaN</td>\n",
       "      <td>NaN</td>\n",
       "      <td>NaN</td>\n",
       "      <td>NaN</td>\n",
       "      <td>NaN</td>\n",
       "      <td>NaN</td>\n",
       "      <td>NaN</td>\n",
       "      <td>NaN</td>\n",
       "      <td>NaN</td>\n",
       "      <td>NaN</td>\n",
       "      <td>NaN</td>\n",
       "      <td>NaN</td>\n",
       "      <td>NaN</td>\n",
       "      <td>NaN</td>\n",
       "      <td>NaN</td>\n",
       "      <td>NaN</td>\n",
       "    </tr>\n",
       "    <tr>\n",
       "      <th>nbumps89</th>\n",
       "      <td>NaN</td>\n",
       "      <td>NaN</td>\n",
       "      <td>NaN</td>\n",
       "      <td>NaN</td>\n",
       "      <td>NaN</td>\n",
       "      <td>NaN</td>\n",
       "      <td>NaN</td>\n",
       "      <td>NaN</td>\n",
       "      <td>NaN</td>\n",
       "      <td>NaN</td>\n",
       "      <td>NaN</td>\n",
       "      <td>NaN</td>\n",
       "      <td>NaN</td>\n",
       "      <td>NaN</td>\n",
       "      <td>NaN</td>\n",
       "      <td>NaN</td>\n",
       "      <td>NaN</td>\n",
       "      <td>NaN</td>\n",
       "      <td>NaN</td>\n",
       "    </tr>\n",
       "    <tr>\n",
       "      <th>energy</th>\n",
       "      <td>0.151417</td>\n",
       "      <td>-0.008072</td>\n",
       "      <td>-0.106842</td>\n",
       "      <td>0.080828</td>\n",
       "      <td>0.187350</td>\n",
       "      <td>0.105971</td>\n",
       "      <td>0.143277</td>\n",
       "      <td>-0.023127</td>\n",
       "      <td>0.347852</td>\n",
       "      <td>0.124650</td>\n",
       "      <td>0.244083</td>\n",
       "      <td>0.489828</td>\n",
       "      <td>0.773605</td>\n",
       "      <td>NaN</td>\n",
       "      <td>NaN</td>\n",
       "      <td>NaN</td>\n",
       "      <td>1.000000</td>\n",
       "      <td>0.989547</td>\n",
       "      <td>0.058431</td>\n",
       "    </tr>\n",
       "    <tr>\n",
       "      <th>maxenergy</th>\n",
       "      <td>0.136878</td>\n",
       "      <td>-0.008152</td>\n",
       "      <td>-0.087754</td>\n",
       "      <td>0.064405</td>\n",
       "      <td>0.164263</td>\n",
       "      <td>0.108572</td>\n",
       "      <td>0.143646</td>\n",
       "      <td>-0.016938</td>\n",
       "      <td>0.273714</td>\n",
       "      <td>0.085032</td>\n",
       "      <td>0.176480</td>\n",
       "      <td>0.416483</td>\n",
       "      <td>0.808406</td>\n",
       "      <td>NaN</td>\n",
       "      <td>NaN</td>\n",
       "      <td>NaN</td>\n",
       "      <td>0.989547</td>\n",
       "      <td>1.000000</td>\n",
       "      <td>0.040243</td>\n",
       "    </tr>\n",
       "    <tr>\n",
       "      <th>class</th>\n",
       "      <td>0.090574</td>\n",
       "      <td>0.008251</td>\n",
       "      <td>-0.142079</td>\n",
       "      <td>0.128160</td>\n",
       "      <td>0.201042</td>\n",
       "      <td>0.002957</td>\n",
       "      <td>0.021788</td>\n",
       "      <td>-0.017744</td>\n",
       "      <td>0.248144</td>\n",
       "      <td>0.201381</td>\n",
       "      <td>0.205327</td>\n",
       "      <td>0.075458</td>\n",
       "      <td>0.004834</td>\n",
       "      <td>NaN</td>\n",
       "      <td>NaN</td>\n",
       "      <td>NaN</td>\n",
       "      <td>0.058431</td>\n",
       "      <td>0.040243</td>\n",
       "      <td>1.000000</td>\n",
       "    </tr>\n",
       "  </tbody>\n",
       "</table>\n",
       "</div>"
      ],
      "text/plain": [
       "                 seismic  seismoacoustic     shift   genergy     gpuls  \\\n",
       "seismic         1.000000        0.058114 -0.268667  0.016017  0.243636   \n",
       "seismoacoustic  0.058114        1.000000 -0.081082  0.008681  0.090666   \n",
       "shift          -0.268667       -0.081082  1.000000 -0.216942 -0.435734   \n",
       "genergy         0.016017        0.008681 -0.216942  1.000000  0.748020   \n",
       "gpuls           0.243636        0.090666 -0.435734  0.748020  1.000000   \n",
       "gdenergy        0.142308        0.184654 -0.097382  0.048514  0.293036   \n",
       "gdpuls          0.156397        0.207776 -0.108915  0.071554  0.382906   \n",
       "hazard          0.097272        0.460687 -0.054115 -0.035594  0.107733   \n",
       "nbumps          0.127171        0.017083 -0.311292  0.220720  0.300923   \n",
       "nbumps2         0.066301        0.023355 -0.278907  0.143587  0.207390   \n",
       "nbumps3         0.068249        0.005500 -0.213955  0.191753  0.225695   \n",
       "nbumps4         0.241264        0.001981 -0.151681  0.150589  0.256547   \n",
       "nbumps5         0.021627        0.012021 -0.003293 -0.009863  0.049450   \n",
       "nbumps6              NaN             NaN       NaN       NaN       NaN   \n",
       "nbumps7              NaN             NaN       NaN       NaN       NaN   \n",
       "nbumps89             NaN             NaN       NaN       NaN       NaN   \n",
       "energy          0.151417       -0.008072 -0.106842  0.080828  0.187350   \n",
       "maxenergy       0.136878       -0.008152 -0.087754  0.064405  0.164263   \n",
       "class           0.090574        0.008251 -0.142079  0.128160  0.201042   \n",
       "\n",
       "                gdenergy    gdpuls    hazard    nbumps   nbumps2   nbumps3  \\\n",
       "seismic         0.142308  0.156397  0.097272  0.127171  0.066301  0.068249   \n",
       "seismoacoustic  0.184654  0.207776  0.460687  0.017083  0.023355  0.005500   \n",
       "shift          -0.097382 -0.108915 -0.054115 -0.311292 -0.278907 -0.213955   \n",
       "genergy         0.048514  0.071554 -0.035594  0.220720  0.143587  0.191753   \n",
       "gpuls           0.293036  0.382906  0.107733  0.300923  0.207390  0.225695   \n",
       "gdenergy        1.000000  0.811944  0.317974  0.030039  0.041246 -0.012189   \n",
       "gdpuls          0.811944  1.000000  0.310119  0.057996  0.051106  0.014735   \n",
       "hazard          0.317974  0.310119  1.000000 -0.051151 -0.014489 -0.070216   \n",
       "nbumps          0.030039  0.057996 -0.051151  1.000000  0.804978  0.803364   \n",
       "nbumps2         0.041246  0.051106 -0.014489  0.804978  1.000000  0.350724   \n",
       "nbumps3        -0.012189  0.014735 -0.070216  0.803364  0.350724  1.000000   \n",
       "nbumps4         0.036916  0.066195 -0.017897  0.395052  0.161296  0.175301   \n",
       "nbumps5         0.123229  0.141044  0.012241  0.069613 -0.005251  0.046498   \n",
       "nbumps6              NaN       NaN       NaN       NaN       NaN       NaN   \n",
       "nbumps7              NaN       NaN       NaN       NaN       NaN       NaN   \n",
       "nbumps89             NaN       NaN       NaN       NaN       NaN       NaN   \n",
       "energy          0.105971  0.143277 -0.023127  0.347852  0.124650  0.244083   \n",
       "maxenergy       0.108572  0.143646 -0.016938  0.273714  0.085032  0.176480   \n",
       "class           0.002957  0.021788 -0.017744  0.248144  0.201381  0.205327   \n",
       "\n",
       "                 nbumps4   nbumps5  nbumps6  nbumps7  nbumps89    energy  \\\n",
       "seismic         0.241264  0.021627      NaN      NaN       NaN  0.151417   \n",
       "seismoacoustic  0.001981  0.012021      NaN      NaN       NaN -0.008072   \n",
       "shift          -0.151681 -0.003293      NaN      NaN       NaN -0.106842   \n",
       "genergy         0.150589 -0.009863      NaN      NaN       NaN  0.080828   \n",
       "gpuls           0.256547  0.049450      NaN      NaN       NaN  0.187350   \n",
       "gdenergy        0.036916  0.123229      NaN      NaN       NaN  0.105971   \n",
       "gdpuls          0.066195  0.141044      NaN      NaN       NaN  0.143277   \n",
       "hazard         -0.017897  0.012241      NaN      NaN       NaN -0.023127   \n",
       "nbumps          0.395052  0.069613      NaN      NaN       NaN  0.347852   \n",
       "nbumps2         0.161296 -0.005251      NaN      NaN       NaN  0.124650   \n",
       "nbumps3         0.175301  0.046498      NaN      NaN       NaN  0.244083   \n",
       "nbumps4         1.000000 -0.016580      NaN      NaN       NaN  0.489828   \n",
       "nbumps5        -0.016580  1.000000      NaN      NaN       NaN  0.773605   \n",
       "nbumps6              NaN       NaN      NaN      NaN       NaN       NaN   \n",
       "nbumps7              NaN       NaN      NaN      NaN       NaN       NaN   \n",
       "nbumps89             NaN       NaN      NaN      NaN       NaN       NaN   \n",
       "energy          0.489828  0.773605      NaN      NaN       NaN  1.000000   \n",
       "maxenergy       0.416483  0.808406      NaN      NaN       NaN  0.989547   \n",
       "class           0.075458  0.004834      NaN      NaN       NaN  0.058431   \n",
       "\n",
       "                maxenergy     class  \n",
       "seismic          0.136878  0.090574  \n",
       "seismoacoustic  -0.008152  0.008251  \n",
       "shift           -0.087754 -0.142079  \n",
       "genergy          0.064405  0.128160  \n",
       "gpuls            0.164263  0.201042  \n",
       "gdenergy         0.108572  0.002957  \n",
       "gdpuls           0.143646  0.021788  \n",
       "hazard          -0.016938 -0.017744  \n",
       "nbumps           0.273714  0.248144  \n",
       "nbumps2          0.085032  0.201381  \n",
       "nbumps3          0.176480  0.205327  \n",
       "nbumps4          0.416483  0.075458  \n",
       "nbumps5          0.808406  0.004834  \n",
       "nbumps6               NaN       NaN  \n",
       "nbumps7               NaN       NaN  \n",
       "nbumps89              NaN       NaN  \n",
       "energy           0.989547  0.058431  \n",
       "maxenergy        1.000000  0.040243  \n",
       "class            0.040243  1.000000  "
      ]
     },
     "execution_count": 31,
     "metadata": {},
     "output_type": "execute_result"
    }
   ],
   "source": [
    "df.corr() #noto valori nan"
   ]
  },
  {
   "cell_type": "code",
   "execution_count": 32,
   "id": "c72df1c7",
   "metadata": {
    "scrolled": true
   },
   "outputs": [],
   "source": [
    "df_corr = df.corr() # assegno a una variabile per usarla alla ricerca dei nan nella correlazione"
   ]
  },
  {
   "cell_type": "code",
   "execution_count": 33,
   "id": "dcaadd61",
   "metadata": {},
   "outputs": [
    {
     "data": {
      "text/html": [
       "<div>\n",
       "<style scoped>\n",
       "    .dataframe tbody tr th:only-of-type {\n",
       "        vertical-align: middle;\n",
       "    }\n",
       "\n",
       "    .dataframe tbody tr th {\n",
       "        vertical-align: top;\n",
       "    }\n",
       "\n",
       "    .dataframe thead th {\n",
       "        text-align: right;\n",
       "    }\n",
       "</style>\n",
       "<table border=\"1\" class=\"dataframe\">\n",
       "  <thead>\n",
       "    <tr style=\"text-align: right;\">\n",
       "      <th></th>\n",
       "      <th>seismic</th>\n",
       "      <th>seismoacoustic</th>\n",
       "      <th>shift</th>\n",
       "      <th>genergy</th>\n",
       "      <th>gpuls</th>\n",
       "      <th>gdenergy</th>\n",
       "      <th>gdpuls</th>\n",
       "      <th>hazard</th>\n",
       "      <th>nbumps</th>\n",
       "      <th>nbumps2</th>\n",
       "      <th>nbumps3</th>\n",
       "      <th>nbumps4</th>\n",
       "      <th>nbumps5</th>\n",
       "      <th>nbumps6</th>\n",
       "      <th>nbumps7</th>\n",
       "      <th>nbumps89</th>\n",
       "      <th>energy</th>\n",
       "      <th>maxenergy</th>\n",
       "      <th>class</th>\n",
       "    </tr>\n",
       "  </thead>\n",
       "  <tbody>\n",
       "    <tr>\n",
       "      <th>seismic</th>\n",
       "      <td>1.000000</td>\n",
       "      <td>0.058114</td>\n",
       "      <td>-0.268667</td>\n",
       "      <td>0.016017</td>\n",
       "      <td>0.243636</td>\n",
       "      <td>0.142308</td>\n",
       "      <td>0.156397</td>\n",
       "      <td>0.097272</td>\n",
       "      <td>0.127171</td>\n",
       "      <td>0.066301</td>\n",
       "      <td>0.068249</td>\n",
       "      <td>0.241264</td>\n",
       "      <td>0.021627</td>\n",
       "      <td>NaN</td>\n",
       "      <td>NaN</td>\n",
       "      <td>NaN</td>\n",
       "      <td>0.151417</td>\n",
       "      <td>0.136878</td>\n",
       "      <td>0.090574</td>\n",
       "    </tr>\n",
       "    <tr>\n",
       "      <th>seismoacoustic</th>\n",
       "      <td>0.058114</td>\n",
       "      <td>1.000000</td>\n",
       "      <td>-0.081082</td>\n",
       "      <td>0.008681</td>\n",
       "      <td>0.090666</td>\n",
       "      <td>0.184654</td>\n",
       "      <td>0.207776</td>\n",
       "      <td>0.460687</td>\n",
       "      <td>0.017083</td>\n",
       "      <td>0.023355</td>\n",
       "      <td>0.005500</td>\n",
       "      <td>0.001981</td>\n",
       "      <td>0.012021</td>\n",
       "      <td>NaN</td>\n",
       "      <td>NaN</td>\n",
       "      <td>NaN</td>\n",
       "      <td>-0.008072</td>\n",
       "      <td>-0.008152</td>\n",
       "      <td>0.008251</td>\n",
       "    </tr>\n",
       "    <tr>\n",
       "      <th>shift</th>\n",
       "      <td>-0.268667</td>\n",
       "      <td>-0.081082</td>\n",
       "      <td>1.000000</td>\n",
       "      <td>-0.216942</td>\n",
       "      <td>-0.435734</td>\n",
       "      <td>-0.097382</td>\n",
       "      <td>-0.108915</td>\n",
       "      <td>-0.054115</td>\n",
       "      <td>-0.311292</td>\n",
       "      <td>-0.278907</td>\n",
       "      <td>-0.213955</td>\n",
       "      <td>-0.151681</td>\n",
       "      <td>-0.003293</td>\n",
       "      <td>NaN</td>\n",
       "      <td>NaN</td>\n",
       "      <td>NaN</td>\n",
       "      <td>-0.106842</td>\n",
       "      <td>-0.087754</td>\n",
       "      <td>-0.142079</td>\n",
       "    </tr>\n",
       "    <tr>\n",
       "      <th>genergy</th>\n",
       "      <td>0.016017</td>\n",
       "      <td>0.008681</td>\n",
       "      <td>-0.216942</td>\n",
       "      <td>1.000000</td>\n",
       "      <td>0.748020</td>\n",
       "      <td>0.048514</td>\n",
       "      <td>0.071554</td>\n",
       "      <td>-0.035594</td>\n",
       "      <td>0.220720</td>\n",
       "      <td>0.143587</td>\n",
       "      <td>0.191753</td>\n",
       "      <td>0.150589</td>\n",
       "      <td>-0.009863</td>\n",
       "      <td>NaN</td>\n",
       "      <td>NaN</td>\n",
       "      <td>NaN</td>\n",
       "      <td>0.080828</td>\n",
       "      <td>0.064405</td>\n",
       "      <td>0.128160</td>\n",
       "    </tr>\n",
       "    <tr>\n",
       "      <th>gpuls</th>\n",
       "      <td>0.243636</td>\n",
       "      <td>0.090666</td>\n",
       "      <td>-0.435734</td>\n",
       "      <td>0.748020</td>\n",
       "      <td>1.000000</td>\n",
       "      <td>0.293036</td>\n",
       "      <td>0.382906</td>\n",
       "      <td>0.107733</td>\n",
       "      <td>0.300923</td>\n",
       "      <td>0.207390</td>\n",
       "      <td>0.225695</td>\n",
       "      <td>0.256547</td>\n",
       "      <td>0.049450</td>\n",
       "      <td>NaN</td>\n",
       "      <td>NaN</td>\n",
       "      <td>NaN</td>\n",
       "      <td>0.187350</td>\n",
       "      <td>0.164263</td>\n",
       "      <td>0.201042</td>\n",
       "    </tr>\n",
       "  </tbody>\n",
       "</table>\n",
       "</div>"
      ],
      "text/plain": [
       "                 seismic  seismoacoustic     shift   genergy     gpuls  \\\n",
       "seismic         1.000000        0.058114 -0.268667  0.016017  0.243636   \n",
       "seismoacoustic  0.058114        1.000000 -0.081082  0.008681  0.090666   \n",
       "shift          -0.268667       -0.081082  1.000000 -0.216942 -0.435734   \n",
       "genergy         0.016017        0.008681 -0.216942  1.000000  0.748020   \n",
       "gpuls           0.243636        0.090666 -0.435734  0.748020  1.000000   \n",
       "\n",
       "                gdenergy    gdpuls    hazard    nbumps   nbumps2   nbumps3  \\\n",
       "seismic         0.142308  0.156397  0.097272  0.127171  0.066301  0.068249   \n",
       "seismoacoustic  0.184654  0.207776  0.460687  0.017083  0.023355  0.005500   \n",
       "shift          -0.097382 -0.108915 -0.054115 -0.311292 -0.278907 -0.213955   \n",
       "genergy         0.048514  0.071554 -0.035594  0.220720  0.143587  0.191753   \n",
       "gpuls           0.293036  0.382906  0.107733  0.300923  0.207390  0.225695   \n",
       "\n",
       "                 nbumps4   nbumps5  nbumps6  nbumps7  nbumps89    energy  \\\n",
       "seismic         0.241264  0.021627      NaN      NaN       NaN  0.151417   \n",
       "seismoacoustic  0.001981  0.012021      NaN      NaN       NaN -0.008072   \n",
       "shift          -0.151681 -0.003293      NaN      NaN       NaN -0.106842   \n",
       "genergy         0.150589 -0.009863      NaN      NaN       NaN  0.080828   \n",
       "gpuls           0.256547  0.049450      NaN      NaN       NaN  0.187350   \n",
       "\n",
       "                maxenergy     class  \n",
       "seismic          0.136878  0.090574  \n",
       "seismoacoustic  -0.008152  0.008251  \n",
       "shift           -0.087754 -0.142079  \n",
       "genergy          0.064405  0.128160  \n",
       "gpuls            0.164263  0.201042  "
      ]
     },
     "execution_count": 33,
     "metadata": {},
     "output_type": "execute_result"
    }
   ],
   "source": [
    "nan_df = df_corr[df_corr.isna().any(axis=1)]  #1 per colonne e 0 per righe\n",
    "nan_df.head()   # tutte le colonne con un valore nan nella correlazione (le prime sono date dalle righe delle colonne tolte)\n"
   ]
  },
  {
   "cell_type": "code",
   "execution_count": 34,
   "id": "0a91f046",
   "metadata": {},
   "outputs": [
    {
     "name": "stdout",
     "output_type": "stream",
     "text": [
      "0.0    2584\n",
      "Name: nbumps6, dtype: int64\n",
      "0.0    2584\n",
      "Name: nbumps7, dtype: int64\n",
      "0.0    2584\n",
      "Name: nbumps89, dtype: int64\n"
     ]
    }
   ],
   "source": [
    "print(df['nbumps6'].value_counts())\n",
    "print(df['nbumps7'].value_counts())\n",
    "print(df['nbumps89'].value_counts())"
   ]
  },
  {
   "cell_type": "code",
   "execution_count": 35,
   "id": "556fbd6c",
   "metadata": {},
   "outputs": [
    {
     "data": {
      "text/html": [
       "<div>\n",
       "<style scoped>\n",
       "    .dataframe tbody tr th:only-of-type {\n",
       "        vertical-align: middle;\n",
       "    }\n",
       "\n",
       "    .dataframe tbody tr th {\n",
       "        vertical-align: top;\n",
       "    }\n",
       "\n",
       "    .dataframe thead th {\n",
       "        text-align: right;\n",
       "    }\n",
       "</style>\n",
       "<table border=\"1\" class=\"dataframe\">\n",
       "  <thead>\n",
       "    <tr style=\"text-align: right;\">\n",
       "      <th></th>\n",
       "      <th>seismic</th>\n",
       "      <th>seismoacoustic</th>\n",
       "      <th>shift</th>\n",
       "      <th>genergy</th>\n",
       "      <th>gpuls</th>\n",
       "      <th>gdenergy</th>\n",
       "      <th>gdpuls</th>\n",
       "      <th>hazard</th>\n",
       "      <th>nbumps</th>\n",
       "      <th>nbumps2</th>\n",
       "      <th>nbumps3</th>\n",
       "      <th>nbumps4</th>\n",
       "      <th>nbumps5</th>\n",
       "      <th>energy</th>\n",
       "      <th>maxenergy</th>\n",
       "      <th>class</th>\n",
       "    </tr>\n",
       "  </thead>\n",
       "  <tbody>\n",
       "    <tr>\n",
       "      <th>2484</th>\n",
       "      <td>0.0</td>\n",
       "      <td>0.0</td>\n",
       "      <td>0.0</td>\n",
       "      <td>11740.0</td>\n",
       "      <td>278.0</td>\n",
       "      <td>-47.0</td>\n",
       "      <td>-25.0</td>\n",
       "      <td>0.0</td>\n",
       "      <td>0.0</td>\n",
       "      <td>0.0</td>\n",
       "      <td>0.0</td>\n",
       "      <td>0.0</td>\n",
       "      <td>0.0</td>\n",
       "      <td>0.0</td>\n",
       "      <td>0.0</td>\n",
       "      <td>0.0</td>\n",
       "    </tr>\n",
       "    <tr>\n",
       "      <th>2485</th>\n",
       "      <td>0.0</td>\n",
       "      <td>0.0</td>\n",
       "      <td>0.0</td>\n",
       "      <td>8160.0</td>\n",
       "      <td>148.0</td>\n",
       "      <td>-51.0</td>\n",
       "      <td>-57.0</td>\n",
       "      <td>0.0</td>\n",
       "      <td>1.0</td>\n",
       "      <td>1.0</td>\n",
       "      <td>0.0</td>\n",
       "      <td>0.0</td>\n",
       "      <td>0.0</td>\n",
       "      <td>300.0</td>\n",
       "      <td>300.0</td>\n",
       "      <td>0.0</td>\n",
       "    </tr>\n",
       "    <tr>\n",
       "      <th>2486</th>\n",
       "      <td>0.0</td>\n",
       "      <td>0.0</td>\n",
       "      <td>0.0</td>\n",
       "      <td>11890.0</td>\n",
       "      <td>475.0</td>\n",
       "      <td>23.0</td>\n",
       "      <td>10.0</td>\n",
       "      <td>0.0</td>\n",
       "      <td>0.0</td>\n",
       "      <td>0.0</td>\n",
       "      <td>0.0</td>\n",
       "      <td>0.0</td>\n",
       "      <td>0.0</td>\n",
       "      <td>0.0</td>\n",
       "      <td>0.0</td>\n",
       "      <td>0.0</td>\n",
       "    </tr>\n",
       "    <tr>\n",
       "      <th>2487</th>\n",
       "      <td>0.0</td>\n",
       "      <td>0.0</td>\n",
       "      <td>0.0</td>\n",
       "      <td>10080.0</td>\n",
       "      <td>349.0</td>\n",
       "      <td>11.0</td>\n",
       "      <td>40.0</td>\n",
       "      <td>0.0</td>\n",
       "      <td>1.0</td>\n",
       "      <td>0.0</td>\n",
       "      <td>1.0</td>\n",
       "      <td>0.0</td>\n",
       "      <td>0.0</td>\n",
       "      <td>3000.0</td>\n",
       "      <td>3000.0</td>\n",
       "      <td>0.0</td>\n",
       "    </tr>\n",
       "    <tr>\n",
       "      <th>2488</th>\n",
       "      <td>0.0</td>\n",
       "      <td>0.0</td>\n",
       "      <td>0.0</td>\n",
       "      <td>8620.0</td>\n",
       "      <td>239.0</td>\n",
       "      <td>-58.0</td>\n",
       "      <td>-31.0</td>\n",
       "      <td>0.0</td>\n",
       "      <td>0.0</td>\n",
       "      <td>0.0</td>\n",
       "      <td>0.0</td>\n",
       "      <td>0.0</td>\n",
       "      <td>0.0</td>\n",
       "      <td>0.0</td>\n",
       "      <td>0.0</td>\n",
       "      <td>0.0</td>\n",
       "    </tr>\n",
       "    <tr>\n",
       "      <th>...</th>\n",
       "      <td>...</td>\n",
       "      <td>...</td>\n",
       "      <td>...</td>\n",
       "      <td>...</td>\n",
       "      <td>...</td>\n",
       "      <td>...</td>\n",
       "      <td>...</td>\n",
       "      <td>...</td>\n",
       "      <td>...</td>\n",
       "      <td>...</td>\n",
       "      <td>...</td>\n",
       "      <td>...</td>\n",
       "      <td>...</td>\n",
       "      <td>...</td>\n",
       "      <td>...</td>\n",
       "      <td>...</td>\n",
       "    </tr>\n",
       "    <tr>\n",
       "      <th>2579</th>\n",
       "      <td>1.0</td>\n",
       "      <td>0.0</td>\n",
       "      <td>0.0</td>\n",
       "      <td>81410.0</td>\n",
       "      <td>785.0</td>\n",
       "      <td>432.0</td>\n",
       "      <td>151.0</td>\n",
       "      <td>1.0</td>\n",
       "      <td>0.0</td>\n",
       "      <td>0.0</td>\n",
       "      <td>0.0</td>\n",
       "      <td>0.0</td>\n",
       "      <td>0.0</td>\n",
       "      <td>0.0</td>\n",
       "      <td>0.0</td>\n",
       "      <td>0.0</td>\n",
       "    </tr>\n",
       "    <tr>\n",
       "      <th>2580</th>\n",
       "      <td>1.0</td>\n",
       "      <td>0.0</td>\n",
       "      <td>0.0</td>\n",
       "      <td>42110.0</td>\n",
       "      <td>555.0</td>\n",
       "      <td>213.0</td>\n",
       "      <td>118.0</td>\n",
       "      <td>0.0</td>\n",
       "      <td>0.0</td>\n",
       "      <td>0.0</td>\n",
       "      <td>0.0</td>\n",
       "      <td>0.0</td>\n",
       "      <td>0.0</td>\n",
       "      <td>0.0</td>\n",
       "      <td>0.0</td>\n",
       "      <td>0.0</td>\n",
       "    </tr>\n",
       "    <tr>\n",
       "      <th>2581</th>\n",
       "      <td>1.0</td>\n",
       "      <td>0.0</td>\n",
       "      <td>0.0</td>\n",
       "      <td>26960.0</td>\n",
       "      <td>540.0</td>\n",
       "      <td>101.0</td>\n",
       "      <td>112.0</td>\n",
       "      <td>0.0</td>\n",
       "      <td>0.0</td>\n",
       "      <td>0.0</td>\n",
       "      <td>0.0</td>\n",
       "      <td>0.0</td>\n",
       "      <td>0.0</td>\n",
       "      <td>0.0</td>\n",
       "      <td>0.0</td>\n",
       "      <td>0.0</td>\n",
       "    </tr>\n",
       "    <tr>\n",
       "      <th>2582</th>\n",
       "      <td>0.0</td>\n",
       "      <td>0.0</td>\n",
       "      <td>0.0</td>\n",
       "      <td>16130.0</td>\n",
       "      <td>322.0</td>\n",
       "      <td>2.0</td>\n",
       "      <td>2.0</td>\n",
       "      <td>0.0</td>\n",
       "      <td>0.0</td>\n",
       "      <td>0.0</td>\n",
       "      <td>0.0</td>\n",
       "      <td>0.0</td>\n",
       "      <td>0.0</td>\n",
       "      <td>0.0</td>\n",
       "      <td>0.0</td>\n",
       "      <td>0.0</td>\n",
       "    </tr>\n",
       "    <tr>\n",
       "      <th>2583</th>\n",
       "      <td>0.0</td>\n",
       "      <td>0.0</td>\n",
       "      <td>0.0</td>\n",
       "      <td>12750.0</td>\n",
       "      <td>235.0</td>\n",
       "      <td>-10.0</td>\n",
       "      <td>-10.0</td>\n",
       "      <td>0.0</td>\n",
       "      <td>0.0</td>\n",
       "      <td>0.0</td>\n",
       "      <td>0.0</td>\n",
       "      <td>0.0</td>\n",
       "      <td>0.0</td>\n",
       "      <td>0.0</td>\n",
       "      <td>0.0</td>\n",
       "      <td>0.0</td>\n",
       "    </tr>\n",
       "  </tbody>\n",
       "</table>\n",
       "<p>100 rows × 16 columns</p>\n",
       "</div>"
      ],
      "text/plain": [
       "      seismic  seismoacoustic  shift  genergy  gpuls  gdenergy  gdpuls  \\\n",
       "2484      0.0             0.0    0.0  11740.0  278.0     -47.0   -25.0   \n",
       "2485      0.0             0.0    0.0   8160.0  148.0     -51.0   -57.0   \n",
       "2486      0.0             0.0    0.0  11890.0  475.0      23.0    10.0   \n",
       "2487      0.0             0.0    0.0  10080.0  349.0      11.0    40.0   \n",
       "2488      0.0             0.0    0.0   8620.0  239.0     -58.0   -31.0   \n",
       "...       ...             ...    ...      ...    ...       ...     ...   \n",
       "2579      1.0             0.0    0.0  81410.0  785.0     432.0   151.0   \n",
       "2580      1.0             0.0    0.0  42110.0  555.0     213.0   118.0   \n",
       "2581      1.0             0.0    0.0  26960.0  540.0     101.0   112.0   \n",
       "2582      0.0             0.0    0.0  16130.0  322.0       2.0     2.0   \n",
       "2583      0.0             0.0    0.0  12750.0  235.0     -10.0   -10.0   \n",
       "\n",
       "      hazard  nbumps  nbumps2  nbumps3  nbumps4  nbumps5  energy  maxenergy  \\\n",
       "2484     0.0     0.0      0.0      0.0      0.0      0.0     0.0        0.0   \n",
       "2485     0.0     1.0      1.0      0.0      0.0      0.0   300.0      300.0   \n",
       "2486     0.0     0.0      0.0      0.0      0.0      0.0     0.0        0.0   \n",
       "2487     0.0     1.0      0.0      1.0      0.0      0.0  3000.0     3000.0   \n",
       "2488     0.0     0.0      0.0      0.0      0.0      0.0     0.0        0.0   \n",
       "...      ...     ...      ...      ...      ...      ...     ...        ...   \n",
       "2579     1.0     0.0      0.0      0.0      0.0      0.0     0.0        0.0   \n",
       "2580     0.0     0.0      0.0      0.0      0.0      0.0     0.0        0.0   \n",
       "2581     0.0     0.0      0.0      0.0      0.0      0.0     0.0        0.0   \n",
       "2582     0.0     0.0      0.0      0.0      0.0      0.0     0.0        0.0   \n",
       "2583     0.0     0.0      0.0      0.0      0.0      0.0     0.0        0.0   \n",
       "\n",
       "      class  \n",
       "2484    0.0  \n",
       "2485    0.0  \n",
       "2486    0.0  \n",
       "2487    0.0  \n",
       "2488    0.0  \n",
       "...     ...  \n",
       "2579    0.0  \n",
       "2580    0.0  \n",
       "2581    0.0  \n",
       "2582    0.0  \n",
       "2583    0.0  \n",
       "\n",
       "[100 rows x 16 columns]"
      ]
     },
     "execution_count": 35,
     "metadata": {},
     "output_type": "execute_result"
    }
   ],
   "source": [
    "df = df.drop('nbumps6', 1) \n",
    "df = df.drop('nbumps7', 1) \n",
    "df = df.drop('nbumps89', 1) \n",
    "df.head() \n",
    "df.tail(100) # per vedere se il 2 ha qualche numero\n"
   ]
  },
  {
   "cell_type": "code",
   "execution_count": 36,
   "id": "573ca778",
   "metadata": {},
   "outputs": [
    {
     "data": {
      "text/html": [
       "<div>\n",
       "<style scoped>\n",
       "    .dataframe tbody tr th:only-of-type {\n",
       "        vertical-align: middle;\n",
       "    }\n",
       "\n",
       "    .dataframe tbody tr th {\n",
       "        vertical-align: top;\n",
       "    }\n",
       "\n",
       "    .dataframe thead th {\n",
       "        text-align: right;\n",
       "    }\n",
       "</style>\n",
       "<table border=\"1\" class=\"dataframe\">\n",
       "  <thead>\n",
       "    <tr style=\"text-align: right;\">\n",
       "      <th></th>\n",
       "      <th>seismic</th>\n",
       "      <th>seismoacoustic</th>\n",
       "      <th>shift</th>\n",
       "      <th>genergy</th>\n",
       "      <th>gpuls</th>\n",
       "      <th>gdenergy</th>\n",
       "      <th>gdpuls</th>\n",
       "      <th>hazard</th>\n",
       "      <th>nbumps</th>\n",
       "      <th>nbumps2</th>\n",
       "      <th>nbumps3</th>\n",
       "      <th>nbumps4</th>\n",
       "      <th>nbumps5</th>\n",
       "      <th>energy</th>\n",
       "      <th>maxenergy</th>\n",
       "      <th>class</th>\n",
       "    </tr>\n",
       "  </thead>\n",
       "  <tbody>\n",
       "    <tr>\n",
       "      <th>seismic</th>\n",
       "      <td>1.000000</td>\n",
       "      <td>0.058114</td>\n",
       "      <td>-0.268667</td>\n",
       "      <td>0.016017</td>\n",
       "      <td>0.243636</td>\n",
       "      <td>0.142308</td>\n",
       "      <td>0.156397</td>\n",
       "      <td>0.097272</td>\n",
       "      <td>0.127171</td>\n",
       "      <td>0.066301</td>\n",
       "      <td>0.068249</td>\n",
       "      <td>0.241264</td>\n",
       "      <td>0.021627</td>\n",
       "      <td>0.151417</td>\n",
       "      <td>0.136878</td>\n",
       "      <td>0.090574</td>\n",
       "    </tr>\n",
       "    <tr>\n",
       "      <th>seismoacoustic</th>\n",
       "      <td>0.058114</td>\n",
       "      <td>1.000000</td>\n",
       "      <td>-0.081082</td>\n",
       "      <td>0.008681</td>\n",
       "      <td>0.090666</td>\n",
       "      <td>0.184654</td>\n",
       "      <td>0.207776</td>\n",
       "      <td>0.460687</td>\n",
       "      <td>0.017083</td>\n",
       "      <td>0.023355</td>\n",
       "      <td>0.005500</td>\n",
       "      <td>0.001981</td>\n",
       "      <td>0.012021</td>\n",
       "      <td>-0.008072</td>\n",
       "      <td>-0.008152</td>\n",
       "      <td>0.008251</td>\n",
       "    </tr>\n",
       "    <tr>\n",
       "      <th>shift</th>\n",
       "      <td>-0.268667</td>\n",
       "      <td>-0.081082</td>\n",
       "      <td>1.000000</td>\n",
       "      <td>-0.216942</td>\n",
       "      <td>-0.435734</td>\n",
       "      <td>-0.097382</td>\n",
       "      <td>-0.108915</td>\n",
       "      <td>-0.054115</td>\n",
       "      <td>-0.311292</td>\n",
       "      <td>-0.278907</td>\n",
       "      <td>-0.213955</td>\n",
       "      <td>-0.151681</td>\n",
       "      <td>-0.003293</td>\n",
       "      <td>-0.106842</td>\n",
       "      <td>-0.087754</td>\n",
       "      <td>-0.142079</td>\n",
       "    </tr>\n",
       "    <tr>\n",
       "      <th>genergy</th>\n",
       "      <td>0.016017</td>\n",
       "      <td>0.008681</td>\n",
       "      <td>-0.216942</td>\n",
       "      <td>1.000000</td>\n",
       "      <td>0.748020</td>\n",
       "      <td>0.048514</td>\n",
       "      <td>0.071554</td>\n",
       "      <td>-0.035594</td>\n",
       "      <td>0.220720</td>\n",
       "      <td>0.143587</td>\n",
       "      <td>0.191753</td>\n",
       "      <td>0.150589</td>\n",
       "      <td>-0.009863</td>\n",
       "      <td>0.080828</td>\n",
       "      <td>0.064405</td>\n",
       "      <td>0.128160</td>\n",
       "    </tr>\n",
       "    <tr>\n",
       "      <th>gpuls</th>\n",
       "      <td>0.243636</td>\n",
       "      <td>0.090666</td>\n",
       "      <td>-0.435734</td>\n",
       "      <td>0.748020</td>\n",
       "      <td>1.000000</td>\n",
       "      <td>0.293036</td>\n",
       "      <td>0.382906</td>\n",
       "      <td>0.107733</td>\n",
       "      <td>0.300923</td>\n",
       "      <td>0.207390</td>\n",
       "      <td>0.225695</td>\n",
       "      <td>0.256547</td>\n",
       "      <td>0.049450</td>\n",
       "      <td>0.187350</td>\n",
       "      <td>0.164263</td>\n",
       "      <td>0.201042</td>\n",
       "    </tr>\n",
       "    <tr>\n",
       "      <th>gdenergy</th>\n",
       "      <td>0.142308</td>\n",
       "      <td>0.184654</td>\n",
       "      <td>-0.097382</td>\n",
       "      <td>0.048514</td>\n",
       "      <td>0.293036</td>\n",
       "      <td>1.000000</td>\n",
       "      <td>0.811944</td>\n",
       "      <td>0.317974</td>\n",
       "      <td>0.030039</td>\n",
       "      <td>0.041246</td>\n",
       "      <td>-0.012189</td>\n",
       "      <td>0.036916</td>\n",
       "      <td>0.123229</td>\n",
       "      <td>0.105971</td>\n",
       "      <td>0.108572</td>\n",
       "      <td>0.002957</td>\n",
       "    </tr>\n",
       "    <tr>\n",
       "      <th>gdpuls</th>\n",
       "      <td>0.156397</td>\n",
       "      <td>0.207776</td>\n",
       "      <td>-0.108915</td>\n",
       "      <td>0.071554</td>\n",
       "      <td>0.382906</td>\n",
       "      <td>0.811944</td>\n",
       "      <td>1.000000</td>\n",
       "      <td>0.310119</td>\n",
       "      <td>0.057996</td>\n",
       "      <td>0.051106</td>\n",
       "      <td>0.014735</td>\n",
       "      <td>0.066195</td>\n",
       "      <td>0.141044</td>\n",
       "      <td>0.143277</td>\n",
       "      <td>0.143646</td>\n",
       "      <td>0.021788</td>\n",
       "    </tr>\n",
       "    <tr>\n",
       "      <th>hazard</th>\n",
       "      <td>0.097272</td>\n",
       "      <td>0.460687</td>\n",
       "      <td>-0.054115</td>\n",
       "      <td>-0.035594</td>\n",
       "      <td>0.107733</td>\n",
       "      <td>0.317974</td>\n",
       "      <td>0.310119</td>\n",
       "      <td>1.000000</td>\n",
       "      <td>-0.051151</td>\n",
       "      <td>-0.014489</td>\n",
       "      <td>-0.070216</td>\n",
       "      <td>-0.017897</td>\n",
       "      <td>0.012241</td>\n",
       "      <td>-0.023127</td>\n",
       "      <td>-0.016938</td>\n",
       "      <td>-0.017744</td>\n",
       "    </tr>\n",
       "    <tr>\n",
       "      <th>nbumps</th>\n",
       "      <td>0.127171</td>\n",
       "      <td>0.017083</td>\n",
       "      <td>-0.311292</td>\n",
       "      <td>0.220720</td>\n",
       "      <td>0.300923</td>\n",
       "      <td>0.030039</td>\n",
       "      <td>0.057996</td>\n",
       "      <td>-0.051151</td>\n",
       "      <td>1.000000</td>\n",
       "      <td>0.804978</td>\n",
       "      <td>0.803364</td>\n",
       "      <td>0.395052</td>\n",
       "      <td>0.069613</td>\n",
       "      <td>0.347852</td>\n",
       "      <td>0.273714</td>\n",
       "      <td>0.248144</td>\n",
       "    </tr>\n",
       "    <tr>\n",
       "      <th>nbumps2</th>\n",
       "      <td>0.066301</td>\n",
       "      <td>0.023355</td>\n",
       "      <td>-0.278907</td>\n",
       "      <td>0.143587</td>\n",
       "      <td>0.207390</td>\n",
       "      <td>0.041246</td>\n",
       "      <td>0.051106</td>\n",
       "      <td>-0.014489</td>\n",
       "      <td>0.804978</td>\n",
       "      <td>1.000000</td>\n",
       "      <td>0.350724</td>\n",
       "      <td>0.161296</td>\n",
       "      <td>-0.005251</td>\n",
       "      <td>0.124650</td>\n",
       "      <td>0.085032</td>\n",
       "      <td>0.201381</td>\n",
       "    </tr>\n",
       "    <tr>\n",
       "      <th>nbumps3</th>\n",
       "      <td>0.068249</td>\n",
       "      <td>0.005500</td>\n",
       "      <td>-0.213955</td>\n",
       "      <td>0.191753</td>\n",
       "      <td>0.225695</td>\n",
       "      <td>-0.012189</td>\n",
       "      <td>0.014735</td>\n",
       "      <td>-0.070216</td>\n",
       "      <td>0.803364</td>\n",
       "      <td>0.350724</td>\n",
       "      <td>1.000000</td>\n",
       "      <td>0.175301</td>\n",
       "      <td>0.046498</td>\n",
       "      <td>0.244083</td>\n",
       "      <td>0.176480</td>\n",
       "      <td>0.205327</td>\n",
       "    </tr>\n",
       "    <tr>\n",
       "      <th>nbumps4</th>\n",
       "      <td>0.241264</td>\n",
       "      <td>0.001981</td>\n",
       "      <td>-0.151681</td>\n",
       "      <td>0.150589</td>\n",
       "      <td>0.256547</td>\n",
       "      <td>0.036916</td>\n",
       "      <td>0.066195</td>\n",
       "      <td>-0.017897</td>\n",
       "      <td>0.395052</td>\n",
       "      <td>0.161296</td>\n",
       "      <td>0.175301</td>\n",
       "      <td>1.000000</td>\n",
       "      <td>-0.016580</td>\n",
       "      <td>0.489828</td>\n",
       "      <td>0.416483</td>\n",
       "      <td>0.075458</td>\n",
       "    </tr>\n",
       "    <tr>\n",
       "      <th>nbumps5</th>\n",
       "      <td>0.021627</td>\n",
       "      <td>0.012021</td>\n",
       "      <td>-0.003293</td>\n",
       "      <td>-0.009863</td>\n",
       "      <td>0.049450</td>\n",
       "      <td>0.123229</td>\n",
       "      <td>0.141044</td>\n",
       "      <td>0.012241</td>\n",
       "      <td>0.069613</td>\n",
       "      <td>-0.005251</td>\n",
       "      <td>0.046498</td>\n",
       "      <td>-0.016580</td>\n",
       "      <td>1.000000</td>\n",
       "      <td>0.773605</td>\n",
       "      <td>0.808406</td>\n",
       "      <td>0.004834</td>\n",
       "    </tr>\n",
       "    <tr>\n",
       "      <th>energy</th>\n",
       "      <td>0.151417</td>\n",
       "      <td>-0.008072</td>\n",
       "      <td>-0.106842</td>\n",
       "      <td>0.080828</td>\n",
       "      <td>0.187350</td>\n",
       "      <td>0.105971</td>\n",
       "      <td>0.143277</td>\n",
       "      <td>-0.023127</td>\n",
       "      <td>0.347852</td>\n",
       "      <td>0.124650</td>\n",
       "      <td>0.244083</td>\n",
       "      <td>0.489828</td>\n",
       "      <td>0.773605</td>\n",
       "      <td>1.000000</td>\n",
       "      <td>0.989547</td>\n",
       "      <td>0.058431</td>\n",
       "    </tr>\n",
       "    <tr>\n",
       "      <th>maxenergy</th>\n",
       "      <td>0.136878</td>\n",
       "      <td>-0.008152</td>\n",
       "      <td>-0.087754</td>\n",
       "      <td>0.064405</td>\n",
       "      <td>0.164263</td>\n",
       "      <td>0.108572</td>\n",
       "      <td>0.143646</td>\n",
       "      <td>-0.016938</td>\n",
       "      <td>0.273714</td>\n",
       "      <td>0.085032</td>\n",
       "      <td>0.176480</td>\n",
       "      <td>0.416483</td>\n",
       "      <td>0.808406</td>\n",
       "      <td>0.989547</td>\n",
       "      <td>1.000000</td>\n",
       "      <td>0.040243</td>\n",
       "    </tr>\n",
       "    <tr>\n",
       "      <th>class</th>\n",
       "      <td>0.090574</td>\n",
       "      <td>0.008251</td>\n",
       "      <td>-0.142079</td>\n",
       "      <td>0.128160</td>\n",
       "      <td>0.201042</td>\n",
       "      <td>0.002957</td>\n",
       "      <td>0.021788</td>\n",
       "      <td>-0.017744</td>\n",
       "      <td>0.248144</td>\n",
       "      <td>0.201381</td>\n",
       "      <td>0.205327</td>\n",
       "      <td>0.075458</td>\n",
       "      <td>0.004834</td>\n",
       "      <td>0.058431</td>\n",
       "      <td>0.040243</td>\n",
       "      <td>1.000000</td>\n",
       "    </tr>\n",
       "  </tbody>\n",
       "</table>\n",
       "</div>"
      ],
      "text/plain": [
       "                 seismic  seismoacoustic     shift   genergy     gpuls  \\\n",
       "seismic         1.000000        0.058114 -0.268667  0.016017  0.243636   \n",
       "seismoacoustic  0.058114        1.000000 -0.081082  0.008681  0.090666   \n",
       "shift          -0.268667       -0.081082  1.000000 -0.216942 -0.435734   \n",
       "genergy         0.016017        0.008681 -0.216942  1.000000  0.748020   \n",
       "gpuls           0.243636        0.090666 -0.435734  0.748020  1.000000   \n",
       "gdenergy        0.142308        0.184654 -0.097382  0.048514  0.293036   \n",
       "gdpuls          0.156397        0.207776 -0.108915  0.071554  0.382906   \n",
       "hazard          0.097272        0.460687 -0.054115 -0.035594  0.107733   \n",
       "nbumps          0.127171        0.017083 -0.311292  0.220720  0.300923   \n",
       "nbumps2         0.066301        0.023355 -0.278907  0.143587  0.207390   \n",
       "nbumps3         0.068249        0.005500 -0.213955  0.191753  0.225695   \n",
       "nbumps4         0.241264        0.001981 -0.151681  0.150589  0.256547   \n",
       "nbumps5         0.021627        0.012021 -0.003293 -0.009863  0.049450   \n",
       "energy          0.151417       -0.008072 -0.106842  0.080828  0.187350   \n",
       "maxenergy       0.136878       -0.008152 -0.087754  0.064405  0.164263   \n",
       "class           0.090574        0.008251 -0.142079  0.128160  0.201042   \n",
       "\n",
       "                gdenergy    gdpuls    hazard    nbumps   nbumps2   nbumps3  \\\n",
       "seismic         0.142308  0.156397  0.097272  0.127171  0.066301  0.068249   \n",
       "seismoacoustic  0.184654  0.207776  0.460687  0.017083  0.023355  0.005500   \n",
       "shift          -0.097382 -0.108915 -0.054115 -0.311292 -0.278907 -0.213955   \n",
       "genergy         0.048514  0.071554 -0.035594  0.220720  0.143587  0.191753   \n",
       "gpuls           0.293036  0.382906  0.107733  0.300923  0.207390  0.225695   \n",
       "gdenergy        1.000000  0.811944  0.317974  0.030039  0.041246 -0.012189   \n",
       "gdpuls          0.811944  1.000000  0.310119  0.057996  0.051106  0.014735   \n",
       "hazard          0.317974  0.310119  1.000000 -0.051151 -0.014489 -0.070216   \n",
       "nbumps          0.030039  0.057996 -0.051151  1.000000  0.804978  0.803364   \n",
       "nbumps2         0.041246  0.051106 -0.014489  0.804978  1.000000  0.350724   \n",
       "nbumps3        -0.012189  0.014735 -0.070216  0.803364  0.350724  1.000000   \n",
       "nbumps4         0.036916  0.066195 -0.017897  0.395052  0.161296  0.175301   \n",
       "nbumps5         0.123229  0.141044  0.012241  0.069613 -0.005251  0.046498   \n",
       "energy          0.105971  0.143277 -0.023127  0.347852  0.124650  0.244083   \n",
       "maxenergy       0.108572  0.143646 -0.016938  0.273714  0.085032  0.176480   \n",
       "class           0.002957  0.021788 -0.017744  0.248144  0.201381  0.205327   \n",
       "\n",
       "                 nbumps4   nbumps5    energy  maxenergy     class  \n",
       "seismic         0.241264  0.021627  0.151417   0.136878  0.090574  \n",
       "seismoacoustic  0.001981  0.012021 -0.008072  -0.008152  0.008251  \n",
       "shift          -0.151681 -0.003293 -0.106842  -0.087754 -0.142079  \n",
       "genergy         0.150589 -0.009863  0.080828   0.064405  0.128160  \n",
       "gpuls           0.256547  0.049450  0.187350   0.164263  0.201042  \n",
       "gdenergy        0.036916  0.123229  0.105971   0.108572  0.002957  \n",
       "gdpuls          0.066195  0.141044  0.143277   0.143646  0.021788  \n",
       "hazard         -0.017897  0.012241 -0.023127  -0.016938 -0.017744  \n",
       "nbumps          0.395052  0.069613  0.347852   0.273714  0.248144  \n",
       "nbumps2         0.161296 -0.005251  0.124650   0.085032  0.201381  \n",
       "nbumps3         0.175301  0.046498  0.244083   0.176480  0.205327  \n",
       "nbumps4         1.000000 -0.016580  0.489828   0.416483  0.075458  \n",
       "nbumps5        -0.016580  1.000000  0.773605   0.808406  0.004834  \n",
       "energy          0.489828  0.773605  1.000000   0.989547  0.058431  \n",
       "maxenergy       0.416483  0.808406  0.989547   1.000000  0.040243  \n",
       "class           0.075458  0.004834  0.058431   0.040243  1.000000  "
      ]
     },
     "execution_count": 36,
     "metadata": {},
     "output_type": "execute_result"
    }
   ],
   "source": [
    "df.corr() #vedo correlazione senza valori inutili"
   ]
  },
  {
   "cell_type": "code",
   "execution_count": 37,
   "id": "dc10c469",
   "metadata": {},
   "outputs": [
    {
     "data": {
      "text/plain": [
       "(array([ 0.5,  1.5,  2.5,  3.5,  4.5,  5.5,  6.5,  7.5,  8.5,  9.5, 10.5,\n",
       "        11.5, 12.5, 13.5, 14.5, 15.5]),\n",
       " [Text(0, 0.5, 'seismic'),\n",
       "  Text(0, 1.5, 'seismoacoustic'),\n",
       "  Text(0, 2.5, 'shift'),\n",
       "  Text(0, 3.5, 'genergy'),\n",
       "  Text(0, 4.5, 'gpuls'),\n",
       "  Text(0, 5.5, 'gdenergy'),\n",
       "  Text(0, 6.5, 'gdpuls'),\n",
       "  Text(0, 7.5, 'hazard'),\n",
       "  Text(0, 8.5, 'nbumps'),\n",
       "  Text(0, 9.5, 'nbumps2'),\n",
       "  Text(0, 10.5, 'nbumps3'),\n",
       "  Text(0, 11.5, 'nbumps4'),\n",
       "  Text(0, 12.5, 'nbumps5'),\n",
       "  Text(0, 13.5, 'energy'),\n",
       "  Text(0, 14.5, 'maxenergy'),\n",
       "  Text(0, 15.5, 'class')])"
      ]
     },
     "execution_count": 37,
     "metadata": {},
     "output_type": "execute_result"
    },
    {
     "data": {
      "image/png": "[encoded data removed]",
      "text/plain": [
       "<Figure size 720x720 with 2 Axes>"
      ]
     },
     "metadata": {
      "needs_background": "light"
     },
     "output_type": "display_data"
    }
   ],
   "source": [
    "dfcorrelazione = df.corr()\n",
    "plt.figure(figsize=[10, 10])\n",
    "sns.heatmap(data=dfcorrelazione, vmin=-1, vmax=1, cmap='gist_earth_r', annot=True, square=True, linewidths=1)\n",
    "plt.xticks(rotation=90)\n",
    "plt.yticks(rotation=0)"
   ]
  },
  {
   "cell_type": "code",
   "execution_count": 38,
   "id": "42721964",
   "metadata": {},
   "outputs": [
    {
     "data": {
      "text/plain": [
       "0.09057373364376718"
      ]
     },
     "execution_count": 38,
     "metadata": {},
     "output_type": "execute_result"
    }
   ],
   "source": [
    "df['class'].corr(df['seismic'])"
   ]
  },
  {
   "cell_type": "code",
   "execution_count": 39,
   "id": "0f5017e2",
   "metadata": {},
   "outputs": [
    {
     "data": {
      "text/plain": [
       "0.008250817280129176"
      ]
     },
     "execution_count": 39,
     "metadata": {},
     "output_type": "execute_result"
    }
   ],
   "source": [
    "df['class'].corr(df['seismoacoustic'])"
   ]
  },
  {
   "cell_type": "code",
   "execution_count": 40,
   "id": "25d51e79",
   "metadata": {},
   "outputs": [
    {
     "data": {
      "text/plain": [
       "-0.1420794671408067"
      ]
     },
     "execution_count": 40,
     "metadata": {},
     "output_type": "execute_result"
    }
   ],
   "source": [
    "df['class'].corr(df['shift'])"
   ]
  },
  {
   "cell_type": "code",
   "execution_count": 41,
   "id": "f18c3f87",
   "metadata": {},
   "outputs": [
    {
     "data": {
      "text/plain": [
       "0.12815955900330117"
      ]
     },
     "execution_count": 41,
     "metadata": {},
     "output_type": "execute_result"
    }
   ],
   "source": [
    "df['class'].corr(df['genergy'])"
   ]
  },
  {
   "cell_type": "code",
   "execution_count": 42,
   "id": "d0b8eb12",
   "metadata": {},
   "outputs": [
    {
     "data": {
      "text/plain": [
       "0.2010417004640276"
      ]
     },
     "execution_count": 42,
     "metadata": {},
     "output_type": "execute_result"
    }
   ],
   "source": [
    "df['class'].corr(df['gpuls'])"
   ]
  },
  {
   "cell_type": "code",
   "execution_count": 43,
   "id": "3af7d461",
   "metadata": {},
   "outputs": [
    {
     "data": {
      "text/plain": [
       "0.0029570195860891364"
      ]
     },
     "execution_count": 43,
     "metadata": {},
     "output_type": "execute_result"
    }
   ],
   "source": [
    "df['class'].corr(df['gdenergy'])"
   ]
  },
  {
   "cell_type": "code",
   "execution_count": 44,
   "id": "e021e0cf",
   "metadata": {},
   "outputs": [
    {
     "data": {
      "text/plain": [
       "0.021788111543805055"
      ]
     },
     "execution_count": 44,
     "metadata": {},
     "output_type": "execute_result"
    }
   ],
   "source": [
    "df['class'].corr(df['gdpuls'])"
   ]
  },
  {
   "cell_type": "code",
   "execution_count": 45,
   "id": "78696ef6",
   "metadata": {},
   "outputs": [
    {
     "data": {
      "text/plain": [
       "-0.01774377796242619"
      ]
     },
     "execution_count": 45,
     "metadata": {},
     "output_type": "execute_result"
    }
   ],
   "source": [
    "df['class'].corr(df['hazard'])"
   ]
  },
  {
   "cell_type": "code",
   "execution_count": 46,
   "id": "e79d55f7",
   "metadata": {},
   "outputs": [
    {
     "data": {
      "text/plain": [
       "0.24814357064484222"
      ]
     },
     "execution_count": 46,
     "metadata": {},
     "output_type": "execute_result"
    }
   ],
   "source": [
    "df['class'].corr(df['nbumps'])"
   ]
  },
  {
   "cell_type": "code",
   "execution_count": 47,
   "id": "7fe207b2",
   "metadata": {},
   "outputs": [
    {
     "data": {
      "text/plain": [
       "0.20138096880179931"
      ]
     },
     "execution_count": 47,
     "metadata": {},
     "output_type": "execute_result"
    }
   ],
   "source": [
    "df['class'].corr(df['nbumps2'])"
   ]
  },
  {
   "cell_type": "code",
   "execution_count": 48,
   "id": "9e0d8f66",
   "metadata": {},
   "outputs": [
    {
     "data": {
      "text/plain": [
       "0.20532703909347647"
      ]
     },
     "execution_count": 48,
     "metadata": {},
     "output_type": "execute_result"
    }
   ],
   "source": [
    "df['class'].corr(df['nbumps3'])"
   ]
  },
  {
   "cell_type": "code",
   "execution_count": 49,
   "id": "c5d1980e",
   "metadata": {},
   "outputs": [
    {
     "data": {
      "text/plain": [
       "0.07545800823481602"
      ]
     },
     "execution_count": 49,
     "metadata": {},
     "output_type": "execute_result"
    }
   ],
   "source": [
    "df['class'].corr(df['nbumps4'])"
   ]
  },
  {
   "cell_type": "code",
   "execution_count": 50,
   "id": "b3185c45",
   "metadata": {},
   "outputs": [
    {
     "data": {
      "text/plain": [
       "0.004833700091654036"
      ]
     },
     "execution_count": 50,
     "metadata": {},
     "output_type": "execute_result"
    }
   ],
   "source": [
    "df['class'].corr(df['nbumps5'])"
   ]
  },
  {
   "cell_type": "code",
   "execution_count": 51,
   "id": "a1149b08",
   "metadata": {},
   "outputs": [
    {
     "data": {
      "text/plain": [
       "0.05843085986597412"
      ]
     },
     "execution_count": 51,
     "metadata": {},
     "output_type": "execute_result"
    }
   ],
   "source": [
    "df['class'].corr(df['energy'])"
   ]
  },
  {
   "cell_type": "code",
   "execution_count": 52,
   "id": "8d873176",
   "metadata": {},
   "outputs": [
    {
     "data": {
      "text/plain": [
       "0.040243497797985084"
      ]
     },
     "execution_count": 52,
     "metadata": {},
     "output_type": "execute_result"
    }
   ],
   "source": [
    "df['class'].corr(df['maxenergy'])"
   ]
  },
  {
   "cell_type": "markdown",
   "id": "b12b35fe",
   "metadata": {},
   "source": [
    "### trasformazioni logaritmiche"
   ]
  },
  {
   "cell_type": "code",
   "execution_count": null,
   "id": "91b9fe98",
   "metadata": {},
   "outputs": [],
   "source": []
  },
  {
   "cell_type": "code",
   "execution_count": null,
   "id": "b08e1c05",
   "metadata": {},
   "outputs": [],
   "source": []
  },
  {
   "cell_type": "code",
   "execution_count": null,
   "id": "939584ab",
   "metadata": {},
   "outputs": [],
   "source": []
  }
 ],
 "metadata": {
  "kernelspec": {
   "display_name": "Python 3",
   "language": "python",
   "name": "python3"
  },
  "language_info": {
   "codemirror_mode": {
    "name": "ipython",
    "version": 3
   },
   "file_extension": ".py",
   "mimetype": "text/x-python",
   "name": "python",
   "nbconvert_exporter": "python",
   "pygments_lexer": "ipython3",
   "version": "3.8.8"
  }
 },
 "nbformat": 4,
 "nbformat_minor": 5
}
