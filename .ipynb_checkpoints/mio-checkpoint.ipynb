{
 "cells": [
  {
   "cell_type": "code",
   "execution_count": 1,
   "id": "a9fda10d",
   "metadata": {},
   "outputs": [],
   "source": [
    "#Attribute information [Source]:\n",
    "#1. seismic: the result of shift seismic hazard assessment in the mine working obtained by the seismic method (a — lack of hazard, b — low hazard, c — high hazard, d — danger state);\n",
    "#2. seismoacoustic: the result of shift seismic hazard assessment in the mine working obtained by the seismoacoustic method;\n",
    "#3. shift: information about the type of a shift (W — coal-getting, N -preparation shift);\n",
    "#4. genergy: seismic energy recorded within the previous shift by the most active geophone (GMax) out of\n",
    "#geophones monitoring the longwall;\n",
    "#5. gpuls: a number of pulses recorded within the previous shift by GMax;\n",
    "#6. gdenergy: a deviation of energy recorded within the previous shift by GMax from average energy recorded during eight previous shifts;\n",
    "#7. gdpuls: a deviation of a number of pulses recorded within the previous shift by GMax from the average number of pulses recorded during eight previous shifts;\n",
    "#8. ghazard: the result of shift seismic hazard assessment in the mine working obtained by the seismoacoustic method based on registration coming to from GMax only;\n",
    "#9. nbumps: the number of seismic bumps recorded within the previous shift;\n",
    "#10. nbumps2: the number of seismic bumps (in energy range [1⁰²,1⁰³)) registered within the previous shift;\n",
    "#11. nbumps3: the number of seismic bumps (in energy range [1⁰³,1⁰⁴)) registered within the previous shift;\n",
    "#12. nbumps4: the number of seismic bumps (in energy range [1⁰⁴,1⁰⁵)) registered within the previous shift;\n",
    "#13. nbumps5: the number of seismic bumps (in energy range [1⁰⁵,1⁰⁶)) registered within the last shift;\n",
    "#14. nbumps6: the number of seismic bumps (in energy range [1⁰⁶,1⁰⁷)) registered within the previous shift;\n",
    "#15. nbumps7: the number of seismic bumps (in energy range [1⁰⁷,1⁰⁸)) registered within the previous shift;\n",
    "#16. nbumps89: the number of seismic bumps (in energy range [1⁰⁸,1⁰¹⁰)) registered within the previous shift;\n",
    "#17. energy: the total energy of seismic bumps registered within the previous shift;\n",
    "#18. maxenergy: the maximum energy of the seismic bumps registered within the previous shift;\n",
    "#19. class: the decision attribute — ‘1’ means that high energy seismic bump occurred in the next shift (‘hazardous state’), ‘0’ means that no high energy seismic bumps occurred in the next shift (‘non-hazardous state’).#"
   ]
  },
  {
   "cell_type": "code",
   "execution_count": 2,
   "id": "ef963a4c",
   "metadata": {},
   "outputs": [
    {
     "name": "stdout",
     "output_type": "stream",
     "text": [
      "Requirement already satisfied: tabulate in c:\\users\\aless\\anaconda3\\lib\\site-packages (0.8.9)\n"
     ]
    }
   ],
   "source": [
    "!pip install tabulate\n",
    "\n",
    "%matplotlib inline\n",
    "import math\n",
    "import numpy as np\n",
    "import pandas as pd\n",
    "import scipy.stats as stats\n",
    "import matplotlib.pyplot as plt\n",
    "import seaborn as sns\n",
    "\n",
    "from tabulate import tabulate\n",
    "from collections import defaultdict\n",
    "from scipy.stats.stats import pearsonr"
   ]
  },
  {
   "cell_type": "code",
   "execution_count": 3,
   "id": "f8758db8",
   "metadata": {},
   "outputs": [
    {
     "data": {
      "text/plain": [
       "seismic           object\n",
       "seismoacoustic    object\n",
       "shift             object\n",
       "genergy            int64\n",
       "gpuls              int64\n",
       "gdenergy           int64\n",
       "gdpuls             int64\n",
       "hazard            object\n",
       "nbumps             int64\n",
       "nbumps2            int64\n",
       "nbumps3            int64\n",
       "nbumps4            int64\n",
       "nbumps5            int64\n",
       "nbumps6            int64\n",
       "nbumps7            int64\n",
       "nbumps89           int64\n",
       "energy             int64\n",
       "maxenergy          int64\n",
       "class              int64\n",
       "dtype: object"
      ]
     },
     "execution_count": 3,
     "metadata": {},
     "output_type": "execute_result"
    }
   ],
   "source": [
    "df = pd.read_csv('seismic-bumps.csv')\n",
    "df.dtypes"
   ]
  },
  {
   "cell_type": "code",
   "execution_count": 4,
   "id": "a7418172",
   "metadata": {},
   "outputs": [
    {
     "data": {
      "text/plain": [
       "seismic           string\n",
       "seismoacoustic    string\n",
       "shift             string\n",
       "genergy            Int64\n",
       "gpuls              Int64\n",
       "gdenergy           Int64\n",
       "gdpuls             Int64\n",
       "hazard            string\n",
       "nbumps             Int64\n",
       "nbumps2            Int64\n",
       "nbumps3            Int64\n",
       "nbumps4            Int64\n",
       "nbumps5            Int64\n",
       "nbumps6            Int64\n",
       "nbumps7            Int64\n",
       "nbumps89           Int64\n",
       "energy             Int64\n",
       "maxenergy          Int64\n",
       "class              Int64\n",
       "dtype: object"
      ]
     },
     "execution_count": 4,
     "metadata": {},
     "output_type": "execute_result"
    }
   ],
   "source": [
    "df = df.convert_dtypes()\n",
    "df.dtypes"
   ]
  },
  {
   "cell_type": "code",
   "execution_count": 5,
   "id": "c438fcdc",
   "metadata": {},
   "outputs": [
    {
     "data": {
      "text/html": [
       "<div>\n",
       "<style scoped>\n",
       "    .dataframe tbody tr th:only-of-type {\n",
       "        vertical-align: middle;\n",
       "    }\n",
       "\n",
       "    .dataframe tbody tr th {\n",
       "        vertical-align: top;\n",
       "    }\n",
       "\n",
       "    .dataframe thead th {\n",
       "        text-align: right;\n",
       "    }\n",
       "</style>\n",
       "<table border=\"1\" class=\"dataframe\">\n",
       "  <thead>\n",
       "    <tr style=\"text-align: right;\">\n",
       "      <th></th>\n",
       "      <th>seismic</th>\n",
       "      <th>seismoacoustic</th>\n",
       "      <th>shift</th>\n",
       "      <th>genergy</th>\n",
       "      <th>gpuls</th>\n",
       "      <th>gdenergy</th>\n",
       "      <th>gdpuls</th>\n",
       "      <th>hazard</th>\n",
       "      <th>nbumps</th>\n",
       "      <th>nbumps2</th>\n",
       "      <th>nbumps3</th>\n",
       "      <th>nbumps4</th>\n",
       "      <th>nbumps5</th>\n",
       "      <th>nbumps6</th>\n",
       "      <th>nbumps7</th>\n",
       "      <th>nbumps89</th>\n",
       "      <th>energy</th>\n",
       "      <th>maxenergy</th>\n",
       "      <th>class</th>\n",
       "    </tr>\n",
       "  </thead>\n",
       "  <tbody>\n",
       "    <tr>\n",
       "      <th>0</th>\n",
       "      <td>a</td>\n",
       "      <td>a</td>\n",
       "      <td>N</td>\n",
       "      <td>15180</td>\n",
       "      <td>48</td>\n",
       "      <td>-72</td>\n",
       "      <td>-72</td>\n",
       "      <td>a</td>\n",
       "      <td>0</td>\n",
       "      <td>0</td>\n",
       "      <td>0</td>\n",
       "      <td>0</td>\n",
       "      <td>0</td>\n",
       "      <td>0</td>\n",
       "      <td>0</td>\n",
       "      <td>0</td>\n",
       "      <td>0</td>\n",
       "      <td>0</td>\n",
       "      <td>0</td>\n",
       "    </tr>\n",
       "    <tr>\n",
       "      <th>1</th>\n",
       "      <td>a</td>\n",
       "      <td>a</td>\n",
       "      <td>N</td>\n",
       "      <td>14720</td>\n",
       "      <td>33</td>\n",
       "      <td>-70</td>\n",
       "      <td>-79</td>\n",
       "      <td>a</td>\n",
       "      <td>1</td>\n",
       "      <td>0</td>\n",
       "      <td>1</td>\n",
       "      <td>0</td>\n",
       "      <td>0</td>\n",
       "      <td>0</td>\n",
       "      <td>0</td>\n",
       "      <td>0</td>\n",
       "      <td>2000</td>\n",
       "      <td>2000</td>\n",
       "      <td>0</td>\n",
       "    </tr>\n",
       "    <tr>\n",
       "      <th>2</th>\n",
       "      <td>a</td>\n",
       "      <td>a</td>\n",
       "      <td>N</td>\n",
       "      <td>8050</td>\n",
       "      <td>30</td>\n",
       "      <td>-81</td>\n",
       "      <td>-78</td>\n",
       "      <td>a</td>\n",
       "      <td>0</td>\n",
       "      <td>0</td>\n",
       "      <td>0</td>\n",
       "      <td>0</td>\n",
       "      <td>0</td>\n",
       "      <td>0</td>\n",
       "      <td>0</td>\n",
       "      <td>0</td>\n",
       "      <td>0</td>\n",
       "      <td>0</td>\n",
       "      <td>0</td>\n",
       "    </tr>\n",
       "    <tr>\n",
       "      <th>3</th>\n",
       "      <td>a</td>\n",
       "      <td>a</td>\n",
       "      <td>N</td>\n",
       "      <td>28820</td>\n",
       "      <td>171</td>\n",
       "      <td>-23</td>\n",
       "      <td>40</td>\n",
       "      <td>a</td>\n",
       "      <td>1</td>\n",
       "      <td>0</td>\n",
       "      <td>1</td>\n",
       "      <td>0</td>\n",
       "      <td>0</td>\n",
       "      <td>0</td>\n",
       "      <td>0</td>\n",
       "      <td>0</td>\n",
       "      <td>3000</td>\n",
       "      <td>3000</td>\n",
       "      <td>0</td>\n",
       "    </tr>\n",
       "    <tr>\n",
       "      <th>4</th>\n",
       "      <td>a</td>\n",
       "      <td>a</td>\n",
       "      <td>N</td>\n",
       "      <td>12640</td>\n",
       "      <td>57</td>\n",
       "      <td>-63</td>\n",
       "      <td>-52</td>\n",
       "      <td>a</td>\n",
       "      <td>0</td>\n",
       "      <td>0</td>\n",
       "      <td>0</td>\n",
       "      <td>0</td>\n",
       "      <td>0</td>\n",
       "      <td>0</td>\n",
       "      <td>0</td>\n",
       "      <td>0</td>\n",
       "      <td>0</td>\n",
       "      <td>0</td>\n",
       "      <td>0</td>\n",
       "    </tr>\n",
       "  </tbody>\n",
       "</table>\n",
       "</div>"
      ],
      "text/plain": [
       "  seismic seismoacoustic shift  genergy  gpuls  gdenergy  gdpuls hazard  \\\n",
       "0       a              a     N    15180     48       -72     -72      a   \n",
       "1       a              a     N    14720     33       -70     -79      a   \n",
       "2       a              a     N     8050     30       -81     -78      a   \n",
       "3       a              a     N    28820    171       -23      40      a   \n",
       "4       a              a     N    12640     57       -63     -52      a   \n",
       "\n",
       "   nbumps  nbumps2  nbumps3  nbumps4  nbumps5  nbumps6  nbumps7  nbumps89  \\\n",
       "0       0        0        0        0        0        0        0         0   \n",
       "1       1        0        1        0        0        0        0         0   \n",
       "2       0        0        0        0        0        0        0         0   \n",
       "3       1        0        1        0        0        0        0         0   \n",
       "4       0        0        0        0        0        0        0         0   \n",
       "\n",
       "   energy  maxenergy  class  \n",
       "0       0          0      0  \n",
       "1    2000       2000      0  \n",
       "2       0          0      0  \n",
       "3    3000       3000      0  \n",
       "4       0          0      0  "
      ]
     },
     "execution_count": 5,
     "metadata": {},
     "output_type": "execute_result"
    }
   ],
   "source": [
    "df.head()"
   ]
  },
  {
   "cell_type": "markdown",
   "id": "5c84391d",
   "metadata": {},
   "source": [
    "# CATEGORICAL VARIABLES DISTRIBUTION ANALYSIS"
   ]
  },
  {
   "cell_type": "code",
   "execution_count": 6,
   "id": "368d71d1",
   "metadata": {},
   "outputs": [
    {
     "data": {
      "text/plain": [
       "<AxesSubplot:title={'center':'seismic values'}>"
      ]
     },
     "execution_count": 6,
     "metadata": {},
     "output_type": "execute_result"
    },
    {
     "data": {
      "image/png": "[encoded data removed]",
      "text/plain": [
       "<Figure size 432x288 with 1 Axes>"
      ]
     },
     "metadata": {
      "needs_background": "light"
     },
     "output_type": "display_data"
    }
   ],
   "source": [
    "df['seismic'].value_counts(normalize=True, ascending=True).plot(kind='barh', title='seismic values')"
   ]
  },
  {
   "cell_type": "code",
   "execution_count": 7,
   "id": "cc4930d7",
   "metadata": {},
   "outputs": [
    {
     "data": {
      "text/plain": [
       "<AxesSubplot:title={'center':'seismoacoustic values'}>"
      ]
     },
     "execution_count": 7,
     "metadata": {},
     "output_type": "execute_result"
    },
    {
     "data": {
      "image/png": "[encoded data removed]",
      "text/plain": [
       "<Figure size 432x288 with 1 Axes>"
      ]
     },
     "metadata": {
      "needs_background": "light"
     },
     "output_type": "display_data"
    }
   ],
   "source": [
    "df['seismoacoustic'].value_counts(normalize=True, ascending=True).plot(kind='barh', title='seismoacoustic values')"
   ]
  },
  {
   "cell_type": "code",
   "execution_count": 8,
   "id": "6f5e0d26",
   "metadata": {},
   "outputs": [
    {
     "data": {
      "text/plain": [
       "<AxesSubplot:title={'center':'shift values'}>"
      ]
     },
     "execution_count": 8,
     "metadata": {},
     "output_type": "execute_result"
    },
    {
     "data": {
      "image/png": "[encoded data removed]",
      "text/plain": [
       "<Figure size 432x288 with 1 Axes>"
      ]
     },
     "metadata": {
      "needs_background": "light"
     },
     "output_type": "display_data"
    }
   ],
   "source": [
    "df['shift'].value_counts(normalize=True, ascending=True).plot(kind='barh', title='shift values')"
   ]
  },
  {
   "cell_type": "code",
   "execution_count": 9,
   "id": "1df62b5e",
   "metadata": {},
   "outputs": [
    {
     "data": {
      "text/plain": [
       "<AxesSubplot:title={'center':'hazard values'}>"
      ]
     },
     "execution_count": 9,
     "metadata": {},
     "output_type": "execute_result"
    },
    {
     "data": {
      "image/png": "[encoded data removed]",
      "text/plain": [
       "<Figure size 432x288 with 1 Axes>"
      ]
     },
     "metadata": {
      "needs_background": "light"
     },
     "output_type": "display_data"
    }
   ],
   "source": [
    "df['hazard'].value_counts(normalize=True, ascending=True).plot(kind='barh', title='hazard values')"
   ]
  },
  {
   "cell_type": "code",
   "execution_count": 10,
   "id": "29562460",
   "metadata": {},
   "outputs": [],
   "source": [
    "##  NUMERICAL VARIABLES DISTRIBUTION ANALYSIS"
   ]
  },
  {
   "cell_type": "code",
   "execution_count": 11,
   "id": "462c56c7",
   "metadata": {},
   "outputs": [
    {
     "data": {
      "text/plain": [
       "<AxesSubplot:title={'center':'genergy values'}, ylabel='Density'>"
      ]
     },
     "execution_count": 11,
     "metadata": {},
     "output_type": "execute_result"
    },
    {
     "data": {
      "image/png": "[encoded data removed]",
      "text/plain": [
       "<Figure size 432x288 with 1 Axes>"
      ]
     },
     "metadata": {
      "needs_background": "light"
     },
     "output_type": "display_data"
    }
   ],
   "source": [
    "df['genergy'].value_counts(normalize=True).plot(kind='density', title='genergy values')"
   ]
  },
  {
   "cell_type": "code",
   "execution_count": 12,
   "id": "788aa693",
   "metadata": {},
   "outputs": [
    {
     "data": {
      "text/plain": [
       "<AxesSubplot:title={'center':'gpuls values'}, ylabel='Density'>"
      ]
     },
     "execution_count": 12,
     "metadata": {},
     "output_type": "execute_result"
    },
    {
     "data": {
      "image/png": "[encoded data removed]",
      "text/plain": [
       "<Figure size 432x288 with 1 Axes>"
      ]
     },
     "metadata": {
      "needs_background": "light"
     },
     "output_type": "display_data"
    }
   ],
   "source": [
    "df['gpuls'].value_counts(normalize=True).plot(kind='density', title='gpuls values')"
   ]
  },
  {
   "cell_type": "code",
   "execution_count": 13,
   "id": "346c7b02",
   "metadata": {},
   "outputs": [
    {
     "data": {
      "text/plain": [
       "<AxesSubplot:title={'center':'gdpuls values'}, ylabel='Density'>"
      ]
     },
     "execution_count": 13,
     "metadata": {},
     "output_type": "execute_result"
    },
    {
     "data": {
      "image/png": "[encoded data removed]",
      "text/plain": [
       "<Figure size 432x288 with 1 Axes>"
      ]
     },
     "metadata": {
      "needs_background": "light"
     },
     "output_type": "display_data"
    }
   ],
   "source": [
    "df['gdpuls'].value_counts(normalize=True).plot(kind='density', title='gdpuls values')"
   ]
  },
  {
   "cell_type": "code",
   "execution_count": 14,
   "id": "ed3f3243",
   "metadata": {},
   "outputs": [
    {
     "data": {
      "text/plain": [
       "<AxesSubplot:title={'center':'energy values'}, ylabel='Density'>"
      ]
     },
     "execution_count": 14,
     "metadata": {},
     "output_type": "execute_result"
    },
    {
     "data": {
      "image/png": "[encoded data removed]",
      "text/plain": [
       "<Figure size 432x288 with 1 Axes>"
      ]
     },
     "metadata": {
      "needs_background": "light"
     },
     "output_type": "display_data"
    }
   ],
   "source": [
    "df['energy'].value_counts(normalize=True).plot(kind='density', title='energy values')"
   ]
  },
  {
   "cell_type": "code",
   "execution_count": 15,
   "id": "30e1b341",
   "metadata": {},
   "outputs": [
    {
     "data": {
      "text/plain": [
       "<AxesSubplot:title={'center':'maxenergy values'}, ylabel='Density'>"
      ]
     },
     "execution_count": 15,
     "metadata": {},
     "output_type": "execute_result"
    },
    {
     "data": {
      "image/png": "[encoded data removed]",
      "text/plain": [
       "<Figure size 432x288 with 1 Axes>"
      ]
     },
     "metadata": {
      "needs_background": "light"
     },
     "output_type": "display_data"
    }
   ],
   "source": [
    "df['maxenergy'].value_counts(normalize=True).plot(kind='density', title='maxenergy values')"
   ]
  },
  {
   "cell_type": "markdown",
   "id": "f428b4d7",
   "metadata": {},
   "source": [
    "## DISCRETE VARIABLES DISTRIBUTION ANALYSIS"
   ]
  },
  {
   "cell_type": "code",
   "execution_count": 16,
   "id": "fdc03edb",
   "metadata": {},
   "outputs": [
    {
     "data": {
      "text/plain": [
       "<AxesSubplot:title={'center':'nbumps values'}>"
      ]
     },
     "execution_count": 16,
     "metadata": {},
     "output_type": "execute_result"
    },
    {
     "data": {
      "image/png": "[encoded data removed]",
      "text/plain": [
       "<Figure size 432x288 with 1 Axes>"
      ]
     },
     "metadata": {
      "needs_background": "light"
     },
     "output_type": "display_data"
    }
   ],
   "source": [
    "df['nbumps'].value_counts(normalize=True, ascending=True).plot(kind='barh', title='nbumps values')"
   ]
  },
  {
   "cell_type": "code",
   "execution_count": 17,
   "id": "e7d6650b",
   "metadata": {},
   "outputs": [
    {
     "data": {
      "text/plain": [
       "<AxesSubplot:title={'center':'nbumps2 values'}>"
      ]
     },
     "execution_count": 17,
     "metadata": {},
     "output_type": "execute_result"
    },
    {
     "data": {
      "image/png": "[encoded data removed]",
      "text/plain": [
       "<Figure size 432x288 with 1 Axes>"
      ]
     },
     "metadata": {
      "needs_background": "light"
     },
     "output_type": "display_data"
    }
   ],
   "source": [
    "df['nbumps2'].value_counts(normalize=True, ascending=True).plot(kind='barh', title='nbumps2 values')"
   ]
  },
  {
   "cell_type": "code",
   "execution_count": 18,
   "id": "1ee90ea2",
   "metadata": {},
   "outputs": [
    {
     "data": {
      "text/plain": [
       "<AxesSubplot:title={'center':'nbumps3 values'}>"
      ]
     },
     "execution_count": 18,
     "metadata": {},
     "output_type": "execute_result"
    },
    {
     "data": {
      "image/png": "[encoded data removed]",
      "text/plain": [
       "<Figure size 432x288 with 1 Axes>"
      ]
     },
     "metadata": {
      "needs_background": "light"
     },
     "output_type": "display_data"
    }
   ],
   "source": [
    "df['nbumps3'].value_counts(normalize=True, ascending=True).plot(kind='barh', title='nbumps3 values')"
   ]
  },
  {
   "cell_type": "code",
   "execution_count": 19,
   "id": "1135a92d",
   "metadata": {},
   "outputs": [
    {
     "data": {
      "text/plain": [
       "<AxesSubplot:title={'center':'nbumps4 values'}>"
      ]
     },
     "execution_count": 19,
     "metadata": {},
     "output_type": "execute_result"
    },
    {
     "data": {
      "image/png": "[encoded data removed]",
      "text/plain": [
       "<Figure size 432x288 with 1 Axes>"
      ]
     },
     "metadata": {
      "needs_background": "light"
     },
     "output_type": "display_data"
    }
   ],
   "source": [
    "df['nbumps4'].value_counts(normalize=True, ascending=True).plot(kind='barh', title='nbumps4 values')"
   ]
  },
  {
   "cell_type": "code",
   "execution_count": 20,
   "id": "f6a4768a",
   "metadata": {},
   "outputs": [
    {
     "data": {
      "text/plain": [
       "<AxesSubplot:title={'center':'nbumps5 values'}>"
      ]
     },
     "execution_count": 20,
     "metadata": {},
     "output_type": "execute_result"
    },
    {
     "data": {
      "image/png": "[encoded data removed]",
      "text/plain": [
       "<Figure size 432x288 with 1 Axes>"
      ]
     },
     "metadata": {
      "needs_background": "light"
     },
     "output_type": "display_data"
    }
   ],
   "source": [
    "df['nbumps5'].value_counts(normalize=True, ascending=True).plot(kind='barh', title='nbumps5 values')"
   ]
  },
  {
   "cell_type": "code",
   "execution_count": 21,
   "id": "b211e84b",
   "metadata": {},
   "outputs": [
    {
     "data": {
      "text/plain": [
       "<AxesSubplot:title={'center':'nbumps6 values'}>"
      ]
     },
     "execution_count": 21,
     "metadata": {},
     "output_type": "execute_result"
    },
    {
     "data": {
      "image/png": "[encoded data removed]",
      "text/plain": [
       "<Figure size 432x288 with 1 Axes>"
      ]
     },
     "metadata": {
      "needs_background": "light"
     },
     "output_type": "display_data"
    }
   ],
   "source": [
    "df['nbumps6'].value_counts(normalize=True, ascending=True).plot(kind='barh', title='nbumps6 values')"
   ]
  },
  {
   "cell_type": "code",
   "execution_count": 22,
   "id": "37b7ddca",
   "metadata": {},
   "outputs": [
    {
     "data": {
      "text/plain": [
       "<AxesSubplot:title={'center':'nbumps7 values'}>"
      ]
     },
     "execution_count": 22,
     "metadata": {},
     "output_type": "execute_result"
    },
    {
     "data": {
      "image/png": "[encoded data removed]",
      "text/plain": [
       "<Figure size 432x288 with 1 Axes>"
      ]
     },
     "metadata": {
      "needs_background": "light"
     },
     "output_type": "display_data"
    }
   ],
   "source": [
    "df['nbumps7'].value_counts(normalize=True, ascending=True).plot(kind='barh', title='nbumps7 values')"
   ]
  },
  {
   "cell_type": "code",
   "execution_count": 23,
   "id": "3cfa1f85",
   "metadata": {},
   "outputs": [
    {
     "data": {
      "text/plain": [
       "<AxesSubplot:title={'center':'nbumps89 values'}>"
      ]
     },
     "execution_count": 23,
     "metadata": {},
     "output_type": "execute_result"
    },
    {
     "data": {
      "image/png": "[encoded data removed]",
      "text/plain": [
       "<Figure size 432x288 with 1 Axes>"
      ]
     },
     "metadata": {
      "needs_background": "light"
     },
     "output_type": "display_data"
    }
   ],
   "source": [
    "df['nbumps89'].value_counts(normalize=True, ascending=True).plot(kind='barh', title='nbumps89 values')"
   ]
  },
  {
   "cell_type": "code",
   "execution_count": 24,
   "id": "c97f9693",
   "metadata": {},
   "outputs": [
    {
     "data": {
      "text/plain": [
       "<AxesSubplot:title={'center':'class values'}>"
      ]
     },
     "execution_count": 24,
     "metadata": {},
     "output_type": "execute_result"
    },
    {
     "data": {
      "image/png": "[encoded data removed]",
      "text/plain": [
       "<Figure size 432x288 with 1 Axes>"
      ]
     },
     "metadata": {
      "needs_background": "light"
     },
     "output_type": "display_data"
    }
   ],
   "source": [
    "df['class'].value_counts(normalize=True, ascending=True).plot(kind='barh', title='class values')"
   ]
  },
  {
   "cell_type": "code",
   "execution_count": 25,
   "id": "0c5ff792",
   "metadata": {},
   "outputs": [
    {
     "data": {
      "text/plain": [
       "0    2414\n",
       "1     170\n",
       "Name: class, dtype: Int64"
      ]
     },
     "execution_count": 25,
     "metadata": {},
     "output_type": "execute_result"
    }
   ],
   "source": [
    "df['class'].value_counts()  #in numero"
   ]
  },
  {
   "cell_type": "code",
   "execution_count": 26,
   "id": "856b47d5",
   "metadata": {},
   "outputs": [
    {
     "data": {
      "text/plain": [
       "seismic           category\n",
       "seismoacoustic    category\n",
       "shift             category\n",
       "genergy            float64\n",
       "gpuls              float64\n",
       "gdenergy           float64\n",
       "gdpuls             float64\n",
       "hazard            category\n",
       "nbumps             float64\n",
       "nbumps2            float64\n",
       "nbumps3            float64\n",
       "nbumps4            float64\n",
       "nbumps5            float64\n",
       "nbumps6            float64\n",
       "nbumps7            float64\n",
       "nbumps89           float64\n",
       "energy             float64\n",
       "maxenergy          float64\n",
       "class              float64\n",
       "dtype: object"
      ]
     },
     "execution_count": 26,
     "metadata": {},
     "output_type": "execute_result"
    }
   ],
   "source": [
    "df['seismic'] = df['seismic'].astype(\"category\")\n",
    "df['seismoacoustic'] = df['seismoacoustic'].astype(\"category\")\n",
    "df['shift'] = df['shift'].astype(\"category\")\n",
    "df['genergy'] = df['genergy'].astype(float)\n",
    "df['gpuls'] = df['gpuls'].astype(float)\n",
    "df['gdenergy'] = df['gdenergy'].astype(float)\n",
    "df['gdpuls'] = df['gdpuls'].astype(float)\n",
    "df['hazard'] = df['hazard'].astype(\"category\")\n",
    "df['nbumps'] = df['nbumps'].astype(float)\n",
    "df['nbumps2'] = df['nbumps2'].astype(float)\n",
    "df['nbumps3'] = df['nbumps3'].astype(float)\n",
    "df['nbumps4'] = df['nbumps4'].astype(float)\n",
    "df['nbumps5'] = df['nbumps5'].astype(float)\n",
    "df['nbumps6'] = df['nbumps6'].astype(float)\n",
    "df['nbumps7'] = df['nbumps7'].astype(float)\n",
    "df['nbumps89'] = df['nbumps89'].astype(float)\n",
    "df['energy'] = df['energy'].astype(float)\n",
    "df['maxenergy'] = df['maxenergy'].astype(float)\n",
    "df['class'] = df['class'].astype(float)\n",
    "\n",
    "df.dtypes"
   ]
  },
  {
   "cell_type": "code",
   "execution_count": 27,
   "id": "63280490",
   "metadata": {
    "scrolled": false
   },
   "outputs": [
    {
     "data": {
      "text/html": [
       "<div>\n",
       "<style scoped>\n",
       "    .dataframe tbody tr th:only-of-type {\n",
       "        vertical-align: middle;\n",
       "    }\n",
       "\n",
       "    .dataframe tbody tr th {\n",
       "        vertical-align: top;\n",
       "    }\n",
       "\n",
       "    .dataframe thead th {\n",
       "        text-align: right;\n",
       "    }\n",
       "</style>\n",
       "<table border=\"1\" class=\"dataframe\">\n",
       "  <thead>\n",
       "    <tr style=\"text-align: right;\">\n",
       "      <th></th>\n",
       "      <th>seismic</th>\n",
       "      <th>seismoacoustic</th>\n",
       "      <th>shift</th>\n",
       "      <th>genergy</th>\n",
       "      <th>gpuls</th>\n",
       "      <th>gdenergy</th>\n",
       "      <th>gdpuls</th>\n",
       "      <th>hazard</th>\n",
       "      <th>nbumps</th>\n",
       "      <th>nbumps2</th>\n",
       "      <th>nbumps3</th>\n",
       "      <th>nbumps4</th>\n",
       "      <th>nbumps5</th>\n",
       "      <th>nbumps6</th>\n",
       "      <th>nbumps7</th>\n",
       "      <th>nbumps89</th>\n",
       "      <th>energy</th>\n",
       "      <th>maxenergy</th>\n",
       "      <th>class</th>\n",
       "    </tr>\n",
       "  </thead>\n",
       "  <tbody>\n",
       "    <tr>\n",
       "      <th>0</th>\n",
       "      <td>a</td>\n",
       "      <td>a</td>\n",
       "      <td>N</td>\n",
       "      <td>15180.0</td>\n",
       "      <td>48.0</td>\n",
       "      <td>-72.0</td>\n",
       "      <td>-72.0</td>\n",
       "      <td>a</td>\n",
       "      <td>0.0</td>\n",
       "      <td>0.0</td>\n",
       "      <td>0.0</td>\n",
       "      <td>0.0</td>\n",
       "      <td>0.0</td>\n",
       "      <td>0.0</td>\n",
       "      <td>0.0</td>\n",
       "      <td>0.0</td>\n",
       "      <td>0.0</td>\n",
       "      <td>0.0</td>\n",
       "      <td>0.0</td>\n",
       "    </tr>\n",
       "    <tr>\n",
       "      <th>1</th>\n",
       "      <td>a</td>\n",
       "      <td>a</td>\n",
       "      <td>N</td>\n",
       "      <td>14720.0</td>\n",
       "      <td>33.0</td>\n",
       "      <td>-70.0</td>\n",
       "      <td>-79.0</td>\n",
       "      <td>a</td>\n",
       "      <td>1.0</td>\n",
       "      <td>0.0</td>\n",
       "      <td>1.0</td>\n",
       "      <td>0.0</td>\n",
       "      <td>0.0</td>\n",
       "      <td>0.0</td>\n",
       "      <td>0.0</td>\n",
       "      <td>0.0</td>\n",
       "      <td>2000.0</td>\n",
       "      <td>2000.0</td>\n",
       "      <td>0.0</td>\n",
       "    </tr>\n",
       "    <tr>\n",
       "      <th>2</th>\n",
       "      <td>a</td>\n",
       "      <td>a</td>\n",
       "      <td>N</td>\n",
       "      <td>8050.0</td>\n",
       "      <td>30.0</td>\n",
       "      <td>-81.0</td>\n",
       "      <td>-78.0</td>\n",
       "      <td>a</td>\n",
       "      <td>0.0</td>\n",
       "      <td>0.0</td>\n",
       "      <td>0.0</td>\n",
       "      <td>0.0</td>\n",
       "      <td>0.0</td>\n",
       "      <td>0.0</td>\n",
       "      <td>0.0</td>\n",
       "      <td>0.0</td>\n",
       "      <td>0.0</td>\n",
       "      <td>0.0</td>\n",
       "      <td>0.0</td>\n",
       "    </tr>\n",
       "    <tr>\n",
       "      <th>3</th>\n",
       "      <td>a</td>\n",
       "      <td>a</td>\n",
       "      <td>N</td>\n",
       "      <td>28820.0</td>\n",
       "      <td>171.0</td>\n",
       "      <td>-23.0</td>\n",
       "      <td>40.0</td>\n",
       "      <td>a</td>\n",
       "      <td>1.0</td>\n",
       "      <td>0.0</td>\n",
       "      <td>1.0</td>\n",
       "      <td>0.0</td>\n",
       "      <td>0.0</td>\n",
       "      <td>0.0</td>\n",
       "      <td>0.0</td>\n",
       "      <td>0.0</td>\n",
       "      <td>3000.0</td>\n",
       "      <td>3000.0</td>\n",
       "      <td>0.0</td>\n",
       "    </tr>\n",
       "    <tr>\n",
       "      <th>4</th>\n",
       "      <td>a</td>\n",
       "      <td>a</td>\n",
       "      <td>N</td>\n",
       "      <td>12640.0</td>\n",
       "      <td>57.0</td>\n",
       "      <td>-63.0</td>\n",
       "      <td>-52.0</td>\n",
       "      <td>a</td>\n",
       "      <td>0.0</td>\n",
       "      <td>0.0</td>\n",
       "      <td>0.0</td>\n",
       "      <td>0.0</td>\n",
       "      <td>0.0</td>\n",
       "      <td>0.0</td>\n",
       "      <td>0.0</td>\n",
       "      <td>0.0</td>\n",
       "      <td>0.0</td>\n",
       "      <td>0.0</td>\n",
       "      <td>0.0</td>\n",
       "    </tr>\n",
       "  </tbody>\n",
       "</table>\n",
       "</div>"
      ],
      "text/plain": [
       "  seismic seismoacoustic shift  genergy  gpuls  gdenergy  gdpuls hazard  \\\n",
       "0       a              a     N  15180.0   48.0     -72.0   -72.0      a   \n",
       "1       a              a     N  14720.0   33.0     -70.0   -79.0      a   \n",
       "2       a              a     N   8050.0   30.0     -81.0   -78.0      a   \n",
       "3       a              a     N  28820.0  171.0     -23.0    40.0      a   \n",
       "4       a              a     N  12640.0   57.0     -63.0   -52.0      a   \n",
       "\n",
       "   nbumps  nbumps2  nbumps3  nbumps4  nbumps5  nbumps6  nbumps7  nbumps89  \\\n",
       "0     0.0      0.0      0.0      0.0      0.0      0.0      0.0       0.0   \n",
       "1     1.0      0.0      1.0      0.0      0.0      0.0      0.0       0.0   \n",
       "2     0.0      0.0      0.0      0.0      0.0      0.0      0.0       0.0   \n",
       "3     1.0      0.0      1.0      0.0      0.0      0.0      0.0       0.0   \n",
       "4     0.0      0.0      0.0      0.0      0.0      0.0      0.0       0.0   \n",
       "\n",
       "   energy  maxenergy  class  \n",
       "0     0.0        0.0    0.0  \n",
       "1  2000.0     2000.0    0.0  \n",
       "2     0.0        0.0    0.0  \n",
       "3  3000.0     3000.0    0.0  \n",
       "4     0.0        0.0    0.0  "
      ]
     },
     "execution_count": 27,
     "metadata": {},
     "output_type": "execute_result"
    }
   ],
   "source": [
    "df.head()"
   ]
  },
  {
   "cell_type": "code",
   "execution_count": 28,
   "id": "4b23f832",
   "metadata": {},
   "outputs": [
    {
     "data": {
      "text/html": [
       "<div>\n",
       "<style scoped>\n",
       "    .dataframe tbody tr th:only-of-type {\n",
       "        vertical-align: middle;\n",
       "    }\n",
       "\n",
       "    .dataframe tbody tr th {\n",
       "        vertical-align: top;\n",
       "    }\n",
       "\n",
       "    .dataframe thead th {\n",
       "        text-align: right;\n",
       "    }\n",
       "</style>\n",
       "<table border=\"1\" class=\"dataframe\">\n",
       "  <thead>\n",
       "    <tr style=\"text-align: right;\">\n",
       "      <th></th>\n",
       "      <th>seismic</th>\n",
       "      <th>seismoacoustic</th>\n",
       "      <th>shift</th>\n",
       "      <th>genergy</th>\n",
       "      <th>gpuls</th>\n",
       "      <th>gdenergy</th>\n",
       "      <th>gdpuls</th>\n",
       "      <th>hazard</th>\n",
       "      <th>nbumps</th>\n",
       "      <th>nbumps2</th>\n",
       "      <th>nbumps3</th>\n",
       "      <th>nbumps4</th>\n",
       "      <th>nbumps5</th>\n",
       "      <th>nbumps6</th>\n",
       "      <th>nbumps7</th>\n",
       "      <th>nbumps89</th>\n",
       "      <th>energy</th>\n",
       "      <th>maxenergy</th>\n",
       "      <th>class</th>\n",
       "    </tr>\n",
       "  </thead>\n",
       "  <tbody>\n",
       "    <tr>\n",
       "      <th>2578</th>\n",
       "      <td>b</td>\n",
       "      <td>a</td>\n",
       "      <td>W</td>\n",
       "      <td>28910.0</td>\n",
       "      <td>307.0</td>\n",
       "      <td>115.0</td>\n",
       "      <td>20.0</td>\n",
       "      <td>a</td>\n",
       "      <td>0.0</td>\n",
       "      <td>0.0</td>\n",
       "      <td>0.0</td>\n",
       "      <td>0.0</td>\n",
       "      <td>0.0</td>\n",
       "      <td>0.0</td>\n",
       "      <td>0.0</td>\n",
       "      <td>0.0</td>\n",
       "      <td>0.0</td>\n",
       "      <td>0.0</td>\n",
       "      <td>0.0</td>\n",
       "    </tr>\n",
       "    <tr>\n",
       "      <th>2579</th>\n",
       "      <td>b</td>\n",
       "      <td>a</td>\n",
       "      <td>W</td>\n",
       "      <td>81410.0</td>\n",
       "      <td>785.0</td>\n",
       "      <td>432.0</td>\n",
       "      <td>151.0</td>\n",
       "      <td>b</td>\n",
       "      <td>0.0</td>\n",
       "      <td>0.0</td>\n",
       "      <td>0.0</td>\n",
       "      <td>0.0</td>\n",
       "      <td>0.0</td>\n",
       "      <td>0.0</td>\n",
       "      <td>0.0</td>\n",
       "      <td>0.0</td>\n",
       "      <td>0.0</td>\n",
       "      <td>0.0</td>\n",
       "      <td>0.0</td>\n",
       "    </tr>\n",
       "    <tr>\n",
       "      <th>2580</th>\n",
       "      <td>b</td>\n",
       "      <td>a</td>\n",
       "      <td>W</td>\n",
       "      <td>42110.0</td>\n",
       "      <td>555.0</td>\n",
       "      <td>213.0</td>\n",
       "      <td>118.0</td>\n",
       "      <td>a</td>\n",
       "      <td>0.0</td>\n",
       "      <td>0.0</td>\n",
       "      <td>0.0</td>\n",
       "      <td>0.0</td>\n",
       "      <td>0.0</td>\n",
       "      <td>0.0</td>\n",
       "      <td>0.0</td>\n",
       "      <td>0.0</td>\n",
       "      <td>0.0</td>\n",
       "      <td>0.0</td>\n",
       "      <td>0.0</td>\n",
       "    </tr>\n",
       "    <tr>\n",
       "      <th>2581</th>\n",
       "      <td>b</td>\n",
       "      <td>a</td>\n",
       "      <td>W</td>\n",
       "      <td>26960.0</td>\n",
       "      <td>540.0</td>\n",
       "      <td>101.0</td>\n",
       "      <td>112.0</td>\n",
       "      <td>a</td>\n",
       "      <td>0.0</td>\n",
       "      <td>0.0</td>\n",
       "      <td>0.0</td>\n",
       "      <td>0.0</td>\n",
       "      <td>0.0</td>\n",
       "      <td>0.0</td>\n",
       "      <td>0.0</td>\n",
       "      <td>0.0</td>\n",
       "      <td>0.0</td>\n",
       "      <td>0.0</td>\n",
       "      <td>0.0</td>\n",
       "    </tr>\n",
       "    <tr>\n",
       "      <th>2582</th>\n",
       "      <td>a</td>\n",
       "      <td>a</td>\n",
       "      <td>W</td>\n",
       "      <td>16130.0</td>\n",
       "      <td>322.0</td>\n",
       "      <td>2.0</td>\n",
       "      <td>2.0</td>\n",
       "      <td>a</td>\n",
       "      <td>0.0</td>\n",
       "      <td>0.0</td>\n",
       "      <td>0.0</td>\n",
       "      <td>0.0</td>\n",
       "      <td>0.0</td>\n",
       "      <td>0.0</td>\n",
       "      <td>0.0</td>\n",
       "      <td>0.0</td>\n",
       "      <td>0.0</td>\n",
       "      <td>0.0</td>\n",
       "      <td>0.0</td>\n",
       "    </tr>\n",
       "    <tr>\n",
       "      <th>2583</th>\n",
       "      <td>a</td>\n",
       "      <td>a</td>\n",
       "      <td>W</td>\n",
       "      <td>12750.0</td>\n",
       "      <td>235.0</td>\n",
       "      <td>-10.0</td>\n",
       "      <td>-10.0</td>\n",
       "      <td>a</td>\n",
       "      <td>0.0</td>\n",
       "      <td>0.0</td>\n",
       "      <td>0.0</td>\n",
       "      <td>0.0</td>\n",
       "      <td>0.0</td>\n",
       "      <td>0.0</td>\n",
       "      <td>0.0</td>\n",
       "      <td>0.0</td>\n",
       "      <td>0.0</td>\n",
       "      <td>0.0</td>\n",
       "      <td>0.0</td>\n",
       "    </tr>\n",
       "  </tbody>\n",
       "</table>\n",
       "</div>"
      ],
      "text/plain": [
       "     seismic seismoacoustic shift  genergy  gpuls  gdenergy  gdpuls hazard  \\\n",
       "2578       b              a     W  28910.0  307.0     115.0    20.0      a   \n",
       "2579       b              a     W  81410.0  785.0     432.0   151.0      b   \n",
       "2580       b              a     W  42110.0  555.0     213.0   118.0      a   \n",
       "2581       b              a     W  26960.0  540.0     101.0   112.0      a   \n",
       "2582       a              a     W  16130.0  322.0       2.0     2.0      a   \n",
       "2583       a              a     W  12750.0  235.0     -10.0   -10.0      a   \n",
       "\n",
       "      nbumps  nbumps2  nbumps3  nbumps4  nbumps5  nbumps6  nbumps7  nbumps89  \\\n",
       "2578     0.0      0.0      0.0      0.0      0.0      0.0      0.0       0.0   \n",
       "2579     0.0      0.0      0.0      0.0      0.0      0.0      0.0       0.0   \n",
       "2580     0.0      0.0      0.0      0.0      0.0      0.0      0.0       0.0   \n",
       "2581     0.0      0.0      0.0      0.0      0.0      0.0      0.0       0.0   \n",
       "2582     0.0      0.0      0.0      0.0      0.0      0.0      0.0       0.0   \n",
       "2583     0.0      0.0      0.0      0.0      0.0      0.0      0.0       0.0   \n",
       "\n",
       "      energy  maxenergy  class  \n",
       "2578     0.0        0.0    0.0  \n",
       "2579     0.0        0.0    0.0  \n",
       "2580     0.0        0.0    0.0  \n",
       "2581     0.0        0.0    0.0  \n",
       "2582     0.0        0.0    0.0  \n",
       "2583     0.0        0.0    0.0  "
      ]
     },
     "execution_count": 28,
     "metadata": {},
     "output_type": "execute_result"
    }
   ],
   "source": [
    "df.tail(6)"
   ]
  },
  {
   "cell_type": "code",
   "execution_count": 29,
   "id": "e197de61",
   "metadata": {},
   "outputs": [
    {
     "name": "stdout",
     "output_type": "stream",
     "text": [
      "<class 'pandas.core.frame.DataFrame'>\n",
      "RangeIndex: 2584 entries, 0 to 2583\n",
      "Data columns (total 19 columns):\n",
      " #   Column          Non-Null Count  Dtype   \n",
      "---  ------          --------------  -----   \n",
      " 0   seismic         2584 non-null   category\n",
      " 1   seismoacoustic  2584 non-null   category\n",
      " 2   shift           2584 non-null   category\n",
      " 3   genergy         2584 non-null   float64 \n",
      " 4   gpuls           2584 non-null   float64 \n",
      " 5   gdenergy        2584 non-null   float64 \n",
      " 6   gdpuls          2584 non-null   float64 \n",
      " 7   hazard          2584 non-null   category\n",
      " 8   nbumps          2584 non-null   float64 \n",
      " 9   nbumps2         2584 non-null   float64 \n",
      " 10  nbumps3         2584 non-null   float64 \n",
      " 11  nbumps4         2584 non-null   float64 \n",
      " 12  nbumps5         2584 non-null   float64 \n",
      " 13  nbumps6         2584 non-null   float64 \n",
      " 14  nbumps7         2584 non-null   float64 \n",
      " 15  nbumps89        2584 non-null   float64 \n",
      " 16  energy          2584 non-null   float64 \n",
      " 17  maxenergy       2584 non-null   float64 \n",
      " 18  class           2584 non-null   float64 \n",
      "dtypes: category(4), float64(15)\n",
      "memory usage: 313.5 KB\n"
     ]
    }
   ],
   "source": [
    "df.info()"
   ]
  },
  {
   "cell_type": "code",
   "execution_count": 30,
   "id": "da78b46a",
   "metadata": {},
   "outputs": [
    {
     "data": {
      "text/html": [
       "<div>\n",
       "<style scoped>\n",
       "    .dataframe tbody tr th:only-of-type {\n",
       "        vertical-align: middle;\n",
       "    }\n",
       "\n",
       "    .dataframe tbody tr th {\n",
       "        vertical-align: top;\n",
       "    }\n",
       "\n",
       "    .dataframe thead th {\n",
       "        text-align: right;\n",
       "    }\n",
       "</style>\n",
       "<table border=\"1\" class=\"dataframe\">\n",
       "  <thead>\n",
       "    <tr style=\"text-align: right;\">\n",
       "      <th></th>\n",
       "      <th>genergy</th>\n",
       "      <th>gpuls</th>\n",
       "      <th>gdenergy</th>\n",
       "      <th>gdpuls</th>\n",
       "      <th>nbumps</th>\n",
       "      <th>nbumps2</th>\n",
       "      <th>nbumps3</th>\n",
       "      <th>nbumps4</th>\n",
       "      <th>nbumps5</th>\n",
       "      <th>nbumps6</th>\n",
       "      <th>nbumps7</th>\n",
       "      <th>nbumps89</th>\n",
       "      <th>energy</th>\n",
       "      <th>maxenergy</th>\n",
       "      <th>class</th>\n",
       "    </tr>\n",
       "  </thead>\n",
       "  <tbody>\n",
       "    <tr>\n",
       "      <th>count</th>\n",
       "      <td>2.584000e+03</td>\n",
       "      <td>2584.000000</td>\n",
       "      <td>2584.000000</td>\n",
       "      <td>2584.000000</td>\n",
       "      <td>2584.000000</td>\n",
       "      <td>2584.000000</td>\n",
       "      <td>2584.000000</td>\n",
       "      <td>2584.000000</td>\n",
       "      <td>2584.000000</td>\n",
       "      <td>2584.0</td>\n",
       "      <td>2584.0</td>\n",
       "      <td>2584.0</td>\n",
       "      <td>2584.000000</td>\n",
       "      <td>2584.000000</td>\n",
       "      <td>2584.000000</td>\n",
       "    </tr>\n",
       "    <tr>\n",
       "      <th>mean</th>\n",
       "      <td>9.024252e+04</td>\n",
       "      <td>538.579334</td>\n",
       "      <td>12.375774</td>\n",
       "      <td>4.508901</td>\n",
       "      <td>0.859520</td>\n",
       "      <td>0.393576</td>\n",
       "      <td>0.392802</td>\n",
       "      <td>0.067724</td>\n",
       "      <td>0.004644</td>\n",
       "      <td>0.0</td>\n",
       "      <td>0.0</td>\n",
       "      <td>0.0</td>\n",
       "      <td>4975.270898</td>\n",
       "      <td>4278.850619</td>\n",
       "      <td>0.065789</td>\n",
       "    </tr>\n",
       "    <tr>\n",
       "      <th>std</th>\n",
       "      <td>2.292005e+05</td>\n",
       "      <td>562.652536</td>\n",
       "      <td>80.319051</td>\n",
       "      <td>63.166556</td>\n",
       "      <td>1.364616</td>\n",
       "      <td>0.783772</td>\n",
       "      <td>0.769710</td>\n",
       "      <td>0.279059</td>\n",
       "      <td>0.068001</td>\n",
       "      <td>0.0</td>\n",
       "      <td>0.0</td>\n",
       "      <td>0.0</td>\n",
       "      <td>20450.833222</td>\n",
       "      <td>19357.454882</td>\n",
       "      <td>0.247962</td>\n",
       "    </tr>\n",
       "    <tr>\n",
       "      <th>min</th>\n",
       "      <td>1.000000e+02</td>\n",
       "      <td>2.000000</td>\n",
       "      <td>-96.000000</td>\n",
       "      <td>-96.000000</td>\n",
       "      <td>0.000000</td>\n",
       "      <td>0.000000</td>\n",
       "      <td>0.000000</td>\n",
       "      <td>0.000000</td>\n",
       "      <td>0.000000</td>\n",
       "      <td>0.0</td>\n",
       "      <td>0.0</td>\n",
       "      <td>0.0</td>\n",
       "      <td>0.000000</td>\n",
       "      <td>0.000000</td>\n",
       "      <td>0.000000</td>\n",
       "    </tr>\n",
       "    <tr>\n",
       "      <th>25%</th>\n",
       "      <td>1.166000e+04</td>\n",
       "      <td>190.000000</td>\n",
       "      <td>-37.000000</td>\n",
       "      <td>-36.000000</td>\n",
       "      <td>0.000000</td>\n",
       "      <td>0.000000</td>\n",
       "      <td>0.000000</td>\n",
       "      <td>0.000000</td>\n",
       "      <td>0.000000</td>\n",
       "      <td>0.0</td>\n",
       "      <td>0.0</td>\n",
       "      <td>0.0</td>\n",
       "      <td>0.000000</td>\n",
       "      <td>0.000000</td>\n",
       "      <td>0.000000</td>\n",
       "    </tr>\n",
       "    <tr>\n",
       "      <th>50%</th>\n",
       "      <td>2.548500e+04</td>\n",
       "      <td>379.000000</td>\n",
       "      <td>-6.000000</td>\n",
       "      <td>-6.000000</td>\n",
       "      <td>0.000000</td>\n",
       "      <td>0.000000</td>\n",
       "      <td>0.000000</td>\n",
       "      <td>0.000000</td>\n",
       "      <td>0.000000</td>\n",
       "      <td>0.0</td>\n",
       "      <td>0.0</td>\n",
       "      <td>0.0</td>\n",
       "      <td>0.000000</td>\n",
       "      <td>0.000000</td>\n",
       "      <td>0.000000</td>\n",
       "    </tr>\n",
       "    <tr>\n",
       "      <th>75%</th>\n",
       "      <td>5.283250e+04</td>\n",
       "      <td>669.000000</td>\n",
       "      <td>38.000000</td>\n",
       "      <td>30.250000</td>\n",
       "      <td>1.000000</td>\n",
       "      <td>1.000000</td>\n",
       "      <td>1.000000</td>\n",
       "      <td>0.000000</td>\n",
       "      <td>0.000000</td>\n",
       "      <td>0.0</td>\n",
       "      <td>0.0</td>\n",
       "      <td>0.0</td>\n",
       "      <td>2600.000000</td>\n",
       "      <td>2000.000000</td>\n",
       "      <td>0.000000</td>\n",
       "    </tr>\n",
       "    <tr>\n",
       "      <th>max</th>\n",
       "      <td>2.595650e+06</td>\n",
       "      <td>4518.000000</td>\n",
       "      <td>1245.000000</td>\n",
       "      <td>838.000000</td>\n",
       "      <td>9.000000</td>\n",
       "      <td>8.000000</td>\n",
       "      <td>7.000000</td>\n",
       "      <td>3.000000</td>\n",
       "      <td>1.000000</td>\n",
       "      <td>0.0</td>\n",
       "      <td>0.0</td>\n",
       "      <td>0.0</td>\n",
       "      <td>402000.000000</td>\n",
       "      <td>400000.000000</td>\n",
       "      <td>1.000000</td>\n",
       "    </tr>\n",
       "  </tbody>\n",
       "</table>\n",
       "</div>"
      ],
      "text/plain": [
       "            genergy        gpuls     gdenergy       gdpuls       nbumps  \\\n",
       "count  2.584000e+03  2584.000000  2584.000000  2584.000000  2584.000000   \n",
       "mean   9.024252e+04   538.579334    12.375774     4.508901     0.859520   \n",
       "std    2.292005e+05   562.652536    80.319051    63.166556     1.364616   \n",
       "min    1.000000e+02     2.000000   -96.000000   -96.000000     0.000000   \n",
       "25%    1.166000e+04   190.000000   -37.000000   -36.000000     0.000000   \n",
       "50%    2.548500e+04   379.000000    -6.000000    -6.000000     0.000000   \n",
       "75%    5.283250e+04   669.000000    38.000000    30.250000     1.000000   \n",
       "max    2.595650e+06  4518.000000  1245.000000   838.000000     9.000000   \n",
       "\n",
       "           nbumps2      nbumps3      nbumps4      nbumps5  nbumps6  nbumps7  \\\n",
       "count  2584.000000  2584.000000  2584.000000  2584.000000   2584.0   2584.0   \n",
       "mean      0.393576     0.392802     0.067724     0.004644      0.0      0.0   \n",
       "std       0.783772     0.769710     0.279059     0.068001      0.0      0.0   \n",
       "min       0.000000     0.000000     0.000000     0.000000      0.0      0.0   \n",
       "25%       0.000000     0.000000     0.000000     0.000000      0.0      0.0   \n",
       "50%       0.000000     0.000000     0.000000     0.000000      0.0      0.0   \n",
       "75%       1.000000     1.000000     0.000000     0.000000      0.0      0.0   \n",
       "max       8.000000     7.000000     3.000000     1.000000      0.0      0.0   \n",
       "\n",
       "       nbumps89         energy      maxenergy        class  \n",
       "count    2584.0    2584.000000    2584.000000  2584.000000  \n",
       "mean        0.0    4975.270898    4278.850619     0.065789  \n",
       "std         0.0   20450.833222   19357.454882     0.247962  \n",
       "min         0.0       0.000000       0.000000     0.000000  \n",
       "25%         0.0       0.000000       0.000000     0.000000  \n",
       "50%         0.0       0.000000       0.000000     0.000000  \n",
       "75%         0.0    2600.000000    2000.000000     0.000000  \n",
       "max         0.0  402000.000000  400000.000000     1.000000  "
      ]
     },
     "execution_count": 30,
     "metadata": {},
     "output_type": "execute_result"
    }
   ],
   "source": [
    "df.describe()"
   ]
  },
  {
   "cell_type": "code",
   "execution_count": 31,
   "id": "4637b9b5",
   "metadata": {},
   "outputs": [
    {
     "data": {
      "text/plain": [
       "seismic           False\n",
       "seismoacoustic    False\n",
       "shift             False\n",
       "genergy           False\n",
       "gpuls             False\n",
       "gdenergy          False\n",
       "gdpuls            False\n",
       "hazard            False\n",
       "nbumps            False\n",
       "nbumps2           False\n",
       "nbumps3           False\n",
       "nbumps4           False\n",
       "nbumps5           False\n",
       "nbumps6           False\n",
       "nbumps7           False\n",
       "nbumps89          False\n",
       "energy            False\n",
       "maxenergy         False\n",
       "class             False\n",
       "dtype: bool"
      ]
     },
     "execution_count": 31,
     "metadata": {},
     "output_type": "execute_result"
    }
   ],
   "source": [
    "df.isnull().any()  # nessun true quindi nessun valore mancante"
   ]
  },
  {
   "cell_type": "code",
   "execution_count": 32,
   "id": "1de6cbab",
   "metadata": {},
   "outputs": [
    {
     "data": {
      "text/html": [
       "<div>\n",
       "<style scoped>\n",
       "    .dataframe tbody tr th:only-of-type {\n",
       "        vertical-align: middle;\n",
       "    }\n",
       "\n",
       "    .dataframe tbody tr th {\n",
       "        vertical-align: top;\n",
       "    }\n",
       "\n",
       "    .dataframe thead th {\n",
       "        text-align: right;\n",
       "    }\n",
       "</style>\n",
       "<table border=\"1\" class=\"dataframe\">\n",
       "  <thead>\n",
       "    <tr style=\"text-align: right;\">\n",
       "      <th>class</th>\n",
       "      <th>0.0</th>\n",
       "      <th>1.0</th>\n",
       "    </tr>\n",
       "    <tr>\n",
       "      <th>seismic</th>\n",
       "      <th></th>\n",
       "      <th></th>\n",
       "    </tr>\n",
       "  </thead>\n",
       "  <tbody>\n",
       "    <tr>\n",
       "      <th>a</th>\n",
       "      <td>1599</td>\n",
       "      <td>83</td>\n",
       "    </tr>\n",
       "    <tr>\n",
       "      <th>b</th>\n",
       "      <td>815</td>\n",
       "      <td>87</td>\n",
       "    </tr>\n",
       "  </tbody>\n",
       "</table>\n",
       "</div>"
      ],
      "text/plain": [
       "class     0.0  1.0\n",
       "seismic           \n",
       "a        1599   83\n",
       "b         815   87"
      ]
     },
     "execution_count": 32,
     "metadata": {},
     "output_type": "execute_result"
    }
   ],
   "source": [
    "confusion_matrix = pd.crosstab(df['seismic'], df['class'])\n",
    "confusion_matrix"
   ]
  },
  {
   "cell_type": "code",
   "execution_count": 33,
   "id": "b1f4401b",
   "metadata": {},
   "outputs": [
    {
     "data": {
      "text/plain": [
       "<AxesSubplot:xlabel='genergy', ylabel='Density'>"
      ]
     },
     "execution_count": 33,
     "metadata": {},
     "output_type": "execute_result"
    },
    {
     "data": {
      "image/png": "[encoded data removed]",
      "text/plain": [
       "<Figure size 432x288 with 1 Axes>"
      ]
     },
     "metadata": {
      "needs_background": "light"
     },
     "output_type": "display_data"
    }
   ],
   "source": [
    "df['genergy'] = np.log(df['genergy'])\n",
    "sns.histplot(df['genergy'], kde=True, stat=\"density\", linewidth=0)"
   ]
  },
  {
   "cell_type": "code",
   "execution_count": 34,
   "id": "cfdd0e9f",
   "metadata": {},
   "outputs": [
    {
     "data": {
      "text/plain": [
       "<AxesSubplot:xlabel='gpuls', ylabel='Density'>"
      ]
     },
     "execution_count": 34,
     "metadata": {},
     "output_type": "execute_result"
    },
    {
     "data": {
      "image/png": "[encoded data removed]",
      "text/plain": [
       "<Figure size 432x288 with 1 Axes>"
      ]
     },
     "metadata": {
      "needs_background": "light"
     },
     "output_type": "display_data"
    }
   ],
   "source": [
    "df['gpuls'] = np.log(df['gpuls'])\n",
    "sns.histplot(df['gpuls'], kde=True, stat=\"density\", linewidth=0)"
   ]
  },
  {
   "cell_type": "code",
   "execution_count": 35,
   "id": "283b6a47",
   "metadata": {},
   "outputs": [
    {
     "name": "stderr",
     "output_type": "stream",
     "text": [
      "C:\\Users\\aless\\anaconda3\\lib\\site-packages\\pandas\\core\\arraylike.py:358: RuntimeWarning: divide by zero encountered in log\n",
      "  result = getattr(ufunc, method)(*inputs, **kwargs)\n",
      "C:\\Users\\aless\\anaconda3\\lib\\site-packages\\pandas\\core\\arraylike.py:358: RuntimeWarning: invalid value encountered in log\n",
      "  result = getattr(ufunc, method)(*inputs, **kwargs)\n"
     ]
    }
   ],
   "source": [
    "#where(df['gdenergy'] != 0, np.log(df['gdenergy'], 0)\n",
    "df['gdenergy'] = np.log(df['gdenergy'])\n",
    "#sns.histplot(np.where(df['gdenergy'] != 0, np.log(df['gdenergy'], 0)), kde=True, stat=\"density\", linewidth=0)"
   ]
  },
  {
   "cell_type": "code",
   "execution_count": 36,
   "id": "04546767",
   "metadata": {},
   "outputs": [],
   "source": [
    "df['gdpuls'] = np.log(df['gdpuls'])\n",
    "#sns.histplot(df['gdpuls'], kde=True, stat=\"density\", linewidth=0)"
   ]
  },
  {
   "cell_type": "code",
   "execution_count": 37,
   "id": "42faaff6",
   "metadata": {},
   "outputs": [],
   "source": [
    "df['energy'] = np.log(df['energy'])\n",
    "#sns.histplot(df['energy'], kde=True, stat=\"density\", linewidth=0)"
   ]
  },
  {
   "cell_type": "code",
   "execution_count": 38,
   "id": "ffcbf091",
   "metadata": {},
   "outputs": [],
   "source": [
    "df['maxenergy'] = np.log(df['maxenergy'])\n",
    "#sns.histplot(df['maxenergy'], kde=True, stat=\"density\", linewidth=0)"
   ]
  },
  {
   "cell_type": "code",
   "execution_count": 39,
   "id": "a1825c37",
   "metadata": {},
   "outputs": [
    {
     "data": {
      "text/html": [
       "<div>\n",
       "<style scoped>\n",
       "    .dataframe tbody tr th:only-of-type {\n",
       "        vertical-align: middle;\n",
       "    }\n",
       "\n",
       "    .dataframe tbody tr th {\n",
       "        vertical-align: top;\n",
       "    }\n",
       "\n",
       "    .dataframe thead th {\n",
       "        text-align: right;\n",
       "    }\n",
       "</style>\n",
       "<table border=\"1\" class=\"dataframe\">\n",
       "  <thead>\n",
       "    <tr style=\"text-align: right;\">\n",
       "      <th></th>\n",
       "      <th>genergy</th>\n",
       "      <th>gpuls</th>\n",
       "      <th>gdenergy</th>\n",
       "      <th>gdpuls</th>\n",
       "      <th>nbumps</th>\n",
       "      <th>nbumps2</th>\n",
       "      <th>nbumps3</th>\n",
       "      <th>nbumps4</th>\n",
       "      <th>nbumps5</th>\n",
       "      <th>nbumps6</th>\n",
       "      <th>nbumps7</th>\n",
       "      <th>nbumps89</th>\n",
       "      <th>energy</th>\n",
       "      <th>maxenergy</th>\n",
       "      <th>class</th>\n",
       "    </tr>\n",
       "  </thead>\n",
       "  <tbody>\n",
       "    <tr>\n",
       "      <th>genergy</th>\n",
       "      <td>1.000000</td>\n",
       "      <td>0.775962</td>\n",
       "      <td>0.062410</td>\n",
       "      <td>0.032245</td>\n",
       "      <td>0.413645</td>\n",
       "      <td>0.303243</td>\n",
       "      <td>0.342068</td>\n",
       "      <td>0.224714</td>\n",
       "      <td>0.025477</td>\n",
       "      <td>NaN</td>\n",
       "      <td>NaN</td>\n",
       "      <td>NaN</td>\n",
       "      <td>0.254448</td>\n",
       "      <td>0.214909</td>\n",
       "      <td>0.193425</td>\n",
       "    </tr>\n",
       "    <tr>\n",
       "      <th>gpuls</th>\n",
       "      <td>0.775962</td>\n",
       "      <td>1.000000</td>\n",
       "      <td>0.201969</td>\n",
       "      <td>0.192696</td>\n",
       "      <td>0.283790</td>\n",
       "      <td>0.213291</td>\n",
       "      <td>0.209652</td>\n",
       "      <td>0.202308</td>\n",
       "      <td>0.043079</td>\n",
       "      <td>NaN</td>\n",
       "      <td>NaN</td>\n",
       "      <td>NaN</td>\n",
       "      <td>0.217750</td>\n",
       "      <td>0.192294</td>\n",
       "      <td>0.166411</td>\n",
       "    </tr>\n",
       "    <tr>\n",
       "      <th>gdenergy</th>\n",
       "      <td>0.062410</td>\n",
       "      <td>0.201969</td>\n",
       "      <td>1.000000</td>\n",
       "      <td>0.563289</td>\n",
       "      <td>-0.030660</td>\n",
       "      <td>-0.025966</td>\n",
       "      <td>-0.046787</td>\n",
       "      <td>0.034329</td>\n",
       "      <td>0.056533</td>\n",
       "      <td>NaN</td>\n",
       "      <td>NaN</td>\n",
       "      <td>NaN</td>\n",
       "      <td>-0.035208</td>\n",
       "      <td>-0.018719</td>\n",
       "      <td>0.025541</td>\n",
       "    </tr>\n",
       "    <tr>\n",
       "      <th>gdpuls</th>\n",
       "      <td>0.032245</td>\n",
       "      <td>0.192696</td>\n",
       "      <td>0.563289</td>\n",
       "      <td>1.000000</td>\n",
       "      <td>0.013619</td>\n",
       "      <td>0.014604</td>\n",
       "      <td>-0.021652</td>\n",
       "      <td>0.066963</td>\n",
       "      <td>0.039557</td>\n",
       "      <td>NaN</td>\n",
       "      <td>NaN</td>\n",
       "      <td>NaN</td>\n",
       "      <td>0.085260</td>\n",
       "      <td>0.087605</td>\n",
       "      <td>-0.043814</td>\n",
       "    </tr>\n",
       "    <tr>\n",
       "      <th>nbumps</th>\n",
       "      <td>0.413645</td>\n",
       "      <td>0.283790</td>\n",
       "      <td>-0.030660</td>\n",
       "      <td>0.013619</td>\n",
       "      <td>1.000000</td>\n",
       "      <td>0.804978</td>\n",
       "      <td>0.803364</td>\n",
       "      <td>0.395052</td>\n",
       "      <td>0.069613</td>\n",
       "      <td>NaN</td>\n",
       "      <td>NaN</td>\n",
       "      <td>NaN</td>\n",
       "      <td>0.483994</td>\n",
       "      <td>0.358197</td>\n",
       "      <td>0.248144</td>\n",
       "    </tr>\n",
       "    <tr>\n",
       "      <th>nbumps2</th>\n",
       "      <td>0.303243</td>\n",
       "      <td>0.213291</td>\n",
       "      <td>-0.025966</td>\n",
       "      <td>0.014604</td>\n",
       "      <td>0.804978</td>\n",
       "      <td>1.000000</td>\n",
       "      <td>0.350724</td>\n",
       "      <td>0.161296</td>\n",
       "      <td>-0.005251</td>\n",
       "      <td>NaN</td>\n",
       "      <td>NaN</td>\n",
       "      <td>NaN</td>\n",
       "      <td>-0.058494</td>\n",
       "      <td>-0.164534</td>\n",
       "      <td>0.201381</td>\n",
       "    </tr>\n",
       "    <tr>\n",
       "      <th>nbumps3</th>\n",
       "      <td>0.342068</td>\n",
       "      <td>0.209652</td>\n",
       "      <td>-0.046787</td>\n",
       "      <td>-0.021652</td>\n",
       "      <td>0.803364</td>\n",
       "      <td>0.350724</td>\n",
       "      <td>1.000000</td>\n",
       "      <td>0.175301</td>\n",
       "      <td>0.046498</td>\n",
       "      <td>NaN</td>\n",
       "      <td>NaN</td>\n",
       "      <td>NaN</td>\n",
       "      <td>0.507416</td>\n",
       "      <td>0.418037</td>\n",
       "      <td>0.205327</td>\n",
       "    </tr>\n",
       "    <tr>\n",
       "      <th>nbumps4</th>\n",
       "      <td>0.224714</td>\n",
       "      <td>0.202308</td>\n",
       "      <td>0.034329</td>\n",
       "      <td>0.066963</td>\n",
       "      <td>0.395052</td>\n",
       "      <td>0.161296</td>\n",
       "      <td>0.175301</td>\n",
       "      <td>1.000000</td>\n",
       "      <td>-0.016580</td>\n",
       "      <td>NaN</td>\n",
       "      <td>NaN</td>\n",
       "      <td>NaN</td>\n",
       "      <td>0.604201</td>\n",
       "      <td>0.617501</td>\n",
       "      <td>0.075458</td>\n",
       "    </tr>\n",
       "    <tr>\n",
       "      <th>nbumps5</th>\n",
       "      <td>0.025477</td>\n",
       "      <td>0.043079</td>\n",
       "      <td>0.056533</td>\n",
       "      <td>0.039557</td>\n",
       "      <td>0.069613</td>\n",
       "      <td>-0.005251</td>\n",
       "      <td>0.046498</td>\n",
       "      <td>-0.016580</td>\n",
       "      <td>1.000000</td>\n",
       "      <td>NaN</td>\n",
       "      <td>NaN</td>\n",
       "      <td>NaN</td>\n",
       "      <td>0.280254</td>\n",
       "      <td>0.298835</td>\n",
       "      <td>0.004834</td>\n",
       "    </tr>\n",
       "    <tr>\n",
       "      <th>nbumps6</th>\n",
       "      <td>NaN</td>\n",
       "      <td>NaN</td>\n",
       "      <td>NaN</td>\n",
       "      <td>NaN</td>\n",
       "      <td>NaN</td>\n",
       "      <td>NaN</td>\n",
       "      <td>NaN</td>\n",
       "      <td>NaN</td>\n",
       "      <td>NaN</td>\n",
       "      <td>NaN</td>\n",
       "      <td>NaN</td>\n",
       "      <td>NaN</td>\n",
       "      <td>NaN</td>\n",
       "      <td>NaN</td>\n",
       "      <td>NaN</td>\n",
       "    </tr>\n",
       "    <tr>\n",
       "      <th>nbumps7</th>\n",
       "      <td>NaN</td>\n",
       "      <td>NaN</td>\n",
       "      <td>NaN</td>\n",
       "      <td>NaN</td>\n",
       "      <td>NaN</td>\n",
       "      <td>NaN</td>\n",
       "      <td>NaN</td>\n",
       "      <td>NaN</td>\n",
       "      <td>NaN</td>\n",
       "      <td>NaN</td>\n",
       "      <td>NaN</td>\n",
       "      <td>NaN</td>\n",
       "      <td>NaN</td>\n",
       "      <td>NaN</td>\n",
       "      <td>NaN</td>\n",
       "    </tr>\n",
       "    <tr>\n",
       "      <th>nbumps89</th>\n",
       "      <td>NaN</td>\n",
       "      <td>NaN</td>\n",
       "      <td>NaN</td>\n",
       "      <td>NaN</td>\n",
       "      <td>NaN</td>\n",
       "      <td>NaN</td>\n",
       "      <td>NaN</td>\n",
       "      <td>NaN</td>\n",
       "      <td>NaN</td>\n",
       "      <td>NaN</td>\n",
       "      <td>NaN</td>\n",
       "      <td>NaN</td>\n",
       "      <td>NaN</td>\n",
       "      <td>NaN</td>\n",
       "      <td>NaN</td>\n",
       "    </tr>\n",
       "    <tr>\n",
       "      <th>energy</th>\n",
       "      <td>0.254448</td>\n",
       "      <td>0.217750</td>\n",
       "      <td>-0.035208</td>\n",
       "      <td>0.085260</td>\n",
       "      <td>0.483994</td>\n",
       "      <td>-0.058494</td>\n",
       "      <td>0.507416</td>\n",
       "      <td>0.604201</td>\n",
       "      <td>0.280254</td>\n",
       "      <td>NaN</td>\n",
       "      <td>NaN</td>\n",
       "      <td>NaN</td>\n",
       "      <td>1.000000</td>\n",
       "      <td>0.983513</td>\n",
       "      <td>0.106502</td>\n",
       "    </tr>\n",
       "    <tr>\n",
       "      <th>maxenergy</th>\n",
       "      <td>0.214909</td>\n",
       "      <td>0.192294</td>\n",
       "      <td>-0.018719</td>\n",
       "      <td>0.087605</td>\n",
       "      <td>0.358197</td>\n",
       "      <td>-0.164534</td>\n",
       "      <td>0.418037</td>\n",
       "      <td>0.617501</td>\n",
       "      <td>0.298835</td>\n",
       "      <td>NaN</td>\n",
       "      <td>NaN</td>\n",
       "      <td>NaN</td>\n",
       "      <td>0.983513</td>\n",
       "      <td>1.000000</td>\n",
       "      <td>0.081458</td>\n",
       "    </tr>\n",
       "    <tr>\n",
       "      <th>class</th>\n",
       "      <td>0.193425</td>\n",
       "      <td>0.166411</td>\n",
       "      <td>0.025541</td>\n",
       "      <td>-0.043814</td>\n",
       "      <td>0.248144</td>\n",
       "      <td>0.201381</td>\n",
       "      <td>0.205327</td>\n",
       "      <td>0.075458</td>\n",
       "      <td>0.004834</td>\n",
       "      <td>NaN</td>\n",
       "      <td>NaN</td>\n",
       "      <td>NaN</td>\n",
       "      <td>0.106502</td>\n",
       "      <td>0.081458</td>\n",
       "      <td>1.000000</td>\n",
       "    </tr>\n",
       "  </tbody>\n",
       "</table>\n",
       "</div>"
      ],
      "text/plain": [
       "            genergy     gpuls  gdenergy    gdpuls    nbumps   nbumps2  \\\n",
       "genergy    1.000000  0.775962  0.062410  0.032245  0.413645  0.303243   \n",
       "gpuls      0.775962  1.000000  0.201969  0.192696  0.283790  0.213291   \n",
       "gdenergy   0.062410  0.201969  1.000000  0.563289 -0.030660 -0.025966   \n",
       "gdpuls     0.032245  0.192696  0.563289  1.000000  0.013619  0.014604   \n",
       "nbumps     0.413645  0.283790 -0.030660  0.013619  1.000000  0.804978   \n",
       "nbumps2    0.303243  0.213291 -0.025966  0.014604  0.804978  1.000000   \n",
       "nbumps3    0.342068  0.209652 -0.046787 -0.021652  0.803364  0.350724   \n",
       "nbumps4    0.224714  0.202308  0.034329  0.066963  0.395052  0.161296   \n",
       "nbumps5    0.025477  0.043079  0.056533  0.039557  0.069613 -0.005251   \n",
       "nbumps6         NaN       NaN       NaN       NaN       NaN       NaN   \n",
       "nbumps7         NaN       NaN       NaN       NaN       NaN       NaN   \n",
       "nbumps89        NaN       NaN       NaN       NaN       NaN       NaN   \n",
       "energy     0.254448  0.217750 -0.035208  0.085260  0.483994 -0.058494   \n",
       "maxenergy  0.214909  0.192294 -0.018719  0.087605  0.358197 -0.164534   \n",
       "class      0.193425  0.166411  0.025541 -0.043814  0.248144  0.201381   \n",
       "\n",
       "            nbumps3   nbumps4   nbumps5  nbumps6  nbumps7  nbumps89    energy  \\\n",
       "genergy    0.342068  0.224714  0.025477      NaN      NaN       NaN  0.254448   \n",
       "gpuls      0.209652  0.202308  0.043079      NaN      NaN       NaN  0.217750   \n",
       "gdenergy  -0.046787  0.034329  0.056533      NaN      NaN       NaN -0.035208   \n",
       "gdpuls    -0.021652  0.066963  0.039557      NaN      NaN       NaN  0.085260   \n",
       "nbumps     0.803364  0.395052  0.069613      NaN      NaN       NaN  0.483994   \n",
       "nbumps2    0.350724  0.161296 -0.005251      NaN      NaN       NaN -0.058494   \n",
       "nbumps3    1.000000  0.175301  0.046498      NaN      NaN       NaN  0.507416   \n",
       "nbumps4    0.175301  1.000000 -0.016580      NaN      NaN       NaN  0.604201   \n",
       "nbumps5    0.046498 -0.016580  1.000000      NaN      NaN       NaN  0.280254   \n",
       "nbumps6         NaN       NaN       NaN      NaN      NaN       NaN       NaN   \n",
       "nbumps7         NaN       NaN       NaN      NaN      NaN       NaN       NaN   \n",
       "nbumps89        NaN       NaN       NaN      NaN      NaN       NaN       NaN   \n",
       "energy     0.507416  0.604201  0.280254      NaN      NaN       NaN  1.000000   \n",
       "maxenergy  0.418037  0.617501  0.298835      NaN      NaN       NaN  0.983513   \n",
       "class      0.205327  0.075458  0.004834      NaN      NaN       NaN  0.106502   \n",
       "\n",
       "           maxenergy     class  \n",
       "genergy     0.214909  0.193425  \n",
       "gpuls       0.192294  0.166411  \n",
       "gdenergy   -0.018719  0.025541  \n",
       "gdpuls      0.087605 -0.043814  \n",
       "nbumps      0.358197  0.248144  \n",
       "nbumps2    -0.164534  0.201381  \n",
       "nbumps3     0.418037  0.205327  \n",
       "nbumps4     0.617501  0.075458  \n",
       "nbumps5     0.298835  0.004834  \n",
       "nbumps6          NaN       NaN  \n",
       "nbumps7          NaN       NaN  \n",
       "nbumps89         NaN       NaN  \n",
       "energy      0.983513  0.106502  \n",
       "maxenergy   1.000000  0.081458  \n",
       "class       0.081458  1.000000  "
      ]
     },
     "execution_count": 39,
     "metadata": {},
     "output_type": "execute_result"
    }
   ],
   "source": [
    "df.corr() #noto valori nan"
   ]
  },
  {
   "cell_type": "code",
   "execution_count": 40,
   "id": "c72df1c7",
   "metadata": {
    "scrolled": true
   },
   "outputs": [],
   "source": [
    "df_corr = df.corr() # assegno a una variabile per usarla alla ricerca dei nan nella correlazione"
   ]
  },
  {
   "cell_type": "code",
   "execution_count": 41,
   "id": "dcaadd61",
   "metadata": {},
   "outputs": [
    {
     "data": {
      "text/html": [
       "<div>\n",
       "<style scoped>\n",
       "    .dataframe tbody tr th:only-of-type {\n",
       "        vertical-align: middle;\n",
       "    }\n",
       "\n",
       "    .dataframe tbody tr th {\n",
       "        vertical-align: top;\n",
       "    }\n",
       "\n",
       "    .dataframe thead th {\n",
       "        text-align: right;\n",
       "    }\n",
       "</style>\n",
       "<table border=\"1\" class=\"dataframe\">\n",
       "  <thead>\n",
       "    <tr style=\"text-align: right;\">\n",
       "      <th></th>\n",
       "      <th>genergy</th>\n",
       "      <th>gpuls</th>\n",
       "      <th>gdenergy</th>\n",
       "      <th>gdpuls</th>\n",
       "      <th>nbumps</th>\n",
       "      <th>nbumps2</th>\n",
       "      <th>nbumps3</th>\n",
       "      <th>nbumps4</th>\n",
       "      <th>nbumps5</th>\n",
       "      <th>nbumps6</th>\n",
       "      <th>nbumps7</th>\n",
       "      <th>nbumps89</th>\n",
       "      <th>energy</th>\n",
       "      <th>maxenergy</th>\n",
       "      <th>class</th>\n",
       "    </tr>\n",
       "  </thead>\n",
       "  <tbody>\n",
       "    <tr>\n",
       "      <th>genergy</th>\n",
       "      <td>1.000000</td>\n",
       "      <td>0.775962</td>\n",
       "      <td>0.062410</td>\n",
       "      <td>0.032245</td>\n",
       "      <td>0.413645</td>\n",
       "      <td>0.303243</td>\n",
       "      <td>0.342068</td>\n",
       "      <td>0.224714</td>\n",
       "      <td>0.025477</td>\n",
       "      <td>NaN</td>\n",
       "      <td>NaN</td>\n",
       "      <td>NaN</td>\n",
       "      <td>0.254448</td>\n",
       "      <td>0.214909</td>\n",
       "      <td>0.193425</td>\n",
       "    </tr>\n",
       "    <tr>\n",
       "      <th>gpuls</th>\n",
       "      <td>0.775962</td>\n",
       "      <td>1.000000</td>\n",
       "      <td>0.201969</td>\n",
       "      <td>0.192696</td>\n",
       "      <td>0.283790</td>\n",
       "      <td>0.213291</td>\n",
       "      <td>0.209652</td>\n",
       "      <td>0.202308</td>\n",
       "      <td>0.043079</td>\n",
       "      <td>NaN</td>\n",
       "      <td>NaN</td>\n",
       "      <td>NaN</td>\n",
       "      <td>0.217750</td>\n",
       "      <td>0.192294</td>\n",
       "      <td>0.166411</td>\n",
       "    </tr>\n",
       "    <tr>\n",
       "      <th>gdenergy</th>\n",
       "      <td>0.062410</td>\n",
       "      <td>0.201969</td>\n",
       "      <td>1.000000</td>\n",
       "      <td>0.563289</td>\n",
       "      <td>-0.030660</td>\n",
       "      <td>-0.025966</td>\n",
       "      <td>-0.046787</td>\n",
       "      <td>0.034329</td>\n",
       "      <td>0.056533</td>\n",
       "      <td>NaN</td>\n",
       "      <td>NaN</td>\n",
       "      <td>NaN</td>\n",
       "      <td>-0.035208</td>\n",
       "      <td>-0.018719</td>\n",
       "      <td>0.025541</td>\n",
       "    </tr>\n",
       "    <tr>\n",
       "      <th>gdpuls</th>\n",
       "      <td>0.032245</td>\n",
       "      <td>0.192696</td>\n",
       "      <td>0.563289</td>\n",
       "      <td>1.000000</td>\n",
       "      <td>0.013619</td>\n",
       "      <td>0.014604</td>\n",
       "      <td>-0.021652</td>\n",
       "      <td>0.066963</td>\n",
       "      <td>0.039557</td>\n",
       "      <td>NaN</td>\n",
       "      <td>NaN</td>\n",
       "      <td>NaN</td>\n",
       "      <td>0.085260</td>\n",
       "      <td>0.087605</td>\n",
       "      <td>-0.043814</td>\n",
       "    </tr>\n",
       "    <tr>\n",
       "      <th>nbumps</th>\n",
       "      <td>0.413645</td>\n",
       "      <td>0.283790</td>\n",
       "      <td>-0.030660</td>\n",
       "      <td>0.013619</td>\n",
       "      <td>1.000000</td>\n",
       "      <td>0.804978</td>\n",
       "      <td>0.803364</td>\n",
       "      <td>0.395052</td>\n",
       "      <td>0.069613</td>\n",
       "      <td>NaN</td>\n",
       "      <td>NaN</td>\n",
       "      <td>NaN</td>\n",
       "      <td>0.483994</td>\n",
       "      <td>0.358197</td>\n",
       "      <td>0.248144</td>\n",
       "    </tr>\n",
       "  </tbody>\n",
       "</table>\n",
       "</div>"
      ],
      "text/plain": [
       "           genergy     gpuls  gdenergy    gdpuls    nbumps   nbumps2  \\\n",
       "genergy   1.000000  0.775962  0.062410  0.032245  0.413645  0.303243   \n",
       "gpuls     0.775962  1.000000  0.201969  0.192696  0.283790  0.213291   \n",
       "gdenergy  0.062410  0.201969  1.000000  0.563289 -0.030660 -0.025966   \n",
       "gdpuls    0.032245  0.192696  0.563289  1.000000  0.013619  0.014604   \n",
       "nbumps    0.413645  0.283790 -0.030660  0.013619  1.000000  0.804978   \n",
       "\n",
       "           nbumps3   nbumps4   nbumps5  nbumps6  nbumps7  nbumps89    energy  \\\n",
       "genergy   0.342068  0.224714  0.025477      NaN      NaN       NaN  0.254448   \n",
       "gpuls     0.209652  0.202308  0.043079      NaN      NaN       NaN  0.217750   \n",
       "gdenergy -0.046787  0.034329  0.056533      NaN      NaN       NaN -0.035208   \n",
       "gdpuls   -0.021652  0.066963  0.039557      NaN      NaN       NaN  0.085260   \n",
       "nbumps    0.803364  0.395052  0.069613      NaN      NaN       NaN  0.483994   \n",
       "\n",
       "          maxenergy     class  \n",
       "genergy    0.214909  0.193425  \n",
       "gpuls      0.192294  0.166411  \n",
       "gdenergy  -0.018719  0.025541  \n",
       "gdpuls     0.087605 -0.043814  \n",
       "nbumps     0.358197  0.248144  "
      ]
     },
     "execution_count": 41,
     "metadata": {},
     "output_type": "execute_result"
    }
   ],
   "source": [
    "nan_df = df_corr[df_corr.isna().any(axis=1)]  #1 per colonne e 0 per righe\n",
    "nan_df.head()   # tutte le colonne con un valore nan nella correlazione (le prime sono date dalle righe delle colonne tolte)\n"
   ]
  },
  {
   "cell_type": "code",
   "execution_count": 42,
   "id": "0a91f046",
   "metadata": {},
   "outputs": [
    {
     "name": "stdout",
     "output_type": "stream",
     "text": [
      "0.0    2584\n",
      "Name: nbumps6, dtype: int64\n",
      "0.0    2584\n",
      "Name: nbumps7, dtype: int64\n",
      "0.0    2584\n",
      "Name: nbumps89, dtype: int64\n"
     ]
    }
   ],
   "source": [
    "print(df['nbumps6'].value_counts())\n",
    "print(df['nbumps7'].value_counts())\n",
    "print(df['nbumps89'].value_counts())"
   ]
  },
  {
   "cell_type": "code",
   "execution_count": 43,
   "id": "556fbd6c",
   "metadata": {},
   "outputs": [
    {
     "data": {
      "text/html": [
       "<div>\n",
       "<style scoped>\n",
       "    .dataframe tbody tr th:only-of-type {\n",
       "        vertical-align: middle;\n",
       "    }\n",
       "\n",
       "    .dataframe tbody tr th {\n",
       "        vertical-align: top;\n",
       "    }\n",
       "\n",
       "    .dataframe thead th {\n",
       "        text-align: right;\n",
       "    }\n",
       "</style>\n",
       "<table border=\"1\" class=\"dataframe\">\n",
       "  <thead>\n",
       "    <tr style=\"text-align: right;\">\n",
       "      <th></th>\n",
       "      <th>seismic</th>\n",
       "      <th>seismoacoustic</th>\n",
       "      <th>shift</th>\n",
       "      <th>genergy</th>\n",
       "      <th>gpuls</th>\n",
       "      <th>gdenergy</th>\n",
       "      <th>gdpuls</th>\n",
       "      <th>hazard</th>\n",
       "      <th>nbumps</th>\n",
       "      <th>nbumps2</th>\n",
       "      <th>nbumps3</th>\n",
       "      <th>nbumps4</th>\n",
       "      <th>nbumps5</th>\n",
       "      <th>energy</th>\n",
       "      <th>maxenergy</th>\n",
       "      <th>class</th>\n",
       "    </tr>\n",
       "  </thead>\n",
       "  <tbody>\n",
       "    <tr>\n",
       "      <th>2484</th>\n",
       "      <td>a</td>\n",
       "      <td>a</td>\n",
       "      <td>W</td>\n",
       "      <td>9.370757</td>\n",
       "      <td>5.627621</td>\n",
       "      <td>NaN</td>\n",
       "      <td>NaN</td>\n",
       "      <td>a</td>\n",
       "      <td>0.0</td>\n",
       "      <td>0.0</td>\n",
       "      <td>0.0</td>\n",
       "      <td>0.0</td>\n",
       "      <td>0.0</td>\n",
       "      <td>-inf</td>\n",
       "      <td>-inf</td>\n",
       "      <td>0.0</td>\n",
       "    </tr>\n",
       "    <tr>\n",
       "      <th>2485</th>\n",
       "      <td>a</td>\n",
       "      <td>a</td>\n",
       "      <td>W</td>\n",
       "      <td>9.006999</td>\n",
       "      <td>4.997212</td>\n",
       "      <td>NaN</td>\n",
       "      <td>NaN</td>\n",
       "      <td>a</td>\n",
       "      <td>1.0</td>\n",
       "      <td>1.0</td>\n",
       "      <td>0.0</td>\n",
       "      <td>0.0</td>\n",
       "      <td>0.0</td>\n",
       "      <td>5.703782</td>\n",
       "      <td>5.703782</td>\n",
       "      <td>0.0</td>\n",
       "    </tr>\n",
       "    <tr>\n",
       "      <th>2486</th>\n",
       "      <td>a</td>\n",
       "      <td>a</td>\n",
       "      <td>W</td>\n",
       "      <td>9.383453</td>\n",
       "      <td>6.163315</td>\n",
       "      <td>3.135494</td>\n",
       "      <td>2.302585</td>\n",
       "      <td>a</td>\n",
       "      <td>0.0</td>\n",
       "      <td>0.0</td>\n",
       "      <td>0.0</td>\n",
       "      <td>0.0</td>\n",
       "      <td>0.0</td>\n",
       "      <td>-inf</td>\n",
       "      <td>-inf</td>\n",
       "      <td>0.0</td>\n",
       "    </tr>\n",
       "    <tr>\n",
       "      <th>2487</th>\n",
       "      <td>a</td>\n",
       "      <td>a</td>\n",
       "      <td>W</td>\n",
       "      <td>9.218309</td>\n",
       "      <td>5.855072</td>\n",
       "      <td>2.397895</td>\n",
       "      <td>3.688879</td>\n",
       "      <td>a</td>\n",
       "      <td>1.0</td>\n",
       "      <td>0.0</td>\n",
       "      <td>1.0</td>\n",
       "      <td>0.0</td>\n",
       "      <td>0.0</td>\n",
       "      <td>8.006368</td>\n",
       "      <td>8.006368</td>\n",
       "      <td>0.0</td>\n",
       "    </tr>\n",
       "    <tr>\n",
       "      <th>2488</th>\n",
       "      <td>a</td>\n",
       "      <td>a</td>\n",
       "      <td>W</td>\n",
       "      <td>9.061840</td>\n",
       "      <td>5.476464</td>\n",
       "      <td>NaN</td>\n",
       "      <td>NaN</td>\n",
       "      <td>a</td>\n",
       "      <td>0.0</td>\n",
       "      <td>0.0</td>\n",
       "      <td>0.0</td>\n",
       "      <td>0.0</td>\n",
       "      <td>0.0</td>\n",
       "      <td>-inf</td>\n",
       "      <td>-inf</td>\n",
       "      <td>0.0</td>\n",
       "    </tr>\n",
       "    <tr>\n",
       "      <th>...</th>\n",
       "      <td>...</td>\n",
       "      <td>...</td>\n",
       "      <td>...</td>\n",
       "      <td>...</td>\n",
       "      <td>...</td>\n",
       "      <td>...</td>\n",
       "      <td>...</td>\n",
       "      <td>...</td>\n",
       "      <td>...</td>\n",
       "      <td>...</td>\n",
       "      <td>...</td>\n",
       "      <td>...</td>\n",
       "      <td>...</td>\n",
       "      <td>...</td>\n",
       "      <td>...</td>\n",
       "      <td>...</td>\n",
       "    </tr>\n",
       "    <tr>\n",
       "      <th>2579</th>\n",
       "      <td>b</td>\n",
       "      <td>a</td>\n",
       "      <td>W</td>\n",
       "      <td>11.307253</td>\n",
       "      <td>6.665684</td>\n",
       "      <td>6.068426</td>\n",
       "      <td>5.017280</td>\n",
       "      <td>b</td>\n",
       "      <td>0.0</td>\n",
       "      <td>0.0</td>\n",
       "      <td>0.0</td>\n",
       "      <td>0.0</td>\n",
       "      <td>0.0</td>\n",
       "      <td>-inf</td>\n",
       "      <td>-inf</td>\n",
       "      <td>0.0</td>\n",
       "    </tr>\n",
       "    <tr>\n",
       "      <th>2580</th>\n",
       "      <td>b</td>\n",
       "      <td>a</td>\n",
       "      <td>W</td>\n",
       "      <td>10.648041</td>\n",
       "      <td>6.318968</td>\n",
       "      <td>5.361292</td>\n",
       "      <td>4.770685</td>\n",
       "      <td>a</td>\n",
       "      <td>0.0</td>\n",
       "      <td>0.0</td>\n",
       "      <td>0.0</td>\n",
       "      <td>0.0</td>\n",
       "      <td>0.0</td>\n",
       "      <td>-inf</td>\n",
       "      <td>-inf</td>\n",
       "      <td>0.0</td>\n",
       "    </tr>\n",
       "    <tr>\n",
       "      <th>2581</th>\n",
       "      <td>b</td>\n",
       "      <td>a</td>\n",
       "      <td>W</td>\n",
       "      <td>10.202110</td>\n",
       "      <td>6.291569</td>\n",
       "      <td>4.615121</td>\n",
       "      <td>4.718499</td>\n",
       "      <td>a</td>\n",
       "      <td>0.0</td>\n",
       "      <td>0.0</td>\n",
       "      <td>0.0</td>\n",
       "      <td>0.0</td>\n",
       "      <td>0.0</td>\n",
       "      <td>-inf</td>\n",
       "      <td>-inf</td>\n",
       "      <td>0.0</td>\n",
       "    </tr>\n",
       "    <tr>\n",
       "      <th>2582</th>\n",
       "      <td>a</td>\n",
       "      <td>a</td>\n",
       "      <td>W</td>\n",
       "      <td>9.688436</td>\n",
       "      <td>5.774552</td>\n",
       "      <td>0.693147</td>\n",
       "      <td>0.693147</td>\n",
       "      <td>a</td>\n",
       "      <td>0.0</td>\n",
       "      <td>0.0</td>\n",
       "      <td>0.0</td>\n",
       "      <td>0.0</td>\n",
       "      <td>0.0</td>\n",
       "      <td>-inf</td>\n",
       "      <td>-inf</td>\n",
       "      <td>0.0</td>\n",
       "    </tr>\n",
       "    <tr>\n",
       "      <th>2583</th>\n",
       "      <td>a</td>\n",
       "      <td>a</td>\n",
       "      <td>W</td>\n",
       "      <td>9.453287</td>\n",
       "      <td>5.459586</td>\n",
       "      <td>NaN</td>\n",
       "      <td>NaN</td>\n",
       "      <td>a</td>\n",
       "      <td>0.0</td>\n",
       "      <td>0.0</td>\n",
       "      <td>0.0</td>\n",
       "      <td>0.0</td>\n",
       "      <td>0.0</td>\n",
       "      <td>-inf</td>\n",
       "      <td>-inf</td>\n",
       "      <td>0.0</td>\n",
       "    </tr>\n",
       "  </tbody>\n",
       "</table>\n",
       "<p>100 rows × 16 columns</p>\n",
       "</div>"
      ],
      "text/plain": [
       "     seismic seismoacoustic shift    genergy     gpuls  gdenergy    gdpuls  \\\n",
       "2484       a              a     W   9.370757  5.627621       NaN       NaN   \n",
       "2485       a              a     W   9.006999  4.997212       NaN       NaN   \n",
       "2486       a              a     W   9.383453  6.163315  3.135494  2.302585   \n",
       "2487       a              a     W   9.218309  5.855072  2.397895  3.688879   \n",
       "2488       a              a     W   9.061840  5.476464       NaN       NaN   \n",
       "...      ...            ...   ...        ...       ...       ...       ...   \n",
       "2579       b              a     W  11.307253  6.665684  6.068426  5.017280   \n",
       "2580       b              a     W  10.648041  6.318968  5.361292  4.770685   \n",
       "2581       b              a     W  10.202110  6.291569  4.615121  4.718499   \n",
       "2582       a              a     W   9.688436  5.774552  0.693147  0.693147   \n",
       "2583       a              a     W   9.453287  5.459586       NaN       NaN   \n",
       "\n",
       "     hazard  nbumps  nbumps2  nbumps3  nbumps4  nbumps5    energy  maxenergy  \\\n",
       "2484      a     0.0      0.0      0.0      0.0      0.0      -inf       -inf   \n",
       "2485      a     1.0      1.0      0.0      0.0      0.0  5.703782   5.703782   \n",
       "2486      a     0.0      0.0      0.0      0.0      0.0      -inf       -inf   \n",
       "2487      a     1.0      0.0      1.0      0.0      0.0  8.006368   8.006368   \n",
       "2488      a     0.0      0.0      0.0      0.0      0.0      -inf       -inf   \n",
       "...     ...     ...      ...      ...      ...      ...       ...        ...   \n",
       "2579      b     0.0      0.0      0.0      0.0      0.0      -inf       -inf   \n",
       "2580      a     0.0      0.0      0.0      0.0      0.0      -inf       -inf   \n",
       "2581      a     0.0      0.0      0.0      0.0      0.0      -inf       -inf   \n",
       "2582      a     0.0      0.0      0.0      0.0      0.0      -inf       -inf   \n",
       "2583      a     0.0      0.0      0.0      0.0      0.0      -inf       -inf   \n",
       "\n",
       "      class  \n",
       "2484    0.0  \n",
       "2485    0.0  \n",
       "2486    0.0  \n",
       "2487    0.0  \n",
       "2488    0.0  \n",
       "...     ...  \n",
       "2579    0.0  \n",
       "2580    0.0  \n",
       "2581    0.0  \n",
       "2582    0.0  \n",
       "2583    0.0  \n",
       "\n",
       "[100 rows x 16 columns]"
      ]
     },
     "execution_count": 43,
     "metadata": {},
     "output_type": "execute_result"
    }
   ],
   "source": [
    "df = df.drop('nbumps6', 1) \n",
    "df = df.drop('nbumps7', 1) \n",
    "df = df.drop('nbumps89', 1) \n",
    "df.head() \n",
    "df.tail(100) # per vedere se il 2 ha qualche numero\n"
   ]
  },
  {
   "cell_type": "code",
   "execution_count": 44,
   "id": "573ca778",
   "metadata": {},
   "outputs": [
    {
     "data": {
      "text/html": [
       "<div>\n",
       "<style scoped>\n",
       "    .dataframe tbody tr th:only-of-type {\n",
       "        vertical-align: middle;\n",
       "    }\n",
       "\n",
       "    .dataframe tbody tr th {\n",
       "        vertical-align: top;\n",
       "    }\n",
       "\n",
       "    .dataframe thead th {\n",
       "        text-align: right;\n",
       "    }\n",
       "</style>\n",
       "<table border=\"1\" class=\"dataframe\">\n",
       "  <thead>\n",
       "    <tr style=\"text-align: right;\">\n",
       "      <th></th>\n",
       "      <th>genergy</th>\n",
       "      <th>gpuls</th>\n",
       "      <th>gdenergy</th>\n",
       "      <th>gdpuls</th>\n",
       "      <th>nbumps</th>\n",
       "      <th>nbumps2</th>\n",
       "      <th>nbumps3</th>\n",
       "      <th>nbumps4</th>\n",
       "      <th>nbumps5</th>\n",
       "      <th>energy</th>\n",
       "      <th>maxenergy</th>\n",
       "      <th>class</th>\n",
       "    </tr>\n",
       "  </thead>\n",
       "  <tbody>\n",
       "    <tr>\n",
       "      <th>genergy</th>\n",
       "      <td>1.000000</td>\n",
       "      <td>0.775962</td>\n",
       "      <td>0.062410</td>\n",
       "      <td>0.032245</td>\n",
       "      <td>0.413645</td>\n",
       "      <td>0.303243</td>\n",
       "      <td>0.342068</td>\n",
       "      <td>0.224714</td>\n",
       "      <td>0.025477</td>\n",
       "      <td>0.254448</td>\n",
       "      <td>0.214909</td>\n",
       "      <td>0.193425</td>\n",
       "    </tr>\n",
       "    <tr>\n",
       "      <th>gpuls</th>\n",
       "      <td>0.775962</td>\n",
       "      <td>1.000000</td>\n",
       "      <td>0.201969</td>\n",
       "      <td>0.192696</td>\n",
       "      <td>0.283790</td>\n",
       "      <td>0.213291</td>\n",
       "      <td>0.209652</td>\n",
       "      <td>0.202308</td>\n",
       "      <td>0.043079</td>\n",
       "      <td>0.217750</td>\n",
       "      <td>0.192294</td>\n",
       "      <td>0.166411</td>\n",
       "    </tr>\n",
       "    <tr>\n",
       "      <th>gdenergy</th>\n",
       "      <td>0.062410</td>\n",
       "      <td>0.201969</td>\n",
       "      <td>1.000000</td>\n",
       "      <td>0.563289</td>\n",
       "      <td>-0.030660</td>\n",
       "      <td>-0.025966</td>\n",
       "      <td>-0.046787</td>\n",
       "      <td>0.034329</td>\n",
       "      <td>0.056533</td>\n",
       "      <td>-0.035208</td>\n",
       "      <td>-0.018719</td>\n",
       "      <td>0.025541</td>\n",
       "    </tr>\n",
       "    <tr>\n",
       "      <th>gdpuls</th>\n",
       "      <td>0.032245</td>\n",
       "      <td>0.192696</td>\n",
       "      <td>0.563289</td>\n",
       "      <td>1.000000</td>\n",
       "      <td>0.013619</td>\n",
       "      <td>0.014604</td>\n",
       "      <td>-0.021652</td>\n",
       "      <td>0.066963</td>\n",
       "      <td>0.039557</td>\n",
       "      <td>0.085260</td>\n",
       "      <td>0.087605</td>\n",
       "      <td>-0.043814</td>\n",
       "    </tr>\n",
       "    <tr>\n",
       "      <th>nbumps</th>\n",
       "      <td>0.413645</td>\n",
       "      <td>0.283790</td>\n",
       "      <td>-0.030660</td>\n",
       "      <td>0.013619</td>\n",
       "      <td>1.000000</td>\n",
       "      <td>0.804978</td>\n",
       "      <td>0.803364</td>\n",
       "      <td>0.395052</td>\n",
       "      <td>0.069613</td>\n",
       "      <td>0.483994</td>\n",
       "      <td>0.358197</td>\n",
       "      <td>0.248144</td>\n",
       "    </tr>\n",
       "    <tr>\n",
       "      <th>nbumps2</th>\n",
       "      <td>0.303243</td>\n",
       "      <td>0.213291</td>\n",
       "      <td>-0.025966</td>\n",
       "      <td>0.014604</td>\n",
       "      <td>0.804978</td>\n",
       "      <td>1.000000</td>\n",
       "      <td>0.350724</td>\n",
       "      <td>0.161296</td>\n",
       "      <td>-0.005251</td>\n",
       "      <td>-0.058494</td>\n",
       "      <td>-0.164534</td>\n",
       "      <td>0.201381</td>\n",
       "    </tr>\n",
       "    <tr>\n",
       "      <th>nbumps3</th>\n",
       "      <td>0.342068</td>\n",
       "      <td>0.209652</td>\n",
       "      <td>-0.046787</td>\n",
       "      <td>-0.021652</td>\n",
       "      <td>0.803364</td>\n",
       "      <td>0.350724</td>\n",
       "      <td>1.000000</td>\n",
       "      <td>0.175301</td>\n",
       "      <td>0.046498</td>\n",
       "      <td>0.507416</td>\n",
       "      <td>0.418037</td>\n",
       "      <td>0.205327</td>\n",
       "    </tr>\n",
       "    <tr>\n",
       "      <th>nbumps4</th>\n",
       "      <td>0.224714</td>\n",
       "      <td>0.202308</td>\n",
       "      <td>0.034329</td>\n",
       "      <td>0.066963</td>\n",
       "      <td>0.395052</td>\n",
       "      <td>0.161296</td>\n",
       "      <td>0.175301</td>\n",
       "      <td>1.000000</td>\n",
       "      <td>-0.016580</td>\n",
       "      <td>0.604201</td>\n",
       "      <td>0.617501</td>\n",
       "      <td>0.075458</td>\n",
       "    </tr>\n",
       "    <tr>\n",
       "      <th>nbumps5</th>\n",
       "      <td>0.025477</td>\n",
       "      <td>0.043079</td>\n",
       "      <td>0.056533</td>\n",
       "      <td>0.039557</td>\n",
       "      <td>0.069613</td>\n",
       "      <td>-0.005251</td>\n",
       "      <td>0.046498</td>\n",
       "      <td>-0.016580</td>\n",
       "      <td>1.000000</td>\n",
       "      <td>0.280254</td>\n",
       "      <td>0.298835</td>\n",
       "      <td>0.004834</td>\n",
       "    </tr>\n",
       "    <tr>\n",
       "      <th>energy</th>\n",
       "      <td>0.254448</td>\n",
       "      <td>0.217750</td>\n",
       "      <td>-0.035208</td>\n",
       "      <td>0.085260</td>\n",
       "      <td>0.483994</td>\n",
       "      <td>-0.058494</td>\n",
       "      <td>0.507416</td>\n",
       "      <td>0.604201</td>\n",
       "      <td>0.280254</td>\n",
       "      <td>1.000000</td>\n",
       "      <td>0.983513</td>\n",
       "      <td>0.106502</td>\n",
       "    </tr>\n",
       "    <tr>\n",
       "      <th>maxenergy</th>\n",
       "      <td>0.214909</td>\n",
       "      <td>0.192294</td>\n",
       "      <td>-0.018719</td>\n",
       "      <td>0.087605</td>\n",
       "      <td>0.358197</td>\n",
       "      <td>-0.164534</td>\n",
       "      <td>0.418037</td>\n",
       "      <td>0.617501</td>\n",
       "      <td>0.298835</td>\n",
       "      <td>0.983513</td>\n",
       "      <td>1.000000</td>\n",
       "      <td>0.081458</td>\n",
       "    </tr>\n",
       "    <tr>\n",
       "      <th>class</th>\n",
       "      <td>0.193425</td>\n",
       "      <td>0.166411</td>\n",
       "      <td>0.025541</td>\n",
       "      <td>-0.043814</td>\n",
       "      <td>0.248144</td>\n",
       "      <td>0.201381</td>\n",
       "      <td>0.205327</td>\n",
       "      <td>0.075458</td>\n",
       "      <td>0.004834</td>\n",
       "      <td>0.106502</td>\n",
       "      <td>0.081458</td>\n",
       "      <td>1.000000</td>\n",
       "    </tr>\n",
       "  </tbody>\n",
       "</table>\n",
       "</div>"
      ],
      "text/plain": [
       "            genergy     gpuls  gdenergy    gdpuls    nbumps   nbumps2  \\\n",
       "genergy    1.000000  0.775962  0.062410  0.032245  0.413645  0.303243   \n",
       "gpuls      0.775962  1.000000  0.201969  0.192696  0.283790  0.213291   \n",
       "gdenergy   0.062410  0.201969  1.000000  0.563289 -0.030660 -0.025966   \n",
       "gdpuls     0.032245  0.192696  0.563289  1.000000  0.013619  0.014604   \n",
       "nbumps     0.413645  0.283790 -0.030660  0.013619  1.000000  0.804978   \n",
       "nbumps2    0.303243  0.213291 -0.025966  0.014604  0.804978  1.000000   \n",
       "nbumps3    0.342068  0.209652 -0.046787 -0.021652  0.803364  0.350724   \n",
       "nbumps4    0.224714  0.202308  0.034329  0.066963  0.395052  0.161296   \n",
       "nbumps5    0.025477  0.043079  0.056533  0.039557  0.069613 -0.005251   \n",
       "energy     0.254448  0.217750 -0.035208  0.085260  0.483994 -0.058494   \n",
       "maxenergy  0.214909  0.192294 -0.018719  0.087605  0.358197 -0.164534   \n",
       "class      0.193425  0.166411  0.025541 -0.043814  0.248144  0.201381   \n",
       "\n",
       "            nbumps3   nbumps4   nbumps5    energy  maxenergy     class  \n",
       "genergy    0.342068  0.224714  0.025477  0.254448   0.214909  0.193425  \n",
       "gpuls      0.209652  0.202308  0.043079  0.217750   0.192294  0.166411  \n",
       "gdenergy  -0.046787  0.034329  0.056533 -0.035208  -0.018719  0.025541  \n",
       "gdpuls    -0.021652  0.066963  0.039557  0.085260   0.087605 -0.043814  \n",
       "nbumps     0.803364  0.395052  0.069613  0.483994   0.358197  0.248144  \n",
       "nbumps2    0.350724  0.161296 -0.005251 -0.058494  -0.164534  0.201381  \n",
       "nbumps3    1.000000  0.175301  0.046498  0.507416   0.418037  0.205327  \n",
       "nbumps4    0.175301  1.000000 -0.016580  0.604201   0.617501  0.075458  \n",
       "nbumps5    0.046498 -0.016580  1.000000  0.280254   0.298835  0.004834  \n",
       "energy     0.507416  0.604201  0.280254  1.000000   0.983513  0.106502  \n",
       "maxenergy  0.418037  0.617501  0.298835  0.983513   1.000000  0.081458  \n",
       "class      0.205327  0.075458  0.004834  0.106502   0.081458  1.000000  "
      ]
     },
     "execution_count": 44,
     "metadata": {},
     "output_type": "execute_result"
    }
   ],
   "source": [
    "df.corr() #vedo correlazione senza valori inutili"
   ]
  },
  {
   "cell_type": "code",
   "execution_count": 45,
   "id": "dc10c469",
   "metadata": {},
   "outputs": [
    {
     "data": {
      "text/plain": [
       "(array([ 0.5,  1.5,  2.5,  3.5,  4.5,  5.5,  6.5,  7.5,  8.5,  9.5, 10.5,\n",
       "        11.5]),\n",
       " [Text(0, 0.5, 'genergy'),\n",
       "  Text(0, 1.5, 'gpuls'),\n",
       "  Text(0, 2.5, 'gdenergy'),\n",
       "  Text(0, 3.5, 'gdpuls'),\n",
       "  Text(0, 4.5, 'nbumps'),\n",
       "  Text(0, 5.5, 'nbumps2'),\n",
       "  Text(0, 6.5, 'nbumps3'),\n",
       "  Text(0, 7.5, 'nbumps4'),\n",
       "  Text(0, 8.5, 'nbumps5'),\n",
       "  Text(0, 9.5, 'energy'),\n",
       "  Text(0, 10.5, 'maxenergy'),\n",
       "  Text(0, 11.5, 'class')])"
      ]
     },
     "execution_count": 45,
     "metadata": {},
     "output_type": "execute_result"
    },
    {
     "data": {
      "image/png": "[encoded data removed]",
      "text/plain": [
       "<Figure size 720x720 with 2 Axes>"
      ]
     },
     "metadata": {
      "needs_background": "light"
     },
     "output_type": "display_data"
    }
   ],
   "source": [
    "dfcorrelazione = df.corr()\n",
    "plt.figure(figsize=[10, 10])\n",
    "sns.heatmap(data=dfcorrelazione, vmin=-1, vmax=1, cmap='gist_earth_r', annot=True, square=True, linewidths=1)\n",
    "plt.xticks(rotation=90)\n",
    "plt.yticks(rotation=0)"
   ]
  },
  {
   "cell_type": "code",
   "execution_count": 46,
   "id": "1953140a",
   "metadata": {},
   "outputs": [
    {
     "ename": "TypeError",
     "evalue": "unsupported operand type(s) for /: 'str' and 'int'",
     "output_type": "error",
     "traceback": [
      "\u001b[1;31m---------------------------------------------------------------------------\u001b[0m",
      "\u001b[1;31mTypeError\u001b[0m                                 Traceback (most recent call last)",
      "\u001b[1;32m<ipython-input-46-0afa67880a45>\u001b[0m in \u001b[0;36m<module>\u001b[1;34m\u001b[0m\n\u001b[0;32m      1\u001b[0m \u001b[0mtable\u001b[0m \u001b[1;33m=\u001b[0m \u001b[1;33m[\u001b[0m\u001b[1;33m]\u001b[0m\u001b[1;33m\u001b[0m\u001b[1;33m\u001b[0m\u001b[0m\n\u001b[0;32m      2\u001b[0m \u001b[1;32mfor\u001b[0m \u001b[0me\u001b[0m \u001b[1;32min\u001b[0m \u001b[0mdf\u001b[0m\u001b[1;33m:\u001b[0m\u001b[1;33m\u001b[0m\u001b[1;33m\u001b[0m\u001b[0m\n\u001b[1;32m----> 3\u001b[1;33m     \u001b[0mtable\u001b[0m\u001b[1;33m.\u001b[0m\u001b[0mappend\u001b[0m\u001b[1;33m(\u001b[0m\u001b[1;33m[\u001b[0m\u001b[0me\u001b[0m\u001b[1;33m,\u001b[0m \u001b[0mdf\u001b[0m\u001b[1;33m[\u001b[0m\u001b[1;34m'class'\u001b[0m\u001b[1;33m]\u001b[0m\u001b[1;33m.\u001b[0m\u001b[0mcorr\u001b[0m\u001b[1;33m(\u001b[0m\u001b[0mdf\u001b[0m\u001b[1;33m[\u001b[0m\u001b[0me\u001b[0m\u001b[1;33m]\u001b[0m\u001b[1;33m)\u001b[0m\u001b[1;33m]\u001b[0m\u001b[1;33m)\u001b[0m\u001b[1;33m\u001b[0m\u001b[1;33m\u001b[0m\u001b[0m\n\u001b[0m\u001b[0;32m      4\u001b[0m \u001b[0mprint\u001b[0m\u001b[1;33m(\u001b[0m\u001b[0mtabulate\u001b[0m\u001b[1;33m(\u001b[0m\u001b[0mtable\u001b[0m\u001b[1;33m)\u001b[0m\u001b[1;33m)\u001b[0m\u001b[1;33m\u001b[0m\u001b[1;33m\u001b[0m\u001b[0m\n",
      "\u001b[1;32m~\\anaconda3\\lib\\site-packages\\pandas\\core\\series.py\u001b[0m in \u001b[0;36mcorr\u001b[1;34m(self, other, method, min_periods)\u001b[0m\n\u001b[0;32m   2325\u001b[0m \u001b[1;33m\u001b[0m\u001b[0m\n\u001b[0;32m   2326\u001b[0m         \u001b[1;32mif\u001b[0m \u001b[0mmethod\u001b[0m \u001b[1;32min\u001b[0m \u001b[1;33m[\u001b[0m\u001b[1;34m\"pearson\"\u001b[0m\u001b[1;33m,\u001b[0m \u001b[1;34m\"spearman\"\u001b[0m\u001b[1;33m,\u001b[0m \u001b[1;34m\"kendall\"\u001b[0m\u001b[1;33m]\u001b[0m \u001b[1;32mor\u001b[0m \u001b[0mcallable\u001b[0m\u001b[1;33m(\u001b[0m\u001b[0mmethod\u001b[0m\u001b[1;33m)\u001b[0m\u001b[1;33m:\u001b[0m\u001b[1;33m\u001b[0m\u001b[1;33m\u001b[0m\u001b[0m\n\u001b[1;32m-> 2327\u001b[1;33m             return nanops.nancorr(\n\u001b[0m\u001b[0;32m   2328\u001b[0m                 \u001b[0mthis\u001b[0m\u001b[1;33m.\u001b[0m\u001b[0mvalues\u001b[0m\u001b[1;33m,\u001b[0m \u001b[0mother\u001b[0m\u001b[1;33m.\u001b[0m\u001b[0mvalues\u001b[0m\u001b[1;33m,\u001b[0m \u001b[0mmethod\u001b[0m\u001b[1;33m=\u001b[0m\u001b[0mmethod\u001b[0m\u001b[1;33m,\u001b[0m \u001b[0mmin_periods\u001b[0m\u001b[1;33m=\u001b[0m\u001b[0mmin_periods\u001b[0m\u001b[1;33m\u001b[0m\u001b[1;33m\u001b[0m\u001b[0m\n\u001b[0;32m   2329\u001b[0m             )\n",
      "\u001b[1;32m~\\anaconda3\\lib\\site-packages\\pandas\\core\\nanops.py\u001b[0m in \u001b[0;36m_f\u001b[1;34m(*args, **kwargs)\u001b[0m\n\u001b[0;32m     71\u001b[0m             \u001b[1;32mtry\u001b[0m\u001b[1;33m:\u001b[0m\u001b[1;33m\u001b[0m\u001b[1;33m\u001b[0m\u001b[0m\n\u001b[0;32m     72\u001b[0m                 \u001b[1;32mwith\u001b[0m \u001b[0mnp\u001b[0m\u001b[1;33m.\u001b[0m\u001b[0merrstate\u001b[0m\u001b[1;33m(\u001b[0m\u001b[0minvalid\u001b[0m\u001b[1;33m=\u001b[0m\u001b[1;34m\"ignore\"\u001b[0m\u001b[1;33m)\u001b[0m\u001b[1;33m:\u001b[0m\u001b[1;33m\u001b[0m\u001b[1;33m\u001b[0m\u001b[0m\n\u001b[1;32m---> 73\u001b[1;33m                     \u001b[1;32mreturn\u001b[0m \u001b[0mf\u001b[0m\u001b[1;33m(\u001b[0m\u001b[1;33m*\u001b[0m\u001b[0margs\u001b[0m\u001b[1;33m,\u001b[0m \u001b[1;33m**\u001b[0m\u001b[0mkwargs\u001b[0m\u001b[1;33m)\u001b[0m\u001b[1;33m\u001b[0m\u001b[1;33m\u001b[0m\u001b[0m\n\u001b[0m\u001b[0;32m     74\u001b[0m             \u001b[1;32mexcept\u001b[0m \u001b[0mValueError\u001b[0m \u001b[1;32mas\u001b[0m \u001b[0me\u001b[0m\u001b[1;33m:\u001b[0m\u001b[1;33m\u001b[0m\u001b[1;33m\u001b[0m\u001b[0m\n\u001b[0;32m     75\u001b[0m                 \u001b[1;31m# we want to transform an object array\u001b[0m\u001b[1;33m\u001b[0m\u001b[1;33m\u001b[0m\u001b[1;33m\u001b[0m\u001b[0m\n",
      "\u001b[1;32m~\\anaconda3\\lib\\site-packages\\pandas\\core\\nanops.py\u001b[0m in \u001b[0;36mnancorr\u001b[1;34m(a, b, method, min_periods)\u001b[0m\n\u001b[0;32m   1459\u001b[0m \u001b[1;33m\u001b[0m\u001b[0m\n\u001b[0;32m   1460\u001b[0m     \u001b[0mf\u001b[0m \u001b[1;33m=\u001b[0m \u001b[0mget_corr_func\u001b[0m\u001b[1;33m(\u001b[0m\u001b[0mmethod\u001b[0m\u001b[1;33m)\u001b[0m\u001b[1;33m\u001b[0m\u001b[1;33m\u001b[0m\u001b[0m\n\u001b[1;32m-> 1461\u001b[1;33m     \u001b[1;32mreturn\u001b[0m \u001b[0mf\u001b[0m\u001b[1;33m(\u001b[0m\u001b[0ma\u001b[0m\u001b[1;33m,\u001b[0m \u001b[0mb\u001b[0m\u001b[1;33m)\u001b[0m\u001b[1;33m\u001b[0m\u001b[1;33m\u001b[0m\u001b[0m\n\u001b[0m\u001b[0;32m   1462\u001b[0m \u001b[1;33m\u001b[0m\u001b[0m\n\u001b[0;32m   1463\u001b[0m \u001b[1;33m\u001b[0m\u001b[0m\n",
      "\u001b[1;32m~\\anaconda3\\lib\\site-packages\\pandas\\core\\nanops.py\u001b[0m in \u001b[0;36mfunc\u001b[1;34m(a, b)\u001b[0m\n\u001b[0;32m   1480\u001b[0m \u001b[1;33m\u001b[0m\u001b[0m\n\u001b[0;32m   1481\u001b[0m         \u001b[1;32mdef\u001b[0m \u001b[0mfunc\u001b[0m\u001b[1;33m(\u001b[0m\u001b[0ma\u001b[0m\u001b[1;33m,\u001b[0m \u001b[0mb\u001b[0m\u001b[1;33m)\u001b[0m\u001b[1;33m:\u001b[0m\u001b[1;33m\u001b[0m\u001b[1;33m\u001b[0m\u001b[0m\n\u001b[1;32m-> 1482\u001b[1;33m             \u001b[1;32mreturn\u001b[0m \u001b[0mnp\u001b[0m\u001b[1;33m.\u001b[0m\u001b[0mcorrcoef\u001b[0m\u001b[1;33m(\u001b[0m\u001b[0ma\u001b[0m\u001b[1;33m,\u001b[0m \u001b[0mb\u001b[0m\u001b[1;33m)\u001b[0m\u001b[1;33m[\u001b[0m\u001b[1;36m0\u001b[0m\u001b[1;33m,\u001b[0m \u001b[1;36m1\u001b[0m\u001b[1;33m]\u001b[0m\u001b[1;33m\u001b[0m\u001b[1;33m\u001b[0m\u001b[0m\n\u001b[0m\u001b[0;32m   1483\u001b[0m \u001b[1;33m\u001b[0m\u001b[0m\n\u001b[0;32m   1484\u001b[0m         \u001b[1;32mreturn\u001b[0m \u001b[0mfunc\u001b[0m\u001b[1;33m\u001b[0m\u001b[1;33m\u001b[0m\u001b[0m\n",
      "\u001b[1;32m<__array_function__ internals>\u001b[0m in \u001b[0;36mcorrcoef\u001b[1;34m(*args, **kwargs)\u001b[0m\n",
      "\u001b[1;32m~\\anaconda3\\lib\\site-packages\\numpy\\lib\\function_base.py\u001b[0m in \u001b[0;36mcorrcoef\u001b[1;34m(x, y, rowvar, bias, ddof, dtype)\u001b[0m\n\u001b[0;32m   2632\u001b[0m         warnings.warn('bias and ddof have no effect and are deprecated',\n\u001b[0;32m   2633\u001b[0m                       DeprecationWarning, stacklevel=3)\n\u001b[1;32m-> 2634\u001b[1;33m     \u001b[0mc\u001b[0m \u001b[1;33m=\u001b[0m \u001b[0mcov\u001b[0m\u001b[1;33m(\u001b[0m\u001b[0mx\u001b[0m\u001b[1;33m,\u001b[0m \u001b[0my\u001b[0m\u001b[1;33m,\u001b[0m \u001b[0mrowvar\u001b[0m\u001b[1;33m,\u001b[0m \u001b[0mdtype\u001b[0m\u001b[1;33m=\u001b[0m\u001b[0mdtype\u001b[0m\u001b[1;33m)\u001b[0m\u001b[1;33m\u001b[0m\u001b[1;33m\u001b[0m\u001b[0m\n\u001b[0m\u001b[0;32m   2635\u001b[0m     \u001b[1;32mtry\u001b[0m\u001b[1;33m:\u001b[0m\u001b[1;33m\u001b[0m\u001b[1;33m\u001b[0m\u001b[0m\n\u001b[0;32m   2636\u001b[0m         \u001b[0md\u001b[0m \u001b[1;33m=\u001b[0m \u001b[0mdiag\u001b[0m\u001b[1;33m(\u001b[0m\u001b[0mc\u001b[0m\u001b[1;33m)\u001b[0m\u001b[1;33m\u001b[0m\u001b[1;33m\u001b[0m\u001b[0m\n",
      "\u001b[1;32m<__array_function__ internals>\u001b[0m in \u001b[0;36mcov\u001b[1;34m(*args, **kwargs)\u001b[0m\n",
      "\u001b[1;32m~\\anaconda3\\lib\\site-packages\\numpy\\lib\\function_base.py\u001b[0m in \u001b[0;36mcov\u001b[1;34m(m, y, rowvar, bias, ddof, fweights, aweights, dtype)\u001b[0m\n\u001b[0;32m   2467\u001b[0m             \u001b[0mw\u001b[0m \u001b[1;33m*=\u001b[0m \u001b[0maweights\u001b[0m\u001b[1;33m\u001b[0m\u001b[1;33m\u001b[0m\u001b[0m\n\u001b[0;32m   2468\u001b[0m \u001b[1;33m\u001b[0m\u001b[0m\n\u001b[1;32m-> 2469\u001b[1;33m     \u001b[0mavg\u001b[0m\u001b[1;33m,\u001b[0m \u001b[0mw_sum\u001b[0m \u001b[1;33m=\u001b[0m \u001b[0maverage\u001b[0m\u001b[1;33m(\u001b[0m\u001b[0mX\u001b[0m\u001b[1;33m,\u001b[0m \u001b[0maxis\u001b[0m\u001b[1;33m=\u001b[0m\u001b[1;36m1\u001b[0m\u001b[1;33m,\u001b[0m \u001b[0mweights\u001b[0m\u001b[1;33m=\u001b[0m\u001b[0mw\u001b[0m\u001b[1;33m,\u001b[0m \u001b[0mreturned\u001b[0m\u001b[1;33m=\u001b[0m\u001b[1;32mTrue\u001b[0m\u001b[1;33m)\u001b[0m\u001b[1;33m\u001b[0m\u001b[1;33m\u001b[0m\u001b[0m\n\u001b[0m\u001b[0;32m   2470\u001b[0m     \u001b[0mw_sum\u001b[0m \u001b[1;33m=\u001b[0m \u001b[0mw_sum\u001b[0m\u001b[1;33m[\u001b[0m\u001b[1;36m0\u001b[0m\u001b[1;33m]\u001b[0m\u001b[1;33m\u001b[0m\u001b[1;33m\u001b[0m\u001b[0m\n\u001b[0;32m   2471\u001b[0m \u001b[1;33m\u001b[0m\u001b[0m\n",
      "\u001b[1;32m<__array_function__ internals>\u001b[0m in \u001b[0;36maverage\u001b[1;34m(*args, **kwargs)\u001b[0m\n",
      "\u001b[1;32m~\\anaconda3\\lib\\site-packages\\numpy\\lib\\function_base.py\u001b[0m in \u001b[0;36maverage\u001b[1;34m(a, axis, weights, returned)\u001b[0m\n\u001b[0;32m    378\u001b[0m \u001b[1;33m\u001b[0m\u001b[0m\n\u001b[0;32m    379\u001b[0m     \u001b[1;32mif\u001b[0m \u001b[0mweights\u001b[0m \u001b[1;32mis\u001b[0m \u001b[1;32mNone\u001b[0m\u001b[1;33m:\u001b[0m\u001b[1;33m\u001b[0m\u001b[1;33m\u001b[0m\u001b[0m\n\u001b[1;32m--> 380\u001b[1;33m         \u001b[0mavg\u001b[0m \u001b[1;33m=\u001b[0m \u001b[0ma\u001b[0m\u001b[1;33m.\u001b[0m\u001b[0mmean\u001b[0m\u001b[1;33m(\u001b[0m\u001b[0maxis\u001b[0m\u001b[1;33m)\u001b[0m\u001b[1;33m\u001b[0m\u001b[1;33m\u001b[0m\u001b[0m\n\u001b[0m\u001b[0;32m    381\u001b[0m         \u001b[0mscl\u001b[0m \u001b[1;33m=\u001b[0m \u001b[0mavg\u001b[0m\u001b[1;33m.\u001b[0m\u001b[0mdtype\u001b[0m\u001b[1;33m.\u001b[0m\u001b[0mtype\u001b[0m\u001b[1;33m(\u001b[0m\u001b[0ma\u001b[0m\u001b[1;33m.\u001b[0m\u001b[0msize\u001b[0m\u001b[1;33m/\u001b[0m\u001b[0mavg\u001b[0m\u001b[1;33m.\u001b[0m\u001b[0msize\u001b[0m\u001b[1;33m)\u001b[0m\u001b[1;33m\u001b[0m\u001b[1;33m\u001b[0m\u001b[0m\n\u001b[0;32m    382\u001b[0m     \u001b[1;32melse\u001b[0m\u001b[1;33m:\u001b[0m\u001b[1;33m\u001b[0m\u001b[1;33m\u001b[0m\u001b[0m\n",
      "\u001b[1;32m~\\anaconda3\\lib\\site-packages\\numpy\\core\\_methods.py\u001b[0m in \u001b[0;36m_mean\u001b[1;34m(a, axis, dtype, out, keepdims, where)\u001b[0m\n\u001b[0;32m    178\u001b[0m     \u001b[0mret\u001b[0m \u001b[1;33m=\u001b[0m \u001b[0mumr_sum\u001b[0m\u001b[1;33m(\u001b[0m\u001b[0marr\u001b[0m\u001b[1;33m,\u001b[0m \u001b[0maxis\u001b[0m\u001b[1;33m,\u001b[0m \u001b[0mdtype\u001b[0m\u001b[1;33m,\u001b[0m \u001b[0mout\u001b[0m\u001b[1;33m,\u001b[0m \u001b[0mkeepdims\u001b[0m\u001b[1;33m,\u001b[0m \u001b[0mwhere\u001b[0m\u001b[1;33m=\u001b[0m\u001b[0mwhere\u001b[0m\u001b[1;33m)\u001b[0m\u001b[1;33m\u001b[0m\u001b[1;33m\u001b[0m\u001b[0m\n\u001b[0;32m    179\u001b[0m     \u001b[1;32mif\u001b[0m \u001b[0misinstance\u001b[0m\u001b[1;33m(\u001b[0m\u001b[0mret\u001b[0m\u001b[1;33m,\u001b[0m \u001b[0mmu\u001b[0m\u001b[1;33m.\u001b[0m\u001b[0mndarray\u001b[0m\u001b[1;33m)\u001b[0m\u001b[1;33m:\u001b[0m\u001b[1;33m\u001b[0m\u001b[1;33m\u001b[0m\u001b[0m\n\u001b[1;32m--> 180\u001b[1;33m         ret = um.true_divide(\n\u001b[0m\u001b[0;32m    181\u001b[0m                 ret, rcount, out=ret, casting='unsafe', subok=False)\n\u001b[0;32m    182\u001b[0m         \u001b[1;32mif\u001b[0m \u001b[0mis_float16_result\u001b[0m \u001b[1;32mand\u001b[0m \u001b[0mout\u001b[0m \u001b[1;32mis\u001b[0m \u001b[1;32mNone\u001b[0m\u001b[1;33m:\u001b[0m\u001b[1;33m\u001b[0m\u001b[1;33m\u001b[0m\u001b[0m\n",
      "\u001b[1;31mTypeError\u001b[0m: unsupported operand type(s) for /: 'str' and 'int'"
     ]
    }
   ],
   "source": [
    "table = []\n",
    "for e in df:\n",
    "    table.append([e, df['class'].corr(df[e])])\n",
    "print(tabulate(table))"
   ]
  },
  {
   "cell_type": "code",
   "execution_count": null,
   "id": "885060f1",
   "metadata": {},
   "outputs": [],
   "source": [
    "df = df.drop('seismoacoustic', 1) \n",
    "df = df.drop('gdenergy', 1)\n",
    "df = df.drop('gdpuls', 1)\n",
    "df = df.drop('nbumps5', 1)\n",
    "df = df.drop('energy', 1)\n",
    "df = df.drop('maxenergy', 1)"
   ]
  },
  {
   "cell_type": "code",
   "execution_count": null,
   "id": "511d0bf9",
   "metadata": {},
   "outputs": [],
   "source": [
    "table = []\n",
    "for e in df:\n",
    "    table.append([e, df['class'].corr(df[e])])\n",
    "print(tabulate(table))"
   ]
  },
  {
   "cell_type": "code",
   "execution_count": null,
   "id": "79cd279f",
   "metadata": {},
   "outputs": [],
   "source": [
    "table = []\n",
    "for e in df:\n",
    "    for el in df:\n",
    "        table.append([e, el, df[e].corr(df[el])])\n",
    "print(tabulate(table))"
   ]
  },
  {
   "cell_type": "code",
   "execution_count": null,
   "id": "69ab1cab",
   "metadata": {},
   "outputs": [],
   "source": [
    "df['class'].corr(df['seismic'])"
   ]
  },
  {
   "cell_type": "code",
   "execution_count": null,
   "id": "613602c2",
   "metadata": {},
   "outputs": [],
   "source": []
  }
 ],
 "metadata": {
  "kernelspec": {
   "display_name": "Python 3",
   "language": "python",
   "name": "python3"
  },
  "language_info": {
   "codemirror_mode": {
    "name": "ipython",
    "version": 3
   },
   "file_extension": ".py",
   "mimetype": "text/x-python",
   "name": "python",
   "nbconvert_exporter": "python",
   "pygments_lexer": "ipython3",
   "version": "3.8.8"
  }
 },
 "nbformat": 4,
 "nbformat_minor": 5
}
