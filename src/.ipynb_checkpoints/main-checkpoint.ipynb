{
 "cells": [
  {
   "cell_type": "code",
   "execution_count": 1,
   "id": "a9fda10d",
   "metadata": {},
   "outputs": [],
   "source": [
    "#Attribute information [Source]:\n",
    "#1. seismic: the result of shift seismic hazard assessment in the mine working obtained by the seismic method (a — lack of hazard, b — low hazard, c — high hazard, d — danger state);\n",
    "#2. seismoacoustic: the result of shift seismic hazard assessment in the mine working obtained by the seismoacoustic method;\n",
    "#3. shift: information about the type of a shift (W — coal-getting, N -preparation shift);\n",
    "#4. genergy: seismic energy recorded within the previous shift by the most active geophone (GMax) out of\n",
    "#geophones monitoring the longwall;\n",
    "#5. gpuls: a number of pulses recorded within the previous shift by GMax;\n",
    "#6. gdenergy: a deviation of energy recorded within the previous shift by GMax from average energy recorded during eight previous shifts;\n",
    "#7. gdpuls: a deviation of a number of pulses recorded within the previous shift by GMax from the average number of pulses recorded during eight previous shifts;\n",
    "#8. ghazard: the result of shift seismic hazard assessment in the mine working obtained by the seismoacoustic method based on registration coming to from GMax only;\n",
    "#9. nbumps: the number of seismic bumps recorded within the previous shift;\n",
    "#10. nbumps2: the number of seismic bumps (in energy range [1⁰²,1⁰³)) registered within the previous shift;\n",
    "#11. nbumps3: the number of seismic bumps (in energy range [1⁰³,1⁰⁴)) registered within the previous shift;\n",
    "#12. nbumps4: the number of seismic bumps (in energy range [1⁰⁴,1⁰⁵)) registered within the previous shift;\n",
    "#13. nbumps5: the number of seismic bumps (in energy range [1⁰⁵,1⁰⁶)) registered within the last shift;\n",
    "#14. nbumps6: the number of seismic bumps (in energy range [1⁰⁶,1⁰⁷)) registered within the previous shift;\n",
    "#15. nbumps7: the number of seismic bumps (in energy range [1⁰⁷,1⁰⁸)) registered within the previous shift;\n",
    "#16. nbumps89: the number of seismic bumps (in energy range [1⁰⁸,1⁰¹⁰)) registered within the previous shift;\n",
    "#17. energy: the total energy of seismic bumps registered within the previous shift;\n",
    "#18. maxenergy: the maximum energy of the seismic bumps registered within the previous shift;\n",
    "#19. class: the decision attribute — ‘1’ means that high energy seismic bump occurred in the next shift (‘hazardous state’), ‘0’ means that no high energy seismic bumps occurred in the next shift (‘non-hazardous state’).#"
   ]
  },
  {
   "cell_type": "code",
   "execution_count": null,
   "id": "ef963a4c",
   "metadata": {},
   "outputs": [],
   "source": [
    "!pip install tabulate\n",
    "\n",
    "%matplotlib inline\n",
    "import math\n",
    "import numpy as np\n",
    "import pandas as pd\n",
    "import scipy.stats as stats\n",
    "import matplotlib.pyplot as plt\n",
    "import seaborn as sns\n",
    "\n",
    "from tabulate import tabulate\n",
    "from collections import defaultdict\n",
    "from scipy.stats.stats import pearsonr\n",
    "\n",
    "#scaling, normalization\n",
    "from sklearn.preprocessing import StandardScaler, MinMaxScaler, RobustScaler\n",
    "#kmeans, dbscan, hierarchical (sklearn)\n",
    "from sklearn.cluster import KMeans, DBSCAN, AgglomerativeClustering\n",
    "from sklearn.neighbors import NearestNeighbors\n",
    "#evaluation\n",
    "from sklearn.metrics import silhouette_score\n",
    "#distance matrix (dbscan elbow, hierarchical)\n",
    "from scipy.spatial.distance import pdist, squareform\n",
    "# hierarchical (scipy)\n",
    "from scipy.cluster.hierarchy import linkage, dendrogram"
   ]
  },
  {
   "cell_type": "code",
   "execution_count": null,
   "id": "f8758db8",
   "metadata": {},
   "outputs": [],
   "source": [
    "df = pd.read_csv('seismic-bumps.csv')\n",
    "df.dtypes"
   ]
  },
  {
   "cell_type": "code",
   "execution_count": null,
   "id": "a7418172",
   "metadata": {},
   "outputs": [],
   "source": [
    "df = df.convert_dtypes()\n",
    "df.dtypes"
   ]
  },
  {
   "cell_type": "code",
   "execution_count": null,
   "id": "c438fcdc",
   "metadata": {},
   "outputs": [],
   "source": [
    "df.head()"
   ]
  },
  {
   "cell_type": "code",
   "execution_count": null,
   "id": "4fb42038",
   "metadata": {},
   "outputs": [],
   "source": [
    "df.tail()"
   ]
  },
  {
   "cell_type": "code",
   "execution_count": null,
   "id": "6dd8e1a1",
   "metadata": {},
   "outputs": [],
   "source": [
    "df.shape"
   ]
  },
  {
   "cell_type": "code",
   "execution_count": null,
   "id": "4a2042f0",
   "metadata": {},
   "outputs": [],
   "source": [
    "df.columns"
   ]
  },
  {
   "cell_type": "markdown",
   "id": "2e9c34b8",
   "metadata": {},
   "source": [
    "## Data Preprocessing"
   ]
  },
  {
   "cell_type": "markdown",
   "id": "f2be1b7f",
   "metadata": {},
   "source": [
    "### Categorizing columns in types of features and labels"
   ]
  },
  {
   "cell_type": "code",
   "execution_count": null,
   "id": "31507186",
   "metadata": {},
   "outputs": [],
   "source": [
    "label = 'class'\n",
    "col_list_categorical = ['seismic', 'seismoacoustic', 'shift', 'hazard']\n",
    "col_list_numerical = ['genergy', 'gpuls', 'gdenergy', 'gdpuls', 'energy', 'maxenergy']\n",
    "col_list_discrete = ['nbumps', 'nbumps2', 'nbumps3', 'nbumps4', 'nbumps5', 'nbumps6', 'nbumps7', 'nbumps89']\n",
    "len([label]) + len(col_list_categorical) + len(col_list_discrete) + len(col_list_numerical)"
   ]
  },
  {
   "cell_type": "code",
   "execution_count": null,
   "id": "a00a7885",
   "metadata": {},
   "outputs": [],
   "source": [
    "df.info()"
   ]
  },
  {
   "cell_type": "code",
   "execution_count": null,
   "id": "856b47d5",
   "metadata": {},
   "outputs": [],
   "source": [
    "df['seismic'] = df['seismic'].astype(\"category\")\n",
    "df['seismoacoustic'] = df['seismoacoustic'].astype(\"category\")\n",
    "df['shift'] = df['shift'].astype(\"category\")\n",
    "df['genergy'] = df['genergy'].astype(float)\n",
    "df['gpuls'] = df['gpuls'].astype(float)\n",
    "df['gdenergy'] = df['gdenergy'].astype(float)\n",
    "df['gdpuls'] = df['gdpuls'].astype(float)\n",
    "df['hazard'] = df['hazard'].astype(\"category\")\n",
    "df['nbumps'] = df['nbumps'].astype(float)\n",
    "df['nbumps2'] = df['nbumps2'].astype(float)\n",
    "df['nbumps3'] = df['nbumps3'].astype(float)\n",
    "df['nbumps4'] = df['nbumps4'].astype(float)\n",
    "df['nbumps5'] = df['nbumps5'].astype(float)\n",
    "df['nbumps6'] = df['nbumps6'].astype(float)\n",
    "df['nbumps7'] = df['nbumps7'].astype(float)\n",
    "df['nbumps89'] = df['nbumps89'].astype(float)\n",
    "df['energy'] = df['energy'].astype(float)\n",
    "df['maxenergy'] = df['maxenergy'].astype(float)\n",
    "df['class'] = df['class'].astype(float)\n",
    "\n",
    "df.dtypes"
   ]
  },
  {
   "cell_type": "code",
   "execution_count": null,
   "id": "ffdd7898",
   "metadata": {},
   "outputs": [],
   "source": [
    "#Print frequency of categories\n",
    "for col in col_list_categorical:\n",
    "    print ('\\nFrequency of Categories for variable %s'%col)\n",
    "    print (df[col].value_counts())"
   ]
  },
  {
   "cell_type": "markdown",
   "id": "5c84391d",
   "metadata": {},
   "source": [
    "# CATEGORICAL VARIABLES DISTRIBUTION ANALYSIS"
   ]
  },
  {
   "cell_type": "code",
   "execution_count": null,
   "id": "7a7bca06",
   "metadata": {},
   "outputs": [],
   "source": [
    "for e in col_list_categorical:\n",
    "    df[e].value_counts(normalize=True, ascending=True).plot(kind='barh', title=f'{e} values', color=['royalblue','lightgreen','coral'], figsize=(5,5))\n",
    "    plt.show()"
   ]
  },
  {
   "cell_type": "markdown",
   "id": "0df9dc16",
   "metadata": {},
   "source": [
    "##  NUMERICAL VARIABLES DISTRIBUTION ANALYSIS"
   ]
  },
  {
   "cell_type": "code",
   "execution_count": null,
   "id": "85a95a39",
   "metadata": {},
   "outputs": [],
   "source": [
    "for e in col_list_numerical:\n",
    "    df[e].value_counts(normalize=True).plot(kind='density', title=f'{e} values',  figsize=(5,5))\n",
    "    plt.show()"
   ]
  },
  {
   "cell_type": "markdown",
   "id": "901778eb",
   "metadata": {},
   "source": [
    "#### as we can see, the variables above assume a right skewed distribution. This means that the majority of values are located in left part, around zero."
   ]
  },
  {
   "cell_type": "markdown",
   "id": "f428b4d7",
   "metadata": {},
   "source": [
    "## DISCRETE VARIABLES DISTRIBUTION ANALYSIS"
   ]
  },
  {
   "cell_type": "code",
   "execution_count": null,
   "id": "951c9d19",
   "metadata": {},
   "outputs": [],
   "source": [
    "#overview of distributions\n",
    "selected_columns = df[['nbumps','nbumps2','nbumps3','nbumps4', 'nbumps5', 'nbumps6', 'nbumps7', 'nbumps89']]\n",
    "df_discrete = selected_columns.copy()\n",
    "df_discrete.hist(figsize=(20,15))"
   ]
  },
  {
   "cell_type": "markdown",
   "id": "6301f550",
   "metadata": {},
   "source": [
    "### as seen before with the histograms, nbumps6, nbumps7 and nbumps89 contain only zero, so they can be dropped"
   ]
  },
  {
   "cell_type": "code",
   "execution_count": null,
   "id": "556fbd6c",
   "metadata": {},
   "outputs": [],
   "source": [
    "df.drop(columns=['nbumps6', 'nbumps7', 'nbumps89'], inplace=True)\n",
    "col_list_discrete = ['nbumps', 'nbumps2', 'nbumps3', 'nbumps4', 'nbumps5']\n",
    "df.head()"
   ]
  },
  {
   "cell_type": "markdown",
   "id": "b45f9aeb",
   "metadata": {},
   "source": [
    "## DECISION VARIABLE"
   ]
  },
  {
   "cell_type": "code",
   "execution_count": null,
   "id": "c97f9693",
   "metadata": {},
   "outputs": [],
   "source": [
    "#df['class'].value_counts(normalize=True, ascending=True).plot(kind='barh', title='class values', colors=['#BB0000', '#0000BB'])\n",
    "\n",
    "sns.countplot(x=df['class'], palette={0:'royalblue',1:'lightcoral'} )"
   ]
  },
  {
   "cell_type": "code",
   "execution_count": null,
   "id": "0c5ff792",
   "metadata": {},
   "outputs": [],
   "source": [
    "df['class'].value_counts()  #in numero"
   ]
  },
  {
   "cell_type": "markdown",
   "id": "f236fb65",
   "metadata": {},
   "source": [
    "#### Contingency tables for categorical variables"
   ]
  },
  {
   "cell_type": "code",
   "execution_count": null,
   "id": "70690698",
   "metadata": {},
   "outputs": [],
   "source": [
    "data_crosstab = pd.crosstab(df['seismic'], df[label], colnames=['class'])\n",
    "data_crosstab"
   ]
  },
  {
   "cell_type": "code",
   "execution_count": null,
   "id": "680604ac",
   "metadata": {},
   "outputs": [],
   "source": [
    "print(f\"bias for seismic a {data_crosstab[1][0]/data_crosstab[0][0]}\")\n",
    "print(f\"bias for seismic b {data_crosstab[1][1]/data_crosstab[0][1]}\")\n",
    "\n",
    "print(f\"ratio for seismic a {data_crosstab[0][0]/data_crosstab[1][0]}\")\n",
    "print(f\"ratio for seismic b {data_crosstab[0][1]/data_crosstab[1][1]}\")"
   ]
  },
  {
   "cell_type": "code",
   "execution_count": null,
   "id": "90660880",
   "metadata": {},
   "outputs": [],
   "source": [
    "data_crosstab = pd.crosstab(df['seismoacoustic'], df[label], colnames=['class'])\n",
    "data_crosstab"
   ]
  },
  {
   "cell_type": "code",
   "execution_count": null,
   "id": "153caddc",
   "metadata": {
    "scrolled": true
   },
   "outputs": [],
   "source": [
    "print(f\"bias for seismoacoustic a {data_crosstab[1][0]/data_crosstab[0][0]}\")\n",
    "print(f\"bias for seismoacoustic b {data_crosstab[1][1]/data_crosstab[0][1]}\")\n",
    "print(f\"bias for seismoacoustic c {data_crosstab[1][2]/data_crosstab[0][2]}\")\n",
    "\n",
    "print(f\"ratio for seismoacoustic a {data_crosstab[0][0]/data_crosstab[1][0]}\")\n",
    "print(f\"ratio for seismoacoustic b {data_crosstab[0][1]/data_crosstab[1][1]}\")\n",
    "print(f\"ratio for seismoacoustic c {data_crosstab[0][2]/data_crosstab[1][2]}\")"
   ]
  },
  {
   "cell_type": "code",
   "execution_count": null,
   "id": "6f5bace1",
   "metadata": {},
   "outputs": [],
   "source": [
    "data_crosstab = pd.crosstab(df['shift'], df[label])\n",
    "data_crosstab"
   ]
  },
  {
   "cell_type": "code",
   "execution_count": null,
   "id": "5c59fdc6",
   "metadata": {
    "scrolled": true
   },
   "outputs": [],
   "source": [
    "print(f\"bias for shift N {data_crosstab[1][0]/data_crosstab[0][0]}\")\n",
    "print(f\"bias for shift W {data_crosstab[1][1]/data_crosstab[0][1]}\")\n",
    "\n",
    "print(f\"ratio for shift N {data_crosstab[0][0]/data_crosstab[1][0]}\")\n",
    "print(f\"ratio for shift W {data_crosstab[0][1]/data_crosstab[1][1]}\")"
   ]
  },
  {
   "cell_type": "code",
   "execution_count": null,
   "id": "737760b1",
   "metadata": {},
   "outputs": [],
   "source": [
    "data_crosstab = pd.crosstab(df['hazard'], df[label])\n",
    "data_crosstab"
   ]
  },
  {
   "cell_type": "code",
   "execution_count": null,
   "id": "eab52564",
   "metadata": {},
   "outputs": [],
   "source": [
    "print(f\"bias for hazard a {data_crosstab[1][0]/data_crosstab[0][0]}\")\n",
    "print(f\"bias for hazard b {data_crosstab[1][1]/data_crosstab[0][1]}\")\n",
    "print(f\"bias for hazard c {data_crosstab[1][2]/data_crosstab[0][2]}\")\n",
    "\n",
    "print(f\"ratio for hazard a {data_crosstab[0][0]/data_crosstab[1][0]}\")\n",
    "print(f\"ratio for hazard b {data_crosstab[0][1]/data_crosstab[1][1]}\")\n",
    "print(f\"ratio for hazard c {data_crosstab[0][2]/data_crosstab[1][2]}\")"
   ]
  },
  {
   "cell_type": "code",
   "execution_count": null,
   "id": "da78b46a",
   "metadata": {},
   "outputs": [],
   "source": [
    "df.describe().T"
   ]
  },
  {
   "cell_type": "code",
   "execution_count": null,
   "id": "d7fa1a29",
   "metadata": {},
   "outputs": [],
   "source": [
    "df.groupby('class').mean().T"
   ]
  },
  {
   "cell_type": "code",
   "execution_count": null,
   "id": "4637b9b5",
   "metadata": {},
   "outputs": [],
   "source": [
    "df.isnull().any()  # nessun true quindi nessun valore mancante"
   ]
  },
  {
   "cell_type": "code",
   "execution_count": null,
   "id": "7b60d228",
   "metadata": {},
   "outputs": [],
   "source": [
    "df.corr()"
   ]
  },
  {
   "cell_type": "markdown",
   "id": "8cc8eb1f",
   "metadata": {},
   "source": [
    "### HIDDEN MISSING VALUES"
   ]
  },
  {
   "cell_type": "code",
   "execution_count": null,
   "id": "5bca81d2",
   "metadata": {},
   "outputs": [],
   "source": [
    "# Eliminiamo tutte le righe dove nbumps è zero e genergy è superiore al secondo quartile perché li riteniamo missing values\n",
    "df_nbumps = df[df['nbumps'] == 0]\n",
    "df_genergy = df_nbumps[df_nbumps['genergy'] >= df['genergy'].quantile(0.5)]\n",
    "df_genergy"
   ]
  },
  {
   "cell_type": "code",
   "execution_count": null,
   "id": "56e8c762",
   "metadata": {},
   "outputs": [],
   "source": [
    "# Eliminiamo tutte le righe dove nbumps è zero e gpuls è superiore al secondo quartile perché li riteniamo missing values\n",
    "df_nbumps = df[df['nbumps'] == 0]\n",
    "df_gpuls = df_nbumps[df_nbumps['gpuls'] >= df['gpuls'].quantile(0.5)]\n",
    "df_gpuls"
   ]
  },
  {
   "cell_type": "code",
   "execution_count": null,
   "id": "f5c74d4e",
   "metadata": {},
   "outputs": [],
   "source": [
    "df = df.drop(df_genergy.index, errors='ignore')\n",
    "df = df.drop(df_gpuls.index, errors='ignore')\n",
    "df.shape"
   ]
  },
  {
   "cell_type": "code",
   "execution_count": null,
   "id": "e31adb92",
   "metadata": {},
   "outputs": [],
   "source": [
    "df.corr()"
   ]
  },
  {
   "cell_type": "code",
   "execution_count": null,
   "id": "d24a9aab",
   "metadata": {},
   "outputs": [],
   "source": [
    "plt.figure(figsize=[8, 8])\n",
    "sns.heatmap(data=df.corr(), vmin=-1, vmax=1, cmap='gist_earth_r', annot=True, square=True, linewidths=1)\n",
    "plt.xticks(rotation=90)\n",
    "plt.yticks(rotation=0)"
   ]
  },
  {
   "cell_type": "markdown",
   "id": "4ed6ab83",
   "metadata": {},
   "source": [
    "## Inconsistency check"
   ]
  },
  {
   "cell_type": "code",
   "execution_count": null,
   "id": "4d1f26c7",
   "metadata": {
    "scrolled": false
   },
   "outputs": [],
   "source": [
    "df.head()"
   ]
  },
  {
   "cell_type": "code",
   "execution_count": null,
   "id": "19e2edcf",
   "metadata": {},
   "outputs": [],
   "source": [
    "selected_columns = df[['nbumps2','nbumps3','nbumps4', 'nbumps5']]\n",
    "df_discrete = selected_columns.copy()\n",
    "df[df['nbumps'] != df_discrete.sum(axis=1)] # ci sono due righe inconsistenti"
   ]
  },
  {
   "cell_type": "code",
   "execution_count": null,
   "id": "4ceb9e32",
   "metadata": {},
   "outputs": [],
   "source": [
    "# eliminiamo le due righe inconsistenti\n",
    "df = df.drop(436)\n",
    "df = df.drop(437)"
   ]
  },
  {
   "cell_type": "code",
   "execution_count": null,
   "id": "4dfa037c",
   "metadata": {},
   "outputs": [],
   "source": [
    "df[df['maxenergy'] > df['energy']] # non ci sono inconsistenze tra energy e maxenergy"
   ]
  },
  {
   "cell_type": "code",
   "execution_count": null,
   "id": "70c0ce8d",
   "metadata": {},
   "outputs": [],
   "source": [
    "df_nbumps = df[df['nbumps'] > 0]\n",
    "df_nbumps[df_nbumps['energy'] <= 0]\n",
    "# non ci sono inconsistenze"
   ]
  },
  {
   "cell_type": "code",
   "execution_count": null,
   "id": "23c4f088",
   "metadata": {},
   "outputs": [],
   "source": [
    "df_nbumps = df[df['nbumps2'] > 0]\n",
    "df_nbumps[df_nbumps['maxenergy'] < 10^2]\n",
    "# non ci sono inconsistenze"
   ]
  },
  {
   "cell_type": "code",
   "execution_count": null,
   "id": "1f189db7",
   "metadata": {},
   "outputs": [],
   "source": [
    "df_nbumps = df[df['nbumps3'] > 0]\n",
    "df_nbumps[df_nbumps['maxenergy'] < 10^3]\n",
    "# non ci sono inconsistenze"
   ]
  },
  {
   "cell_type": "code",
   "execution_count": null,
   "id": "9c59136d",
   "metadata": {},
   "outputs": [],
   "source": [
    "df_nbumps = df[df['nbumps4'] > 0]\n",
    "df_nbumps[df_nbumps['maxenergy'] < 10^4]\n",
    "# non ci sono inconsistenze"
   ]
  },
  {
   "cell_type": "code",
   "execution_count": null,
   "id": "fff39dca",
   "metadata": {},
   "outputs": [],
   "source": [
    "df_nbumps = df[df['nbumps5'] > 0]\n",
    "df_nbumps[df_nbumps['maxenergy'] < 10^5]\n",
    "# non ci sono inconsistenze"
   ]
  },
  {
   "cell_type": "markdown",
   "id": "6dbd8fca",
   "metadata": {},
   "source": [
    "## OUTLIER DETECTION"
   ]
  },
  {
   "cell_type": "code",
   "execution_count": null,
   "id": "cd388dd7",
   "metadata": {},
   "outputs": [],
   "source": [
    "df['nbumps'].plot(kind = 'box')"
   ]
  },
  {
   "cell_type": "code",
   "execution_count": null,
   "id": "c80d14c9",
   "metadata": {},
   "outputs": [],
   "source": [
    "df[df['nbumps'] >= 8] # quelli maggiori di 8 non sono outlier"
   ]
  },
  {
   "cell_type": "code",
   "execution_count": null,
   "id": "25b40081",
   "metadata": {},
   "outputs": [],
   "source": [
    "df['nbumps2'].plot(kind = 'box') #from this output we can say that the majority of seismic bumps occurred with an energy in the range of 0 to 1"
   ]
  },
  {
   "cell_type": "code",
   "execution_count": null,
   "id": "69f69b2a",
   "metadata": {},
   "outputs": [],
   "source": [
    "df[df['nbumps2'] >= 8] # (?) forse è un outlier perché è uno solo"
   ]
  },
  {
   "cell_type": "code",
   "execution_count": null,
   "id": "26d859d8",
   "metadata": {},
   "outputs": [],
   "source": [
    "df['nbumps3'].plot(kind = 'box')"
   ]
  },
  {
   "cell_type": "code",
   "execution_count": null,
   "id": "d2e3f16b",
   "metadata": {},
   "outputs": [],
   "source": [
    "df[df['nbumps3'] >= 7] # (?) forse è un outlier perché è uno solo"
   ]
  },
  {
   "cell_type": "code",
   "execution_count": null,
   "id": "71011b6a",
   "metadata": {},
   "outputs": [],
   "source": [
    "df['nbumps4'].plot(kind = 'box') "
   ]
  },
  {
   "cell_type": "code",
   "execution_count": null,
   "id": "52854f2a",
   "metadata": {},
   "outputs": [],
   "source": [
    "df[df['nbumps4'] >= 3] # niente outliers"
   ]
  },
  {
   "cell_type": "code",
   "execution_count": null,
   "id": "ab8c670d",
   "metadata": {
    "scrolled": true
   },
   "outputs": [],
   "source": [
    "df['nbumps5'].plot(kind = 'box') "
   ]
  },
  {
   "cell_type": "code",
   "execution_count": null,
   "id": "98764a7c",
   "metadata": {},
   "outputs": [],
   "source": [
    "df[df['nbumps5'] >= 1] # niente ouliers, nbumps5 è sempre o 0 o 1"
   ]
  },
  {
   "cell_type": "code",
   "execution_count": null,
   "id": "6f9173de",
   "metadata": {},
   "outputs": [],
   "source": [
    "df['genergy'].plot(kind = 'box') "
   ]
  },
  {
   "cell_type": "code",
   "execution_count": null,
   "id": "1b062396",
   "metadata": {},
   "outputs": [],
   "source": [
    "df[df['genergy'] >= 2.5] # niente outliers"
   ]
  },
  {
   "cell_type": "code",
   "execution_count": null,
   "id": "4d7e4f07",
   "metadata": {},
   "outputs": [],
   "source": [
    "df['gdenergy'].plot(kind = 'box') "
   ]
  },
  {
   "cell_type": "code",
   "execution_count": null,
   "id": "c5e54e8c",
   "metadata": {},
   "outputs": [],
   "source": [
    "df[df['gdenergy'] >= 1000] # è un outlier perché è uno solo"
   ]
  },
  {
   "cell_type": "code",
   "execution_count": null,
   "id": "ea1f812f",
   "metadata": {},
   "outputs": [],
   "source": [
    "df['gpuls'].plot(kind = 'box') "
   ]
  },
  {
   "cell_type": "code",
   "execution_count": null,
   "id": "db435fb5",
   "metadata": {},
   "outputs": [],
   "source": [
    "df[df['gpuls'] >= 4000] # niente outliers"
   ]
  },
  {
   "cell_type": "code",
   "execution_count": null,
   "id": "72ba63e2",
   "metadata": {},
   "outputs": [],
   "source": [
    "df['gdpuls'].plot(kind = 'box') "
   ]
  },
  {
   "cell_type": "code",
   "execution_count": null,
   "id": "4dabf86d",
   "metadata": {},
   "outputs": [],
   "source": [
    "df[df['gdpuls'] >= 800] # è un outlier perché è uno solo"
   ]
  },
  {
   "cell_type": "code",
   "execution_count": null,
   "id": "402131fa",
   "metadata": {},
   "outputs": [],
   "source": [
    "selected_columns = df[['genergy','gpuls','gdenergy','gdpuls', 'energy', 'maxenergy']]\n",
    "df_numerical = selected_columns.copy()\n",
    "for e in df_numerical:\n",
    "    print(e, stats.iqr(df_numerical[e]))"
   ]
  },
  {
   "cell_type": "code",
   "execution_count": null,
   "id": "97e8abe9",
   "metadata": {
    "scrolled": true
   },
   "outputs": [],
   "source": [
    "selected_columns = df[['nbumps','nbumps2','nbumps3','nbumps4', 'nbumps5']]\n",
    "df_discrete = selected_columns.copy()\n",
    "for e in df_discrete:\n",
    "    print(e, stats.iqr(df_discrete[e]))"
   ]
  },
  {
   "cell_type": "code",
   "execution_count": null,
   "id": "6ac7253d",
   "metadata": {},
   "outputs": [],
   "source": [
    "#function that detect outliers based on IQR \n",
    "def outlier_detector(df_clean, var):\n",
    "    ''' function that calculates Q1,Q3,IQR and return the number of outliers of a given variable'''\n",
    "    Q1=df_clean[var].quantile(0.25)\n",
    "    Q3=df_clean[var].quantile(0.75)\n",
    "    IQR=Q3-Q1\n",
    "    \n",
    "    print(var)\n",
    "    print(f'Q1: {Q1}\\nQ3: {Q3}\\nIQR: {IQR}')\n",
    "    \n",
    "    lower_whisker = Q1-1.5*IQR\n",
    "    upper_whisker = Q3+1.5*IQR\n",
    "    \n",
    "    print(f'lower range: {lower_whisker}\\nupper range: {upper_whisker}')\n",
    "    df_lower = df_clean[df_clean[var] < lower_whisker]\n",
    "    df_upper = df_clean[df_clean[var] > upper_whisker]\n",
    "    outliers = sum(df_clean[var] < lower_whisker) + sum(df_clean[var] > upper_whisker)\n",
    "    print(f'{var} has {outliers} potential outliers')\n",
    "    return pd.concat([df_lower, df_upper])"
   ]
  },
  {
   "cell_type": "code",
   "execution_count": null,
   "id": "9c73f04c",
   "metadata": {},
   "outputs": [],
   "source": [
    "df[df['nbumps'] > 0].shape"
   ]
  },
  {
   "cell_type": "code",
   "execution_count": null,
   "id": "c5db4ac2",
   "metadata": {},
   "outputs": [],
   "source": [
    "for e in df_numerical:\n",
    "    print(df.shape)\n",
    "    tmp = outlier_detector(df, e)\n",
    "    print(tmp)\n",
    "    print()\n",
    "    df = df.drop(tmp.index)\n",
    "    print(df.shape)\n",
    "    "
   ]
  },
  {
   "cell_type": "code",
   "execution_count": null,
   "id": "6274c9a8",
   "metadata": {},
   "outputs": [],
   "source": [
    "df[df['nbumps'] > 0].shape"
   ]
  },
  {
   "cell_type": "code",
   "execution_count": null,
   "id": "254e19d5",
   "metadata": {
    "scrolled": false
   },
   "outputs": [],
   "source": [
    "for e in df_discrete:\n",
    "    print(df.shape)\n",
    "    tmp = outlier_detector(df, e)\n",
    "    print(tmp)\n",
    "    print()\n",
    "    #df = df.drop(tmp.index) non li togliamo"
   ]
  },
  {
   "cell_type": "code",
   "execution_count": null,
   "id": "86b63366",
   "metadata": {},
   "outputs": [],
   "source": [
    "df.shape"
   ]
  },
  {
   "cell_type": "code",
   "execution_count": null,
   "id": "ce785155",
   "metadata": {},
   "outputs": [],
   "source": [
    "df[df['nbumps'] > 0].shape"
   ]
  },
  {
   "cell_type": "code",
   "execution_count": null,
   "id": "8f845610",
   "metadata": {},
   "outputs": [],
   "source": [
    "df_numerical.boxplot(return_type = 'dict', figsize=(13,5),vert=False)\n",
    "plt.plot()"
   ]
  },
  {
   "cell_type": "code",
   "execution_count": null,
   "id": "f5170a03",
   "metadata": {},
   "outputs": [],
   "source": [
    "df_discrete.boxplot(return_type = 'dict', figsize=(13,5),vert=False)\n",
    "plt.plot()"
   ]
  },
  {
   "cell_type": "code",
   "execution_count": null,
   "id": "9fb3ae49",
   "metadata": {},
   "outputs": [],
   "source": [
    "df.corr()"
   ]
  },
  {
   "cell_type": "code",
   "execution_count": null,
   "id": "a05ee531",
   "metadata": {},
   "outputs": [],
   "source": [
    "df = df.drop('nbumps4', 1)\n",
    "df = df.drop('nbumps5', 1) \n",
    "\n",
    "col_list_normal = ['genergy', 'gpuls', 'gdenergy', 'gdpuls', 'nbumps', 'nbumps2', 'nbumps3', 'energy', 'maxenergy']\n",
    "col_list_transform = ['log_genergy', 'log_gpuls', 'zscore_gdenergy', 'zscore_gdpuls', 'nbumps', 'nbumps2', 'nbumps3', 'shifted_log_energy', 'shifted_log_maxenergy']\n",
    "col_list_discrete = ['nbumps', 'nbumps2', 'nbumps3']"
   ]
  },
  {
   "cell_type": "markdown",
   "id": "e701183c",
   "metadata": {},
   "source": [
    "## TRANSFORMATIONS"
   ]
  },
  {
   "cell_type": "markdown",
   "id": "50a97a09",
   "metadata": {},
   "source": [
    "### NUMERICAL"
   ]
  },
  {
   "cell_type": "code",
   "execution_count": null,
   "id": "879c6a06",
   "metadata": {},
   "outputs": [],
   "source": [
    "plt.figure(figsize=[8, 8])\n",
    "sns.heatmap(data=df[col_list_numerical].corr(), vmin=-1, vmax=1, cmap='gist_earth_r', annot=True, square=True, linewidths=1)\n",
    "plt.xticks(rotation=90)\n",
    "plt.yticks(rotation=0)"
   ]
  },
  {
   "cell_type": "markdown",
   "id": "a5bde600",
   "metadata": {},
   "source": [
    "### Siccome genergy e gpuls hanno un'alta correlazione, vediamo come sono distruibuti rispetto a class"
   ]
  },
  {
   "cell_type": "code",
   "execution_count": null,
   "id": "6df60451",
   "metadata": {},
   "outputs": [],
   "source": [
    "plt.figure(figsize=[10, 8])\n",
    "sns.scatterplot(x='genergy', y='gpuls', hue='class', data=df)"
   ]
  },
  {
   "cell_type": "code",
   "execution_count": null,
   "id": "126b3b52",
   "metadata": {},
   "outputs": [],
   "source": [
    "# Applying log transform\n",
    "\n",
    "df['log_genergy'] = np.log(df['genergy'])\n",
    "df['log_gpuls'] = np.log(df['gpuls'])"
   ]
  },
  {
   "cell_type": "code",
   "execution_count": null,
   "id": "9a2bebad",
   "metadata": {},
   "outputs": [],
   "source": [
    "plt.figure(figsize=[10, 8])\n",
    "sns.scatterplot(x='log_genergy', y='log_gpuls', hue='class', data=df)"
   ]
  },
  {
   "cell_type": "markdown",
   "id": "bb3fdc76",
   "metadata": {},
   "source": [
    "#### After applying the log transf we can better see a positive correlation between gpuls and genergy. That could indicate that the number of puls increases when the energy does, so the number of pulse can be used as and indicator of the energy intensity. (The pulses have been registered by the most active geophone (Gmax), which is a sensor designed to detect ground movements).\n"
   ]
  },
  {
   "cell_type": "markdown",
   "id": "59debffb",
   "metadata": {},
   "source": [
    "### Siccome gdenergy e gdpuls hanno un'alta correlazione, vediamo come sono distruibuti rispetto a class"
   ]
  },
  {
   "cell_type": "code",
   "execution_count": null,
   "id": "c1148175",
   "metadata": {},
   "outputs": [],
   "source": [
    "plt.figure(figsize=[10, 8])\n",
    "sns.scatterplot(x='gdenergy', y='gdpuls', hue='class', data=df)"
   ]
  },
  {
   "cell_type": "markdown",
   "id": "0258a8f4",
   "metadata": {},
   "source": [
    "##### There are negative shifts in gdenergy and gdpuls because of which log transformation is not going to be the best choice. So, we use zscore transformation (also because we already have two deviations)."
   ]
  },
  {
   "cell_type": "code",
   "execution_count": null,
   "id": "ae2fa10f",
   "metadata": {},
   "outputs": [],
   "source": [
    "# Applying score transform\n",
    "\n",
    "df['zscore_gdenergy'] = stats.zscore(df['gdenergy'])\n",
    "df['zscore_gdpuls'] = stats.zscore(df['gdpuls'])"
   ]
  },
  {
   "cell_type": "code",
   "execution_count": null,
   "id": "7f13d4ae",
   "metadata": {},
   "outputs": [],
   "source": [
    "plt.figure(figsize=[10, 8])\n",
    "sns.scatterplot(x='zscore_gdenergy', y='zscore_gdpuls', hue='class', data=df)"
   ]
  },
  {
   "cell_type": "markdown",
   "id": "709abfba",
   "metadata": {},
   "source": [
    "### Siccome energy e maxenergy hanno un'alta correlazione, vediamo come sono distruibuti rispetto a class"
   ]
  },
  {
   "cell_type": "code",
   "execution_count": null,
   "id": "98fa64ed",
   "metadata": {},
   "outputs": [],
   "source": [
    "plt.figure(figsize=[10, 8])\n",
    "sns.scatterplot(x='energy', y='maxenergy', hue='class', data=df)"
   ]
  },
  {
   "cell_type": "markdown",
   "id": "016e79d5",
   "metadata": {},
   "source": [
    "##### There is a lot of zeroes in this two feature, so we trying log transformation after adding a constant 1"
   ]
  },
  {
   "cell_type": "code",
   "execution_count": null,
   "id": "31a0eaa8",
   "metadata": {},
   "outputs": [],
   "source": [
    "df['shifted_log_energy'] = np.log(df['energy']+1)\n",
    "df['shifted_log_maxenergy'] = np.log(df['maxenergy']+1)"
   ]
  },
  {
   "cell_type": "code",
   "execution_count": null,
   "id": "1e47db80",
   "metadata": {},
   "outputs": [],
   "source": [
    "plt.figure(figsize=[10, 8])\n",
    "sns.scatterplot(x='shifted_log_energy', y='shifted_log_maxenergy', hue='class', data=df)"
   ]
  },
  {
   "cell_type": "markdown",
   "id": "9c13e871",
   "metadata": {},
   "source": [
    "## LOG TRANSFORMED HISTPLOTS"
   ]
  },
  {
   "cell_type": "code",
   "execution_count": null,
   "id": "b1f4401b",
   "metadata": {},
   "outputs": [],
   "source": [
    "sns.histplot(np.log(df['genergy']), kde=True, stat=\"density\", linewidth=0)"
   ]
  },
  {
   "cell_type": "code",
   "execution_count": null,
   "id": "cfdd0e9f",
   "metadata": {},
   "outputs": [],
   "source": [
    "sns.histplot(np.log(df['gpuls']), kde=True, stat=\"density\", linewidth=0)"
   ]
  },
  {
   "cell_type": "markdown",
   "id": "1deb1f54",
   "metadata": {},
   "source": [
    "## NBUMPS CROSSTAB"
   ]
  },
  {
   "cell_type": "code",
   "execution_count": null,
   "id": "4184301f",
   "metadata": {},
   "outputs": [],
   "source": [
    "plt.figure(figsize=[8, 8])\n",
    "sns.heatmap(data=df[col_list_discrete].corr(), vmin=-1, vmax=1, cmap='gist_earth_r', annot=True, square=True, linewidths=1)\n",
    "plt.xticks(rotation=90)\n",
    "plt.yticks(rotation=0)"
   ]
  },
  {
   "cell_type": "markdown",
   "id": "965cff28",
   "metadata": {},
   "source": [
    "### Since bumps are the number of seismic bumps recorded within the previous shift, it makes sense to check the entity of these bumps, so in which class they fall (0 = non hazardous; 1 = hazardous). We can check it with a crosstab"
   ]
  },
  {
   "cell_type": "code",
   "execution_count": null,
   "id": "efb869ad",
   "metadata": {},
   "outputs": [],
   "source": [
    "for col in col_list_discrete:\n",
    "    bumps_crosstab = pd.crosstab(df[col], df['class'], colnames=['class'], margins = True) #margins is to add the totals\n",
    "    print(bumps_crosstab)\n",
    "    print('-----')"
   ]
  },
  {
   "cell_type": "markdown",
   "id": "b4a20a49",
   "metadata": {},
   "source": [
    "### Crosstab with the percentages, to better see the percentage of 0s in comparison to the 1s"
   ]
  },
  {
   "cell_type": "code",
   "execution_count": null,
   "id": "8ac91e92",
   "metadata": {},
   "outputs": [],
   "source": [
    "for col in col_list_discrete:\n",
    "    bumps_crosstab = pd.crosstab(df[col], df['class'], colnames=['class'], margins = True).apply(lambda r: r/r.sum(), axis = 1) #margins is to add the totals\n",
    "    print(bumps_crosstab)\n",
    "    print('-----')"
   ]
  },
  {
   "cell_type": "code",
   "execution_count": null,
   "id": "c4be474e",
   "metadata": {},
   "outputs": [],
   "source": [
    "pclass_xt = pd.crosstab(df['class'], df['nbumps'])\n",
    "pclass_xt_pct = pclass_xt.div(pclass_xt.sum(1).astype(float), axis=0)  #li trasformo in modo che il valore vada da 0 a 1\n",
    "pclass_xt_pct.plot(kind='bar', stacked=True, \n",
    "                   title='nbumps for class')\n",
    "plt.xlabel('class')\n",
    "plt.ylabel('nbumps')\n",
    "plt.show()"
   ]
  },
  {
   "cell_type": "code",
   "execution_count": null,
   "id": "06cd53f7",
   "metadata": {},
   "outputs": [],
   "source": [
    "classandseismic = pd.crosstab(df['class'], df['seismic'])\n",
    "classandseismic = classandseismic.div(classandseismic.sum(1).astype(float), axis=0)\n",
    "classandseismic.plot(kind='bar', stacked=True, \n",
    "                   title='seismic for class')\n",
    "plt.xlabel('class')\n",
    "plt.ylabel('seismic')\n",
    "plt.show()"
   ]
  },
  {
   "cell_type": "code",
   "execution_count": null,
   "id": "58f37b87",
   "metadata": {},
   "outputs": [],
   "source": [
    "classnbumps2=pd.crosstab(df['class'], df['nbumps2'])   #trasformo le crosstab in valori da 1 a 0\n",
    "classnbumps3=pd.crosstab(df['class'], df['nbumps3'])\n",
    "classgenergy= pd.crosstab(df['class'], [df['gdenergy'].quantile(0), df['gdenergy'].quantile(0.25), df['gdenergy'].quantile(0.50), df['gdenergy'].quantile(0.75), df['gdenergy'].quantile(1)])\n",
    "classgpuls= pd.crosstab(df['class'], [df['gpuls'].quantile(0), df['gpuls'].quantile(0.25), df['gpuls'].quantile(0.50), df['gpuls'].quantile(0.75), df['gpuls'].quantile(1)])\n",
    "classnbumps2=classnbumps2.div(classnbumps2.sum(1).astype(float), axis=0)\n",
    "classnbumps3=classnbumps3.div(classnbumps3.sum(1).astype(float), axis=0)\n",
    "classgenergy=classgenergy.div(classgenergy.sum(1).astype(float), axis=0)\n",
    "classgpuls=classgpuls.div(classgpuls.sum(1).astype(float), axis=0)\n"
   ]
  },
  {
   "cell_type": "code",
   "execution_count": null,
   "id": "1d99186e",
   "metadata": {},
   "outputs": [],
   "source": [
    "classnbumps2.plot(kind='bar', stacked=True, \n",
    "                   title='nbumps2 for class')\n",
    "plt.xlabel('class')\n",
    "plt.ylabel('nbumps2')\n",
    "plt.show()"
   ]
  },
  {
   "cell_type": "code",
   "execution_count": null,
   "id": "864c6bd0",
   "metadata": {},
   "outputs": [],
   "source": [
    "classnbumps3.plot(kind='bar', stacked=True, \n",
    "                   title='nbumps3 for class')\n",
    "plt.xlabel('class')\n",
    "plt.ylabel('nbumps3')\n",
    "plt.show()"
   ]
  },
  {
   "cell_type": "code",
   "execution_count": null,
   "id": "2f4c42a1",
   "metadata": {},
   "outputs": [],
   "source": [
    "classgenergy.plot(kind='bar', stacked=True, \n",
    "                   title='genergy for class')\n",
    "plt.xlabel('class')\n",
    "plt.ylabel('genergy')\n",
    "plt.show()"
   ]
  },
  {
   "cell_type": "code",
   "execution_count": null,
   "id": "7403f335",
   "metadata": {},
   "outputs": [],
   "source": [
    "classgpuls.plot(kind='bar', stacked=True, \n",
    "                   title='gpuls for class')\n",
    "plt.xlabel('class')\n",
    "plt.ylabel('gpuls')\n",
    "plt.show()"
   ]
  },
  {
   "cell_type": "markdown",
   "id": "cd557bfd",
   "metadata": {},
   "source": [
    "#### the crosstab highlight that the majority of bumps - also the ones which registered an energy intensity in the upperbound of the range - have been classified as 'non-harzardous state', since belonging to the class 0. "
   ]
  },
  {
   "cell_type": "markdown",
   "id": "4bfdfbcb",
   "metadata": {},
   "source": [
    "## CORRELATION AND HEATMAP"
   ]
  },
  {
   "cell_type": "code",
   "execution_count": null,
   "id": "573ca778",
   "metadata": {},
   "outputs": [],
   "source": [
    "df.corr()"
   ]
  },
  {
   "cell_type": "code",
   "execution_count": null,
   "id": "dc10c469",
   "metadata": {},
   "outputs": [],
   "source": [
    "dfcorrelazione = df.corr()\n",
    "plt.figure(figsize=[20, 20])\n",
    "sns.heatmap(data=dfcorrelazione, vmin=-1, vmax=1, cmap='gist_earth_r', annot=True, square=True, linewidths=1)\n",
    "plt.xticks(rotation=90)\n",
    "plt.yticks(rotation=0)"
   ]
  },
  {
   "cell_type": "code",
   "execution_count": null,
   "id": "a581906f",
   "metadata": {},
   "outputs": [],
   "source": [
    "col_list_normal = ['genergy', 'gpuls', 'gdenergy', 'gdpuls', 'nbumps', 'nbumps2', 'nbumps3', 'energy', 'maxenergy', 'class']\n",
    "col_list_transform = ['log_genergy', 'log_gpuls', 'zscore_gdenergy', 'zscore_gdpuls', 'nbumps', 'nbumps2', 'nbumps3', 'shifted_log_energy', 'shifted_log_maxenergy', 'class']"
   ]
  },
  {
   "cell_type": "code",
   "execution_count": null,
   "id": "a5ebcd6a",
   "metadata": {
    "scrolled": true
   },
   "outputs": [],
   "source": [
    "df[col_list_normal].corr()"
   ]
  },
  {
   "cell_type": "code",
   "execution_count": null,
   "id": "7bde22ab",
   "metadata": {},
   "outputs": [],
   "source": [
    "plt.figure(figsize=[10, 10])\n",
    "sns.heatmap(data=df[col_list_normal].corr(), vmin=-1, vmax=1, cmap='gist_earth_r', annot=True, square=True, linewidths=1)\n",
    "plt.xticks(rotation=90)\n",
    "plt.yticks(rotation=0)"
   ]
  },
  {
   "cell_type": "code",
   "execution_count": null,
   "id": "002229a8",
   "metadata": {},
   "outputs": [],
   "source": [
    "df[col_list_transform].corr()"
   ]
  },
  {
   "cell_type": "code",
   "execution_count": null,
   "id": "6a37e87a",
   "metadata": {},
   "outputs": [],
   "source": [
    "plt.figure(figsize=[10, 10])\n",
    "sns.heatmap(data=df[col_list_transform].corr(), vmin=-1, vmax=1, cmap='gist_earth_r', annot=True, square=True, linewidths=1)\n",
    "plt.xticks(rotation=90)\n",
    "plt.yticks(rotation=0)"
   ]
  },
  {
   "cell_type": "code",
   "execution_count": null,
   "id": "d0709f51",
   "metadata": {},
   "outputs": [],
   "source": [
    "col_list_normal.remove('class')\n",
    "col_list_transform.remove('class')"
   ]
  },
  {
   "cell_type": "code",
   "execution_count": null,
   "id": "bf945f10",
   "metadata": {},
   "outputs": [],
   "source": [
    "df_x_normal = col_list_normal.copy()\n",
    "df_x_transform = col_list_transform.copy()\n",
    "X_normal = df[col_list_normal].values\n",
    "X_transform = df[col_list_transform].values"
   ]
  },
  {
   "cell_type": "code",
   "execution_count": null,
   "id": "669460df",
   "metadata": {},
   "outputs": [],
   "source": [
    "scaler = StandardScaler()\n",
    "X_normal_scal = scaler.fit_transform(X_normal)\n",
    "X_transform_scal = scaler.fit_transform(X_transform)"
   ]
  },
  {
   "cell_type": "code",
   "execution_count": null,
   "id": "2667c1c1",
   "metadata": {},
   "outputs": [],
   "source": [
    "plt.hist(X_normal_scal[:,2], edgecolor='white')\n",
    "\n",
    "plt.xticks(fontsize=20)\n",
    "plt.show()"
   ]
  },
  {
   "cell_type": "code",
   "execution_count": null,
   "id": "f95932a7",
   "metadata": {},
   "outputs": [],
   "source": [
    "plt.hist(X_transform_scal[:,2], edgecolor='white')\n",
    "\n",
    "plt.xticks(fontsize=20)\n",
    "plt.show()"
   ]
  },
  {
   "cell_type": "code",
   "execution_count": null,
   "id": "71393b8d",
   "metadata": {},
   "outputs": [],
   "source": [
    "scaler = MinMaxScaler()\n",
    "X_normal_minmax = scaler.fit_transform(X_normal)\n",
    "X_transform_minmax = scaler.fit_transform(X_transform)"
   ]
  },
  {
   "cell_type": "code",
   "execution_count": null,
   "id": "40e613ac",
   "metadata": {},
   "outputs": [],
   "source": [
    "plt.hist(X_normal_minmax[:,2], edgecolor='white')\n",
    "\n",
    "plt.xticks(fontsize=20)\n",
    "plt.show()"
   ]
  },
  {
   "cell_type": "code",
   "execution_count": null,
   "id": "f25a3a34",
   "metadata": {},
   "outputs": [],
   "source": [
    "plt.hist(X_transform_minmax[:,2], edgecolor='white')\n",
    "\n",
    "plt.xticks(fontsize=20)\n",
    "plt.show()"
   ]
  },
  {
   "cell_type": "markdown",
   "id": "32f6cf2c",
   "metadata": {},
   "source": [
    "## KMeans"
   ]
  },
  {
   "cell_type": "code",
   "execution_count": null,
   "id": "d42fc7f6",
   "metadata": {},
   "outputs": [],
   "source": [
    "clust_name = ['0', '1']"
   ]
  },
  {
   "cell_type": "markdown",
   "id": "300869dd",
   "metadata": {},
   "source": [
    "### KMeans on normal dataset"
   ]
  },
  {
   "cell_type": "code",
   "execution_count": null,
   "id": "c1c159d6",
   "metadata": {},
   "outputs": [],
   "source": [
    "# Find the best K for KMeans\n",
    "k_to_test = range(2,25,1) # [2,3,4, ..., 24]\n",
    "silhouette_scores = {}\n",
    "\n",
    "for k in k_to_test:\n",
    "    kmeans = KMeans( n_clusters = k )\n",
    "    kmeans.fit(X_normal)\n",
    "    labels_k = kmeans.labels_\n",
    "    score_k = silhouette_score(X_normal, labels_k)\n",
    "    silhouette_scores[k] = score_k\n",
    "    print(f\"Tested kMeans with k = {k}\\tSS: {score_k}\\tSSE: {kmeans.inertia_}\")\n",
    "    \n",
    "print(\"Done!\")"
   ]
  },
  {
   "cell_type": "code",
   "execution_count": null,
   "id": "0fd1e522",
   "metadata": {},
   "outputs": [],
   "source": [
    "kmeans = KMeans( n_clusters=2, n_init=10, max_iter=100 )\n",
    "kmeans.fit(X_normal)"
   ]
  },
  {
   "cell_type": "code",
   "execution_count": null,
   "id": "7f44a849",
   "metadata": {},
   "outputs": [],
   "source": [
    "for i in range (0, len(col_list_normal)-1):\n",
    "    for j in range (0, len(col_list_normal)-1):\n",
    "        plt.scatter( X_normal[:,i], X_normal[:,j], s=40, edgecolor='black', c= kmeans.labels_ )\n",
    "        plt.scatter( kmeans.cluster_centers_[:,i], kmeans.cluster_centers_[:,j], c='red', marker='*', s=200 )\n",
    "\n",
    "        plt.xticks(fontsize=20)\n",
    "        plt.yticks(fontsize=20)\n",
    "        print(col_list_normal[i])\n",
    "        print(col_list_normal[j])\n",
    "\n",
    "        plt.show()"
   ]
  },
  {
   "cell_type": "code",
   "execution_count": null,
   "id": "72ed0012",
   "metadata": {},
   "outputs": [],
   "source": [
    "df['kmeans_labels'] = kmeans.labels_\n",
    "\n",
    "bar_pl = df['class'].groupby(df['kmeans_labels']).value_counts(normalize=True).unstack(1)\n",
    "bar_pl.plot(kind='bar', stacked=True, alpha=0.8, edgecolor='white', linewidth=1.5)\n",
    "\n",
    "plt.xticks(range(0, len(clust_name)), clust_name, fontsize=20, rotation=0)\n",
    "plt.yticks(fontsize=20)\n",
    "plt.legend(bbox_to_anchor=(1,1))\n",
    "\n",
    "plt.plot()"
   ]
  },
  {
   "cell_type": "code",
   "execution_count": null,
   "id": "84b9a76c",
   "metadata": {},
   "outputs": [],
   "source": [
    "print('SSE', kmeans.inertia_)\n",
    "print('Silhouette', silhouette_score(X_normal, kmeans.labels_))"
   ]
  },
  {
   "cell_type": "code",
   "execution_count": null,
   "id": "14ba1b53",
   "metadata": {},
   "outputs": [],
   "source": [
    "sse_list = []\n",
    "\n",
    "for k in range(2, 51):\n",
    "    kmeans = KMeans(n_clusters=k, n_init=10, max_iter=100)\n",
    "    kmeans.fit(X_normal)\n",
    "    sse_list.append( kmeans.inertia_ )"
   ]
  },
  {
   "cell_type": "code",
   "execution_count": null,
   "id": "3baceb13",
   "metadata": {},
   "outputs": [],
   "source": [
    "plt.plot(range(2, len(sse_list)+2), sse_list, marker='*')\n",
    "plt.ylabel('SSE')\n",
    "plt.show()"
   ]
  },
  {
   "cell_type": "markdown",
   "id": "520cbed8",
   "metadata": {},
   "source": [
    "### KMeans on normal StandardScaled dataset"
   ]
  },
  {
   "cell_type": "code",
   "execution_count": null,
   "id": "05853b3a",
   "metadata": {},
   "outputs": [],
   "source": [
    "# Find the best K for KMeans\n",
    "k_to_test = range(2,25,1) # [2,3,4, ..., 24]\n",
    "silhouette_scores = {}\n",
    "\n",
    "for k in k_to_test:\n",
    "    kmeans = KMeans( n_clusters = k )\n",
    "    kmeans.fit(X_normal_scal)\n",
    "    labels_k = kmeans.labels_\n",
    "    score_k = silhouette_score(X_normal_scal, labels_k)\n",
    "    silhouette_scores[k] = score_k\n",
    "    print(f\"Tested kMeans with k = {k}\\tSS: {score_k}\\tSSE: {kmeans.inertia_}\")\n",
    "    \n",
    "print(\"Done!\")"
   ]
  },
  {
   "cell_type": "code",
   "execution_count": null,
   "id": "93972ffe",
   "metadata": {},
   "outputs": [],
   "source": [
    "kmeans = KMeans( n_clusters=2, n_init=10, max_iter=100 )\n",
    "kmeans.fit(X_normal_scal)"
   ]
  },
  {
   "cell_type": "code",
   "execution_count": null,
   "id": "68ad0114",
   "metadata": {},
   "outputs": [],
   "source": [
    "for i in range (0, len(col_list_normal)-1):\n",
    "    for j in range (0, len(col_list_normal)-1):\n",
    "        plt.scatter( X_normal_scal[:,i], X_normal_scal[:,j], s=40, edgecolor='black', c= kmeans.labels_ )\n",
    "        plt.scatter( kmeans.cluster_centers_[:,i], kmeans.cluster_centers_[:,j], c='red', marker='*', s=200 )\n",
    "\n",
    "        plt.xticks(fontsize=20)\n",
    "        plt.yticks(fontsize=20)\n",
    "        print(col_list_normal[i])\n",
    "        print(col_list_normal[j])\n",
    "\n",
    "        plt.show()"
   ]
  },
  {
   "cell_type": "code",
   "execution_count": null,
   "id": "8a955c19",
   "metadata": {},
   "outputs": [],
   "source": [
    "df = df.drop('kmeans_labels', 1)\n",
    "df['kmeans_labels'] = kmeans.labels_\n",
    "\n",
    "bar_pl = df['class'].groupby(df['kmeans_labels']).value_counts(normalize=True).unstack(1)\n",
    "bar_pl.plot(kind='bar', stacked=True, alpha=0.8, edgecolor='white', linewidth=1.5)\n",
    "\n",
    "plt.xticks(range(0, len(clust_name)), clust_name, fontsize=20, rotation=0)\n",
    "plt.yticks(fontsize=20)\n",
    "plt.legend(bbox_to_anchor=(1,1))\n",
    "\n",
    "plt.plot()"
   ]
  },
  {
   "cell_type": "code",
   "execution_count": null,
   "id": "fadfafc1",
   "metadata": {},
   "outputs": [],
   "source": [
    "print('SSE', kmeans.inertia_)\n",
    "print('Silhouette', silhouette_score(X_normal_scal, kmeans.labels_))"
   ]
  },
  {
   "cell_type": "code",
   "execution_count": null,
   "id": "9fa5986f",
   "metadata": {},
   "outputs": [],
   "source": [
    "sse_list = []\n",
    "\n",
    "for k in range(2, 51):\n",
    "    kmeans = KMeans(n_clusters=k, n_init=10, max_iter=100)\n",
    "    kmeans.fit(X_normal_scal)\n",
    "    sse_list.append( kmeans.inertia_ )"
   ]
  },
  {
   "cell_type": "code",
   "execution_count": null,
   "id": "b2312a96",
   "metadata": {
    "scrolled": true
   },
   "outputs": [],
   "source": [
    "plt.plot(range(2, len(sse_list)+2), sse_list, marker='*')\n",
    "plt.ylabel('SSE')\n",
    "plt.show()"
   ]
  },
  {
   "cell_type": "markdown",
   "id": "0c5dfa7b",
   "metadata": {},
   "source": [
    "### KMeans on normal MinMaxScaled dataset"
   ]
  },
  {
   "cell_type": "code",
   "execution_count": null,
   "id": "7ae2771b",
   "metadata": {
    "scrolled": true
   },
   "outputs": [],
   "source": [
    "# Find the best K for KMeans\n",
    "k_to_test = range(2,25,1) # [2,3,4, ..., 24]\n",
    "silhouette_scores = {}\n",
    "\n",
    "for k in k_to_test:\n",
    "    kmeans = KMeans( n_clusters = k )\n",
    "    kmeans.fit(X_normal_minmax)\n",
    "    labels_k = kmeans.labels_\n",
    "    score_k = silhouette_score(X_normal_minmax, labels_k)\n",
    "    silhouette_scores[k] = score_k\n",
    "    print(f\"Tested kMeans with k = {k}\\tSS: {score_k}\\tSSE: {kmeans.inertia_}\")\n",
    "    \n",
    "print(\"Done!\")"
   ]
  },
  {
   "cell_type": "code",
   "execution_count": null,
   "id": "69a6afad",
   "metadata": {},
   "outputs": [],
   "source": [
    "kmeans = KMeans( n_clusters=2, n_init=10, max_iter=100 )\n",
    "kmeans.fit(X_normal_minmax)"
   ]
  },
  {
   "cell_type": "code",
   "execution_count": null,
   "id": "fda60f56",
   "metadata": {},
   "outputs": [],
   "source": [
    "for i in range (0, len(col_list_normal)-1):\n",
    "    for j in range (0, len(col_list_normal)-1):\n",
    "        plt.scatter( X_normal_minmax[:,i], X_normal_minmax[:,j], s=40, edgecolor='black', c= kmeans.labels_ )\n",
    "        plt.scatter( kmeans.cluster_centers_[:,i], kmeans.cluster_centers_[:,j], c='red', marker='*', s=200 )\n",
    "\n",
    "        plt.xticks(fontsize=20)\n",
    "        plt.yticks(fontsize=20)\n",
    "        print(col_list_normal[i])\n",
    "        print(col_list_normal[j])\n",
    "\n",
    "        plt.show()"
   ]
  },
  {
   "cell_type": "code",
   "execution_count": null,
   "id": "60c48d6c",
   "metadata": {},
   "outputs": [],
   "source": [
    "df = df.drop('kmeans_labels', 1)\n",
    "df['kmeans_labels'] = kmeans.labels_\n",
    "\n",
    "bar_pl = df['class'].groupby(df['kmeans_labels']).value_counts(normalize=True).unstack(1)\n",
    "bar_pl.plot(kind='bar', stacked=True, alpha=0.8, edgecolor='white', linewidth=1.5)\n",
    "\n",
    "plt.xticks(range(0, len(clust_name)), clust_name, fontsize=20, rotation=0)\n",
    "plt.yticks(fontsize=20)\n",
    "plt.legend(bbox_to_anchor=(1,1))\n",
    "\n",
    "plt.plot()"
   ]
  },
  {
   "cell_type": "code",
   "execution_count": null,
   "id": "9cb5a944",
   "metadata": {
    "scrolled": true
   },
   "outputs": [],
   "source": [
    "print('SSE', kmeans.inertia_)\n",
    "print('Silhouette', silhouette_score(X_normal_minmax, kmeans.labels_))"
   ]
  },
  {
   "cell_type": "code",
   "execution_count": null,
   "id": "a419df08",
   "metadata": {},
   "outputs": [],
   "source": [
    "sse_list = []\n",
    "\n",
    "for k in range(2, 51):\n",
    "    kmeans = KMeans(n_clusters=k, n_init=10, max_iter=100)\n",
    "    kmeans.fit(X_normal_minmax)\n",
    "    sse_list.append( kmeans.inertia_ )"
   ]
  },
  {
   "cell_type": "code",
   "execution_count": null,
   "id": "bbdcdabb",
   "metadata": {
    "scrolled": false
   },
   "outputs": [],
   "source": [
    "plt.plot(range(2, len(sse_list)+2), sse_list, marker='*')\n",
    "plt.ylabel('SSE')\n",
    "plt.show()"
   ]
  },
  {
   "cell_type": "markdown",
   "id": "03f56692",
   "metadata": {},
   "source": [
    "### KMeans on transform dataset"
   ]
  },
  {
   "cell_type": "code",
   "execution_count": null,
   "id": "3e4daabc",
   "metadata": {
    "scrolled": true
   },
   "outputs": [],
   "source": [
    "# Find the best K for KMeans\n",
    "k_to_test = range(2,25,1) # [2,3,4, ..., 24]\n",
    "silhouette_scores = {}\n",
    "\n",
    "for k in k_to_test:\n",
    "    kmeans = KMeans( n_clusters = k )\n",
    "    kmeans.fit(X_transform)\n",
    "    labels_k = kmeans.labels_\n",
    "    score_k = silhouette_score(X_transform, labels_k)\n",
    "    silhouette_scores[k] = score_k\n",
    "    print(f\"Tested kMeans with k = {k}\\tSS: {score_k}\\tSSE: {kmeans.inertia_}\")\n",
    "    \n",
    "print(\"Done!\")"
   ]
  },
  {
   "cell_type": "code",
   "execution_count": null,
   "id": "42c45a13",
   "metadata": {},
   "outputs": [],
   "source": [
    "kmeans = KMeans( n_clusters=2, n_init=10, max_iter=100 )\n",
    "kmeans.fit(X_transform)"
   ]
  },
  {
   "cell_type": "code",
   "execution_count": null,
   "id": "014db162",
   "metadata": {},
   "outputs": [],
   "source": [
    "for i in range (0, len(col_list_transform)-1):\n",
    "    for j in range (0, len(col_list_transform)-1):\n",
    "        plt.scatter( X_transform[:,i], X_transform[:,j], s=40, edgecolor='black', c= kmeans.labels_ )\n",
    "        plt.scatter( kmeans.cluster_centers_[:,i], kmeans.cluster_centers_[:,j], c='red', marker='*', s=200 )\n",
    "\n",
    "        plt.xticks(fontsize=20)\n",
    "        plt.yticks(fontsize=20)\n",
    "        print(col_list_transform[i])\n",
    "        print(col_list_transform[j])\n",
    "\n",
    "        plt.show()"
   ]
  },
  {
   "cell_type": "code",
   "execution_count": null,
   "id": "a530a790",
   "metadata": {},
   "outputs": [],
   "source": [
    "df = df.drop('kmeans_labels', 1)\n",
    "df['kmeans_labels'] = kmeans.labels_\n",
    "\n",
    "bar_pl = df['class'].groupby(df['kmeans_labels']).value_counts(normalize=True).unstack(1)\n",
    "bar_pl.plot(kind='bar', stacked=True, alpha=0.8, edgecolor='white', linewidth=1.5)\n",
    "\n",
    "plt.xticks(range(0, len(clust_name)), clust_name, fontsize=20, rotation=0)\n",
    "plt.yticks(fontsize=20)\n",
    "plt.legend(bbox_to_anchor=(1,1))\n",
    "\n",
    "plt.plot()"
   ]
  },
  {
   "cell_type": "code",
   "execution_count": null,
   "id": "ac72f661",
   "metadata": {},
   "outputs": [],
   "source": [
    "print('SSE', kmeans.inertia_)\n",
    "print('Silhouette', silhouette_score(X_transform, kmeans.labels_))"
   ]
  },
  {
   "cell_type": "code",
   "execution_count": null,
   "id": "bd8f7070",
   "metadata": {},
   "outputs": [],
   "source": [
    "sse_list = []\n",
    "\n",
    "for k in range(2, 51):\n",
    "    kmeans = KMeans(n_clusters=k, n_init=10, max_iter=100)\n",
    "    kmeans.fit(X_transform)\n",
    "    sse_list.append( kmeans.inertia_ )"
   ]
  },
  {
   "cell_type": "code",
   "execution_count": null,
   "id": "f1f6584b",
   "metadata": {},
   "outputs": [],
   "source": [
    "plt.plot(range(2, len(sse_list)+2), sse_list, marker='*')\n",
    "plt.ylabel('SSE')\n",
    "plt.show()"
   ]
  },
  {
   "cell_type": "markdown",
   "id": "01f56579",
   "metadata": {},
   "source": [
    "### KMeans on transform scaled dataset"
   ]
  },
  {
   "cell_type": "code",
   "execution_count": null,
   "id": "d8183099",
   "metadata": {
    "scrolled": true
   },
   "outputs": [],
   "source": [
    "# Find the best K for KMeans\n",
    "k_to_test = range(2,25,1) # [2,3,4, ..., 24]\n",
    "silhouette_scores = {}\n",
    "\n",
    "for k in k_to_test:\n",
    "    kmeans = KMeans( n_clusters = k )\n",
    "    kmeans.fit(X_transform_scal)\n",
    "    labels_k = kmeans.labels_\n",
    "    score_k = silhouette_score(X_transform_scal, labels_k)\n",
    "    silhouette_scores[k] = score_k\n",
    "    print(f\"Tested kMeans with k = {k}\\tSS: {score_k}\\tSSE: {kmeans.inertia_}\")\n",
    "    \n",
    "print(\"Done!\")"
   ]
  },
  {
   "cell_type": "code",
   "execution_count": null,
   "id": "c18fad7c",
   "metadata": {},
   "outputs": [],
   "source": [
    "kmeans = KMeans( n_clusters=2, n_init=10, max_iter=100 )\n",
    "kmeans.fit(X_transform_scal)"
   ]
  },
  {
   "cell_type": "code",
   "execution_count": null,
   "id": "d830206b",
   "metadata": {},
   "outputs": [],
   "source": [
    "for i in range (0, len(col_list_transform)-1):\n",
    "    for j in range (0, len(col_list_transform)-1):\n",
    "        plt.scatter( X_transform_scal[:,i], X_transform_scal[:,j], s=40, edgecolor='black', c= kmeans.labels_ )\n",
    "        plt.scatter( kmeans.cluster_centers_[:,i], kmeans.cluster_centers_[:,j], c='red', marker='*', s=200 )\n",
    "\n",
    "        plt.xticks(fontsize=20)\n",
    "        plt.yticks(fontsize=20)\n",
    "        print(col_list_transform[i])\n",
    "        print(col_list_transform[j])\n",
    "\n",
    "        plt.show()"
   ]
  },
  {
   "cell_type": "code",
   "execution_count": null,
   "id": "af33e54b",
   "metadata": {},
   "outputs": [],
   "source": [
    "df = df.drop('kmeans_labels', 1)\n",
    "df['kmeans_labels'] = kmeans.labels_\n",
    "\n",
    "bar_pl = df['class'].groupby(df['kmeans_labels']).value_counts(normalize=True).unstack(1)\n",
    "bar_pl.plot(kind='bar', stacked=True, alpha=0.8, edgecolor='white', linewidth=1.5)\n",
    "\n",
    "plt.xticks(range(0, len(clust_name)), clust_name, fontsize=20, rotation=0)\n",
    "plt.yticks(fontsize=20)\n",
    "plt.legend(bbox_to_anchor=(1,1))\n",
    "\n",
    "plt.plot()"
   ]
  },
  {
   "cell_type": "code",
   "execution_count": null,
   "id": "e5ed44f2",
   "metadata": {},
   "outputs": [],
   "source": [
    "print('SSE', kmeans.inertia_)\n",
    "print('Silhouette', silhouette_score(X_transform_scal, kmeans.labels_))"
   ]
  },
  {
   "cell_type": "code",
   "execution_count": null,
   "id": "bba23ebb",
   "metadata": {},
   "outputs": [],
   "source": [
    "sse_list = []\n",
    "\n",
    "for k in range(2, 51):\n",
    "    kmeans = KMeans(n_clusters=k, n_init=10, max_iter=100)\n",
    "    kmeans.fit(X_transform_scal)\n",
    "    sse_list.append( kmeans.inertia_ )"
   ]
  },
  {
   "cell_type": "code",
   "execution_count": null,
   "id": "df11cad2",
   "metadata": {},
   "outputs": [],
   "source": [
    "plt.plot(range(2, len(sse_list)+2), sse_list, marker='*')\n",
    "plt.ylabel('SSE')\n",
    "plt.show()"
   ]
  },
  {
   "cell_type": "markdown",
   "id": "3808e07b",
   "metadata": {},
   "source": [
    "### KMeans on transform MinMaxScaled dataset"
   ]
  },
  {
   "cell_type": "code",
   "execution_count": null,
   "id": "f6a597a7",
   "metadata": {
    "scrolled": true
   },
   "outputs": [],
   "source": [
    "# Find the best K for KMeans\n",
    "k_to_test = range(2,25,1) # [2,3,4, ..., 24]\n",
    "silhouette_scores = {}\n",
    "\n",
    "for k in k_to_test:\n",
    "    kmeans = KMeans( n_clusters = k )\n",
    "    kmeans.fit(X_transform_minmax)\n",
    "    labels_k = kmeans.labels_\n",
    "    score_k = silhouette_score(X_transform_minmax, labels_k)\n",
    "    silhouette_scores[k] = score_k\n",
    "    print(f\"Tested kMeans with k = {k}\\tSS: {score_k}\\tSSE: {kmeans.inertia_}\")\n",
    "    \n",
    "print(\"Done!\")"
   ]
  },
  {
   "cell_type": "code",
   "execution_count": null,
   "id": "53ad69c7",
   "metadata": {},
   "outputs": [],
   "source": [
    "kmeans = KMeans( n_clusters=2, n_init=10, max_iter=100 )\n",
    "kmeans.fit(X_transform_minmax)"
   ]
  },
  {
   "cell_type": "code",
   "execution_count": null,
   "id": "8f925733",
   "metadata": {},
   "outputs": [],
   "source": [
    "for i in range (0, len(col_list_normal)-1):\n",
    "    for j in range (0, len(col_list_normal)-1):\n",
    "        plt.scatter( X_transform_minmax[:,i], X_transform_minmax[:,j], s=40, edgecolor='black', c= kmeans.labels_ )\n",
    "        plt.scatter( kmeans.cluster_centers_[:,i], kmeans.cluster_centers_[:,j], c='red', marker='*', s=200 )\n",
    "\n",
    "        plt.xticks(fontsize=20)\n",
    "        plt.yticks(fontsize=20)\n",
    "        print(col_list_normal[i])\n",
    "        print(col_list_normal[j])\n",
    "\n",
    "        plt.show()"
   ]
  },
  {
   "cell_type": "code",
   "execution_count": null,
   "id": "158f8294",
   "metadata": {},
   "outputs": [],
   "source": [
    "df = df.drop('kmeans_labels', 1)\n",
    "df['kmeans_labels'] = kmeans.labels_\n",
    "\n",
    "bar_pl = df['class'].groupby(df['kmeans_labels']).value_counts(normalize=True).unstack(1)\n",
    "bar_pl.plot(kind='bar', stacked=True, alpha=0.8, edgecolor='white', linewidth=1.5)\n",
    "\n",
    "plt.xticks(range(0, len(clust_name)), clust_name, fontsize=20, rotation=0)\n",
    "plt.yticks(fontsize=20)\n",
    "plt.legend(bbox_to_anchor=(1,1))\n",
    "\n",
    "plt.plot()"
   ]
  },
  {
   "cell_type": "code",
   "execution_count": null,
   "id": "a4d9ce4b",
   "metadata": {
    "scrolled": false
   },
   "outputs": [],
   "source": [
    "print('SSE', kmeans.inertia_)\n",
    "print('Silhouette', silhouette_score(X_transform_minmax, kmeans.labels_))"
   ]
  },
  {
   "cell_type": "code",
   "execution_count": null,
   "id": "b47d5342",
   "metadata": {},
   "outputs": [],
   "source": [
    "sse_list = []\n",
    "\n",
    "for k in range(2, 51):\n",
    "    kmeans = KMeans(n_clusters=k, n_init=10, max_iter=100)\n",
    "    kmeans.fit(X_transform_minmax)\n",
    "    sse_list.append( kmeans.inertia_ )"
   ]
  },
  {
   "cell_type": "code",
   "execution_count": null,
   "id": "ed5acedc",
   "metadata": {
    "scrolled": false
   },
   "outputs": [],
   "source": [
    "plt.plot(range(2, len(sse_list)+2), sse_list, marker='*')\n",
    "plt.ylabel('SSE')\n",
    "plt.show()"
   ]
  },
  {
   "cell_type": "markdown",
   "id": "60b95e4d",
   "metadata": {},
   "source": [
    "## DBSCAN"
   ]
  },
  {
   "cell_type": "code",
   "execution_count": null,
   "id": "390653d6",
   "metadata": {},
   "outputs": [],
   "source": [
    "df_X_normal = pd.DataFrame(X_normal)\n",
    "df_X_normal = df_X_normal.rename(columns={0:'genergy', 1:'gpuls', 2:'gdenergy', 3:'gdpuls', 4:'nbumps', 5:'nbumps2', 6:'nbumps3', 7:'energy', 8:'maxenergy'})\n",
    "df_X_normal_scal = pd.DataFrame(X_normal_scal)\n",
    "df_X_normal_scal = df_X_normal_scal.rename(columns={0:'genergy', 1:'gpuls', 2:'gdenergy', 3:'gdpuls', 4:'nbumps', 5:'nbumps2', 6:'nbumps3', 7:'energy', 8:'maxenergy'})\n",
    "df_X_normal_minmax = pd.DataFrame(X_normal_minmax)\n",
    "df_X_normal_minmax = df_X_normal_minmax.rename(columns={0:'genergy', 1:'gpuls', 2:'gdenergy', 3:'gdpuls', 4:'nbumps', 5:'nbumps2', 6:'nbumps3', 7:'energy', 8:'maxenergy'})\n",
    "\n",
    "df_X_transform = pd.DataFrame(X_transform)\n",
    "df_X_transform = df_X_transform.rename(columns={0:'log_genergy', 1:'log_gpuls', 2:'zscore_gdenergy', 3:'zscore_gdenergy', 4:'nbumps', 5:'nbumps2', 6:'nbumps3', 7:'shifted_log_energy', 8:'shifted_log_maxenergy'})\n",
    "df_X_transform_scal = pd.DataFrame(X_transform_scal)\n",
    "df_X_transform_scal = df_X_transform_scal.rename(columns={0:'log_genergy', 1:'log_gpuls', 2:'zscore_gdenergy', 3:'zscore_gdenergy', 4:'nbumps', 5:'nbumps2', 6:'nbumps3', 7:'shifted_log_energy', 8:'shifted_log_maxenergy'})\n",
    "df_X_transform_minmax = pd.DataFrame(X_transform_minmax)\n",
    "df_X_transform_minmax = df_X_transform_minmax.rename(columns={0:'log_genergy', 1:'log_gpuls', 2:'zscore_gdenergy', 3:'zscore_gdenergy', 4:'nbumps', 5:'nbumps2', 6:'nbumps3', 7:'shifted_log_energy', 8:'shifted_log_maxenergy'})"
   ]
  },
  {
   "cell_type": "code",
   "execution_count": null,
   "id": "cfbb0450",
   "metadata": {},
   "outputs": [],
   "source": [
    "eps_to_test = [round(eps,1) for eps in np.arange(0.1, 2, 0.1)]\n",
    "min_samples_to_test = range(5, 50, 5)\n",
    "\n",
    "print(\"EPS:\", eps_to_test) # distanza minima tra i punti per essere nello stesso cluster\n",
    "print(\"MIN_SAMPLES:\", list(min_samples_to_test)) #numero di punti minimo per formare un cluster"
   ]
  },
  {
   "cell_type": "code",
   "execution_count": null,
   "id": "3bdf345e",
   "metadata": {},
   "outputs": [],
   "source": [
    "def get_metrics(eps, min_samples, dataset, iter_):\n",
    "    \n",
    "    # Fitting ======================================================================\n",
    "    \n",
    "    dbscan_model_ = DBSCAN( eps = eps, min_samples = min_samples)\n",
    "    dbscan_model_.fit(dataset)\n",
    "    \n",
    "    # Mean Noise Point Distance metric =============================================\n",
    "    noise_indices = dbscan_model_.labels_ == -1 # prende tutti i punti classificati come noise\n",
    "    \n",
    "    if True in noise_indices:\n",
    "        neighboors = NearestNeighbors(n_neighbors = 6).fit(dataset)\n",
    "        distances, indices = neighboors.kneighbors(dataset)\n",
    "        noise_distances = distances[noise_indices, 1:]\n",
    "        noise_mean_distance = round(noise_distances.mean(), 3)\n",
    "    else:\n",
    "        noise_mean_distance = None\n",
    "        \n",
    "    # Number of found Clusters metric ==============================================\n",
    "    \n",
    "    number_of_clusters = len(set(dbscan_model_.labels_[dbscan_model_.labels_ >= 0]))\n",
    "    \n",
    "    # Log ==========================================================================\n",
    "    \n",
    "    if number_of_clusters == 2:\n",
    "        print(\"%3d | Tested with eps = %3s and min_samples = %3s | %5s %4s\" % (iter_, eps, min_samples, str(noise_mean_distance), number_of_clusters))\n",
    "        \n",
    "    return(noise_mean_distance, number_of_clusters)"
   ]
  },
  {
   "cell_type": "code",
   "execution_count": null,
   "id": "12fd4186",
   "metadata": {},
   "outputs": [],
   "source": [
    "# Dataframe per la metrica sulla distanza media dei noise points dai K punti più vicini\n",
    "results_noise = pd.DataFrame( \n",
    "    data = np.zeros((len(eps_to_test),len(min_samples_to_test))), # Empty dataframe\n",
    "    columns = min_samples_to_test, \n",
    "    index = eps_to_test\n",
    ")\n",
    "\n",
    "# Dataframe per la metrica sul numero di cluster\n",
    "results_clusters = pd.DataFrame( \n",
    "    data = np.zeros((len(eps_to_test),len(min_samples_to_test))), # Empty dataframe\n",
    "    columns = min_samples_to_test, \n",
    "    index = eps_to_test\n",
    ")"
   ]
  },
  {
   "cell_type": "markdown",
   "id": "96fcfa8c",
   "metadata": {},
   "source": [
    "### DBSCAN on normal dataset"
   ]
  },
  {
   "cell_type": "code",
   "execution_count": null,
   "id": "6b7dab1b",
   "metadata": {},
   "outputs": [],
   "source": [
    "iter_ = 0\n",
    "\n",
    "print(\"ITER| INFO%s |  DIST    CLUS\" % (\" \"*39))\n",
    "print(\"-\"*65)\n",
    "\n",
    "for eps in eps_to_test:\n",
    "    for min_samples in min_samples_to_test:\n",
    "        \n",
    "        iter_ += 1\n",
    "        \n",
    "        # Calcolo le metriche\n",
    "        noise_metric, cluster_metric = get_metrics(eps, min_samples, X_normal, iter_)\n",
    "        \n",
    "        # Inserisco i risultati nei relativi dataframe\n",
    "        results_noise.loc[eps, min_samples] = noise_metric\n",
    "        results_clusters.loc[eps, min_samples] = cluster_metric"
   ]
  },
  {
   "cell_type": "code",
   "execution_count": null,
   "id": "53396fa6",
   "metadata": {},
   "outputs": [],
   "source": [
    "fig, (ax1, ax2) = plt.subplots(1, 2, figsize=(16,8) )\n",
    "\n",
    "sns.heatmap(results_noise, annot = True, ax = ax1, cbar = False).set_title(\"METRIC: Mean Noise Points Distance\")\n",
    "sns.heatmap(results_clusters, annot = True, ax = ax2, cbar = False).set_title(\"METRIC: Number of clusters\")\n",
    "\n",
    "ax1.set_xlabel(\"N\"); ax2.set_xlabel(\"N\")\n",
    "ax1.set_ylabel(\"EPSILON\"); ax2.set_ylabel(\"EPSILON\")\n",
    "\n",
    "plt.tight_layout(); plt.show()"
   ]
  },
  {
   "cell_type": "code",
   "execution_count": null,
   "id": "4f6a1aa4",
   "metadata": {
    "scrolled": false
   },
   "outputs": [],
   "source": [
    "dbscan = DBSCAN( eps=0.3, min_samples=5)\n",
    "dbscan.fit(X_normal)"
   ]
  },
  {
   "cell_type": "code",
   "execution_count": null,
   "id": "469b1992",
   "metadata": {
    "scrolled": true
   },
   "outputs": [],
   "source": [
    "# Extracting labels\n",
    "df_X_normal[\"LABEL\"] = dbscan.labels_\n",
    "\n",
    "# Pairplot\n",
    "sns.pairplot(df_X_normal, hue=\"LABEL\", diag_kind='hist');\n",
    "plt.show()\n"
   ]
  },
  {
   "cell_type": "code",
   "execution_count": null,
   "id": "e1150844",
   "metadata": {},
   "outputs": [],
   "source": [
    "for i in range (0, len(col_list_normal)-1):\n",
    "    for j in range (0, len(col_list_normal)-1):\n",
    "        plt.scatter( X_normal[:,i], X_normal[:,j], s=40, edgecolor='black', c= dbscan.labels_ )\n",
    "\n",
    "        plt.xticks(fontsize=20)\n",
    "        plt.yticks(fontsize=20)\n",
    "        print(col_list_normal[i])\n",
    "        print(col_list_normal[j])\n",
    "\n",
    "        plt.show()"
   ]
  },
  {
   "cell_type": "code",
   "execution_count": null,
   "id": "926c302f",
   "metadata": {},
   "outputs": [],
   "source": [
    "dist = pdist(X_normal, 'euclidean')\n",
    "dist = squareform(dist)\n",
    "\n",
    "k=5\n",
    "kth_distances = []\n",
    "for d in dist:\n",
    "    index_kth_distance = np.argsort(d)[k]\n",
    "    kth_distances.append(d[index_kth_distance])"
   ]
  },
  {
   "cell_type": "markdown",
   "id": "0116c802",
   "metadata": {},
   "source": [
    "### DBSCAN on normal scaled dataset"
   ]
  },
  {
   "cell_type": "code",
   "execution_count": null,
   "id": "6daf6ddc",
   "metadata": {},
   "outputs": [],
   "source": [
    "iter_ = 0\n",
    "\n",
    "print(\"ITER| INFO%s |  DIST    CLUS\" % (\" \"*39))\n",
    "print(\"-\"*65)\n",
    "\n",
    "for eps in eps_to_test:\n",
    "    for min_samples in min_samples_to_test:\n",
    "        \n",
    "        iter_ += 1\n",
    "        \n",
    "        # Calcolo le metriche\n",
    "        noise_metric, cluster_metric = get_metrics(eps, min_samples, X_normal_scal, iter_)\n",
    "        \n",
    "        # Inserisco i risultati nei relativi dataframe\n",
    "        results_noise.loc[eps, min_samples] = noise_metric\n",
    "        results_clusters.loc[eps, min_samples] = cluster_metric"
   ]
  },
  {
   "cell_type": "code",
   "execution_count": null,
   "id": "910f3ce9",
   "metadata": {},
   "outputs": [],
   "source": [
    "fig, (ax1, ax2) = plt.subplots(1, 2, figsize=(16,8) )\n",
    "\n",
    "sns.heatmap(results_noise, annot = True, ax = ax1, cbar = False).set_title(\"METRIC: Mean Noise Points Distance\")\n",
    "sns.heatmap(results_clusters, annot = True, ax = ax2, cbar = False).set_title(\"METRIC: Number of clusters\")\n",
    "\n",
    "ax1.set_xlabel(\"N\"); ax2.set_xlabel(\"N\")\n",
    "ax1.set_ylabel(\"EPSILON\"); ax2.set_ylabel(\"EPSILON\")\n",
    "\n",
    "plt.tight_layout(); plt.show()"
   ]
  },
  {
   "cell_type": "code",
   "execution_count": null,
   "id": "b1c850cf",
   "metadata": {},
   "outputs": [],
   "source": [
    "dbscan = DBSCAN( eps=1.4, min_samples=30)\n",
    "dbscan.fit(X_normal_scal)"
   ]
  },
  {
   "cell_type": "code",
   "execution_count": null,
   "id": "913e2ea4",
   "metadata": {},
   "outputs": [],
   "source": [
    "# Extracting labels\n",
    "df_X_normal_scal[\"LABEL\"] = dbscan.labels_\n",
    "\n",
    "# Pairplot\n",
    "sns.pairplot(df_X_normal_scal, hue=\"LABEL\", diag_kind='hist');\n",
    "plt.show()\n"
   ]
  },
  {
   "cell_type": "code",
   "execution_count": null,
   "id": "ef193813",
   "metadata": {},
   "outputs": [],
   "source": [
    "for i in range (0, len(col_list_normal)-1):\n",
    "    for j in range (0, len(col_list_normal)-1):\n",
    "        plt.scatter( X_normal_scal[:,i], X_normal_scal[:,j], s=40, edgecolor='black', c= dbscan.labels_ )\n",
    "\n",
    "        plt.xticks(fontsize=20)\n",
    "        plt.yticks(fontsize=20)\n",
    "        print(col_list_normal[i])\n",
    "        print(col_list_normal[j])\n",
    "\n",
    "        plt.show()"
   ]
  },
  {
   "cell_type": "code",
   "execution_count": null,
   "id": "926c302f",
   "metadata": {},
   "outputs": [],
   "source": [
    "dist = pdist(X_normal_scal, 'euclidean')\n",
    "dist = squareform(dist)\n",
    "\n",
    "k=5\n",
    "kth_distances = []\n",
    "for d in dist:\n",
    "    index_kth_distance = np.argsort(d)[k]\n",
    "    kth_distances.append(d[index_kth_distance])"
   ]
  },
  {
   "cell_type": "markdown",
   "id": "c31a2b03",
   "metadata": {},
   "source": [
    "### DBSCAN on normal MinMaxScaled dataset"
   ]
  },
  {
   "cell_type": "code",
   "execution_count": null,
   "id": "665517a3",
   "metadata": {},
   "outputs": [],
   "source": [
    "iter_ = 0\n",
    "\n",
    "print(\"ITER| INFO%s |  DIST    CLUS\" % (\" \"*39))\n",
    "print(\"-\"*65)\n",
    "\n",
    "for eps in eps_to_test:\n",
    "    for min_samples in min_samples_to_test:\n",
    "        \n",
    "        iter_ += 1\n",
    "        \n",
    "        # Calcolo le metriche\n",
    "        noise_metric, cluster_metric = get_metrics(eps, min_samples, X_normal_minmax, iter_)\n",
    "        \n",
    "        # Inserisco i risultati nei relativi dataframe\n",
    "        results_noise.loc[eps, min_samples] = noise_metric\n",
    "        results_clusters.loc[eps, min_samples] = cluster_metric"
   ]
  },
  {
   "cell_type": "code",
   "execution_count": null,
   "id": "e52bc865",
   "metadata": {},
   "outputs": [],
   "source": [
    "fig, (ax1, ax2) = plt.subplots(1, 2, figsize=(16,8) )\n",
    "\n",
    "sns.heatmap(results_noise, annot = True, ax = ax1, cbar = False).set_title(\"METRIC: Mean Noise Points Distance\")\n",
    "sns.heatmap(results_clusters, annot = True, ax = ax2, cbar = False).set_title(\"METRIC: Number of clusters\")\n",
    "\n",
    "ax1.set_xlabel(\"N\"); ax2.set_xlabel(\"N\")\n",
    "ax1.set_ylabel(\"EPSILON\"); ax2.set_ylabel(\"EPSILON\")\n",
    "\n",
    "plt.tight_layout(); plt.show()"
   ]
  },
  {
   "cell_type": "code",
   "execution_count": null,
   "id": "2160091b",
   "metadata": {},
   "outputs": [],
   "source": [
    "dbscan = DBSCAN( eps=0.8, min_samples=15)\n",
    "dbscan.fit(X_normal_minmax)"
   ]
  },
  {
   "cell_type": "code",
   "execution_count": null,
   "id": "e1e69386",
   "metadata": {
    "scrolled": true
   },
   "outputs": [],
   "source": [
    "# Extracting labels\n",
    "df_X_normal_minmax[\"LABEL\"] = dbscan.labels_\n",
    "\n",
    "# Pairplot\n",
    "sns.pairplot(df_X_normal_minmax, hue=\"LABEL\", diag_kind='hist');\n",
    "plt.show()\n"
   ]
  },
  {
   "cell_type": "code",
   "execution_count": null,
   "id": "e1150844",
   "metadata": {},
   "outputs": [],
   "source": [
    "for i in range (0, len(col_list_normal)-1):\n",
    "    for j in range (0, len(col_list_normal)-1):\n",
    "        plt.scatter( X_normal_minmax[:,i], X_normal_minmax[:,j], s=40, edgecolor='black', c= dbscan.labels_ )\n",
    "\n",
    "        plt.xticks(fontsize=20)\n",
    "        plt.yticks(fontsize=20)\n",
    "        print(col_list_normal[i])\n",
    "        print(col_list_normal[j])\n",
    "\n",
    "        plt.show()"
   ]
  },
  {
   "cell_type": "code",
   "execution_count": null,
   "id": "926c302f",
   "metadata": {},
   "outputs": [],
   "source": [
    "dist = pdist(X_normal_minmax, 'euclidean')\n",
    "dist = squareform(dist)\n",
    "\n",
    "k=5\n",
    "kth_distances = []\n",
    "for d in dist:\n",
    "    index_kth_distance = np.argsort(d)[k]\n",
    "    kth_distances.append(d[index_kth_distance])"
   ]
  },
  {
   "cell_type": "markdown",
   "id": "c62bc7b2",
   "metadata": {},
   "source": [
    "### DBSCAN on transform dataset"
   ]
  },
  {
   "cell_type": "code",
   "execution_count": null,
   "id": "76b4ba01",
   "metadata": {
    "scrolled": true
   },
   "outputs": [],
   "source": [
    "iter_ = 0\n",
    "\n",
    "print(\"ITER| INFO%s |  DIST    CLUS\" % (\" \"*39))\n",
    "print(\"-\"*65)\n",
    "\n",
    "for eps in eps_to_test:\n",
    "    for min_samples in min_samples_to_test:\n",
    "        \n",
    "        iter_ += 1\n",
    "        \n",
    "        # Calcolo le metriche\n",
    "        noise_metric, cluster_metric = get_metrics(eps, min_samples, X_transform, iter_)\n",
    "        \n",
    "        # Inserisco i risultati nei relativi dataframe\n",
    "        results_noise.loc[eps, min_samples] = noise_metric\n",
    "        results_clusters.loc[eps, min_samples] = cluster_metric"
   ]
  },
  {
   "cell_type": "code",
   "execution_count": null,
   "id": "5a58fba6",
   "metadata": {},
   "outputs": [],
   "source": [
    "fig, (ax1, ax2) = plt.subplots(1, 2, figsize=(16,8) )\n",
    "\n",
    "sns.heatmap(results_noise, annot = True, ax = ax1, cbar = False).set_title(\"METRIC: Mean Noise Points Distance\")\n",
    "sns.heatmap(results_clusters, annot = True, ax = ax2, cbar = False).set_title(\"METRIC: Number of clusters\")\n",
    "\n",
    "ax1.set_xlabel(\"N\"); ax2.set_xlabel(\"N\")\n",
    "ax1.set_ylabel(\"EPSILON\"); ax2.set_ylabel(\"EPSILON\")\n",
    "\n",
    "plt.tight_layout(); plt.show()"
   ]
  },
  {
   "cell_type": "code",
   "execution_count": null,
   "id": "981398f3",
   "metadata": {},
   "outputs": [],
   "source": [
    "dbscan = DBSCAN( eps=1.3, min_samples=35)\n",
    "dbscan.fit(X_transform)"
   ]
  },
  {
   "cell_type": "code",
   "execution_count": null,
   "id": "ce2757dd",
   "metadata": {
    "scrolled": true
   },
   "outputs": [],
   "source": [
    "# Extracting labels\n",
    "df_X_transform[\"LABEL\"] = dbscan.labels_\n",
    "\n",
    "# Pairplot\n",
    "sns.pairplot(df_X_transform, hue=\"LABEL\", diag_kind='hist');\n",
    "plt.show()\n"
   ]
  },
  {
   "cell_type": "code",
   "execution_count": null,
   "id": "e1150844",
   "metadata": {},
   "outputs": [],
   "source": [
    "for i in range (0, len(col_list_transform)-1):\n",
    "    for j in range (0, len(col_list_transform)-1):\n",
    "        plt.scatter( X_transform[:,i], X_transform[:,j], s=40, edgecolor='black', c= dbscan.labels_ )\n",
    "\n",
    "        plt.xticks(fontsize=20)\n",
    "        plt.yticks(fontsize=20)\n",
    "        print(col_list_transform[i])\n",
    "        print(col_list_transform[j])\n",
    "\n",
    "        plt.show()"
   ]
  },
  {
   "cell_type": "code",
   "execution_count": null,
   "id": "926c302f",
   "metadata": {},
   "outputs": [],
   "source": [
    "dist = pdist(X_transform, 'euclidean')\n",
    "dist = squareform(dist)\n",
    "\n",
    "k=5\n",
    "kth_distances = []\n",
    "for d in dist:\n",
    "    index_kth_distance = np.argsort(d)[k]\n",
    "    kth_distances.append(d[index_kth_distance])"
   ]
  },
  {
   "cell_type": "markdown",
   "id": "c8967f32",
   "metadata": {},
   "source": [
    "### DBSCAN on transform scaled dataset"
   ]
  },
  {
   "cell_type": "code",
   "execution_count": null,
   "id": "7e239fb4",
   "metadata": {
    "scrolled": false
   },
   "outputs": [],
   "source": [
    "iter_ = 0\n",
    "\n",
    "print(\"ITER| INFO%s |  DIST    CLUS\" % (\" \"*39))\n",
    "print(\"-\"*65)\n",
    "\n",
    "for eps in eps_to_test:\n",
    "    for min_samples in min_samples_to_test:\n",
    "        \n",
    "        iter_ += 1\n",
    "        \n",
    "        # Calcolo le metriche\n",
    "        noise_metric, cluster_metric = get_metrics(eps, min_samples, X_transform_scal, iter_)\n",
    "        \n",
    "        # Inserisco i risultati nei relativi dataframe\n",
    "        results_noise.loc[eps, min_samples] = noise_metric\n",
    "        results_clusters.loc[eps, min_samples] = cluster_metric"
   ]
  },
  {
   "cell_type": "code",
   "execution_count": null,
   "id": "81ee3675",
   "metadata": {},
   "outputs": [],
   "source": [
    "fig, (ax1, ax2) = plt.subplots(1, 2, figsize=(16,8) )\n",
    "\n",
    "sns.heatmap(results_noise, annot = True, ax = ax1, cbar = False).set_title(\"METRIC: Mean Noise Points Distance\")\n",
    "sns.heatmap(results_clusters, annot = True, ax = ax2, cbar = False).set_title(\"METRIC: Number of clusters\")\n",
    "\n",
    "ax1.set_xlabel(\"N\"); ax2.set_xlabel(\"N\")\n",
    "ax1.set_ylabel(\"EPSILON\"); ax2.set_ylabel(\"EPSILON\")\n",
    "\n",
    "plt.tight_layout(); plt.show()"
   ]
  },
  {
   "cell_type": "code",
   "execution_count": null,
   "id": "5a8e43a2",
   "metadata": {},
   "outputs": [],
   "source": [
    "dbscan = DBSCAN( eps=1.3, min_samples=40)\n",
    "dbscan.fit(X_transform_scal)"
   ]
  },
  {
   "cell_type": "code",
   "execution_count": null,
   "id": "e4e480dd",
   "metadata": {
    "scrolled": true
   },
   "outputs": [],
   "source": [
    "# Extracting labels\n",
    "df_X_transform_scal[\"LABEL\"] = dbscan.labels_\n",
    "\n",
    "# Pairplot\n",
    "sns.pairplot(df_X_transform_scal, hue=\"LABEL\", diag_kind='hist');\n",
    "plt.show()\n"
   ]
  },
  {
   "cell_type": "code",
   "execution_count": null,
   "id": "e1150844",
   "metadata": {},
   "outputs": [],
   "source": [
    "for i in range (0, len(col_list_transform)-1):\n",
    "    for j in range (0, len(col_list_transform)-1):\n",
    "        plt.scatter( X_transform_scal[:,i], X_transform_scal[:,j], s=40, edgecolor='black', c= dbscan.labels_ )\n",
    "\n",
    "        plt.xticks(fontsize=20)\n",
    "        plt.yticks(fontsize=20)\n",
    "        print(col_list_transform[i])\n",
    "        print(col_list_transform[j])\n",
    "\n",
    "        plt.show()"
   ]
  },
  {
   "cell_type": "code",
   "execution_count": null,
   "id": "926c302f",
   "metadata": {},
   "outputs": [],
   "source": [
    "dist = pdist(X_transform_scal, 'euclidean')\n",
    "dist = squareform(dist)\n",
    "\n",
    "k=5\n",
    "kth_distances = []\n",
    "for d in dist:\n",
    "    index_kth_distance = np.argsort(d)[k]\n",
    "    kth_distances.append(d[index_kth_distance])"
   ]
  },
  {
   "cell_type": "markdown",
   "id": "2ca643aa",
   "metadata": {},
   "source": [
    "### DBSCAN on transform MinMaxScaled dataset"
   ]
  },
  {
   "cell_type": "code",
   "execution_count": null,
   "id": "b709c1d2",
   "metadata": {
    "scrolled": false
   },
   "outputs": [],
   "source": [
    "iter_ = 0\n",
    "\n",
    "print(\"ITER| INFO%s |  DIST    CLUS\" % (\" \"*39))\n",
    "print(\"-\"*65)\n",
    "\n",
    "for eps in eps_to_test:\n",
    "    for min_samples in min_samples_to_test:\n",
    "        \n",
    "        iter_ += 1\n",
    "        \n",
    "        # Calcolo le metriche\n",
    "        noise_metric, cluster_metric = get_metrics(eps, min_samples, X_transform_minmax, iter_)\n",
    "        \n",
    "        # Inserisco i risultati nei relativi dataframe\n",
    "        results_noise.loc[eps, min_samples] = noise_metric\n",
    "        results_clusters.loc[eps, min_samples] = cluster_metric"
   ]
  },
  {
   "cell_type": "code",
   "execution_count": null,
   "id": "49690009",
   "metadata": {},
   "outputs": [],
   "source": [
    "fig, (ax1, ax2) = plt.subplots(1, 2, figsize=(16,8) )\n",
    "\n",
    "sns.heatmap(results_noise, annot = True, ax = ax1, cbar = False).set_title(\"METRIC: Mean Noise Points Distance\")\n",
    "sns.heatmap(results_clusters, annot = True, ax = ax2, cbar = False).set_title(\"METRIC: Number of clusters\")\n",
    "\n",
    "ax1.set_xlabel(\"N\"); ax2.set_xlabel(\"N\")\n",
    "ax1.set_ylabel(\"EPSILON\"); ax2.set_ylabel(\"EPSILON\")\n",
    "\n",
    "plt.tight_layout(); plt.show()"
   ]
  },
  {
   "cell_type": "code",
   "execution_count": null,
   "id": "dade0c7a",
   "metadata": {},
   "outputs": [],
   "source": [
    "dbscan = DBSCAN( eps=0.5, min_samples=35)\n",
    "dbscan.fit(X_transform_minmax)"
   ]
  },
  {
   "cell_type": "code",
   "execution_count": null,
   "id": "9eafda53",
   "metadata": {
    "scrolled": true
   },
   "outputs": [],
   "source": [
    "# Extracting labels\n",
    "df_X_transform_minmax[\"LABEL\"] = dbscan.labels_\n",
    "\n",
    "# Pairplot\n",
    "sns.pairplot(df_X_transform_minmax, hue=\"LABEL\", diag_kind='hist');\n",
    "plt.show()\n"
   ]
  },
  {
   "cell_type": "code",
   "execution_count": null,
   "id": "e1150844",
   "metadata": {},
   "outputs": [],
   "source": [
    "for i in range (0, len(col_list_transform)-1):\n",
    "    for j in range (0, len(col_list_transform)-1):\n",
    "        plt.scatter( X_transform_minmax[:,i], X_transform_minmax[:,j], s=40, edgecolor='black', c= dbscan.labels_)\n",
    "\n",
    "        plt.xticks(fontsize=20)\n",
    "        plt.yticks(fontsize=20)\n",
    "        print(col_list_transform[i])\n",
    "        print(col_list_transform[j])\n",
    "\n",
    "        plt.show()"
   ]
  },
  {
   "cell_type": "code",
   "execution_count": null,
   "id": "926c302f",
   "metadata": {},
   "outputs": [],
   "source": [
    "dist = pdist(X_transform_minmax, 'euclidean')\n",
    "dist = squareform(dist)\n",
    "\n",
    "k=5\n",
    "kth_distances = []\n",
    "for d in dist:\n",
    "    index_kth_distance = np.argsort(d)[k]\n",
    "    kth_distances.append(d[index_kth_distance])"
   ]
  },
  {
   "cell_type": "code",
   "execution_count": null,
   "id": "33c24b2f",
   "metadata": {},
   "outputs": [],
   "source": [
    "plt.plot(range(0, len(kth_distances)), sorted(kth_distances))\n",
    "plt.ylabel('dist from th 5th neighbor')\n",
    "         \n",
    "plt.show()"
   ]
  },
  {
   "cell_type": "code",
   "execution_count": null,
   "id": "863119b2",
   "metadata": {},
   "outputs": [],
   "source": [
    "data_dist = pdist(X_transform_minmax, metric='euclidean')\n",
    "data_link = linkage(data_dist, method='complete')\n",
    "\n",
    "res = dendrogram(data_link, truncate_mode='lastp')"
   ]
  },
  {
   "cell_type": "code",
   "execution_count": null,
   "id": "7031cd93",
   "metadata": {},
   "outputs": [],
   "source": []
  },
  {
   "cell_type": "code",
   "execution_count": null,
   "id": "d2d1567c",
   "metadata": {},
   "outputs": [],
   "source": []
  },
  {
   "cell_type": "code",
   "execution_count": null,
   "id": "4fa66df0",
   "metadata": {},
   "outputs": [],
   "source": []
  }
 ],
 "metadata": {
  "kernelspec": {
   "display_name": "Python 3",
   "language": "python",
   "name": "python3"
  },
  "language_info": {
   "codemirror_mode": {
    "name": "ipython",
    "version": 3
   },
   "file_extension": ".py",
   "mimetype": "text/x-python",
   "name": "python",
   "nbconvert_exporter": "python",
   "pygments_lexer": "ipython3",
   "version": "3.8.8"
  }
 },
 "nbformat": 4,
 "nbformat_minor": 5
}
