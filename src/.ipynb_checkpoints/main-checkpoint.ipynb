{
 "cells": [
  {
   "cell_type": "code",
   "execution_count": 1,
   "id": "a9fda10d",
   "metadata": {},
   "outputs": [],
   "source": [
    "#Attribute information [Source]:\n",
    "#1. seismic: the result of shift seismic hazard assessment in the mine working obtained by the seismic method (a — lack of hazard, b — low hazard, c — high hazard, d — danger state);\n",
    "#2. seismoacoustic: the result of shift seismic hazard assessment in the mine working obtained by the seismoacoustic method;\n",
    "#3. shift: information about the type of a shift (W — coal-getting, N -preparation shift);\n",
    "#4. genergy: seismic energy recorded within the previous shift by the most active geophone (GMax) out of\n",
    "#geophones monitoring the longwall;\n",
    "#5. gpuls: a number of pulses recorded within the previous shift by GMax;\n",
    "#6. gdenergy: a deviation of energy recorded within the previous shift by GMax from average energy recorded during eight previous shifts;\n",
    "#7. gdpuls: a deviation of a number of pulses recorded within the previous shift by GMax from the average number of pulses recorded during eight previous shifts;\n",
    "#8. ghazard: the result of shift seismic hazard assessment in the mine working obtained by the seismoacoustic method based on registration coming to from GMax only;\n",
    "#9. nbumps: the number of seismic bumps recorded within the previous shift;\n",
    "#10. nbumps2: the number of seismic bumps (in energy range [1⁰²,1⁰³)) registered within the previous shift;\n",
    "#11. nbumps3: the number of seismic bumps (in energy range [1⁰³,1⁰⁴)) registered within the previous shift;\n",
    "#12. nbumps4: the number of seismic bumps (in energy range [1⁰⁴,1⁰⁵)) registered within the previous shift;\n",
    "#13. nbumps5: the number of seismic bumps (in energy range [1⁰⁵,1⁰⁶)) registered within the last shift;\n",
    "#14. nbumps6: the number of seismic bumps (in energy range [1⁰⁶,1⁰⁷)) registered within the previous shift;\n",
    "#15. nbumps7: the number of seismic bumps (in energy range [1⁰⁷,1⁰⁸)) registered within the previous shift;\n",
    "#16. nbumps89: the number of seismic bumps (in energy range [1⁰⁸,1⁰¹⁰)) registered within the previous shift;\n",
    "#17. energy: the total energy of seismic bumps registered within the previous shift;\n",
    "#18. maxenergy: the maximum energy of the seismic bumps registered within the previous shift;\n",
    "#19. class: the decision attribute — ‘1’ means that high energy seismic bump occurred in the next shift (‘hazardous state’), ‘0’ means that no high energy seismic bumps occurred in the next shift (‘non-hazardous state’).#"
   ]
  },
  {
   "cell_type": "code",
   "execution_count": 2,
   "id": "ef963a4c",
   "metadata": {},
   "outputs": [
    {
     "name": "stdout",
     "output_type": "stream",
     "text": [
      "Requirement already satisfied: tabulate in c:\\users\\giorg\\anaconda3\\lib\\site-packages (0.8.9)\n"
     ]
    }
   ],
   "source": [
    "!pip install tabulate\n",
    "\n",
    "%matplotlib inline\n",
    "import math\n",
    "import numpy as np\n",
    "import pandas as pd\n",
    "import scipy.stats as stats\n",
    "import matplotlib.pyplot as plt\n",
    "import seaborn as sns\n",
    "\n",
    "from tabulate import tabulate\n",
    "from collections import defaultdict\n",
    "from scipy.stats.stats import pearsonr"
   ]
  },
  {
   "cell_type": "code",
   "execution_count": 3,
   "id": "f8758db8",
   "metadata": {},
   "outputs": [
    {
     "data": {
      "text/plain": [
       "seismic           object\n",
       "seismoacoustic    object\n",
       "shift             object\n",
       "genergy            int64\n",
       "gpuls              int64\n",
       "gdenergy           int64\n",
       "gdpuls             int64\n",
       "hazard            object\n",
       "nbumps             int64\n",
       "nbumps2            int64\n",
       "nbumps3            int64\n",
       "nbumps4            int64\n",
       "nbumps5            int64\n",
       "nbumps6            int64\n",
       "nbumps7            int64\n",
       "nbumps89           int64\n",
       "energy             int64\n",
       "maxenergy          int64\n",
       "class              int64\n",
       "dtype: object"
      ]
     },
     "execution_count": 3,
     "metadata": {},
     "output_type": "execute_result"
    }
   ],
   "source": [
    "df = pd.read_csv('seismic-bumps.csv')\n",
    "df.dtypes"
   ]
  },
  {
   "cell_type": "code",
   "execution_count": 4,
   "id": "a7418172",
   "metadata": {},
   "outputs": [
    {
     "data": {
      "text/plain": [
       "seismic           string\n",
       "seismoacoustic    string\n",
       "shift             string\n",
       "genergy            Int64\n",
       "gpuls              Int64\n",
       "gdenergy           Int64\n",
       "gdpuls             Int64\n",
       "hazard            string\n",
       "nbumps             Int64\n",
       "nbumps2            Int64\n",
       "nbumps3            Int64\n",
       "nbumps4            Int64\n",
       "nbumps5            Int64\n",
       "nbumps6            Int64\n",
       "nbumps7            Int64\n",
       "nbumps89           Int64\n",
       "energy             Int64\n",
       "maxenergy          Int64\n",
       "class              Int64\n",
       "dtype: object"
      ]
     },
     "execution_count": 4,
     "metadata": {},
     "output_type": "execute_result"
    }
   ],
   "source": [
    "df = df.convert_dtypes()\n",
    "df.dtypes"
   ]
  },
  {
   "cell_type": "code",
   "execution_count": 5,
   "id": "c438fcdc",
   "metadata": {},
   "outputs": [
    {
     "data": {
      "text/html": [
       "<div>\n",
       "<style scoped>\n",
       "    .dataframe tbody tr th:only-of-type {\n",
       "        vertical-align: middle;\n",
       "    }\n",
       "\n",
       "    .dataframe tbody tr th {\n",
       "        vertical-align: top;\n",
       "    }\n",
       "\n",
       "    .dataframe thead th {\n",
       "        text-align: right;\n",
       "    }\n",
       "</style>\n",
       "<table border=\"1\" class=\"dataframe\">\n",
       "  <thead>\n",
       "    <tr style=\"text-align: right;\">\n",
       "      <th></th>\n",
       "      <th>seismic</th>\n",
       "      <th>seismoacoustic</th>\n",
       "      <th>shift</th>\n",
       "      <th>genergy</th>\n",
       "      <th>gpuls</th>\n",
       "      <th>gdenergy</th>\n",
       "      <th>gdpuls</th>\n",
       "      <th>hazard</th>\n",
       "      <th>nbumps</th>\n",
       "      <th>nbumps2</th>\n",
       "      <th>nbumps3</th>\n",
       "      <th>nbumps4</th>\n",
       "      <th>nbumps5</th>\n",
       "      <th>nbumps6</th>\n",
       "      <th>nbumps7</th>\n",
       "      <th>nbumps89</th>\n",
       "      <th>energy</th>\n",
       "      <th>maxenergy</th>\n",
       "      <th>class</th>\n",
       "    </tr>\n",
       "  </thead>\n",
       "  <tbody>\n",
       "    <tr>\n",
       "      <th>0</th>\n",
       "      <td>a</td>\n",
       "      <td>a</td>\n",
       "      <td>N</td>\n",
       "      <td>15180</td>\n",
       "      <td>48</td>\n",
       "      <td>-72</td>\n",
       "      <td>-72</td>\n",
       "      <td>a</td>\n",
       "      <td>0</td>\n",
       "      <td>0</td>\n",
       "      <td>0</td>\n",
       "      <td>0</td>\n",
       "      <td>0</td>\n",
       "      <td>0</td>\n",
       "      <td>0</td>\n",
       "      <td>0</td>\n",
       "      <td>0</td>\n",
       "      <td>0</td>\n",
       "      <td>0</td>\n",
       "    </tr>\n",
       "    <tr>\n",
       "      <th>1</th>\n",
       "      <td>a</td>\n",
       "      <td>a</td>\n",
       "      <td>N</td>\n",
       "      <td>14720</td>\n",
       "      <td>33</td>\n",
       "      <td>-70</td>\n",
       "      <td>-79</td>\n",
       "      <td>a</td>\n",
       "      <td>1</td>\n",
       "      <td>0</td>\n",
       "      <td>1</td>\n",
       "      <td>0</td>\n",
       "      <td>0</td>\n",
       "      <td>0</td>\n",
       "      <td>0</td>\n",
       "      <td>0</td>\n",
       "      <td>2000</td>\n",
       "      <td>2000</td>\n",
       "      <td>0</td>\n",
       "    </tr>\n",
       "    <tr>\n",
       "      <th>2</th>\n",
       "      <td>a</td>\n",
       "      <td>a</td>\n",
       "      <td>N</td>\n",
       "      <td>8050</td>\n",
       "      <td>30</td>\n",
       "      <td>-81</td>\n",
       "      <td>-78</td>\n",
       "      <td>a</td>\n",
       "      <td>0</td>\n",
       "      <td>0</td>\n",
       "      <td>0</td>\n",
       "      <td>0</td>\n",
       "      <td>0</td>\n",
       "      <td>0</td>\n",
       "      <td>0</td>\n",
       "      <td>0</td>\n",
       "      <td>0</td>\n",
       "      <td>0</td>\n",
       "      <td>0</td>\n",
       "    </tr>\n",
       "    <tr>\n",
       "      <th>3</th>\n",
       "      <td>a</td>\n",
       "      <td>a</td>\n",
       "      <td>N</td>\n",
       "      <td>28820</td>\n",
       "      <td>171</td>\n",
       "      <td>-23</td>\n",
       "      <td>40</td>\n",
       "      <td>a</td>\n",
       "      <td>1</td>\n",
       "      <td>0</td>\n",
       "      <td>1</td>\n",
       "      <td>0</td>\n",
       "      <td>0</td>\n",
       "      <td>0</td>\n",
       "      <td>0</td>\n",
       "      <td>0</td>\n",
       "      <td>3000</td>\n",
       "      <td>3000</td>\n",
       "      <td>0</td>\n",
       "    </tr>\n",
       "    <tr>\n",
       "      <th>4</th>\n",
       "      <td>a</td>\n",
       "      <td>a</td>\n",
       "      <td>N</td>\n",
       "      <td>12640</td>\n",
       "      <td>57</td>\n",
       "      <td>-63</td>\n",
       "      <td>-52</td>\n",
       "      <td>a</td>\n",
       "      <td>0</td>\n",
       "      <td>0</td>\n",
       "      <td>0</td>\n",
       "      <td>0</td>\n",
       "      <td>0</td>\n",
       "      <td>0</td>\n",
       "      <td>0</td>\n",
       "      <td>0</td>\n",
       "      <td>0</td>\n",
       "      <td>0</td>\n",
       "      <td>0</td>\n",
       "    </tr>\n",
       "  </tbody>\n",
       "</table>\n",
       "</div>"
      ],
      "text/plain": [
       "  seismic seismoacoustic shift  genergy  gpuls  gdenergy  gdpuls hazard  \\\n",
       "0       a              a     N    15180     48       -72     -72      a   \n",
       "1       a              a     N    14720     33       -70     -79      a   \n",
       "2       a              a     N     8050     30       -81     -78      a   \n",
       "3       a              a     N    28820    171       -23      40      a   \n",
       "4       a              a     N    12640     57       -63     -52      a   \n",
       "\n",
       "   nbumps  nbumps2  nbumps3  nbumps4  nbumps5  nbumps6  nbumps7  nbumps89  \\\n",
       "0       0        0        0        0        0        0        0         0   \n",
       "1       1        0        1        0        0        0        0         0   \n",
       "2       0        0        0        0        0        0        0         0   \n",
       "3       1        0        1        0        0        0        0         0   \n",
       "4       0        0        0        0        0        0        0         0   \n",
       "\n",
       "   energy  maxenergy  class  \n",
       "0       0          0      0  \n",
       "1    2000       2000      0  \n",
       "2       0          0      0  \n",
       "3    3000       3000      0  \n",
       "4       0          0      0  "
      ]
     },
     "execution_count": 5,
     "metadata": {},
     "output_type": "execute_result"
    }
   ],
   "source": [
    "df.head()"
   ]
  },
  {
   "cell_type": "markdown",
   "id": "5c84391d",
   "metadata": {},
   "source": [
    "# CATEGORICAL VARIABLES DISTRIBUTION ANALYSIS"
   ]
  },
  {
   "cell_type": "code",
   "execution_count": 6,
   "id": "368d71d1",
   "metadata": {},
   "outputs": [
    {
     "data": {
      "text/plain": [
       "<AxesSubplot:title={'center':'seismic values'}>"
      ]
     },
     "execution_count": 6,
     "metadata": {},
     "output_type": "execute_result"
    },
    {
     "data": {
      "image/png": "[encoded data removed]",
      "text/plain": [
       "<Figure size 432x288 with 1 Axes>"
      ]
     },
     "metadata": {
      "needs_background": "light"
     },
     "output_type": "display_data"
    }
   ],
   "source": [
    "df['seismic'].value_counts(normalize=True, ascending=True).plot(kind='barh', title='seismic values')"
   ]
  },
  {
   "cell_type": "code",
   "execution_count": 7,
   "id": "cc4930d7",
   "metadata": {},
   "outputs": [
    {
     "data": {
      "text/plain": [
       "<AxesSubplot:title={'center':'seismoacoustic values'}>"
      ]
     },
     "execution_count": 7,
     "metadata": {},
     "output_type": "execute_result"
    },
    {
     "data": {
      "image/png": "[encoded data removed]",
      "text/plain": [
       "<Figure size 432x288 with 1 Axes>"
      ]
     },
     "metadata": {
      "needs_background": "light"
     },
     "output_type": "display_data"
    }
   ],
   "source": [
    "df['seismoacoustic'].value_counts(normalize=True, ascending=True).plot(kind='barh', title='seismoacoustic values')"
   ]
  },
  {
   "cell_type": "code",
   "execution_count": 8,
   "id": "6f5e0d26",
   "metadata": {},
   "outputs": [
    {
     "data": {
      "text/plain": [
       "<AxesSubplot:title={'center':'shift values'}>"
      ]
     },
     "execution_count": 8,
     "metadata": {},
     "output_type": "execute_result"
    },
    {
     "data": {
      "image/png": "[encoded data removed]",
      "text/plain": [
       "<Figure size 432x288 with 1 Axes>"
      ]
     },
     "metadata": {
      "needs_background": "light"
     },
     "output_type": "display_data"
    }
   ],
   "source": [
    "df['shift'].value_counts(normalize=True, ascending=True).plot(kind='barh', title='shift values')"
   ]
  },
  {
   "cell_type": "code",
   "execution_count": 9,
   "id": "1df62b5e",
   "metadata": {},
   "outputs": [
    {
     "data": {
      "text/plain": [
       "<AxesSubplot:title={'center':'hazard values'}>"
      ]
     },
     "execution_count": 9,
     "metadata": {},
     "output_type": "execute_result"
    },
    {
     "data": {
      "image/png": "[encoded data removed]",
      "text/plain": [
       "<Figure size 432x288 with 1 Axes>"
      ]
     },
     "metadata": {
      "needs_background": "light"
     },
     "output_type": "display_data"
    }
   ],
   "source": [
    "df['hazard'].value_counts(normalize=True, ascending=True).plot(kind='barh', title='hazard values')"
   ]
  },
  {
   "cell_type": "markdown",
   "id": "0df9dc16",
   "metadata": {},
   "source": [
    "##  NUMERICAL VARIABLES DISTRIBUTION ANALYSIS"
   ]
  },
  {
   "cell_type": "code",
   "execution_count": 10,
   "id": "462c56c7",
   "metadata": {},
   "outputs": [
    {
     "data": {
      "text/plain": [
       "<AxesSubplot:title={'center':'genergy values'}, ylabel='Density'>"
      ]
     },
     "execution_count": 10,
     "metadata": {},
     "output_type": "execute_result"
    },
    {
     "data": {
      "image/png": "[encoded data removed]",
      "text/plain": [
       "<Figure size 432x288 with 1 Axes>"
      ]
     },
     "metadata": {
      "needs_background": "light"
     },
     "output_type": "display_data"
    }
   ],
   "source": [
    "df['genergy'].value_counts(normalize=True).plot(kind='density', title='genergy values')"
   ]
  },
  {
   "cell_type": "code",
   "execution_count": 11,
   "id": "788aa693",
   "metadata": {},
   "outputs": [
    {
     "data": {
      "text/plain": [
       "<AxesSubplot:title={'center':'gpuls values'}, ylabel='Density'>"
      ]
     },
     "execution_count": 11,
     "metadata": {},
     "output_type": "execute_result"
    },
    {
     "data": {
      "image/png": "[encoded data removed]",
      "text/plain": [
       "<Figure size 432x288 with 1 Axes>"
      ]
     },
     "metadata": {
      "needs_background": "light"
     },
     "output_type": "display_data"
    }
   ],
   "source": [
    "df['gpuls'].value_counts(normalize=True).plot(kind='density', title='gpuls values')"
   ]
  },
  {
   "cell_type": "code",
   "execution_count": 12,
   "id": "346c7b02",
   "metadata": {},
   "outputs": [
    {
     "data": {
      "text/plain": [
       "<AxesSubplot:title={'center':'gdpuls values'}, ylabel='Density'>"
      ]
     },
     "execution_count": 12,
     "metadata": {},
     "output_type": "execute_result"
    },
    {
     "data": {
      "image/png": "[encoded data removed]",
      "text/plain": [
       "<Figure size 432x288 with 1 Axes>"
      ]
     },
     "metadata": {
      "needs_background": "light"
     },
     "output_type": "display_data"
    }
   ],
   "source": [
    "df['gdpuls'].value_counts(normalize=True).plot(kind='density', title='gdpuls values')"
   ]
  },
  {
   "cell_type": "code",
   "execution_count": 13,
   "id": "ed3f3243",
   "metadata": {},
   "outputs": [
    {
     "data": {
      "text/plain": [
       "<AxesSubplot:title={'center':'energy values'}, ylabel='Density'>"
      ]
     },
     "execution_count": 13,
     "metadata": {},
     "output_type": "execute_result"
    },
    {
     "data": {
      "image/png": "[encoded data removed]",
      "text/plain": [
       "<Figure size 432x288 with 1 Axes>"
      ]
     },
     "metadata": {
      "needs_background": "light"
     },
     "output_type": "display_data"
    }
   ],
   "source": [
    "df['energy'].value_counts(normalize=True).plot(kind='density', title='energy values')"
   ]
  },
  {
   "cell_type": "code",
   "execution_count": 14,
   "id": "30e1b341",
   "metadata": {},
   "outputs": [
    {
     "data": {
      "text/plain": [
       "<AxesSubplot:title={'center':'maxenergy values'}, ylabel='Density'>"
      ]
     },
     "execution_count": 14,
     "metadata": {},
     "output_type": "execute_result"
    },
    {
     "data": {
      "image/png": "[encoded data removed]",
      "text/plain": [
       "<Figure size 432x288 with 1 Axes>"
      ]
     },
     "metadata": {
      "needs_background": "light"
     },
     "output_type": "display_data"
    }
   ],
   "source": [
    "df['maxenergy'].value_counts(normalize=True).plot(kind='density', title='maxenergy values')"
   ]
  },
  {
   "cell_type": "markdown",
   "id": "901778eb",
   "metadata": {},
   "source": [
    "#### as we can see, the variables above assume a right skewed distribution. This means that the majority of values are located in left part, around zero."
   ]
  },
  {
   "cell_type": "markdown",
   "id": "f428b4d7",
   "metadata": {},
   "source": [
    "## DISCRETE VARIABLES DISTRIBUTION ANALYSIS"
   ]
  },
  {
   "cell_type": "code",
   "execution_count": 15,
   "id": "fdc03edb",
   "metadata": {},
   "outputs": [
    {
     "data": {
      "text/plain": [
       "<AxesSubplot:title={'center':'nbumps values'}>"
      ]
     },
     "execution_count": 15,
     "metadata": {},
     "output_type": "execute_result"
    },
    {
     "data": {
      "image/png": "[encoded data removed]",
      "text/plain": [
       "<Figure size 432x288 with 1 Axes>"
      ]
     },
     "metadata": {
      "needs_background": "light"
     },
     "output_type": "display_data"
    }
   ],
   "source": [
    "df['nbumps'].value_counts(normalize=True, ascending=True).plot(kind='barh', title='nbumps values')"
   ]
  },
  {
   "cell_type": "code",
   "execution_count": 16,
   "id": "e7d6650b",
   "metadata": {},
   "outputs": [
    {
     "data": {
      "text/plain": [
       "<AxesSubplot:title={'center':'nbumps2 values'}>"
      ]
     },
     "execution_count": 16,
     "metadata": {},
     "output_type": "execute_result"
    },
    {
     "data": {
      "image/png": "[encoded data removed]",
      "text/plain": [
       "<Figure size 432x288 with 1 Axes>"
      ]
     },
     "metadata": {
      "needs_background": "light"
     },
     "output_type": "display_data"
    }
   ],
   "source": [
    "df['nbumps2'].value_counts(normalize=True, ascending=True).plot(kind='barh', title='nbumps2 values')"
   ]
  },
  {
   "cell_type": "code",
   "execution_count": 17,
   "id": "1ee90ea2",
   "metadata": {},
   "outputs": [
    {
     "data": {
      "text/plain": [
       "<AxesSubplot:title={'center':'nbumps3 values'}>"
      ]
     },
     "execution_count": 17,
     "metadata": {},
     "output_type": "execute_result"
    },
    {
     "data": {
      "image/png": "[encoded data removed]",
      "text/plain": [
       "<Figure size 432x288 with 1 Axes>"
      ]
     },
     "metadata": {
      "needs_background": "light"
     },
     "output_type": "display_data"
    }
   ],
   "source": [
    "df['nbumps3'].value_counts(normalize=True, ascending=True).plot(kind='barh', title='nbumps3 values')"
   ]
  },
  {
   "cell_type": "code",
   "execution_count": 18,
   "id": "1135a92d",
   "metadata": {},
   "outputs": [
    {
     "data": {
      "text/plain": [
       "<AxesSubplot:title={'center':'nbumps4 values'}>"
      ]
     },
     "execution_count": 18,
     "metadata": {},
     "output_type": "execute_result"
    },
    {
     "data": {
      "image/png": "[encoded data removed]",
      "text/plain": [
       "<Figure size 432x288 with 1 Axes>"
      ]
     },
     "metadata": {
      "needs_background": "light"
     },
     "output_type": "display_data"
    }
   ],
   "source": [
    "df['nbumps4'].value_counts(normalize=True, ascending=True).plot(kind='barh', title='nbumps4 values')"
   ]
  },
  {
   "cell_type": "code",
   "execution_count": 19,
   "id": "f6a4768a",
   "metadata": {},
   "outputs": [
    {
     "data": {
      "text/plain": [
       "<AxesSubplot:title={'center':'nbumps5 values'}>"
      ]
     },
     "execution_count": 19,
     "metadata": {},
     "output_type": "execute_result"
    },
    {
     "data": {
      "image/png": "[encoded data removed]",
      "text/plain": [
       "<Figure size 432x288 with 1 Axes>"
      ]
     },
     "metadata": {
      "needs_background": "light"
     },
     "output_type": "display_data"
    }
   ],
   "source": [
    "df['nbumps5'].value_counts(normalize=True, ascending=True).plot(kind='barh', title='nbumps5 values')"
   ]
  },
  {
   "cell_type": "code",
   "execution_count": 20,
   "id": "b211e84b",
   "metadata": {},
   "outputs": [
    {
     "data": {
      "text/plain": [
       "<AxesSubplot:title={'center':'nbumps6 values'}>"
      ]
     },
     "execution_count": 20,
     "metadata": {},
     "output_type": "execute_result"
    },
    {
     "data": {
      "image/png": "[encoded data removed]",
      "text/plain": [
       "<Figure size 432x288 with 1 Axes>"
      ]
     },
     "metadata": {
      "needs_background": "light"
     },
     "output_type": "display_data"
    }
   ],
   "source": [
    "df['nbumps6'].value_counts(normalize=True, ascending=True).plot(kind='barh', title='nbumps6 values')"
   ]
  },
  {
   "cell_type": "code",
   "execution_count": 21,
   "id": "37b7ddca",
   "metadata": {},
   "outputs": [
    {
     "data": {
      "text/plain": [
       "<AxesSubplot:title={'center':'nbumps7 values'}>"
      ]
     },
     "execution_count": 21,
     "metadata": {},
     "output_type": "execute_result"
    },
    {
     "data": {
      "image/png": "[encoded data removed]",
      "text/plain": [
       "<Figure size 432x288 with 1 Axes>"
      ]
     },
     "metadata": {
      "needs_background": "light"
     },
     "output_type": "display_data"
    }
   ],
   "source": [
    "df['nbumps7'].value_counts(normalize=True, ascending=True).plot(kind='barh', title='nbumps7 values')"
   ]
  },
  {
   "cell_type": "code",
   "execution_count": 22,
   "id": "3cfa1f85",
   "metadata": {},
   "outputs": [
    {
     "data": {
      "text/plain": [
       "<AxesSubplot:title={'center':'nbumps89 values'}>"
      ]
     },
     "execution_count": 22,
     "metadata": {},
     "output_type": "execute_result"
    },
    {
     "data": {
      "image/png": "[encoded data removed]",
      "text/plain": [
       "<Figure size 432x288 with 1 Axes>"
      ]
     },
     "metadata": {
      "needs_background": "light"
     },
     "output_type": "display_data"
    }
   ],
   "source": [
    "df['nbumps89'].value_counts(normalize=True, ascending=True).plot(kind='barh', title='nbumps89 values')"
   ]
  },
  {
   "cell_type": "code",
   "execution_count": 23,
   "id": "c97f9693",
   "metadata": {},
   "outputs": [
    {
     "data": {
      "text/plain": [
       "<AxesSubplot:title={'center':'class values'}>"
      ]
     },
     "execution_count": 23,
     "metadata": {},
     "output_type": "execute_result"
    },
    {
     "data": {
      "image/png": "[encoded data removed]",
      "text/plain": [
       "<Figure size 432x288 with 1 Axes>"
      ]
     },
     "metadata": {
      "needs_background": "light"
     },
     "output_type": "display_data"
    }
   ],
   "source": [
    "df['class'].value_counts(normalize=True, ascending=True).plot(kind='barh', title='class values')"
   ]
  },
  {
   "cell_type": "code",
   "execution_count": 24,
   "id": "0c5ff792",
   "metadata": {},
   "outputs": [
    {
     "data": {
      "text/plain": [
       "0    2414\n",
       "1     170\n",
       "Name: class, dtype: Int64"
      ]
     },
     "execution_count": 24,
     "metadata": {},
     "output_type": "execute_result"
    }
   ],
   "source": [
    "df['class'].value_counts()  #in numero"
   ]
  },
  {
   "cell_type": "code",
   "execution_count": 25,
   "id": "856b47d5",
   "metadata": {},
   "outputs": [
    {
     "data": {
      "text/plain": [
       "seismic           category\n",
       "seismoacoustic    category\n",
       "shift             category\n",
       "genergy            float64\n",
       "gpuls              float64\n",
       "gdenergy           float64\n",
       "gdpuls             float64\n",
       "hazard            category\n",
       "nbumps             float64\n",
       "nbumps2            float64\n",
       "nbumps3            float64\n",
       "nbumps4            float64\n",
       "nbumps5            float64\n",
       "nbumps6            float64\n",
       "nbumps7            float64\n",
       "nbumps89           float64\n",
       "energy             float64\n",
       "maxenergy          float64\n",
       "class              float64\n",
       "dtype: object"
      ]
     },
     "execution_count": 25,
     "metadata": {},
     "output_type": "execute_result"
    }
   ],
   "source": [
    "df['seismic'] = df['seismic'].astype(\"category\")\n",
    "df['seismoacoustic'] = df['seismoacoustic'].astype(\"category\")\n",
    "df['shift'] = df['shift'].astype(\"category\")\n",
    "df['genergy'] = df['genergy'].astype(float)\n",
    "df['gpuls'] = df['gpuls'].astype(float)\n",
    "df['gdenergy'] = df['gdenergy'].astype(float)\n",
    "df['gdpuls'] = df['gdpuls'].astype(float)\n",
    "df['hazard'] = df['hazard'].astype(\"category\")\n",
    "df['nbumps'] = df['nbumps'].astype(float)\n",
    "df['nbumps2'] = df['nbumps2'].astype(float)\n",
    "df['nbumps3'] = df['nbumps3'].astype(float)\n",
    "df['nbumps4'] = df['nbumps4'].astype(float)\n",
    "df['nbumps5'] = df['nbumps5'].astype(float)\n",
    "df['nbumps6'] = df['nbumps6'].astype(float)\n",
    "df['nbumps7'] = df['nbumps7'].astype(float)\n",
    "df['nbumps89'] = df['nbumps89'].astype(float)\n",
    "df['energy'] = df['energy'].astype(float)\n",
    "df['maxenergy'] = df['maxenergy'].astype(float)\n",
    "df['class'] = df['class'].astype(float)\n",
    "\n",
    "df.dtypes"
   ]
  },
  {
   "cell_type": "code",
   "execution_count": 26,
   "id": "63280490",
   "metadata": {
    "scrolled": false
   },
   "outputs": [
    {
     "data": {
      "text/html": [
       "<div>\n",
       "<style scoped>\n",
       "    .dataframe tbody tr th:only-of-type {\n",
       "        vertical-align: middle;\n",
       "    }\n",
       "\n",
       "    .dataframe tbody tr th {\n",
       "        vertical-align: top;\n",
       "    }\n",
       "\n",
       "    .dataframe thead th {\n",
       "        text-align: right;\n",
       "    }\n",
       "</style>\n",
       "<table border=\"1\" class=\"dataframe\">\n",
       "  <thead>\n",
       "    <tr style=\"text-align: right;\">\n",
       "      <th></th>\n",
       "      <th>seismic</th>\n",
       "      <th>seismoacoustic</th>\n",
       "      <th>shift</th>\n",
       "      <th>genergy</th>\n",
       "      <th>gpuls</th>\n",
       "      <th>gdenergy</th>\n",
       "      <th>gdpuls</th>\n",
       "      <th>hazard</th>\n",
       "      <th>nbumps</th>\n",
       "      <th>nbumps2</th>\n",
       "      <th>nbumps3</th>\n",
       "      <th>nbumps4</th>\n",
       "      <th>nbumps5</th>\n",
       "      <th>nbumps6</th>\n",
       "      <th>nbumps7</th>\n",
       "      <th>nbumps89</th>\n",
       "      <th>energy</th>\n",
       "      <th>maxenergy</th>\n",
       "      <th>class</th>\n",
       "    </tr>\n",
       "  </thead>\n",
       "  <tbody>\n",
       "    <tr>\n",
       "      <th>0</th>\n",
       "      <td>a</td>\n",
       "      <td>a</td>\n",
       "      <td>N</td>\n",
       "      <td>15180.0</td>\n",
       "      <td>48.0</td>\n",
       "      <td>-72.0</td>\n",
       "      <td>-72.0</td>\n",
       "      <td>a</td>\n",
       "      <td>0.0</td>\n",
       "      <td>0.0</td>\n",
       "      <td>0.0</td>\n",
       "      <td>0.0</td>\n",
       "      <td>0.0</td>\n",
       "      <td>0.0</td>\n",
       "      <td>0.0</td>\n",
       "      <td>0.0</td>\n",
       "      <td>0.0</td>\n",
       "      <td>0.0</td>\n",
       "      <td>0.0</td>\n",
       "    </tr>\n",
       "    <tr>\n",
       "      <th>1</th>\n",
       "      <td>a</td>\n",
       "      <td>a</td>\n",
       "      <td>N</td>\n",
       "      <td>14720.0</td>\n",
       "      <td>33.0</td>\n",
       "      <td>-70.0</td>\n",
       "      <td>-79.0</td>\n",
       "      <td>a</td>\n",
       "      <td>1.0</td>\n",
       "      <td>0.0</td>\n",
       "      <td>1.0</td>\n",
       "      <td>0.0</td>\n",
       "      <td>0.0</td>\n",
       "      <td>0.0</td>\n",
       "      <td>0.0</td>\n",
       "      <td>0.0</td>\n",
       "      <td>2000.0</td>\n",
       "      <td>2000.0</td>\n",
       "      <td>0.0</td>\n",
       "    </tr>\n",
       "    <tr>\n",
       "      <th>2</th>\n",
       "      <td>a</td>\n",
       "      <td>a</td>\n",
       "      <td>N</td>\n",
       "      <td>8050.0</td>\n",
       "      <td>30.0</td>\n",
       "      <td>-81.0</td>\n",
       "      <td>-78.0</td>\n",
       "      <td>a</td>\n",
       "      <td>0.0</td>\n",
       "      <td>0.0</td>\n",
       "      <td>0.0</td>\n",
       "      <td>0.0</td>\n",
       "      <td>0.0</td>\n",
       "      <td>0.0</td>\n",
       "      <td>0.0</td>\n",
       "      <td>0.0</td>\n",
       "      <td>0.0</td>\n",
       "      <td>0.0</td>\n",
       "      <td>0.0</td>\n",
       "    </tr>\n",
       "    <tr>\n",
       "      <th>3</th>\n",
       "      <td>a</td>\n",
       "      <td>a</td>\n",
       "      <td>N</td>\n",
       "      <td>28820.0</td>\n",
       "      <td>171.0</td>\n",
       "      <td>-23.0</td>\n",
       "      <td>40.0</td>\n",
       "      <td>a</td>\n",
       "      <td>1.0</td>\n",
       "      <td>0.0</td>\n",
       "      <td>1.0</td>\n",
       "      <td>0.0</td>\n",
       "      <td>0.0</td>\n",
       "      <td>0.0</td>\n",
       "      <td>0.0</td>\n",
       "      <td>0.0</td>\n",
       "      <td>3000.0</td>\n",
       "      <td>3000.0</td>\n",
       "      <td>0.0</td>\n",
       "    </tr>\n",
       "    <tr>\n",
       "      <th>4</th>\n",
       "      <td>a</td>\n",
       "      <td>a</td>\n",
       "      <td>N</td>\n",
       "      <td>12640.0</td>\n",
       "      <td>57.0</td>\n",
       "      <td>-63.0</td>\n",
       "      <td>-52.0</td>\n",
       "      <td>a</td>\n",
       "      <td>0.0</td>\n",
       "      <td>0.0</td>\n",
       "      <td>0.0</td>\n",
       "      <td>0.0</td>\n",
       "      <td>0.0</td>\n",
       "      <td>0.0</td>\n",
       "      <td>0.0</td>\n",
       "      <td>0.0</td>\n",
       "      <td>0.0</td>\n",
       "      <td>0.0</td>\n",
       "      <td>0.0</td>\n",
       "    </tr>\n",
       "  </tbody>\n",
       "</table>\n",
       "</div>"
      ],
      "text/plain": [
       "  seismic seismoacoustic shift  genergy  gpuls  gdenergy  gdpuls hazard  \\\n",
       "0       a              a     N  15180.0   48.0     -72.0   -72.0      a   \n",
       "1       a              a     N  14720.0   33.0     -70.0   -79.0      a   \n",
       "2       a              a     N   8050.0   30.0     -81.0   -78.0      a   \n",
       "3       a              a     N  28820.0  171.0     -23.0    40.0      a   \n",
       "4       a              a     N  12640.0   57.0     -63.0   -52.0      a   \n",
       "\n",
       "   nbumps  nbumps2  nbumps3  nbumps4  nbumps5  nbumps6  nbumps7  nbumps89  \\\n",
       "0     0.0      0.0      0.0      0.0      0.0      0.0      0.0       0.0   \n",
       "1     1.0      0.0      1.0      0.0      0.0      0.0      0.0       0.0   \n",
       "2     0.0      0.0      0.0      0.0      0.0      0.0      0.0       0.0   \n",
       "3     1.0      0.0      1.0      0.0      0.0      0.0      0.0       0.0   \n",
       "4     0.0      0.0      0.0      0.0      0.0      0.0      0.0       0.0   \n",
       "\n",
       "   energy  maxenergy  class  \n",
       "0     0.0        0.0    0.0  \n",
       "1  2000.0     2000.0    0.0  \n",
       "2     0.0        0.0    0.0  \n",
       "3  3000.0     3000.0    0.0  \n",
       "4     0.0        0.0    0.0  "
      ]
     },
     "execution_count": 26,
     "metadata": {},
     "output_type": "execute_result"
    }
   ],
   "source": [
    "df.head()"
   ]
  },
  {
   "cell_type": "code",
   "execution_count": 27,
   "id": "4b23f832",
   "metadata": {},
   "outputs": [
    {
     "data": {
      "text/html": [
       "<div>\n",
       "<style scoped>\n",
       "    .dataframe tbody tr th:only-of-type {\n",
       "        vertical-align: middle;\n",
       "    }\n",
       "\n",
       "    .dataframe tbody tr th {\n",
       "        vertical-align: top;\n",
       "    }\n",
       "\n",
       "    .dataframe thead th {\n",
       "        text-align: right;\n",
       "    }\n",
       "</style>\n",
       "<table border=\"1\" class=\"dataframe\">\n",
       "  <thead>\n",
       "    <tr style=\"text-align: right;\">\n",
       "      <th></th>\n",
       "      <th>seismic</th>\n",
       "      <th>seismoacoustic</th>\n",
       "      <th>shift</th>\n",
       "      <th>genergy</th>\n",
       "      <th>gpuls</th>\n",
       "      <th>gdenergy</th>\n",
       "      <th>gdpuls</th>\n",
       "      <th>hazard</th>\n",
       "      <th>nbumps</th>\n",
       "      <th>nbumps2</th>\n",
       "      <th>nbumps3</th>\n",
       "      <th>nbumps4</th>\n",
       "      <th>nbumps5</th>\n",
       "      <th>nbumps6</th>\n",
       "      <th>nbumps7</th>\n",
       "      <th>nbumps89</th>\n",
       "      <th>energy</th>\n",
       "      <th>maxenergy</th>\n",
       "      <th>class</th>\n",
       "    </tr>\n",
       "  </thead>\n",
       "  <tbody>\n",
       "    <tr>\n",
       "      <th>2578</th>\n",
       "      <td>b</td>\n",
       "      <td>a</td>\n",
       "      <td>W</td>\n",
       "      <td>28910.0</td>\n",
       "      <td>307.0</td>\n",
       "      <td>115.0</td>\n",
       "      <td>20.0</td>\n",
       "      <td>a</td>\n",
       "      <td>0.0</td>\n",
       "      <td>0.0</td>\n",
       "      <td>0.0</td>\n",
       "      <td>0.0</td>\n",
       "      <td>0.0</td>\n",
       "      <td>0.0</td>\n",
       "      <td>0.0</td>\n",
       "      <td>0.0</td>\n",
       "      <td>0.0</td>\n",
       "      <td>0.0</td>\n",
       "      <td>0.0</td>\n",
       "    </tr>\n",
       "    <tr>\n",
       "      <th>2579</th>\n",
       "      <td>b</td>\n",
       "      <td>a</td>\n",
       "      <td>W</td>\n",
       "      <td>81410.0</td>\n",
       "      <td>785.0</td>\n",
       "      <td>432.0</td>\n",
       "      <td>151.0</td>\n",
       "      <td>b</td>\n",
       "      <td>0.0</td>\n",
       "      <td>0.0</td>\n",
       "      <td>0.0</td>\n",
       "      <td>0.0</td>\n",
       "      <td>0.0</td>\n",
       "      <td>0.0</td>\n",
       "      <td>0.0</td>\n",
       "      <td>0.0</td>\n",
       "      <td>0.0</td>\n",
       "      <td>0.0</td>\n",
       "      <td>0.0</td>\n",
       "    </tr>\n",
       "    <tr>\n",
       "      <th>2580</th>\n",
       "      <td>b</td>\n",
       "      <td>a</td>\n",
       "      <td>W</td>\n",
       "      <td>42110.0</td>\n",
       "      <td>555.0</td>\n",
       "      <td>213.0</td>\n",
       "      <td>118.0</td>\n",
       "      <td>a</td>\n",
       "      <td>0.0</td>\n",
       "      <td>0.0</td>\n",
       "      <td>0.0</td>\n",
       "      <td>0.0</td>\n",
       "      <td>0.0</td>\n",
       "      <td>0.0</td>\n",
       "      <td>0.0</td>\n",
       "      <td>0.0</td>\n",
       "      <td>0.0</td>\n",
       "      <td>0.0</td>\n",
       "      <td>0.0</td>\n",
       "    </tr>\n",
       "    <tr>\n",
       "      <th>2581</th>\n",
       "      <td>b</td>\n",
       "      <td>a</td>\n",
       "      <td>W</td>\n",
       "      <td>26960.0</td>\n",
       "      <td>540.0</td>\n",
       "      <td>101.0</td>\n",
       "      <td>112.0</td>\n",
       "      <td>a</td>\n",
       "      <td>0.0</td>\n",
       "      <td>0.0</td>\n",
       "      <td>0.0</td>\n",
       "      <td>0.0</td>\n",
       "      <td>0.0</td>\n",
       "      <td>0.0</td>\n",
       "      <td>0.0</td>\n",
       "      <td>0.0</td>\n",
       "      <td>0.0</td>\n",
       "      <td>0.0</td>\n",
       "      <td>0.0</td>\n",
       "    </tr>\n",
       "    <tr>\n",
       "      <th>2582</th>\n",
       "      <td>a</td>\n",
       "      <td>a</td>\n",
       "      <td>W</td>\n",
       "      <td>16130.0</td>\n",
       "      <td>322.0</td>\n",
       "      <td>2.0</td>\n",
       "      <td>2.0</td>\n",
       "      <td>a</td>\n",
       "      <td>0.0</td>\n",
       "      <td>0.0</td>\n",
       "      <td>0.0</td>\n",
       "      <td>0.0</td>\n",
       "      <td>0.0</td>\n",
       "      <td>0.0</td>\n",
       "      <td>0.0</td>\n",
       "      <td>0.0</td>\n",
       "      <td>0.0</td>\n",
       "      <td>0.0</td>\n",
       "      <td>0.0</td>\n",
       "    </tr>\n",
       "    <tr>\n",
       "      <th>2583</th>\n",
       "      <td>a</td>\n",
       "      <td>a</td>\n",
       "      <td>W</td>\n",
       "      <td>12750.0</td>\n",
       "      <td>235.0</td>\n",
       "      <td>-10.0</td>\n",
       "      <td>-10.0</td>\n",
       "      <td>a</td>\n",
       "      <td>0.0</td>\n",
       "      <td>0.0</td>\n",
       "      <td>0.0</td>\n",
       "      <td>0.0</td>\n",
       "      <td>0.0</td>\n",
       "      <td>0.0</td>\n",
       "      <td>0.0</td>\n",
       "      <td>0.0</td>\n",
       "      <td>0.0</td>\n",
       "      <td>0.0</td>\n",
       "      <td>0.0</td>\n",
       "    </tr>\n",
       "  </tbody>\n",
       "</table>\n",
       "</div>"
      ],
      "text/plain": [
       "     seismic seismoacoustic shift  genergy  gpuls  gdenergy  gdpuls hazard  \\\n",
       "2578       b              a     W  28910.0  307.0     115.0    20.0      a   \n",
       "2579       b              a     W  81410.0  785.0     432.0   151.0      b   \n",
       "2580       b              a     W  42110.0  555.0     213.0   118.0      a   \n",
       "2581       b              a     W  26960.0  540.0     101.0   112.0      a   \n",
       "2582       a              a     W  16130.0  322.0       2.0     2.0      a   \n",
       "2583       a              a     W  12750.0  235.0     -10.0   -10.0      a   \n",
       "\n",
       "      nbumps  nbumps2  nbumps3  nbumps4  nbumps5  nbumps6  nbumps7  nbumps89  \\\n",
       "2578     0.0      0.0      0.0      0.0      0.0      0.0      0.0       0.0   \n",
       "2579     0.0      0.0      0.0      0.0      0.0      0.0      0.0       0.0   \n",
       "2580     0.0      0.0      0.0      0.0      0.0      0.0      0.0       0.0   \n",
       "2581     0.0      0.0      0.0      0.0      0.0      0.0      0.0       0.0   \n",
       "2582     0.0      0.0      0.0      0.0      0.0      0.0      0.0       0.0   \n",
       "2583     0.0      0.0      0.0      0.0      0.0      0.0      0.0       0.0   \n",
       "\n",
       "      energy  maxenergy  class  \n",
       "2578     0.0        0.0    0.0  \n",
       "2579     0.0        0.0    0.0  \n",
       "2580     0.0        0.0    0.0  \n",
       "2581     0.0        0.0    0.0  \n",
       "2582     0.0        0.0    0.0  \n",
       "2583     0.0        0.0    0.0  "
      ]
     },
     "execution_count": 27,
     "metadata": {},
     "output_type": "execute_result"
    }
   ],
   "source": [
    "df.tail(6)"
   ]
  },
  {
   "cell_type": "code",
   "execution_count": 28,
   "id": "e197de61",
   "metadata": {},
   "outputs": [
    {
     "name": "stdout",
     "output_type": "stream",
     "text": [
      "<class 'pandas.core.frame.DataFrame'>\n",
      "RangeIndex: 2584 entries, 0 to 2583\n",
      "Data columns (total 19 columns):\n",
      " #   Column          Non-Null Count  Dtype   \n",
      "---  ------          --------------  -----   \n",
      " 0   seismic         2584 non-null   category\n",
      " 1   seismoacoustic  2584 non-null   category\n",
      " 2   shift           2584 non-null   category\n",
      " 3   genergy         2584 non-null   float64 \n",
      " 4   gpuls           2584 non-null   float64 \n",
      " 5   gdenergy        2584 non-null   float64 \n",
      " 6   gdpuls          2584 non-null   float64 \n",
      " 7   hazard          2584 non-null   category\n",
      " 8   nbumps          2584 non-null   float64 \n",
      " 9   nbumps2         2584 non-null   float64 \n",
      " 10  nbumps3         2584 non-null   float64 \n",
      " 11  nbumps4         2584 non-null   float64 \n",
      " 12  nbumps5         2584 non-null   float64 \n",
      " 13  nbumps6         2584 non-null   float64 \n",
      " 14  nbumps7         2584 non-null   float64 \n",
      " 15  nbumps89        2584 non-null   float64 \n",
      " 16  energy          2584 non-null   float64 \n",
      " 17  maxenergy       2584 non-null   float64 \n",
      " 18  class           2584 non-null   float64 \n",
      "dtypes: category(4), float64(15)\n",
      "memory usage: 313.5 KB\n"
     ]
    }
   ],
   "source": [
    "df.info()"
   ]
  },
  {
   "cell_type": "code",
   "execution_count": 29,
   "id": "da78b46a",
   "metadata": {},
   "outputs": [
    {
     "data": {
      "text/html": [
       "<div>\n",
       "<style scoped>\n",
       "    .dataframe tbody tr th:only-of-type {\n",
       "        vertical-align: middle;\n",
       "    }\n",
       "\n",
       "    .dataframe tbody tr th {\n",
       "        vertical-align: top;\n",
       "    }\n",
       "\n",
       "    .dataframe thead th {\n",
       "        text-align: right;\n",
       "    }\n",
       "</style>\n",
       "<table border=\"1\" class=\"dataframe\">\n",
       "  <thead>\n",
       "    <tr style=\"text-align: right;\">\n",
       "      <th></th>\n",
       "      <th>count</th>\n",
       "      <th>mean</th>\n",
       "      <th>std</th>\n",
       "      <th>min</th>\n",
       "      <th>25%</th>\n",
       "      <th>50%</th>\n",
       "      <th>75%</th>\n",
       "      <th>max</th>\n",
       "    </tr>\n",
       "  </thead>\n",
       "  <tbody>\n",
       "    <tr>\n",
       "      <th>genergy</th>\n",
       "      <td>2584.0</td>\n",
       "      <td>90242.523220</td>\n",
       "      <td>229200.508894</td>\n",
       "      <td>100.0</td>\n",
       "      <td>11660.0</td>\n",
       "      <td>25485.0</td>\n",
       "      <td>52832.50</td>\n",
       "      <td>2595650.0</td>\n",
       "    </tr>\n",
       "    <tr>\n",
       "      <th>gpuls</th>\n",
       "      <td>2584.0</td>\n",
       "      <td>538.579334</td>\n",
       "      <td>562.652536</td>\n",
       "      <td>2.0</td>\n",
       "      <td>190.0</td>\n",
       "      <td>379.0</td>\n",
       "      <td>669.00</td>\n",
       "      <td>4518.0</td>\n",
       "    </tr>\n",
       "    <tr>\n",
       "      <th>gdenergy</th>\n",
       "      <td>2584.0</td>\n",
       "      <td>12.375774</td>\n",
       "      <td>80.319051</td>\n",
       "      <td>-96.0</td>\n",
       "      <td>-37.0</td>\n",
       "      <td>-6.0</td>\n",
       "      <td>38.00</td>\n",
       "      <td>1245.0</td>\n",
       "    </tr>\n",
       "    <tr>\n",
       "      <th>gdpuls</th>\n",
       "      <td>2584.0</td>\n",
       "      <td>4.508901</td>\n",
       "      <td>63.166556</td>\n",
       "      <td>-96.0</td>\n",
       "      <td>-36.0</td>\n",
       "      <td>-6.0</td>\n",
       "      <td>30.25</td>\n",
       "      <td>838.0</td>\n",
       "    </tr>\n",
       "    <tr>\n",
       "      <th>nbumps</th>\n",
       "      <td>2584.0</td>\n",
       "      <td>0.859520</td>\n",
       "      <td>1.364616</td>\n",
       "      <td>0.0</td>\n",
       "      <td>0.0</td>\n",
       "      <td>0.0</td>\n",
       "      <td>1.00</td>\n",
       "      <td>9.0</td>\n",
       "    </tr>\n",
       "    <tr>\n",
       "      <th>nbumps2</th>\n",
       "      <td>2584.0</td>\n",
       "      <td>0.393576</td>\n",
       "      <td>0.783772</td>\n",
       "      <td>0.0</td>\n",
       "      <td>0.0</td>\n",
       "      <td>0.0</td>\n",
       "      <td>1.00</td>\n",
       "      <td>8.0</td>\n",
       "    </tr>\n",
       "    <tr>\n",
       "      <th>nbumps3</th>\n",
       "      <td>2584.0</td>\n",
       "      <td>0.392802</td>\n",
       "      <td>0.769710</td>\n",
       "      <td>0.0</td>\n",
       "      <td>0.0</td>\n",
       "      <td>0.0</td>\n",
       "      <td>1.00</td>\n",
       "      <td>7.0</td>\n",
       "    </tr>\n",
       "    <tr>\n",
       "      <th>nbumps4</th>\n",
       "      <td>2584.0</td>\n",
       "      <td>0.067724</td>\n",
       "      <td>0.279059</td>\n",
       "      <td>0.0</td>\n",
       "      <td>0.0</td>\n",
       "      <td>0.0</td>\n",
       "      <td>0.00</td>\n",
       "      <td>3.0</td>\n",
       "    </tr>\n",
       "    <tr>\n",
       "      <th>nbumps5</th>\n",
       "      <td>2584.0</td>\n",
       "      <td>0.004644</td>\n",
       "      <td>0.068001</td>\n",
       "      <td>0.0</td>\n",
       "      <td>0.0</td>\n",
       "      <td>0.0</td>\n",
       "      <td>0.00</td>\n",
       "      <td>1.0</td>\n",
       "    </tr>\n",
       "    <tr>\n",
       "      <th>nbumps6</th>\n",
       "      <td>2584.0</td>\n",
       "      <td>0.000000</td>\n",
       "      <td>0.000000</td>\n",
       "      <td>0.0</td>\n",
       "      <td>0.0</td>\n",
       "      <td>0.0</td>\n",
       "      <td>0.00</td>\n",
       "      <td>0.0</td>\n",
       "    </tr>\n",
       "    <tr>\n",
       "      <th>nbumps7</th>\n",
       "      <td>2584.0</td>\n",
       "      <td>0.000000</td>\n",
       "      <td>0.000000</td>\n",
       "      <td>0.0</td>\n",
       "      <td>0.0</td>\n",
       "      <td>0.0</td>\n",
       "      <td>0.00</td>\n",
       "      <td>0.0</td>\n",
       "    </tr>\n",
       "    <tr>\n",
       "      <th>nbumps89</th>\n",
       "      <td>2584.0</td>\n",
       "      <td>0.000000</td>\n",
       "      <td>0.000000</td>\n",
       "      <td>0.0</td>\n",
       "      <td>0.0</td>\n",
       "      <td>0.0</td>\n",
       "      <td>0.00</td>\n",
       "      <td>0.0</td>\n",
       "    </tr>\n",
       "    <tr>\n",
       "      <th>energy</th>\n",
       "      <td>2584.0</td>\n",
       "      <td>4975.270898</td>\n",
       "      <td>20450.833222</td>\n",
       "      <td>0.0</td>\n",
       "      <td>0.0</td>\n",
       "      <td>0.0</td>\n",
       "      <td>2600.00</td>\n",
       "      <td>402000.0</td>\n",
       "    </tr>\n",
       "    <tr>\n",
       "      <th>maxenergy</th>\n",
       "      <td>2584.0</td>\n",
       "      <td>4278.850619</td>\n",
       "      <td>19357.454882</td>\n",
       "      <td>0.0</td>\n",
       "      <td>0.0</td>\n",
       "      <td>0.0</td>\n",
       "      <td>2000.00</td>\n",
       "      <td>400000.0</td>\n",
       "    </tr>\n",
       "    <tr>\n",
       "      <th>class</th>\n",
       "      <td>2584.0</td>\n",
       "      <td>0.065789</td>\n",
       "      <td>0.247962</td>\n",
       "      <td>0.0</td>\n",
       "      <td>0.0</td>\n",
       "      <td>0.0</td>\n",
       "      <td>0.00</td>\n",
       "      <td>1.0</td>\n",
       "    </tr>\n",
       "  </tbody>\n",
       "</table>\n",
       "</div>"
      ],
      "text/plain": [
       "            count          mean            std    min      25%      50%  \\\n",
       "genergy    2584.0  90242.523220  229200.508894  100.0  11660.0  25485.0   \n",
       "gpuls      2584.0    538.579334     562.652536    2.0    190.0    379.0   \n",
       "gdenergy   2584.0     12.375774      80.319051  -96.0    -37.0     -6.0   \n",
       "gdpuls     2584.0      4.508901      63.166556  -96.0    -36.0     -6.0   \n",
       "nbumps     2584.0      0.859520       1.364616    0.0      0.0      0.0   \n",
       "nbumps2    2584.0      0.393576       0.783772    0.0      0.0      0.0   \n",
       "nbumps3    2584.0      0.392802       0.769710    0.0      0.0      0.0   \n",
       "nbumps4    2584.0      0.067724       0.279059    0.0      0.0      0.0   \n",
       "nbumps5    2584.0      0.004644       0.068001    0.0      0.0      0.0   \n",
       "nbumps6    2584.0      0.000000       0.000000    0.0      0.0      0.0   \n",
       "nbumps7    2584.0      0.000000       0.000000    0.0      0.0      0.0   \n",
       "nbumps89   2584.0      0.000000       0.000000    0.0      0.0      0.0   \n",
       "energy     2584.0   4975.270898   20450.833222    0.0      0.0      0.0   \n",
       "maxenergy  2584.0   4278.850619   19357.454882    0.0      0.0      0.0   \n",
       "class      2584.0      0.065789       0.247962    0.0      0.0      0.0   \n",
       "\n",
       "                75%        max  \n",
       "genergy    52832.50  2595650.0  \n",
       "gpuls        669.00     4518.0  \n",
       "gdenergy      38.00     1245.0  \n",
       "gdpuls        30.25      838.0  \n",
       "nbumps         1.00        9.0  \n",
       "nbumps2        1.00        8.0  \n",
       "nbumps3        1.00        7.0  \n",
       "nbumps4        0.00        3.0  \n",
       "nbumps5        0.00        1.0  \n",
       "nbumps6        0.00        0.0  \n",
       "nbumps7        0.00        0.0  \n",
       "nbumps89       0.00        0.0  \n",
       "energy      2600.00   402000.0  \n",
       "maxenergy   2000.00   400000.0  \n",
       "class          0.00        1.0  "
      ]
     },
     "execution_count": 29,
     "metadata": {},
     "output_type": "execute_result"
    }
   ],
   "source": [
    "df.describe().T"
   ]
  },
  {
   "cell_type": "code",
   "execution_count": 30,
   "id": "4637b9b5",
   "metadata": {},
   "outputs": [
    {
     "data": {
      "text/plain": [
       "seismic           False\n",
       "seismoacoustic    False\n",
       "shift             False\n",
       "genergy           False\n",
       "gpuls             False\n",
       "gdenergy          False\n",
       "gdpuls            False\n",
       "hazard            False\n",
       "nbumps            False\n",
       "nbumps2           False\n",
       "nbumps3           False\n",
       "nbumps4           False\n",
       "nbumps5           False\n",
       "nbumps6           False\n",
       "nbumps7           False\n",
       "nbumps89          False\n",
       "energy            False\n",
       "maxenergy         False\n",
       "class             False\n",
       "dtype: bool"
      ]
     },
     "execution_count": 30,
     "metadata": {},
     "output_type": "execute_result"
    }
   ],
   "source": [
    "df.isnull().any()  # nessun true quindi nessun valore mancante"
   ]
  },
  {
   "cell_type": "code",
   "execution_count": 31,
   "id": "1de6cbab",
   "metadata": {},
   "outputs": [
    {
     "data": {
      "text/html": [
       "<div>\n",
       "<style scoped>\n",
       "    .dataframe tbody tr th:only-of-type {\n",
       "        vertical-align: middle;\n",
       "    }\n",
       "\n",
       "    .dataframe tbody tr th {\n",
       "        vertical-align: top;\n",
       "    }\n",
       "\n",
       "    .dataframe thead th {\n",
       "        text-align: right;\n",
       "    }\n",
       "</style>\n",
       "<table border=\"1\" class=\"dataframe\">\n",
       "  <thead>\n",
       "    <tr style=\"text-align: right;\">\n",
       "      <th>class</th>\n",
       "      <th>0.0</th>\n",
       "      <th>1.0</th>\n",
       "    </tr>\n",
       "    <tr>\n",
       "      <th>seismic</th>\n",
       "      <th></th>\n",
       "      <th></th>\n",
       "    </tr>\n",
       "  </thead>\n",
       "  <tbody>\n",
       "    <tr>\n",
       "      <th>a</th>\n",
       "      <td>1599</td>\n",
       "      <td>83</td>\n",
       "    </tr>\n",
       "    <tr>\n",
       "      <th>b</th>\n",
       "      <td>815</td>\n",
       "      <td>87</td>\n",
       "    </tr>\n",
       "  </tbody>\n",
       "</table>\n",
       "</div>"
      ],
      "text/plain": [
       "class     0.0  1.0\n",
       "seismic           \n",
       "a        1599   83\n",
       "b         815   87"
      ]
     },
     "execution_count": 31,
     "metadata": {},
     "output_type": "execute_result"
    }
   ],
   "source": [
    "confusion_matrix = pd.crosstab(df['seismic'], df['class'])\n",
    "confusion_matrix"
   ]
  },
  {
   "cell_type": "markdown",
   "id": "9c13e871",
   "metadata": {},
   "source": [
    "## LOG TRANSFORMED HISTPLOTS"
   ]
  },
  {
   "cell_type": "code",
   "execution_count": 32,
   "id": "b1f4401b",
   "metadata": {},
   "outputs": [
    {
     "data": {
      "text/plain": [
       "<AxesSubplot:xlabel='genergy', ylabel='Density'>"
      ]
     },
     "execution_count": 32,
     "metadata": {},
     "output_type": "execute_result"
    },
    {
     "data": {
      "image/png": "[encoded data removed]",
      "text/plain": [
       "<Figure size 432x288 with 1 Axes>"
      ]
     },
     "metadata": {
      "needs_background": "light"
     },
     "output_type": "display_data"
    }
   ],
   "source": [
    "df['genergy'] = np.log(df['genergy'])\n",
    "sns.histplot(df['genergy'], kde=True, stat=\"density\", linewidth=0)"
   ]
  },
  {
   "cell_type": "code",
   "execution_count": 33,
   "id": "cfdd0e9f",
   "metadata": {},
   "outputs": [
    {
     "data": {
      "text/plain": [
       "<AxesSubplot:xlabel='gpuls', ylabel='Density'>"
      ]
     },
     "execution_count": 33,
     "metadata": {},
     "output_type": "execute_result"
    },
    {
     "data": {
      "image/png": "[encoded data removed]",
      "text/plain": [
       "<Figure size 432x288 with 1 Axes>"
      ]
     },
     "metadata": {
      "needs_background": "light"
     },
     "output_type": "display_data"
    }
   ],
   "source": [
    "df['gpuls'] = np.log(df['gpuls'])\n",
    "sns.histplot(df['gpuls'], kde=True, stat=\"density\", linewidth=0)"
   ]
  },
  {
   "cell_type": "code",
   "execution_count": 34,
   "id": "dcaadd61",
   "metadata": {},
   "outputs": [
    {
     "ename": "NameError",
     "evalue": "name 'df_corr' is not defined",
     "output_type": "error",
     "traceback": [
      "\u001b[1;31m---------------------------------------------------------------------------\u001b[0m",
      "\u001b[1;31mNameError\u001b[0m                                 Traceback (most recent call last)",
      "\u001b[1;32m<ipython-input-34-c51948e95976>\u001b[0m in \u001b[0;36m<module>\u001b[1;34m\u001b[0m\n\u001b[1;32m----> 1\u001b[1;33m \u001b[0mnan_df\u001b[0m \u001b[1;33m=\u001b[0m \u001b[0mdf_corr\u001b[0m\u001b[1;33m[\u001b[0m\u001b[0mdf_corr\u001b[0m\u001b[1;33m.\u001b[0m\u001b[0misna\u001b[0m\u001b[1;33m(\u001b[0m\u001b[1;33m)\u001b[0m\u001b[1;33m.\u001b[0m\u001b[0many\u001b[0m\u001b[1;33m(\u001b[0m\u001b[0maxis\u001b[0m\u001b[1;33m=\u001b[0m\u001b[1;36m1\u001b[0m\u001b[1;33m)\u001b[0m\u001b[1;33m]\u001b[0m  \u001b[1;31m#1 per colonne e 0 per righe\u001b[0m\u001b[1;33m\u001b[0m\u001b[1;33m\u001b[0m\u001b[0m\n\u001b[0m\u001b[0;32m      2\u001b[0m \u001b[0mnan_df\u001b[0m\u001b[1;33m.\u001b[0m\u001b[0mhead\u001b[0m\u001b[1;33m(\u001b[0m\u001b[1;33m)\u001b[0m   \u001b[1;31m# tutte le colonne con un valore nan nella correlazione (le prime sono date dalle righe delle colonne tolte)\u001b[0m\u001b[1;33m\u001b[0m\u001b[1;33m\u001b[0m\u001b[0m\n",
      "\u001b[1;31mNameError\u001b[0m: name 'df_corr' is not defined"
     ]
    }
   ],
   "source": [
    "nan_df = df_corr[df_corr.isna().any(axis=1)]  #1 per colonne e 0 per righe\n",
    "nan_df.head()   # tutte le colonne con un valore nan nella correlazione (le prime sono date dalle righe delle colonne tolte)\n"
   ]
  },
  {
   "cell_type": "code",
   "execution_count": null,
   "id": "0a91f046",
   "metadata": {},
   "outputs": [],
   "source": [
    "print(df['nbumps6'].value_counts())\n",
    "print(df['nbumps7'].value_counts())\n",
    "print(df['nbumps89'].value_counts())"
   ]
  },
  {
   "cell_type": "markdown",
   "id": "6301f550",
   "metadata": {},
   "source": [
    "### as seen before with the histograms, nbumps6, nbumps7 and nbumps89 contain only zero, so they can be dropped"
   ]
  },
  {
   "cell_type": "code",
   "execution_count": null,
   "id": "556fbd6c",
   "metadata": {},
   "outputs": [],
   "source": [
    "df = df.drop('nbumps6', 1) \n",
    "df = df.drop('nbumps7', 1) \n",
    "df = df.drop('nbumps89', 1) \n",
    "df.head() \n",
    "df.tail(100) # per vedere se il 2 ha qualche numero\n"
   ]
  },
  {
   "cell_type": "markdown",
   "id": "1deb1f54",
   "metadata": {},
   "source": [
    "## NBUMPS CROSSTAB"
   ]
  },
  {
   "cell_type": "markdown",
   "id": "965cff28",
   "metadata": {},
   "source": [
    "### Since bumps are the number of seismic bumps recorded within the previous shift, it makes sense to check the entity of these bumps, so in which class they fall (0 = non hazardous; 1 = hazardous). We can check it with a crosstab"
   ]
  },
  {
   "cell_type": "code",
   "execution_count": null,
   "id": "c4184d9d",
   "metadata": {},
   "outputs": [],
   "source": [
    "bumps_col = ['nbumps','nbumps2','nbumps3','nbumps4','nbumps5'] #to do that I select only the significant nbumps"
   ]
  },
  {
   "cell_type": "code",
   "execution_count": null,
   "id": "efb869ad",
   "metadata": {},
   "outputs": [],
   "source": [
    "for col in bumps_col:\n",
    "    bumps_crosstab = pd.crosstab(df[col], df['class'], colnames=['class'], margins = True) #margins is to add the totals\n",
    "    print(bumps_crosstab)\n",
    "    print('-----')"
   ]
  },
  {
   "cell_type": "markdown",
   "id": "b4a20a49",
   "metadata": {},
   "source": [
    "### Crosstab with the percentages, to better see the percentage of 0s in comparison to the 1s"
   ]
  },
  {
   "cell_type": "code",
   "execution_count": null,
   "id": "8ac91e92",
   "metadata": {},
   "outputs": [],
   "source": [
    "for col in bumps_col:\n",
    "    bumps_crosstab = pd.crosstab(df[col], df['class'], colnames=['class'], margins = True).apply(lambda r: r/r.sum(), axis = 1) #margins is to add the totals\n",
    "    print(bumps_crosstab)\n",
    "    print('-----')"
   ]
  },
  {
   "cell_type": "code",
   "execution_count": null,
   "id": "cca55c6b",
   "metadata": {},
   "outputs": [],
   "source": [
    "pclass_xt = pd.crosstab(df['class'], df['nbumps'])\n",
    "pclass_xt_pct = pclass_xt.div(pclass_xt.sum(1).astype(float), axis=0)  #li trasformo in modo che il valore vada da 0 a 1\n",
    "pclass_xt_pct.plot(kind='bar', stacked=True, \n",
    "                   title='nbumps for class')\n",
    "plt.xlabel('class')\n",
    "plt.ylabel('nbumps')\n",
    "plt.show()"
   ]
  },
  {
   "cell_type": "code",
   "execution_count": null,
   "id": "450d91de",
   "metadata": {},
   "outputs": [],
   "source": [
    "classandseismic = pd.crosstab(df['class'], df['seismic'])\n",
    "classandseismic = classandseismic.div(classandseismic.sum(1).astype(float), axis=0)\n",
    "classandseismic.plot(kind='bar', stacked=True, \n",
    "                   title='seismic for class')\n",
    "plt.xlabel('class')\n",
    "plt.ylabel('seismic')\n",
    "plt.show()"
   ]
  },
  {
   "cell_type": "code",
   "execution_count": null,
   "id": "1e63b338",
   "metadata": {},
   "outputs": [],
   "source": [
    "classnbumps2=pd.crosstab(df['class'], df['nbumps2'])   #trasformo le crosstab in valori da 1 a 0\n",
    "classnbumps3=pd.crosstab(df['class'], df['nbumps3'])\n",
    "classnbumps4 = pd.crosstab(df['class'], df['nbumps4'])\n",
    "classnbumps5= pd.crosstab(df['class'], df['nbumps5'])\n",
    "classnbumps2=classnbumps2.div(classnbumps2.sum(1).astype(float), axis=0)\n",
    "classnbumps3=classnbumps3.div(classnbumps3.sum(1).astype(float), axis=0)\n",
    "classnbumps4=classnbumps4.div(classnbumps4.sum(1).astype(float), axis=0)\n",
    "classnbumps5=classnbumps5.div(classnbumps5.sum(1).astype(float), axis=0)\n"
   ]
  },
  {
   "cell_type": "code",
   "execution_count": null,
   "id": "bddb3c8a",
   "metadata": {},
   "outputs": [],
   "source": [
    "classnbumps2.plot(kind='bar', stacked=True, \n",
    "                   title='nbumps2 for class')\n",
    "plt.xlabel('class')\n",
    "plt.ylabel('nbumps2')\n",
    "plt.show()"
   ]
  },
  {
   "cell_type": "code",
   "execution_count": null,
   "id": "2c6b7a99",
   "metadata": {},
   "outputs": [],
   "source": [
    "classnbumps3.plot(kind='bar', stacked=True, \n",
    "                   title='nbumps3 for class')\n",
    "plt.xlabel('class')\n",
    "plt.ylabel('nbumps3')\n",
    "plt.show()"
   ]
  },
  {
   "cell_type": "code",
   "execution_count": null,
   "id": "41dd293b",
   "metadata": {},
   "outputs": [],
   "source": [
    "classnbumps4.plot(kind='bar', stacked=True, \n",
    "                   title='nbumps4 for class')\n",
    "plt.xlabel('class')\n",
    "plt.ylabel('nbumps4')\n",
    "plt.show()"
   ]
  },
  {
   "cell_type": "code",
   "execution_count": null,
   "id": "37b45bb6",
   "metadata": {},
   "outputs": [],
   "source": [
    "classnbumps5.plot(kind='bar', stacked=True, \n",
    "                   title='nbumps5 for class')\n",
    "plt.xlabel('class')\n",
    "plt.ylabel('nbumps5')\n",
    "plt.show()"
   ]
  },
  {
   "cell_type": "code",
   "execution_count": null,
   "id": "88529010",
   "metadata": {},
   "outputs": [],
   "source": [
    "df.drop(['nbumps5',1])"
   ]
  },
  {
   "cell_type": "markdown",
   "id": "cd557bfd",
   "metadata": {},
   "source": [
    "#### the crosstab highlight that the majority of bumps - also the ones which registered an energy intensity in the upperbound of the range - have been classified as 'non-harzardous state', since belonging to the class 0. "
   ]
  },
  {
   "cell_type": "markdown",
   "id": "4bfdfbcb",
   "metadata": {},
   "source": [
    "## CORRELATION AND HEATMAP"
   ]
  },
  {
   "cell_type": "code",
   "execution_count": null,
   "id": "573ca778",
   "metadata": {},
   "outputs": [],
   "source": [
    "df.corr() #vedo correlazione senza valori inutili"
   ]
  },
  {
   "cell_type": "code",
   "execution_count": null,
   "id": "dc10c469",
   "metadata": {},
   "outputs": [],
   "source": [
    "dfcorrelazione = df.corr()\n",
    "plt.figure(figsize=[10, 10])\n",
    "sns.heatmap(data=dfcorrelazione, vmin=-1, vmax=1, cmap='gist_earth_r', annot=True, square=True, linewidths=1)\n",
    "plt.xticks(rotation=90)\n",
    "plt.yticks(rotation=0)"
   ]
  },
  {
   "cell_type": "markdown",
   "id": "c57b512c",
   "metadata": {},
   "source": [
    "## SCATTER PLOTS"
   ]
  },
  {
   "cell_type": "code",
   "execution_count": null,
   "id": "33563095",
   "metadata": {
    "scrolled": true
   },
   "outputs": [],
   "source": [
    "plt.figure(figsize=[10, 8])\n",
    "sns.scatterplot(x='energy', y='gpuls', hue='class', data=df)"
   ]
  },
  {
   "cell_type": "markdown",
   "id": "d570a79c",
   "metadata": {},
   "source": [
    "### To better analyse the correlation we apply a log transformation to the columns genergy and gpuls"
   ]
  },
  {
   "cell_type": "code",
   "execution_count": null,
   "id": "280b96c9",
   "metadata": {},
   "outputs": [],
   "source": [
    "df['log_genergy'] = np.log(df['genergy']) #we don't use the variable 'energy' because it contains zero values so the log transformation cannot be done\n",
    "df['log_gpuls'] = np.log(df['gpuls'])"
   ]
  },
  {
   "cell_type": "code",
   "execution_count": null,
   "id": "08a04227",
   "metadata": {},
   "outputs": [],
   "source": [
    "plt.figure(figsize=[10, 8])\n",
    "sns.scatterplot(x='log_genergy', y='log_gpuls', hue='class', data=df)"
   ]
  },
  {
   "cell_type": "markdown",
   "id": "bb3fdc76",
   "metadata": {},
   "source": [
    "#### After applying the log transf we can better see a positive correlation between gpuls and genergy. That could indicate that the number of puls increases when the energy does, so the number of pulse can be used as and indicator of the energy intensity. (The pulses have been registered by the most active geophone (Gmax), which is a sensor designed to detect ground movements).\n"
   ]
  },
  {
   "cell_type": "code",
   "execution_count": null,
   "id": "7cc959f7",
   "metadata": {},
   "outputs": [],
   "source": [
    "plt.figure(figsize=[10, 8])\n",
    "sns.scatterplot(x='gdenergy', y='gdpuls', hue='class', data=df)"
   ]
  },
  {
   "cell_type": "code",
   "execution_count": null,
   "id": "cf5ea568",
   "metadata": {},
   "outputs": [],
   "source": [
    "# sembrerebbe esserci correlazione, con una trasformazione sarebbe più semplice vederla (?). ho cercato altre trasformazioni e ho trovato Square Root Method, ma non sono riuscita ad applicarlo. "
   ]
  }
 ],
 "metadata": {
  "kernelspec": {
   "display_name": "Python 3",
   "language": "python",
   "name": "python3"
  },
  "language_info": {
   "codemirror_mode": {
    "name": "ipython",
    "version": 3
   },
   "file_extension": ".py",
   "mimetype": "text/x-python",
   "name": "python",
   "nbconvert_exporter": "python",
   "pygments_lexer": "ipython3",
   "version": "3.8.8"
  }
 },
 "nbformat": 4,
 "nbformat_minor": 5
}
